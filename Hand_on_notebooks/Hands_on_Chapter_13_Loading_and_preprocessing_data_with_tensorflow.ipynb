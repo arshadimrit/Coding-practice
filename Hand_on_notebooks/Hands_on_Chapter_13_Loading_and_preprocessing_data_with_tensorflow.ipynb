{
 "cells": [
  {
   "cell_type": "code",
   "execution_count": null,
   "metadata": {},
   "outputs": [],
   "source": [
    "enemy attack - self defense (if enemy attack > self defense). Otherwise, the defender doesn't lose his health."
   ]
  },
  {
   "cell_type": "code",
   "execution_count": 19,
   "metadata": {},
   "outputs": [
    {
     "ename": "AssertionError",
     "evalue": "",
     "output_type": "error",
     "traceback": [
      "\u001b[0;31m---------------------------------------------------------------------------\u001b[0m",
      "\u001b[0;31mAssertionError\u001b[0m                            Traceback (most recent call last)",
      "\u001b[0;32m<ipython-input-19-1bfd3da296a1>\u001b[0m in \u001b[0;36m<module>\u001b[0;34m\u001b[0m\n\u001b[1;32m     94\u001b[0m     \u001b[0;32massert\u001b[0m \u001b[0mcarl\u001b[0m\u001b[0;34m.\u001b[0m\u001b[0mis_alive\u001b[0m \u001b[0;34m==\u001b[0m \u001b[0;32mFalse\u001b[0m\u001b[0;34m\u001b[0m\u001b[0;34m\u001b[0m\u001b[0m\n\u001b[1;32m     95\u001b[0m     \u001b[0;32massert\u001b[0m \u001b[0mfight\u001b[0m\u001b[0;34m(\u001b[0m\u001b[0mbob\u001b[0m\u001b[0;34m,\u001b[0m \u001b[0mmike\u001b[0m\u001b[0;34m)\u001b[0m \u001b[0;34m==\u001b[0m \u001b[0;32mFalse\u001b[0m\u001b[0;34m\u001b[0m\u001b[0;34m\u001b[0m\u001b[0m\n\u001b[0;32m---> 96\u001b[0;31m     \u001b[0;32massert\u001b[0m \u001b[0mfight\u001b[0m\u001b[0;34m(\u001b[0m\u001b[0mlancelot\u001b[0m\u001b[0;34m,\u001b[0m \u001b[0mrog\u001b[0m\u001b[0;34m)\u001b[0m \u001b[0;34m==\u001b[0m \u001b[0;32mTrue\u001b[0m\u001b[0;34m\u001b[0m\u001b[0;34m\u001b[0m\u001b[0m\n\u001b[0m\u001b[1;32m     97\u001b[0m \u001b[0;34m\u001b[0m\u001b[0m\n\u001b[1;32m     98\u001b[0m     \u001b[0;31m#battle tests\u001b[0m\u001b[0;34m\u001b[0m\u001b[0;34m\u001b[0m\u001b[0;34m\u001b[0m\u001b[0m\n",
      "\u001b[0;31mAssertionError\u001b[0m: "
     ]
    }
   ],
   "source": [
    "# Taken from mission Army Battles\n",
    "\n",
    "# Taken from mission The Warriors\n",
    "\n",
    "class Warrior:\n",
    "    health: int = 50\n",
    "    is_alive: bool = True\n",
    "    attack: int = 5\n",
    "\n",
    "class Knight(Warrior):\n",
    "    attack = 7     \n",
    "    \n",
    "class Defender(Warrior):\n",
    "    def __init__(self, *args, **kwargs):\n",
    "        super().__init__(*args, **kwargs)\n",
    "        self.health = 60\n",
    "        self.attack = 3\n",
    "        self.defense = 2\n",
    "\n",
    "def fight(unit_1, unit_2):\n",
    "    while unit_1.is_alive and unit_2.is_alive:\n",
    "        if type(unit_2).__name__ == 'Defender':\n",
    "            if unit_2.defense > unit_1.attack:\n",
    "                unit_2.health = unit_2.health\n",
    "            else:\n",
    "                unit_2.health -= unit_1.attack + unit_2.defense\n",
    "        else:\n",
    "            unit_2.health -= unit_1.attack\n",
    "       \n",
    "        if unit_2.health <= 0:\n",
    "            unit_2.is_alive = False\n",
    "            return True\n",
    "        \n",
    "        if type(unit_1).__name__ == 'Defender':\n",
    "            if unit_1.defense > unit_2.attack:\n",
    "                unit_1.defense = unit_1.defense\n",
    "            else:\n",
    "                unit_1.health -= unit_2.attack + unit_1.defense\n",
    "        else:\n",
    "            unit_1.health -= unit_2.attack\n",
    "       \n",
    "        if unit_1.health <= 0:\n",
    "            unit_1.is_alive = False\n",
    "            return False\n",
    "        \n",
    "class Army():\n",
    "    def __init__(self):\n",
    "        self.list_of_warriors = []\n",
    "        \n",
    "    def add_units(self, unit, amount):\n",
    "        for _ in range(amount):\n",
    "            self.list_of_warriors.append(unit())\n",
    "    \n",
    "    def unit_death(self):\n",
    "        self.list_of_warriors.pop()\n",
    "    \n",
    "\n",
    "class Battle():\n",
    "    def fight(self, attacking, defending):\n",
    "        \n",
    "        while len(attacking.list_of_warriors) > 0:\n",
    "            if fight(attacking.list_of_warriors[-1], defending.list_of_warriors[-1]):\n",
    "                defending.unit_death()\n",
    "                \n",
    "            else:\n",
    "                attacking.unit_death()\n",
    "            \n",
    "            if len(defending.list_of_warriors) == 0:\n",
    "                return True\n",
    "        return False\n",
    "\n",
    "\n",
    "if __name__ == '__main__':\n",
    "    #These \"asserts\" using only for self-checking and not necessary for auto-testing\n",
    "    \n",
    "    #fight tests\n",
    "    chuck = Warrior()\n",
    "    bruce = Warrior()\n",
    "    carl = Knight()\n",
    "    dave = Warrior()\n",
    "    mark = Warrior()\n",
    "    bob = Defender()\n",
    "    mike = Knight()\n",
    "    rog = Warrior()\n",
    "    lancelot = Defender()\n",
    "\n",
    "    assert fight(chuck, bruce) == True\n",
    "    assert fight(dave, carl) == False\n",
    "    assert chuck.is_alive == True\n",
    "    assert bruce.is_alive == False\n",
    "    assert carl.is_alive == True\n",
    "    assert dave.is_alive == False\n",
    "    assert fight(carl, mark) == False\n",
    "    assert carl.is_alive == False\n",
    "    assert fight(bob, mike) == False\n",
    "    assert fight(lancelot, rog) == True\n",
    "\n",
    "    #battle tests\n",
    "    my_army = Army()\n",
    "    my_army.add_units(Defender, 1)\n",
    "    \n",
    "    enemy_army = Army()\n",
    "    enemy_army.add_units(Warrior, 2)\n",
    "\n",
    "    army_3 = Army()\n",
    "    army_3.add_units(Warrior, 1)\n",
    "    army_3.add_units(Defender, 1)\n",
    "\n",
    "    army_4 = Army()\n",
    "    army_4.add_units(Warrior, 2)\n",
    "\n",
    "    battle = Battle()\n",
    "\n",
    "    assert battle.fight(my_army, enemy_army) == False\n",
    "    assert battle.fight(army_3, army_4) == True\n",
    "    print(\"Coding complete? Let's try tests!\")\n"
   ]
  },
  {
   "cell_type": "code",
   "execution_count": 21,
   "metadata": {},
   "outputs": [],
   "source": [
    "fight(lancelot, rog)"
   ]
  },
  {
   "cell_type": "code",
   "execution_count": 17,
   "metadata": {},
   "outputs": [
    {
     "data": {
      "text/plain": [
       "<__main__.Defender at 0x7f02e679e990>"
      ]
     },
     "execution_count": 17,
     "metadata": {},
     "output_type": "execute_result"
    }
   ],
   "source": [
    "lancelot"
   ]
  },
  {
   "cell_type": "code",
   "execution_count": 64,
   "metadata": {},
   "outputs": [],
   "source": [
    "import tensorflow as tf\n",
    "from tensorflow import keras\n",
    "import pandas as pd\n",
    "import numpy as np\n",
    "import matplotlib.pyplot as graph"
   ]
  },
  {
   "cell_type": "markdown",
   "metadata": {},
   "source": [
    "# Data API"
   ]
  },
  {
   "cell_type": "code",
   "execution_count": 32,
   "metadata": {},
   "outputs": [
    {
     "data": {
      "text/plain": [
       "<TensorSliceDataset shapes: (), types: tf.int32>"
      ]
     },
     "execution_count": 32,
     "metadata": {},
     "output_type": "execute_result"
    }
   ],
   "source": [
    "X = tf.range(10)\n",
    "dataset = tf.data.Dataset.from_tensor_slices(X)\n",
    "dataset"
   ]
  },
  {
   "cell_type": "code",
   "execution_count": 33,
   "metadata": {},
   "outputs": [
    {
     "name": "stdout",
     "output_type": "stream",
     "text": [
      "tf.Tensor(0, shape=(), dtype=int32)\n",
      "tf.Tensor(1, shape=(), dtype=int32)\n",
      "tf.Tensor(2, shape=(), dtype=int32)\n",
      "tf.Tensor(3, shape=(), dtype=int32)\n",
      "tf.Tensor(4, shape=(), dtype=int32)\n",
      "tf.Tensor(5, shape=(), dtype=int32)\n",
      "tf.Tensor(6, shape=(), dtype=int32)\n",
      "tf.Tensor(7, shape=(), dtype=int32)\n",
      "tf.Tensor(8, shape=(), dtype=int32)\n",
      "tf.Tensor(9, shape=(), dtype=int32)\n"
     ]
    }
   ],
   "source": [
    "for item in dataset:\n",
    "    print(item)"
   ]
  },
  {
   "cell_type": "markdown",
   "metadata": {},
   "source": [
    "### Chaining Transformations"
   ]
  },
  {
   "cell_type": "code",
   "execution_count": 34,
   "metadata": {},
   "outputs": [
    {
     "name": "stdout",
     "output_type": "stream",
     "text": [
      "tf.Tensor([0 1 2 3 4 5 6], shape=(7,), dtype=int32)\n",
      "tf.Tensor([7 8 9 0 1 2 3], shape=(7,), dtype=int32)\n",
      "tf.Tensor([4 5 6 7 8 9 0], shape=(7,), dtype=int32)\n",
      "tf.Tensor([1 2 3 4 5 6 7], shape=(7,), dtype=int32)\n",
      "tf.Tensor([8 9], shape=(2,), dtype=int32)\n"
     ]
    }
   ],
   "source": [
    "dataset = dataset.repeat(3).batch(7)\n",
    "\n",
    "for item in dataset:\n",
    "    print(item)"
   ]
  },
  {
   "cell_type": "code",
   "execution_count": 35,
   "metadata": {},
   "outputs": [],
   "source": [
    "dataset = dataset.map(lambda x: x*2)"
   ]
  },
  {
   "cell_type": "code",
   "execution_count": 36,
   "metadata": {},
   "outputs": [],
   "source": [
    "dataset = dataset.apply(tf.data.experimental.unbatch())"
   ]
  },
  {
   "cell_type": "code",
   "execution_count": 37,
   "metadata": {},
   "outputs": [
    {
     "name": "stdout",
     "output_type": "stream",
     "text": [
      "tf.Tensor(0, shape=(), dtype=int32)\n",
      "tf.Tensor(2, shape=(), dtype=int32)\n",
      "tf.Tensor(4, shape=(), dtype=int32)\n",
      "tf.Tensor(6, shape=(), dtype=int32)\n",
      "tf.Tensor(8, shape=(), dtype=int32)\n",
      "tf.Tensor(0, shape=(), dtype=int32)\n",
      "tf.Tensor(2, shape=(), dtype=int32)\n",
      "tf.Tensor(4, shape=(), dtype=int32)\n",
      "tf.Tensor(6, shape=(), dtype=int32)\n",
      "tf.Tensor(8, shape=(), dtype=int32)\n",
      "tf.Tensor(0, shape=(), dtype=int32)\n",
      "tf.Tensor(2, shape=(), dtype=int32)\n",
      "tf.Tensor(4, shape=(), dtype=int32)\n",
      "tf.Tensor(6, shape=(), dtype=int32)\n",
      "tf.Tensor(8, shape=(), dtype=int32)\n"
     ]
    }
   ],
   "source": [
    "dataset = dataset.filter(lambda x: x < 10)"
   ]
  },
  {
   "cell_type": "code",
   "execution_count": 38,
   "metadata": {},
   "outputs": [
    {
     "name": "stdout",
     "output_type": "stream",
     "text": [
      "tf.Tensor(0, shape=(), dtype=int32)\n",
      "tf.Tensor(2, shape=(), dtype=int32)\n",
      "tf.Tensor(4, shape=(), dtype=int32)\n"
     ]
    }
   ],
   "source": [
    "for item in dataset.take(3):\n",
    "    print(item)"
   ]
  },
  {
   "cell_type": "markdown",
   "metadata": {},
   "source": [
    "### Shuffling the data"
   ]
  },
  {
   "cell_type": "code",
   "execution_count": 39,
   "metadata": {},
   "outputs": [
    {
     "name": "stdout",
     "output_type": "stream",
     "text": [
      "tf.Tensor([0 2 3 6 7 9 4], shape=(7,), dtype=int64)\n",
      "tf.Tensor([5 0 1 1 8 6 5], shape=(7,), dtype=int64)\n",
      "tf.Tensor([4 8 7 1 2 3 0], shape=(7,), dtype=int64)\n",
      "tf.Tensor([5 4 2 7 8 9 9], shape=(7,), dtype=int64)\n",
      "tf.Tensor([3 6], shape=(2,), dtype=int64)\n"
     ]
    }
   ],
   "source": [
    "dataset = tf.data.Dataset.range(10).repeat(3)\n",
    "dataset = dataset.shuffle(buffer_size=5, seed=42).batch(7)\n",
    "\n",
    "for item in dataset:\n",
    "    print(item)"
   ]
  },
  {
   "cell_type": "markdown",
   "metadata": {},
   "source": [
    "# The TFRecord Format"
   ]
  },
  {
   "cell_type": "code",
   "execution_count": 43,
   "metadata": {},
   "outputs": [],
   "source": [
    "with tf.io.TFRecordWriter('my_data.tfrecord') as f:\n",
    "    f.write(b'This is the first record')\n",
    "    f.write(b\"And this is the second record\")"
   ]
  },
  {
   "cell_type": "code",
   "execution_count": 44,
   "metadata": {},
   "outputs": [
    {
     "name": "stdout",
     "output_type": "stream",
     "text": [
      "tf.Tensor(b'This is the first record', shape=(), dtype=string)\n",
      "tf.Tensor(b'And this is the second record', shape=(), dtype=string)\n"
     ]
    }
   ],
   "source": [
    "filepaths = ['my_data.tfrecord']\n",
    "dataset = tf.data.TFRecordDataset(filepaths)\n",
    "\n",
    "for item in dataset:\n",
    "    print(item)"
   ]
  },
  {
   "cell_type": "markdown",
   "metadata": {},
   "source": [
    "### Protocol Buffers"
   ]
  },
  {
   "cell_type": "code",
   "execution_count": 45,
   "metadata": {},
   "outputs": [
    {
     "ename": "SyntaxError",
     "evalue": "invalid syntax (<ipython-input-45-ced68d25f5a8>, line 2)",
     "output_type": "error",
     "traceback": [
      "\u001b[0;36m  File \u001b[0;32m\"<ipython-input-45-ced68d25f5a8>\"\u001b[0;36m, line \u001b[0;32m2\u001b[0m\n\u001b[0;31m    message BytesList { repeated bytes value = 1; }\u001b[0m\n\u001b[0m                    ^\u001b[0m\n\u001b[0;31mSyntaxError\u001b[0m\u001b[0;31m:\u001b[0m invalid syntax\n"
     ]
    }
   ],
   "source": [
    "syntax = \"proto3\";\n",
    "message BytesList { repeated bytes value = 1; }\n",
    "message FloatList { repeated float value = 1 [packed = true]; }\n",
    "message Int64List { repeated int64 value = 1 [packed = true]; }"
   ]
  },
  {
   "cell_type": "code",
   "execution_count": 46,
   "metadata": {},
   "outputs": [],
   "source": [
    "from tensorflow.train import BytesList, FloatList, Int64List\n",
    "from tensorflow.train import Feature, Features, Example\n",
    "\n",
    "person_example = Example(\n",
    "    features=Features(\n",
    "        feature={\"name\": Feature(bytes_list=BytesList(value=[b\"Alice\"])), \n",
    "                 \"id\": Feature(int64_list=Int64List(value=[123])), \n",
    "                 \"emails\": Feature(bytes_list=BytesList(value=[b\"a@b.com\", b\"c@d.com\"]))\n",
    "}))"
   ]
  },
  {
   "cell_type": "code",
   "execution_count": 47,
   "metadata": {},
   "outputs": [],
   "source": [
    "with tf.io.TFRecordWriter('my_contacts.tfrecord') as f:\n",
    "    f.write(person_example.SerializeToString())"
   ]
  },
  {
   "cell_type": "markdown",
   "metadata": {},
   "source": [
    "### Loading and parsing Examples"
   ]
  },
  {
   "cell_type": "code",
   "execution_count": 48,
   "metadata": {},
   "outputs": [],
   "source": [
    "feature_description = {\n",
    "\"name\": tf.io.FixedLenFeature([], tf.string, default_value=\"\"),\n",
    "\"id\": tf.io.FixedLenFeature([], tf.int64, default_value=0),\n",
    "\"emails\": tf.io.VarLenFeature(tf.string),\n",
    "}"
   ]
  },
  {
   "cell_type": "code",
   "execution_count": 49,
   "metadata": {},
   "outputs": [],
   "source": [
    "for serialized_example in tf.data.TFRecordDataset(['my_contacts.tfrecord']):\n",
    "    parsed_example = tf.io.parse_single_sequence_example(serialized_example, feature_description)"
   ]
  },
  {
   "cell_type": "code",
   "execution_count": 50,
   "metadata": {},
   "outputs": [
    {
     "ename": "TypeError",
     "evalue": "tuple indices must be integers or slices, not str",
     "output_type": "error",
     "traceback": [
      "\u001b[0;31m---------------------------------------------------------------------------\u001b[0m",
      "\u001b[0;31mTypeError\u001b[0m                                 Traceback (most recent call last)",
      "\u001b[0;32m<ipython-input-50-10f92fe3f07b>\u001b[0m in \u001b[0;36m<module>\u001b[0;34m\u001b[0m\n\u001b[0;32m----> 1\u001b[0;31m \u001b[0mtf\u001b[0m\u001b[0;34m.\u001b[0m\u001b[0msparse\u001b[0m\u001b[0;34m.\u001b[0m\u001b[0mto_dense\u001b[0m\u001b[0;34m(\u001b[0m\u001b[0mparsed_example\u001b[0m\u001b[0;34m[\u001b[0m\u001b[0;34m'emails'\u001b[0m\u001b[0;34m]\u001b[0m\u001b[0;34m,\u001b[0m \u001b[0mdefault_value\u001b[0m\u001b[0;34m=\u001b[0m\u001b[0;34mb''\u001b[0m\u001b[0;34m)\u001b[0m\u001b[0;34m\u001b[0m\u001b[0;34m\u001b[0m\u001b[0m\n\u001b[0m",
      "\u001b[0;31mTypeError\u001b[0m: tuple indices must be integers or slices, not str"
     ]
    }
   ],
   "source": [
    "tf.sparse.to_dense(parsed_example['emails'], default_value=b'')"
   ]
  },
  {
   "cell_type": "code",
   "execution_count": 56,
   "metadata": {},
   "outputs": [],
   "source": [
    "dataset = tf.data.TFRecordDataset(['my_contacts.tfrecord']).batch(10)\n",
    "\n",
    "for serialized_examples in dataset:\n",
    "    parsed_examples = tf.io.parse_example(serialized_examples, feature_description)"
   ]
  },
  {
   "cell_type": "code",
   "execution_count": 57,
   "metadata": {},
   "outputs": [
    {
     "data": {
      "text/plain": [
       "{'emails': <tensorflow.python.framework.sparse_tensor.SparseTensor at 0x7f024c6402d0>,\n",
       " 'id': <tf.Tensor: shape=(1,), dtype=int64, numpy=array([123])>,\n",
       " 'name': <tf.Tensor: shape=(1,), dtype=string, numpy=array([b'Alice'], dtype=object)>}"
      ]
     },
     "execution_count": 57,
     "metadata": {},
     "output_type": "execute_result"
    }
   ],
   "source": [
    "parsed_examples"
   ]
  },
  {
   "cell_type": "markdown",
   "metadata": {},
   "source": [
    "### Handling lists of lists using the sequence example Protobuf"
   ]
  },
  {
   "cell_type": "code",
   "execution_count": 58,
   "metadata": {},
   "outputs": [
    {
     "ename": "NameError",
     "evalue": "name 'serialized_sequence_example' is not defined",
     "output_type": "error",
     "traceback": [
      "\u001b[0;31m---------------------------------------------------------------------------\u001b[0m",
      "\u001b[0;31mNameError\u001b[0m                                 Traceback (most recent call last)",
      "\u001b[0;32m<ipython-input-58-f891ee0730ee>\u001b[0m in \u001b[0;36m<module>\u001b[0;34m\u001b[0m\n\u001b[1;32m      1\u001b[0m parsed_context, parsed_feature_lists = tf.io.parse_single_sequence_example(\n\u001b[0;32m----> 2\u001b[0;31m     serialized_sequence_example, context_feature_descriptions,sequence_feature_descriptions)\n\u001b[0m\u001b[1;32m      3\u001b[0m \u001b[0;34m\u001b[0m\u001b[0m\n\u001b[1;32m      4\u001b[0m \u001b[0mparsed_content\u001b[0m \u001b[0;34m=\u001b[0m \u001b[0mtf\u001b[0m\u001b[0;34m.\u001b[0m\u001b[0mRaggedTensor\u001b[0m\u001b[0;34m.\u001b[0m\u001b[0mfrom_sparse\u001b[0m\u001b[0;34m(\u001b[0m\u001b[0mparsed_feature_lists\u001b[0m\u001b[0;34m[\u001b[0m\u001b[0;34m\"content\"\u001b[0m\u001b[0;34m]\u001b[0m\u001b[0;34m)\u001b[0m\u001b[0;34m\u001b[0m\u001b[0;34m\u001b[0m\u001b[0m\n",
      "\u001b[0;31mNameError\u001b[0m: name 'serialized_sequence_example' is not defined"
     ]
    }
   ],
   "source": [
    "parsed_context, parsed_feature_lists = tf.io.parse_single_sequence_example(\n",
    "    serialized_sequence_example, context_feature_descriptions,sequence_feature_descriptions)\n",
    "\n",
    "parsed_content = tf.RaggedTensor.from_sparse(parsed_feature_lists[\"content\"])"
   ]
  },
  {
   "cell_type": "markdown",
   "metadata": {},
   "source": [
    "# The Features API"
   ]
  },
  {
   "cell_type": "code",
   "execution_count": 61,
   "metadata": {},
   "outputs": [],
   "source": [
    "import os\n",
    "import tarfile\n",
    "import urllib.request\n",
    "\n",
    "DOWNLOAD_ROOT = \"https://raw.githubusercontent.com/ageron/handson-ml2/master/\"\n",
    "HOUSING_PATH = os.path.join(\"datasets\", \"housing\")\n",
    "HOUSING_URL = DOWNLOAD_ROOT + \"datasets/housing/housing.tgz\"\n",
    "\n",
    "def fetch_housing_data(housing_url=HOUSING_URL, housing_path=HOUSING_PATH):\n",
    "    os.makedirs(housing_path, exist_ok=True)\n",
    "    tgz_path = os.path.join(housing_path, \"housing.tgz\")\n",
    "    urllib.request.urlretrieve(housing_url, tgz_path)\n",
    "    housing_tgz = tarfile.open(tgz_path)\n",
    "    housing_tgz.extractall(path=housing_path)\n",
    "    housing_tgz.close()\n",
    "    \n",
    "fetch_housing_data()"
   ]
  },
  {
   "cell_type": "code",
   "execution_count": 65,
   "metadata": {},
   "outputs": [],
   "source": [
    "def load_housing_data(housing_path=HOUSING_PATH):\n",
    "    csv_path = os.path.join(housing_path, \"housing.csv\")\n",
    "    return pd.read_csv(csv_path)"
   ]
  },
  {
   "cell_type": "code",
   "execution_count": 66,
   "metadata": {},
   "outputs": [
    {
     "ename": "ImportError",
     "evalue": "cannot import name 'is_url' from 'pandas.io.common' (/home/arshad/miniconda3/lib/python3.7/site-packages/pandas/io/common.py)",
     "output_type": "error",
     "traceback": [
      "\u001b[0;31m---------------------------------------------------------------------------\u001b[0m",
      "\u001b[0;31mImportError\u001b[0m                               Traceback (most recent call last)",
      "\u001b[0;32m~/miniconda3/lib/python3.7/site-packages/IPython/core/formatters.py\u001b[0m in \u001b[0;36m__call__\u001b[0;34m(self, obj)\u001b[0m\n\u001b[1;32m    343\u001b[0m             \u001b[0mmethod\u001b[0m \u001b[0;34m=\u001b[0m \u001b[0mget_real_method\u001b[0m\u001b[0;34m(\u001b[0m\u001b[0mobj\u001b[0m\u001b[0;34m,\u001b[0m \u001b[0mself\u001b[0m\u001b[0;34m.\u001b[0m\u001b[0mprint_method\u001b[0m\u001b[0;34m)\u001b[0m\u001b[0;34m\u001b[0m\u001b[0;34m\u001b[0m\u001b[0m\n\u001b[1;32m    344\u001b[0m             \u001b[0;32mif\u001b[0m \u001b[0mmethod\u001b[0m \u001b[0;32mis\u001b[0m \u001b[0;32mnot\u001b[0m \u001b[0;32mNone\u001b[0m\u001b[0;34m:\u001b[0m\u001b[0;34m\u001b[0m\u001b[0;34m\u001b[0m\u001b[0m\n\u001b[0;32m--> 345\u001b[0;31m                 \u001b[0;32mreturn\u001b[0m \u001b[0mmethod\u001b[0m\u001b[0;34m(\u001b[0m\u001b[0;34m)\u001b[0m\u001b[0;34m\u001b[0m\u001b[0;34m\u001b[0m\u001b[0m\n\u001b[0m\u001b[1;32m    346\u001b[0m             \u001b[0;32mreturn\u001b[0m \u001b[0;32mNone\u001b[0m\u001b[0;34m\u001b[0m\u001b[0;34m\u001b[0m\u001b[0m\n\u001b[1;32m    347\u001b[0m         \u001b[0;32melse\u001b[0m\u001b[0;34m:\u001b[0m\u001b[0;34m\u001b[0m\u001b[0;34m\u001b[0m\u001b[0m\n",
      "\u001b[0;32m~/miniconda3/lib/python3.7/site-packages/pandas/core/frame.py\u001b[0m in \u001b[0;36m_repr_html_\u001b[0;34m(self)\u001b[0m\n\u001b[1;32m    700\u001b[0m         \u001b[0;32melse\u001b[0m\u001b[0;34m:\u001b[0m\u001b[0;34m\u001b[0m\u001b[0;34m\u001b[0m\u001b[0m\n\u001b[1;32m    701\u001b[0m             \u001b[0;32mreturn\u001b[0m \u001b[0;32mnot\u001b[0m \u001b[0mself\u001b[0m\u001b[0;34m.\u001b[0m\u001b[0m_is_mixed_type\u001b[0m\u001b[0;34m\u001b[0m\u001b[0;34m\u001b[0m\u001b[0m\n\u001b[0;32m--> 702\u001b[0;31m \u001b[0;34m\u001b[0m\u001b[0m\n\u001b[0m\u001b[1;32m    703\u001b[0m     \u001b[0;34m@\u001b[0m\u001b[0mproperty\u001b[0m\u001b[0;34m\u001b[0m\u001b[0;34m\u001b[0m\u001b[0m\n\u001b[1;32m    704\u001b[0m     \u001b[0;32mdef\u001b[0m \u001b[0m_can_fast_transpose\u001b[0m\u001b[0;34m(\u001b[0m\u001b[0mself\u001b[0m\u001b[0;34m)\u001b[0m \u001b[0;34m->\u001b[0m \u001b[0mbool\u001b[0m\u001b[0;34m:\u001b[0m\u001b[0;34m\u001b[0m\u001b[0;34m\u001b[0m\u001b[0m\n",
      "\u001b[0;32m~/miniconda3/lib/python3.7/site-packages/pandas/io/formats/format.py\u001b[0m in \u001b[0;36mto_html\u001b[0;34m(self, classes, notebook, border)\u001b[0m\n\u001b[1;32m    835\u001b[0m             \u001b[0;32mdef\u001b[0m \u001b[0mspace_format\u001b[0m\u001b[0;34m(\u001b[0m\u001b[0mx\u001b[0m\u001b[0;34m,\u001b[0m \u001b[0my\u001b[0m\u001b[0;34m)\u001b[0m\u001b[0;34m:\u001b[0m\u001b[0;34m\u001b[0m\u001b[0;34m\u001b[0m\u001b[0m\n\u001b[1;32m    836\u001b[0m                 if (\n\u001b[0;32m--> 837\u001b[0;31m                     \u001b[0my\u001b[0m \u001b[0;32mnot\u001b[0m \u001b[0;32min\u001b[0m \u001b[0mself\u001b[0m\u001b[0;34m.\u001b[0m\u001b[0mformatters\u001b[0m\u001b[0;34m\u001b[0m\u001b[0;34m\u001b[0m\u001b[0m\n\u001b[0m\u001b[1;32m    838\u001b[0m                     \u001b[0;32mand\u001b[0m \u001b[0mneed_leadsp\u001b[0m\u001b[0;34m[\u001b[0m\u001b[0mx\u001b[0m\u001b[0;34m]\u001b[0m\u001b[0;34m\u001b[0m\u001b[0;34m\u001b[0m\u001b[0m\n\u001b[1;32m    839\u001b[0m                     \u001b[0;32mand\u001b[0m \u001b[0;32mnot\u001b[0m \u001b[0mrestrict_formatting\u001b[0m\u001b[0;34m\u001b[0m\u001b[0;34m\u001b[0m\u001b[0m\n",
      "\u001b[0;32m~/miniconda3/lib/python3.7/site-packages/pandas/io/formats/html.py\u001b[0m in \u001b[0;36m<module>\u001b[0;34m\u001b[0m\n\u001b[1;32m     12\u001b[0m \u001b[0;32mfrom\u001b[0m \u001b[0mpandas\u001b[0m \u001b[0;32mimport\u001b[0m \u001b[0mMultiIndex\u001b[0m\u001b[0;34m,\u001b[0m \u001b[0moption_context\u001b[0m\u001b[0;34m\u001b[0m\u001b[0;34m\u001b[0m\u001b[0m\n\u001b[1;32m     13\u001b[0m \u001b[0;34m\u001b[0m\u001b[0m\n\u001b[0;32m---> 14\u001b[0;31m \u001b[0;32mfrom\u001b[0m \u001b[0mpandas\u001b[0m\u001b[0;34m.\u001b[0m\u001b[0mio\u001b[0m\u001b[0;34m.\u001b[0m\u001b[0mcommon\u001b[0m \u001b[0;32mimport\u001b[0m \u001b[0mis_url\u001b[0m\u001b[0;34m\u001b[0m\u001b[0;34m\u001b[0m\u001b[0m\n\u001b[0m\u001b[1;32m     15\u001b[0m \u001b[0;32mfrom\u001b[0m \u001b[0mpandas\u001b[0m\u001b[0;34m.\u001b[0m\u001b[0mio\u001b[0m\u001b[0;34m.\u001b[0m\u001b[0mformats\u001b[0m\u001b[0;34m.\u001b[0m\u001b[0mformat\u001b[0m \u001b[0;32mimport\u001b[0m \u001b[0mDataFrameFormatter\u001b[0m\u001b[0;34m,\u001b[0m \u001b[0mget_level_lengths\u001b[0m\u001b[0;34m\u001b[0m\u001b[0;34m\u001b[0m\u001b[0m\n\u001b[1;32m     16\u001b[0m \u001b[0;32mfrom\u001b[0m \u001b[0mpandas\u001b[0m\u001b[0;34m.\u001b[0m\u001b[0mio\u001b[0m\u001b[0;34m.\u001b[0m\u001b[0mformats\u001b[0m\u001b[0;34m.\u001b[0m\u001b[0mprinting\u001b[0m \u001b[0;32mimport\u001b[0m \u001b[0mpprint_thing\u001b[0m\u001b[0;34m\u001b[0m\u001b[0;34m\u001b[0m\u001b[0m\n",
      "\u001b[0;31mImportError\u001b[0m: cannot import name 'is_url' from 'pandas.io.common' (/home/arshad/miniconda3/lib/python3.7/site-packages/pandas/io/common.py)"
     ]
    },
    {
     "data": {
      "text/plain": [
       "   longitude  latitude  housing_median_age  total_rooms  ...  households  median_income  median_house_value  ocean_proximity\n",
       "0    -122.23     37.88                41.0        880.0  ...       126.0         8.3252            452600.0         NEAR BAY\n",
       "1    -122.22     37.86                21.0       7099.0  ...      1138.0         8.3014            358500.0         NEAR BAY\n",
       "2    -122.24     37.85                52.0       1467.0  ...       177.0         7.2574            352100.0         NEAR BAY\n",
       "3    -122.25     37.85                52.0       1274.0  ...       219.0         5.6431            341300.0         NEAR BAY\n",
       "4    -122.25     37.85                52.0       1627.0  ...       259.0         3.8462            342200.0         NEAR BAY\n",
       "\n",
       "[5 rows x 10 columns]"
      ]
     },
     "execution_count": 66,
     "metadata": {},
     "output_type": "execute_result"
    }
   ],
   "source": [
    "housing = load_housing_data()\n",
    "housing.head()"
   ]
  },
  {
   "cell_type": "code",
   "execution_count": 68,
   "metadata": {},
   "outputs": [],
   "source": [
    "housing_median_age = tf.feature_column.numeric_column(\"housing_median_age\")"
   ]
  },
  {
   "cell_type": "code",
   "execution_count": 70,
   "metadata": {},
   "outputs": [],
   "source": [
    "ocean_prox_vocab = ['<1H OCEAN', 'INLAND', 'ISLAND', 'NEAR BAY', 'NEAR OCEAN']\n",
    "ocean_proximity = tf.feature_column.categorical_column_with_vocabulary_list(\n",
    "\"ocean_proximity\", ocean_prox_vocab)"
   ]
  },
  {
   "cell_type": "code",
   "execution_count": 71,
   "metadata": {},
   "outputs": [],
   "source": [
    "bucketized_age = tf.feature_column.bucketized_column(housing_median_age, boundaries=[-1., -0.5, 0., 0.5, 1.]) # age was scaled\n",
    "\n",
    "age_and_ocean_proximity = tf.feature_column.crossed_column([bucketized_age, ocean_proximity], hash_bucket_size=100)"
   ]
  },
  {
   "cell_type": "markdown",
   "metadata": {},
   "source": [
    "### 1 Hot encoder"
   ]
  },
  {
   "cell_type": "code",
   "execution_count": 72,
   "metadata": {},
   "outputs": [],
   "source": [
    "ocean_proximity_one_hot = tf.feature_column.indicator_column(ocean_proximity)"
   ]
  },
  {
   "cell_type": "code",
   "execution_count": 73,
   "metadata": {},
   "outputs": [
    {
     "data": {
      "text/plain": [
       "IndicatorColumn(categorical_column=VocabularyListCategoricalColumn(key='ocean_proximity', vocabulary_list=('<1H OCEAN', 'INLAND', 'ISLAND', 'NEAR BAY', 'NEAR OCEAN'), dtype=tf.string, default_value=-1, num_oov_buckets=0))"
      ]
     },
     "execution_count": 73,
     "metadata": {},
     "output_type": "execute_result"
    }
   ],
   "source": [
    "ocean_proximity_one_hot"
   ]
  },
  {
   "cell_type": "markdown",
   "metadata": {},
   "source": [
    "### Encoding Categorical Features using Embeddings"
   ]
  },
  {
   "cell_type": "code",
   "execution_count": 74,
   "metadata": {},
   "outputs": [
    {
     "data": {
      "text/plain": [
       "EmbeddingColumn(categorical_column=VocabularyListCategoricalColumn(key='ocean_proximity', vocabulary_list=('<1H OCEAN', 'INLAND', 'ISLAND', 'NEAR BAY', 'NEAR OCEAN'), dtype=tf.string, default_value=-1, num_oov_buckets=0), dimension=2, combiner='mean', initializer=<tensorflow.python.ops.init_ops.TruncatedNormal object at 0x7f024c7449d0>, ckpt_to_load_from=None, tensor_name_in_ckpt=None, max_norm=None, trainable=True, use_safe_embedding_lookup=True)"
      ]
     },
     "execution_count": 74,
     "metadata": {},
     "output_type": "execute_result"
    }
   ],
   "source": [
    "ocean_proximity_embed = tf.feature_column.embedding_column(ocean_proximity, dimension=2)\n",
    "ocean_proximity_embed"
   ]
  },
  {
   "cell_type": "code",
   "execution_count": 75,
   "metadata": {},
   "outputs": [],
   "source": [
    "columns = [bucketized_age, ocean_proximity_embed, housing_median_age]\n",
    "feature_descriptions = tf.feature_column.make_parse_example_spec(columns)"
   ]
  },
  {
   "cell_type": "code",
   "execution_count": 76,
   "metadata": {},
   "outputs": [
    {
     "data": {
      "text/plain": [
       "{'housing_median_age': FixedLenFeature(shape=(1,), dtype=tf.float32, default_value=None),\n",
       " 'ocean_proximity': VarLenFeature(dtype=tf.string)}"
      ]
     },
     "execution_count": 76,
     "metadata": {},
     "output_type": "execute_result"
    }
   ],
   "source": [
    "feature_descriptions"
   ]
  },
  {
   "cell_type": "code",
   "execution_count": 77,
   "metadata": {},
   "outputs": [],
   "source": [
    "def parse_examples(serialized_examples):\n",
    "    examples = tf.io.parse_example(serialized_examples, feature_descriptions)\n",
    "    targets = examples.pop(\"median_house_value\") # separate the targets\n",
    "    return examples, targets"
   ]
  },
  {
   "cell_type": "code",
   "execution_count": 78,
   "metadata": {
    "scrolled": true
   },
   "outputs": [
    {
     "ename": "KeyError",
     "evalue": "in user code:\n\n    <ipython-input-77-2d863701b829>:3 parse_examples  *\n        targets = examples.pop(\"median_house_value\") # separate the targets\n\n    KeyError: 'median_house_value'\n",
     "output_type": "error",
     "traceback": [
      "\u001b[0;31m---------------------------------------------------------------------------\u001b[0m",
      "\u001b[0;31mKeyError\u001b[0m                                  Traceback (most recent call last)",
      "\u001b[0;32m<ipython-input-78-24f28137d060>\u001b[0m in \u001b[0;36m<module>\u001b[0;34m\u001b[0m\n\u001b[1;32m      1\u001b[0m \u001b[0mbatch_size\u001b[0m \u001b[0;34m=\u001b[0m \u001b[0;36m32\u001b[0m\u001b[0;34m\u001b[0m\u001b[0;34m\u001b[0m\u001b[0m\n\u001b[1;32m      2\u001b[0m \u001b[0mdataset\u001b[0m \u001b[0;34m=\u001b[0m \u001b[0mtf\u001b[0m\u001b[0;34m.\u001b[0m\u001b[0mdata\u001b[0m\u001b[0;34m.\u001b[0m\u001b[0mTFRecordDataset\u001b[0m\u001b[0;34m(\u001b[0m\u001b[0;34m[\u001b[0m\u001b[0;34m\"my_data_with_features.tfrecords\"\u001b[0m\u001b[0;34m]\u001b[0m\u001b[0;34m)\u001b[0m\u001b[0;34m\u001b[0m\u001b[0;34m\u001b[0m\u001b[0m\n\u001b[0;32m----> 3\u001b[0;31m \u001b[0mdataset\u001b[0m \u001b[0;34m=\u001b[0m \u001b[0mdataset\u001b[0m\u001b[0;34m.\u001b[0m\u001b[0mrepeat\u001b[0m\u001b[0;34m(\u001b[0m\u001b[0;34m)\u001b[0m\u001b[0;34m.\u001b[0m\u001b[0mshuffle\u001b[0m\u001b[0;34m(\u001b[0m\u001b[0;36m10000\u001b[0m\u001b[0;34m)\u001b[0m\u001b[0;34m.\u001b[0m\u001b[0mbatch\u001b[0m\u001b[0;34m(\u001b[0m\u001b[0mbatch_size\u001b[0m\u001b[0;34m)\u001b[0m\u001b[0;34m.\u001b[0m\u001b[0mmap\u001b[0m\u001b[0;34m(\u001b[0m\u001b[0mparse_examples\u001b[0m\u001b[0;34m)\u001b[0m\u001b[0;34m\u001b[0m\u001b[0;34m\u001b[0m\u001b[0m\n\u001b[0m",
      "\u001b[0;32m~/miniconda3/lib/python3.7/site-packages/tensorflow/python/data/ops/dataset_ops.py\u001b[0m in \u001b[0;36mmap\u001b[0;34m(self, map_func, num_parallel_calls, deterministic)\u001b[0m\n\u001b[1;32m   1803\u001b[0m     \"\"\"\n\u001b[1;32m   1804\u001b[0m     \u001b[0;32mif\u001b[0m \u001b[0mnum_parallel_calls\u001b[0m \u001b[0;32mis\u001b[0m \u001b[0;32mNone\u001b[0m\u001b[0;34m:\u001b[0m\u001b[0;34m\u001b[0m\u001b[0;34m\u001b[0m\u001b[0m\n\u001b[0;32m-> 1805\u001b[0;31m       \u001b[0;32mreturn\u001b[0m \u001b[0mMapDataset\u001b[0m\u001b[0;34m(\u001b[0m\u001b[0mself\u001b[0m\u001b[0;34m,\u001b[0m \u001b[0mmap_func\u001b[0m\u001b[0;34m,\u001b[0m \u001b[0mpreserve_cardinality\u001b[0m\u001b[0;34m=\u001b[0m\u001b[0;32mTrue\u001b[0m\u001b[0;34m)\u001b[0m\u001b[0;34m\u001b[0m\u001b[0;34m\u001b[0m\u001b[0m\n\u001b[0m\u001b[1;32m   1806\u001b[0m     \u001b[0;32melse\u001b[0m\u001b[0;34m:\u001b[0m\u001b[0;34m\u001b[0m\u001b[0;34m\u001b[0m\u001b[0m\n\u001b[1;32m   1807\u001b[0m       return ParallelMapDataset(\n",
      "\u001b[0;32m~/miniconda3/lib/python3.7/site-packages/tensorflow/python/data/ops/dataset_ops.py\u001b[0m in \u001b[0;36m__init__\u001b[0;34m(self, input_dataset, map_func, use_inter_op_parallelism, preserve_cardinality, use_legacy_function)\u001b[0m\n\u001b[1;32m   4205\u001b[0m         \u001b[0mself\u001b[0m\u001b[0;34m.\u001b[0m\u001b[0m_transformation_name\u001b[0m\u001b[0;34m(\u001b[0m\u001b[0;34m)\u001b[0m\u001b[0;34m,\u001b[0m\u001b[0;34m\u001b[0m\u001b[0;34m\u001b[0m\u001b[0m\n\u001b[1;32m   4206\u001b[0m         \u001b[0mdataset\u001b[0m\u001b[0;34m=\u001b[0m\u001b[0minput_dataset\u001b[0m\u001b[0;34m,\u001b[0m\u001b[0;34m\u001b[0m\u001b[0;34m\u001b[0m\u001b[0m\n\u001b[0;32m-> 4207\u001b[0;31m         use_legacy_function=use_legacy_function)\n\u001b[0m\u001b[1;32m   4208\u001b[0m     variant_tensor = gen_dataset_ops.map_dataset(\n\u001b[1;32m   4209\u001b[0m         \u001b[0minput_dataset\u001b[0m\u001b[0;34m.\u001b[0m\u001b[0m_variant_tensor\u001b[0m\u001b[0;34m,\u001b[0m  \u001b[0;31m# pylint: disable=protected-access\u001b[0m\u001b[0;34m\u001b[0m\u001b[0;34m\u001b[0m\u001b[0m\n",
      "\u001b[0;32m~/miniconda3/lib/python3.7/site-packages/tensorflow/python/data/ops/dataset_ops.py\u001b[0m in \u001b[0;36m__init__\u001b[0;34m(self, func, transformation_name, dataset, input_classes, input_shapes, input_types, input_structure, add_to_graph, use_legacy_function, defun_kwargs)\u001b[0m\n\u001b[1;32m   3523\u001b[0m       \u001b[0;32mwith\u001b[0m \u001b[0mtracking\u001b[0m\u001b[0;34m.\u001b[0m\u001b[0mresource_tracker_scope\u001b[0m\u001b[0;34m(\u001b[0m\u001b[0mresource_tracker\u001b[0m\u001b[0;34m)\u001b[0m\u001b[0;34m:\u001b[0m\u001b[0;34m\u001b[0m\u001b[0;34m\u001b[0m\u001b[0m\n\u001b[1;32m   3524\u001b[0m         \u001b[0;31m# TODO(b/141462134): Switch to using garbage collection.\u001b[0m\u001b[0;34m\u001b[0m\u001b[0;34m\u001b[0m\u001b[0;34m\u001b[0m\u001b[0m\n\u001b[0;32m-> 3525\u001b[0;31m         \u001b[0mself\u001b[0m\u001b[0;34m.\u001b[0m\u001b[0m_function\u001b[0m \u001b[0;34m=\u001b[0m \u001b[0mwrapper_fn\u001b[0m\u001b[0;34m.\u001b[0m\u001b[0mget_concrete_function\u001b[0m\u001b[0;34m(\u001b[0m\u001b[0;34m)\u001b[0m\u001b[0;34m\u001b[0m\u001b[0;34m\u001b[0m\u001b[0m\n\u001b[0m\u001b[1;32m   3526\u001b[0m         \u001b[0;32mif\u001b[0m \u001b[0madd_to_graph\u001b[0m\u001b[0;34m:\u001b[0m\u001b[0;34m\u001b[0m\u001b[0;34m\u001b[0m\u001b[0m\n\u001b[1;32m   3527\u001b[0m           \u001b[0mself\u001b[0m\u001b[0;34m.\u001b[0m\u001b[0m_function\u001b[0m\u001b[0;34m.\u001b[0m\u001b[0madd_to_graph\u001b[0m\u001b[0;34m(\u001b[0m\u001b[0mops\u001b[0m\u001b[0;34m.\u001b[0m\u001b[0mget_default_graph\u001b[0m\u001b[0;34m(\u001b[0m\u001b[0;34m)\u001b[0m\u001b[0;34m)\u001b[0m\u001b[0;34m\u001b[0m\u001b[0;34m\u001b[0m\u001b[0m\n",
      "\u001b[0;32m~/miniconda3/lib/python3.7/site-packages/tensorflow/python/eager/function.py\u001b[0m in \u001b[0;36mget_concrete_function\u001b[0;34m(self, *args, **kwargs)\u001b[0m\n\u001b[1;32m   3050\u001b[0m     \"\"\"\n\u001b[1;32m   3051\u001b[0m     graph_function = self._get_concrete_function_garbage_collected(\n\u001b[0;32m-> 3052\u001b[0;31m         *args, **kwargs)\n\u001b[0m\u001b[1;32m   3053\u001b[0m     \u001b[0mgraph_function\u001b[0m\u001b[0;34m.\u001b[0m\u001b[0m_garbage_collector\u001b[0m\u001b[0;34m.\u001b[0m\u001b[0mrelease\u001b[0m\u001b[0;34m(\u001b[0m\u001b[0;34m)\u001b[0m  \u001b[0;31m# pylint: disable=protected-access\u001b[0m\u001b[0;34m\u001b[0m\u001b[0;34m\u001b[0m\u001b[0m\n\u001b[1;32m   3054\u001b[0m     \u001b[0;32mreturn\u001b[0m \u001b[0mgraph_function\u001b[0m\u001b[0;34m\u001b[0m\u001b[0;34m\u001b[0m\u001b[0m\n",
      "\u001b[0;32m~/miniconda3/lib/python3.7/site-packages/tensorflow/python/eager/function.py\u001b[0m in \u001b[0;36m_get_concrete_function_garbage_collected\u001b[0;34m(self, *args, **kwargs)\u001b[0m\n\u001b[1;32m   3017\u001b[0m       \u001b[0margs\u001b[0m\u001b[0;34m,\u001b[0m \u001b[0mkwargs\u001b[0m \u001b[0;34m=\u001b[0m \u001b[0;32mNone\u001b[0m\u001b[0;34m,\u001b[0m \u001b[0;32mNone\u001b[0m\u001b[0;34m\u001b[0m\u001b[0;34m\u001b[0m\u001b[0m\n\u001b[1;32m   3018\u001b[0m     \u001b[0;32mwith\u001b[0m \u001b[0mself\u001b[0m\u001b[0;34m.\u001b[0m\u001b[0m_lock\u001b[0m\u001b[0;34m:\u001b[0m\u001b[0;34m\u001b[0m\u001b[0;34m\u001b[0m\u001b[0m\n\u001b[0;32m-> 3019\u001b[0;31m       \u001b[0mgraph_function\u001b[0m\u001b[0;34m,\u001b[0m \u001b[0m_\u001b[0m \u001b[0;34m=\u001b[0m \u001b[0mself\u001b[0m\u001b[0;34m.\u001b[0m\u001b[0m_maybe_define_function\u001b[0m\u001b[0;34m(\u001b[0m\u001b[0margs\u001b[0m\u001b[0;34m,\u001b[0m \u001b[0mkwargs\u001b[0m\u001b[0;34m)\u001b[0m\u001b[0;34m\u001b[0m\u001b[0;34m\u001b[0m\u001b[0m\n\u001b[0m\u001b[1;32m   3020\u001b[0m       \u001b[0mseen_names\u001b[0m \u001b[0;34m=\u001b[0m \u001b[0mset\u001b[0m\u001b[0;34m(\u001b[0m\u001b[0;34m)\u001b[0m\u001b[0;34m\u001b[0m\u001b[0;34m\u001b[0m\u001b[0m\n\u001b[1;32m   3021\u001b[0m       captured = object_identity.ObjectIdentitySet(\n",
      "\u001b[0;32m~/miniconda3/lib/python3.7/site-packages/tensorflow/python/eager/function.py\u001b[0m in \u001b[0;36m_maybe_define_function\u001b[0;34m(self, args, kwargs)\u001b[0m\n\u001b[1;32m   3359\u001b[0m \u001b[0;34m\u001b[0m\u001b[0m\n\u001b[1;32m   3360\u001b[0m           \u001b[0mself\u001b[0m\u001b[0;34m.\u001b[0m\u001b[0m_function_cache\u001b[0m\u001b[0;34m.\u001b[0m\u001b[0mmissed\u001b[0m\u001b[0;34m.\u001b[0m\u001b[0madd\u001b[0m\u001b[0;34m(\u001b[0m\u001b[0mcall_context_key\u001b[0m\u001b[0;34m)\u001b[0m\u001b[0;34m\u001b[0m\u001b[0;34m\u001b[0m\u001b[0m\n\u001b[0;32m-> 3361\u001b[0;31m           \u001b[0mgraph_function\u001b[0m \u001b[0;34m=\u001b[0m \u001b[0mself\u001b[0m\u001b[0;34m.\u001b[0m\u001b[0m_create_graph_function\u001b[0m\u001b[0;34m(\u001b[0m\u001b[0margs\u001b[0m\u001b[0;34m,\u001b[0m \u001b[0mkwargs\u001b[0m\u001b[0;34m)\u001b[0m\u001b[0;34m\u001b[0m\u001b[0;34m\u001b[0m\u001b[0m\n\u001b[0m\u001b[1;32m   3362\u001b[0m           \u001b[0mself\u001b[0m\u001b[0;34m.\u001b[0m\u001b[0m_function_cache\u001b[0m\u001b[0;34m.\u001b[0m\u001b[0mprimary\u001b[0m\u001b[0;34m[\u001b[0m\u001b[0mcache_key\u001b[0m\u001b[0;34m]\u001b[0m \u001b[0;34m=\u001b[0m \u001b[0mgraph_function\u001b[0m\u001b[0;34m\u001b[0m\u001b[0;34m\u001b[0m\u001b[0m\n\u001b[1;32m   3363\u001b[0m \u001b[0;34m\u001b[0m\u001b[0m\n",
      "\u001b[0;32m~/miniconda3/lib/python3.7/site-packages/tensorflow/python/eager/function.py\u001b[0m in \u001b[0;36m_create_graph_function\u001b[0;34m(self, args, kwargs, override_flat_arg_shapes)\u001b[0m\n\u001b[1;32m   3204\u001b[0m             \u001b[0marg_names\u001b[0m\u001b[0;34m=\u001b[0m\u001b[0marg_names\u001b[0m\u001b[0;34m,\u001b[0m\u001b[0;34m\u001b[0m\u001b[0;34m\u001b[0m\u001b[0m\n\u001b[1;32m   3205\u001b[0m             \u001b[0moverride_flat_arg_shapes\u001b[0m\u001b[0;34m=\u001b[0m\u001b[0moverride_flat_arg_shapes\u001b[0m\u001b[0;34m,\u001b[0m\u001b[0;34m\u001b[0m\u001b[0;34m\u001b[0m\u001b[0m\n\u001b[0;32m-> 3206\u001b[0;31m             capture_by_value=self._capture_by_value),\n\u001b[0m\u001b[1;32m   3207\u001b[0m         \u001b[0mself\u001b[0m\u001b[0;34m.\u001b[0m\u001b[0m_function_attributes\u001b[0m\u001b[0;34m,\u001b[0m\u001b[0;34m\u001b[0m\u001b[0;34m\u001b[0m\u001b[0m\n\u001b[1;32m   3208\u001b[0m         \u001b[0mfunction_spec\u001b[0m\u001b[0;34m=\u001b[0m\u001b[0mself\u001b[0m\u001b[0;34m.\u001b[0m\u001b[0mfunction_spec\u001b[0m\u001b[0;34m,\u001b[0m\u001b[0;34m\u001b[0m\u001b[0;34m\u001b[0m\u001b[0m\n",
      "\u001b[0;32m~/miniconda3/lib/python3.7/site-packages/tensorflow/python/framework/func_graph.py\u001b[0m in \u001b[0;36mfunc_graph_from_py_func\u001b[0;34m(name, python_func, args, kwargs, signature, func_graph, autograph, autograph_options, add_control_dependencies, arg_names, op_return_value, collections, capture_by_value, override_flat_arg_shapes)\u001b[0m\n\u001b[1;32m    988\u001b[0m         \u001b[0m_\u001b[0m\u001b[0;34m,\u001b[0m \u001b[0moriginal_func\u001b[0m \u001b[0;34m=\u001b[0m \u001b[0mtf_decorator\u001b[0m\u001b[0;34m.\u001b[0m\u001b[0munwrap\u001b[0m\u001b[0;34m(\u001b[0m\u001b[0mpython_func\u001b[0m\u001b[0;34m)\u001b[0m\u001b[0;34m\u001b[0m\u001b[0;34m\u001b[0m\u001b[0m\n\u001b[1;32m    989\u001b[0m \u001b[0;34m\u001b[0m\u001b[0m\n\u001b[0;32m--> 990\u001b[0;31m       \u001b[0mfunc_outputs\u001b[0m \u001b[0;34m=\u001b[0m \u001b[0mpython_func\u001b[0m\u001b[0;34m(\u001b[0m\u001b[0;34m*\u001b[0m\u001b[0mfunc_args\u001b[0m\u001b[0;34m,\u001b[0m \u001b[0;34m**\u001b[0m\u001b[0mfunc_kwargs\u001b[0m\u001b[0;34m)\u001b[0m\u001b[0;34m\u001b[0m\u001b[0;34m\u001b[0m\u001b[0m\n\u001b[0m\u001b[1;32m    991\u001b[0m \u001b[0;34m\u001b[0m\u001b[0m\n\u001b[1;32m    992\u001b[0m       \u001b[0;31m# invariant: `func_outputs` contains only Tensors, CompositeTensors,\u001b[0m\u001b[0;34m\u001b[0m\u001b[0;34m\u001b[0m\u001b[0;34m\u001b[0m\u001b[0m\n",
      "\u001b[0;32m~/miniconda3/lib/python3.7/site-packages/tensorflow/python/data/ops/dataset_ops.py\u001b[0m in \u001b[0;36mwrapper_fn\u001b[0;34m(*args)\u001b[0m\n\u001b[1;32m   3516\u001b[0m           attributes=defun_kwargs)\n\u001b[1;32m   3517\u001b[0m       \u001b[0;32mdef\u001b[0m \u001b[0mwrapper_fn\u001b[0m\u001b[0;34m(\u001b[0m\u001b[0;34m*\u001b[0m\u001b[0margs\u001b[0m\u001b[0;34m)\u001b[0m\u001b[0;34m:\u001b[0m  \u001b[0;31m# pylint: disable=missing-docstring\u001b[0m\u001b[0;34m\u001b[0m\u001b[0;34m\u001b[0m\u001b[0m\n\u001b[0;32m-> 3518\u001b[0;31m         \u001b[0mret\u001b[0m \u001b[0;34m=\u001b[0m \u001b[0m_wrapper_helper\u001b[0m\u001b[0;34m(\u001b[0m\u001b[0;34m*\u001b[0m\u001b[0margs\u001b[0m\u001b[0;34m)\u001b[0m\u001b[0;34m\u001b[0m\u001b[0;34m\u001b[0m\u001b[0m\n\u001b[0m\u001b[1;32m   3519\u001b[0m         \u001b[0mret\u001b[0m \u001b[0;34m=\u001b[0m \u001b[0mstructure\u001b[0m\u001b[0;34m.\u001b[0m\u001b[0mto_tensor_list\u001b[0m\u001b[0;34m(\u001b[0m\u001b[0mself\u001b[0m\u001b[0;34m.\u001b[0m\u001b[0m_output_structure\u001b[0m\u001b[0;34m,\u001b[0m \u001b[0mret\u001b[0m\u001b[0;34m)\u001b[0m\u001b[0;34m\u001b[0m\u001b[0;34m\u001b[0m\u001b[0m\n\u001b[1;32m   3520\u001b[0m         \u001b[0;32mreturn\u001b[0m \u001b[0;34m[\u001b[0m\u001b[0mops\u001b[0m\u001b[0;34m.\u001b[0m\u001b[0mconvert_to_tensor\u001b[0m\u001b[0;34m(\u001b[0m\u001b[0mt\u001b[0m\u001b[0;34m)\u001b[0m \u001b[0;32mfor\u001b[0m \u001b[0mt\u001b[0m \u001b[0;32min\u001b[0m \u001b[0mret\u001b[0m\u001b[0;34m]\u001b[0m\u001b[0;34m\u001b[0m\u001b[0;34m\u001b[0m\u001b[0m\n",
      "\u001b[0;32m~/miniconda3/lib/python3.7/site-packages/tensorflow/python/data/ops/dataset_ops.py\u001b[0m in \u001b[0;36m_wrapper_helper\u001b[0;34m(*args)\u001b[0m\n\u001b[1;32m   3451\u001b[0m         \u001b[0mnested_args\u001b[0m \u001b[0;34m=\u001b[0m \u001b[0;34m(\u001b[0m\u001b[0mnested_args\u001b[0m\u001b[0;34m,\u001b[0m\u001b[0;34m)\u001b[0m\u001b[0;34m\u001b[0m\u001b[0;34m\u001b[0m\u001b[0m\n\u001b[1;32m   3452\u001b[0m \u001b[0;34m\u001b[0m\u001b[0m\n\u001b[0;32m-> 3453\u001b[0;31m       \u001b[0mret\u001b[0m \u001b[0;34m=\u001b[0m \u001b[0mautograph\u001b[0m\u001b[0;34m.\u001b[0m\u001b[0mtf_convert\u001b[0m\u001b[0;34m(\u001b[0m\u001b[0mfunc\u001b[0m\u001b[0;34m,\u001b[0m \u001b[0mag_ctx\u001b[0m\u001b[0;34m)\u001b[0m\u001b[0;34m(\u001b[0m\u001b[0;34m*\u001b[0m\u001b[0mnested_args\u001b[0m\u001b[0;34m)\u001b[0m\u001b[0;34m\u001b[0m\u001b[0;34m\u001b[0m\u001b[0m\n\u001b[0m\u001b[1;32m   3454\u001b[0m       \u001b[0;31m# If `func` returns a list of tensors, `nest.flatten()` and\u001b[0m\u001b[0;34m\u001b[0m\u001b[0;34m\u001b[0m\u001b[0;34m\u001b[0m\u001b[0m\n\u001b[1;32m   3455\u001b[0m       \u001b[0;31m# `ops.convert_to_tensor()` would conspire to attempt to stack\u001b[0m\u001b[0;34m\u001b[0m\u001b[0;34m\u001b[0m\u001b[0;34m\u001b[0m\u001b[0m\n",
      "\u001b[0;32m~/miniconda3/lib/python3.7/site-packages/tensorflow/python/autograph/impl/api.py\u001b[0m in \u001b[0;36mwrapper\u001b[0;34m(*args, **kwargs)\u001b[0m\n\u001b[1;32m    668\u001b[0m       \u001b[0;32mexcept\u001b[0m \u001b[0mException\u001b[0m \u001b[0;32mas\u001b[0m \u001b[0me\u001b[0m\u001b[0;34m:\u001b[0m  \u001b[0;31m# pylint:disable=broad-except\u001b[0m\u001b[0;34m\u001b[0m\u001b[0;34m\u001b[0m\u001b[0m\n\u001b[1;32m    669\u001b[0m         \u001b[0;32mif\u001b[0m \u001b[0mhasattr\u001b[0m\u001b[0;34m(\u001b[0m\u001b[0me\u001b[0m\u001b[0;34m,\u001b[0m \u001b[0;34m'ag_error_metadata'\u001b[0m\u001b[0;34m)\u001b[0m\u001b[0;34m:\u001b[0m\u001b[0;34m\u001b[0m\u001b[0;34m\u001b[0m\u001b[0m\n\u001b[0;32m--> 670\u001b[0;31m           \u001b[0;32mraise\u001b[0m \u001b[0me\u001b[0m\u001b[0;34m.\u001b[0m\u001b[0mag_error_metadata\u001b[0m\u001b[0;34m.\u001b[0m\u001b[0mto_exception\u001b[0m\u001b[0;34m(\u001b[0m\u001b[0me\u001b[0m\u001b[0;34m)\u001b[0m\u001b[0;34m\u001b[0m\u001b[0;34m\u001b[0m\u001b[0m\n\u001b[0m\u001b[1;32m    671\u001b[0m         \u001b[0;32melse\u001b[0m\u001b[0;34m:\u001b[0m\u001b[0;34m\u001b[0m\u001b[0;34m\u001b[0m\u001b[0m\n\u001b[1;32m    672\u001b[0m           \u001b[0;32mraise\u001b[0m\u001b[0;34m\u001b[0m\u001b[0;34m\u001b[0m\u001b[0m\n",
      "\u001b[0;31mKeyError\u001b[0m: in user code:\n\n    <ipython-input-77-2d863701b829>:3 parse_examples  *\n        targets = examples.pop(\"median_house_value\") # separate the targets\n\n    KeyError: 'median_house_value'\n"
     ]
    }
   ],
   "source": [
    "batch_size = 32\n",
    "dataset = tf.data.TFRecordDataset([\"my_data_with_features.tfrecords\"])\n",
    "dataset = dataset.repeat().shuffle(10000).batch(batch_size).map(parse_examples)"
   ]
  },
  {
   "cell_type": "markdown",
   "metadata": {},
   "source": [
    "### Using Feature Columns in Your Models"
   ]
  },
  {
   "cell_type": "code",
   "execution_count": 80,
   "metadata": {},
   "outputs": [],
   "source": [
    "columns_without_target = columns[:-1]\n",
    "\n",
    "model = keras.models.Sequential([\n",
    "    keras.layers.DenseFeatures(feature_columns=columns_without_target), # This will convert every input to a dense represntation\n",
    "    keras.layers.Dense(1)])\n",
    "\n",
    "model.compile(loss='mse', optimizer='sgd', metrics=['accuracy'])"
   ]
  },
  {
   "cell_type": "code",
   "execution_count": null,
   "metadata": {},
   "outputs": [],
   "source": [
    "steps_per_epoch = len(X_train) // batch_size\n",
    "history = model.fit(dataset, steps_per_epoch=steps_per_epoch, epochs=5)"
   ]
  },
  {
   "cell_type": "markdown",
   "metadata": {},
   "source": [
    "# TF Transform"
   ]
  },
  {
   "cell_type": "code",
   "execution_count": 82,
   "metadata": {},
   "outputs": [
    {
     "ename": "AttributeError",
     "evalue": "module 'google.protobuf.descriptor' has no attribute '_internal_create_key'",
     "output_type": "error",
     "traceback": [
      "\u001b[0;31m---------------------------------------------------------------------------\u001b[0m",
      "\u001b[0;31mAttributeError\u001b[0m                            Traceback (most recent call last)",
      "\u001b[0;32m<ipython-input-82-9f9083c94444>\u001b[0m in \u001b[0;36m<module>\u001b[0;34m\u001b[0m\n\u001b[0;32m----> 1\u001b[0;31m \u001b[0;32mimport\u001b[0m \u001b[0mtensorflow_transform\u001b[0m \u001b[0;32mas\u001b[0m \u001b[0mtft\u001b[0m\u001b[0;34m\u001b[0m\u001b[0;34m\u001b[0m\u001b[0m\n\u001b[0m",
      "\u001b[0;32m~/miniconda3/lib/python3.7/site-packages/tensorflow_transform/__init__.py\u001b[0m in \u001b[0;36m<module>\u001b[0;34m\u001b[0m\n\u001b[1;32m     17\u001b[0m \u001b[0;31m# pylint: disable=wildcard-import\u001b[0m\u001b[0;34m\u001b[0m\u001b[0;34m\u001b[0m\u001b[0;34m\u001b[0m\u001b[0m\n\u001b[1;32m     18\u001b[0m \u001b[0;32mfrom\u001b[0m \u001b[0mtensorflow_transform\u001b[0m \u001b[0;32mimport\u001b[0m \u001b[0mcoders\u001b[0m\u001b[0;34m\u001b[0m\u001b[0;34m\u001b[0m\u001b[0m\n\u001b[0;32m---> 19\u001b[0;31m \u001b[0;32mfrom\u001b[0m \u001b[0mtensorflow_transform\u001b[0m\u001b[0;34m.\u001b[0m\u001b[0manalyzers\u001b[0m \u001b[0;32mimport\u001b[0m \u001b[0;34m*\u001b[0m\u001b[0;34m\u001b[0m\u001b[0;34m\u001b[0m\u001b[0m\n\u001b[0m\u001b[1;32m     20\u001b[0m \u001b[0;32mfrom\u001b[0m \u001b[0mtensorflow_transform\u001b[0m\u001b[0;34m.\u001b[0m\u001b[0mannotators\u001b[0m \u001b[0;32mimport\u001b[0m \u001b[0;34m*\u001b[0m\u001b[0;34m\u001b[0m\u001b[0;34m\u001b[0m\u001b[0m\n\u001b[1;32m     21\u001b[0m \u001b[0;32mfrom\u001b[0m \u001b[0mtensorflow_transform\u001b[0m\u001b[0;34m.\u001b[0m\u001b[0minspect_preprocessing_fn\u001b[0m \u001b[0;32mimport\u001b[0m \u001b[0;34m*\u001b[0m\u001b[0;34m\u001b[0m\u001b[0;34m\u001b[0m\u001b[0m\n",
      "\u001b[0;32m~/miniconda3/lib/python3.7/site-packages/tensorflow_transform/analyzers.py\u001b[0m in \u001b[0;36m<module>\u001b[0;34m\u001b[0m\n\u001b[1;32m     54\u001b[0m \u001b[0;32mfrom\u001b[0m \u001b[0mtfx_bsl\u001b[0m\u001b[0;34m.\u001b[0m\u001b[0mtypes\u001b[0m \u001b[0;32mimport\u001b[0m \u001b[0mtfx_namedtuple\u001b[0m\u001b[0;34m\u001b[0m\u001b[0;34m\u001b[0m\u001b[0m\n\u001b[1;32m     55\u001b[0m \u001b[0;34m\u001b[0m\u001b[0m\n\u001b[0;32m---> 56\u001b[0;31m \u001b[0;32mfrom\u001b[0m \u001b[0mgoogle\u001b[0m\u001b[0;34m.\u001b[0m\u001b[0mprotobuf\u001b[0m \u001b[0;32mimport\u001b[0m \u001b[0mdescriptor_pb2\u001b[0m\u001b[0;34m\u001b[0m\u001b[0;34m\u001b[0m\u001b[0m\n\u001b[0m\u001b[1;32m     57\u001b[0m \u001b[0;34m\u001b[0m\u001b[0m\n\u001b[1;32m     58\u001b[0m __all__ = [\n",
      "\u001b[0;32m~/miniconda3/lib/python3.7/site-packages/google/protobuf/descriptor_pb2.py\u001b[0m in \u001b[0;36m<module>\u001b[0;34m\u001b[0m\n\u001b[1;32m     19\u001b[0m   \u001b[0msyntax\u001b[0m\u001b[0;34m=\u001b[0m\u001b[0;34m'proto2'\u001b[0m\u001b[0;34m,\u001b[0m\u001b[0;34m\u001b[0m\u001b[0;34m\u001b[0m\u001b[0m\n\u001b[1;32m     20\u001b[0m   \u001b[0mserialized_options\u001b[0m\u001b[0;34m=\u001b[0m\u001b[0;32mNone\u001b[0m\u001b[0;34m,\u001b[0m\u001b[0;34m\u001b[0m\u001b[0;34m\u001b[0m\u001b[0m\n\u001b[0;32m---> 21\u001b[0;31m   \u001b[0mcreate_key\u001b[0m\u001b[0;34m=\u001b[0m\u001b[0m_descriptor\u001b[0m\u001b[0;34m.\u001b[0m\u001b[0m_internal_create_key\u001b[0m\u001b[0;34m,\u001b[0m\u001b[0;34m\u001b[0m\u001b[0;34m\u001b[0m\u001b[0m\n\u001b[0m\u001b[1;32m     22\u001b[0m   \u001b[0mserialized_pb\u001b[0m\u001b[0;34m=\u001b[0m\u001b[0;34mb'\\n google/protobuf/descriptor.proto\\x12\\x0fgoogle.protobuf\\\"G\\n\\x11\\x46ileDescriptorSet\\x12\\x32\\n\\x04\\x66ile\\x18\\x01 \\x03(\\x0b\\x32$.google.protobuf.FileDescriptorProto\\\"\\xdb\\x03\\n\\x13\\x46ileDescriptorProto\\x12\\x0c\\n\\x04name\\x18\\x01 \\x01(\\t\\x12\\x0f\\n\\x07package\\x18\\x02 \\x01(\\t\\x12\\x12\\n\\ndependency\\x18\\x03 \\x03(\\t\\x12\\x19\\n\\x11public_dependency\\x18\\n \\x03(\\x05\\x12\\x17\\n\\x0fweak_dependency\\x18\\x0b \\x03(\\x05\\x12\\x36\\n\\x0cmessage_type\\x18\\x04 \\x03(\\x0b\\x32 .google.protobuf.DescriptorProto\\x12\\x37\\n\\tenum_type\\x18\\x05 \\x03(\\x0b\\x32$.google.protobuf.EnumDescriptorProto\\x12\\x38\\n\\x07service\\x18\\x06 \\x03(\\x0b\\x32\\'.google.protobuf.ServiceDescriptorProto\\x12\\x38\\n\\textension\\x18\\x07 \\x03(\\x0b\\x32%.google.protobuf.FieldDescriptorProto\\x12-\\n\\x07options\\x18\\x08 \\x01(\\x0b\\x32\\x1c.google.protobuf.FileOptions\\x12\\x39\\n\\x10source_code_info\\x18\\t \\x01(\\x0b\\x32\\x1f.google.protobuf.SourceCodeInfo\\x12\\x0e\\n\\x06syntax\\x18\\x0c \\x01(\\t\\\"\\xa9\\x05\\n\\x0f\\x44\\x65scriptorProto\\x12\\x0c\\n\\x04name\\x18\\x01 \\x01(\\t\\x12\\x34\\n\\x05\\x66ield\\x18\\x02 \\x03(\\x0b\\x32%.google.protobuf.FieldDescriptorProto\\x12\\x38\\n\\textension\\x18\\x06 \\x03(\\x0b\\x32%.google.protobuf.FieldDescriptorProto\\x12\\x35\\n\\x0bnested_type\\x18\\x03 \\x03(\\x0b\\x32 .google.protobuf.DescriptorProto\\x12\\x37\\n\\tenum_type\\x18\\x04 \\x03(\\x0b\\x32$.google.protobuf.EnumDescriptorProto\\x12H\\n\\x0f\\x65xtension_range\\x18\\x05 \\x03(\\x0b\\x32/.google.protobuf.DescriptorProto.ExtensionRange\\x12\\x39\\n\\noneof_decl\\x18\\x08 \\x03(\\x0b\\x32%.google.protobuf.OneofDescriptorProto\\x12\\x30\\n\\x07options\\x18\\x07 \\x01(\\x0b\\x32\\x1f.google.protobuf.MessageOptions\\x12\\x46\\n\\x0ereserved_range\\x18\\t \\x03(\\x0b\\x32..google.protobuf.DescriptorProto.ReservedRange\\x12\\x15\\n\\rreserved_name\\x18\\n \\x03(\\t\\x1a\\x65\\n\\x0e\\x45xtensionRange\\x12\\r\\n\\x05start\\x18\\x01 \\x01(\\x05\\x12\\x0b\\n\\x03\\x65nd\\x18\\x02 \\x01(\\x05\\x12\\x37\\n\\x07options\\x18\\x03 \\x01(\\x0b\\x32&.google.protobuf.ExtensionRangeOptions\\x1a+\\n\\rReservedRange\\x12\\r\\n\\x05start\\x18\\x01 \\x01(\\x05\\x12\\x0b\\n\\x03\\x65nd\\x18\\x02 \\x01(\\x05\\\"g\\n\\x15\\x45xtensionRangeOptions\\x12\\x43\\n\\x14uninterpreted_option\\x18\\xe7\\x07 \\x03(\\x0b\\x32$.google.protobuf.UninterpretedOption*\\t\\x08\\xe8\\x07\\x10\\x80\\x80\\x80\\x80\\x02\\\"\\xd5\\x05\\n\\x14\\x46ieldDescriptorProto\\x12\\x0c\\n\\x04name\\x18\\x01 \\x01(\\t\\x12\\x0e\\n\\x06number\\x18\\x03 \\x01(\\x05\\x12:\\n\\x05label\\x18\\x04 \\x01(\\x0e\\x32+.google.protobuf.FieldDescriptorProto.Label\\x12\\x38\\n\\x04type\\x18\\x05 \\x01(\\x0e\\x32*.google.protobuf.FieldDescriptorProto.Type\\x12\\x11\\n\\ttype_name\\x18\\x06 \\x01(\\t\\x12\\x10\\n\\x08\\x65xtendee\\x18\\x02 \\x01(\\t\\x12\\x15\\n\\rdefault_value\\x18\\x07 \\x01(\\t\\x12\\x13\\n\\x0boneof_index\\x18\\t \\x01(\\x05\\x12\\x11\\n\\tjson_name\\x18\\n \\x01(\\t\\x12.\\n\\x07options\\x18\\x08 \\x01(\\x0b\\x32\\x1d.google.protobuf.FieldOptions\\x12\\x17\\n\\x0fproto3_optional\\x18\\x11 \\x01(\\x08\\\"\\xb6\\x02\\n\\x04Type\\x12\\x0f\\n\\x0bTYPE_DOUBLE\\x10\\x01\\x12\\x0e\\n\\nTYPE_FLOAT\\x10\\x02\\x12\\x0e\\n\\nTYPE_INT64\\x10\\x03\\x12\\x0f\\n\\x0bTYPE_UINT64\\x10\\x04\\x12\\x0e\\n\\nTYPE_INT32\\x10\\x05\\x12\\x10\\n\\x0cTYPE_FIXED64\\x10\\x06\\x12\\x10\\n\\x0cTYPE_FIXED32\\x10\\x07\\x12\\r\\n\\tTYPE_BOOL\\x10\\x08\\x12\\x0f\\n\\x0bTYPE_STRING\\x10\\t\\x12\\x0e\\n\\nTYPE_GROUP\\x10\\n\\x12\\x10\\n\\x0cTYPE_MESSAGE\\x10\\x0b\\x12\\x0e\\n\\nTYPE_BYTES\\x10\\x0c\\x12\\x0f\\n\\x0bTYPE_UINT32\\x10\\r\\x12\\r\\n\\tTYPE_ENUM\\x10\\x0e\\x12\\x11\\n\\rTYPE_SFIXED32\\x10\\x0f\\x12\\x11\\n\\rTYPE_SFIXED64\\x10\\x10\\x12\\x0f\\n\\x0bTYPE_SINT32\\x10\\x11\\x12\\x0f\\n\\x0bTYPE_SINT64\\x10\\x12\\\"C\\n\\x05Label\\x12\\x12\\n\\x0eLABEL_OPTIONAL\\x10\\x01\\x12\\x12\\n\\x0eLABEL_REQUIRED\\x10\\x02\\x12\\x12\\n\\x0eLABEL_REPEATED\\x10\\x03\\\"T\\n\\x14OneofDescriptorProto\\x12\\x0c\\n\\x04name\\x18\\x01 \\x01(\\t\\x12.\\n\\x07options\\x18\\x02 \\x01(\\x0b\\x32\\x1d.google.protobuf.OneofOptions\\\"\\xa4\\x02\\n\\x13\\x45numDescriptorProto\\x12\\x0c\\n\\x04name\\x18\\x01 \\x01(\\t\\x12\\x38\\n\\x05value\\x18\\x02 \\x03(\\x0b\\x32).google.protobuf.EnumValueDescriptorProto\\x12-\\n\\x07options\\x18\\x03 \\x01(\\x0b\\x32\\x1c.google.protobuf.EnumOptions\\x12N\\n\\x0ereserved_range\\x18\\x04 \\x03(\\x0b\\x32\\x36.google.protobuf.EnumDescriptorProto.EnumReservedRange\\x12\\x15\\n\\rreserved_name\\x18\\x05 \\x03(\\t\\x1a/\\n\\x11\\x45numReservedRange\\x12\\r\\n\\x05start\\x18\\x01 \\x01(\\x05\\x12\\x0b\\n\\x03\\x65nd\\x18\\x02 \\x01(\\x05\\\"l\\n\\x18\\x45numValueDescriptorProto\\x12\\x0c\\n\\x04name\\x18\\x01 \\x01(\\t\\x12\\x0e\\n\\x06number\\x18\\x02 \\x01(\\x05\\x12\\x32\\n\\x07options\\x18\\x03 \\x01(\\x0b\\x32!.google.protobuf.EnumValueOptions\\\"\\x90\\x01\\n\\x16ServiceDescriptorProto\\x12\\x0c\\n\\x04name\\x18\\x01 \\x01(\\t\\x12\\x36\\n\\x06method\\x18\\x02 \\x03(\\x0b\\x32&.google.protobuf.MethodDescriptorProto\\x12\\x30\\n\\x07options\\x18\\x03 \\x01(\\x0b\\x32\\x1f.google.protobuf.ServiceOptions\\\"\\xc1\\x01\\n\\x15MethodDescriptorProto\\x12\\x0c\\n\\x04name\\x18\\x01 \\x01(\\t\\x12\\x12\\n\\ninput_type\\x18\\x02 \\x01(\\t\\x12\\x13\\n\\x0boutput_type\\x18\\x03 \\x01(\\t\\x12/\\n\\x07options\\x18\\x04 \\x01(\\x0b\\x32\\x1e.google.protobuf.MethodOptions\\x12\\x1f\\n\\x10\\x63lient_streaming\\x18\\x05 \\x01(\\x08:\\x05\\x66\\x61lse\\x12\\x1f\\n\\x10server_streaming\\x18\\x06 \\x01(\\x08:\\x05\\x66\\x61lse\\\"\\xa5\\x06\\n\\x0b\\x46ileOptions\\x12\\x14\\n\\x0cjava_package\\x18\\x01 \\x01(\\t\\x12\\x1c\\n\\x14java_outer_classname\\x18\\x08 \\x01(\\t\\x12\\\"\\n\\x13java_multiple_files\\x18\\n \\x01(\\x08:\\x05\\x66\\x61lse\\x12)\\n\\x1djava_generate_equals_and_hash\\x18\\x14 \\x01(\\x08\\x42\\x02\\x18\\x01\\x12%\\n\\x16java_string_check_utf8\\x18\\x1b \\x01(\\x08:\\x05\\x66\\x61lse\\x12\\x46\\n\\x0coptimize_for\\x18\\t \\x01(\\x0e\\x32).google.protobuf.FileOptions.OptimizeMode:\\x05SPEED\\x12\\x12\\n\\ngo_package\\x18\\x0b \\x01(\\t\\x12\\\"\\n\\x13\\x63\\x63_generic_services\\x18\\x10 \\x01(\\x08:\\x05\\x66\\x61lse\\x12$\\n\\x15java_generic_services\\x18\\x11 \\x01(\\x08:\\x05\\x66\\x61lse\\x12\\\"\\n\\x13py_generic_services\\x18\\x12 \\x01(\\x08:\\x05\\x66\\x61lse\\x12#\\n\\x14php_generic_services\\x18* \\x01(\\x08:\\x05\\x66\\x61lse\\x12\\x19\\n\\ndeprecated\\x18\\x17 \\x01(\\x08:\\x05\\x66\\x61lse\\x12\\x1e\\n\\x10\\x63\\x63_enable_arenas\\x18\\x1f \\x01(\\x08:\\x04true\\x12\\x19\\n\\x11objc_class_prefix\\x18$ \\x01(\\t\\x12\\x18\\n\\x10\\x63sharp_namespace\\x18% \\x01(\\t\\x12\\x14\\n\\x0cswift_prefix\\x18\\' \\x01(\\t\\x12\\x18\\n\\x10php_class_prefix\\x18( \\x01(\\t\\x12\\x15\\n\\rphp_namespace\\x18) \\x01(\\t\\x12\\x1e\\n\\x16php_metadata_namespace\\x18, \\x01(\\t\\x12\\x14\\n\\x0cruby_package\\x18- \\x01(\\t\\x12\\x43\\n\\x14uninterpreted_option\\x18\\xe7\\x07 \\x03(\\x0b\\x32$.google.protobuf.UninterpretedOption\\\":\\n\\x0cOptimizeMode\\x12\\t\\n\\x05SPEED\\x10\\x01\\x12\\r\\n\\tCODE_SIZE\\x10\\x02\\x12\\x10\\n\\x0cLITE_RUNTIME\\x10\\x03*\\t\\x08\\xe8\\x07\\x10\\x80\\x80\\x80\\x80\\x02J\\x04\\x08&\\x10\\'\\\"\\xf2\\x01\\n\\x0eMessageOptions\\x12&\\n\\x17message_set_wire_format\\x18\\x01 \\x01(\\x08:\\x05\\x66\\x61lse\\x12.\\n\\x1fno_standard_descriptor_accessor\\x18\\x02 \\x01(\\x08:\\x05\\x66\\x61lse\\x12\\x19\\n\\ndeprecated\\x18\\x03 \\x01(\\x08:\\x05\\x66\\x61lse\\x12\\x11\\n\\tmap_entry\\x18\\x07 \\x01(\\x08\\x12\\x43\\n\\x14uninterpreted_option\\x18\\xe7\\x07 \\x03(\\x0b\\x32$.google.protobuf.UninterpretedOption*\\t\\x08\\xe8\\x07\\x10\\x80\\x80\\x80\\x80\\x02J\\x04\\x08\\x08\\x10\\tJ\\x04\\x08\\t\\x10\\n\\\"\\x9e\\x03\\n\\x0c\\x46ieldOptions\\x12:\\n\\x05\\x63type\\x18\\x01 \\x01(\\x0e\\x32#.google.protobuf.FieldOptions.CType:\\x06STRING\\x12\\x0e\\n\\x06packed\\x18\\x02 \\x01(\\x08\\x12?\\n\\x06jstype\\x18\\x06 \\x01(\\x0e\\x32$.google.protobuf.FieldOptions.JSType:\\tJS_NORMAL\\x12\\x13\\n\\x04lazy\\x18\\x05 \\x01(\\x08:\\x05\\x66\\x61lse\\x12\\x19\\n\\ndeprecated\\x18\\x03 \\x01(\\x08:\\x05\\x66\\x61lse\\x12\\x13\\n\\x04weak\\x18\\n \\x01(\\x08:\\x05\\x66\\x61lse\\x12\\x43\\n\\x14uninterpreted_option\\x18\\xe7\\x07 \\x03(\\x0b\\x32$.google.protobuf.UninterpretedOption\\\"/\\n\\x05\\x43Type\\x12\\n\\n\\x06STRING\\x10\\x00\\x12\\x08\\n\\x04\\x43ORD\\x10\\x01\\x12\\x10\\n\\x0cSTRING_PIECE\\x10\\x02\\\"5\\n\\x06JSType\\x12\\r\\n\\tJS_NORMAL\\x10\\x00\\x12\\r\\n\\tJS_STRING\\x10\\x01\\x12\\r\\n\\tJS_NUMBER\\x10\\x02*\\t\\x08\\xe8\\x07\\x10\\x80\\x80\\x80\\x80\\x02J\\x04\\x08\\x04\\x10\\x05\\\"^\\n\\x0cOneofOptions\\x12\\x43\\n\\x14uninterpreted_option\\x18\\xe7\\x07 \\x03(\\x0b\\x32$.google.protobuf.UninterpretedOption*\\t\\x08\\xe8\\x07\\x10\\x80\\x80\\x80\\x80\\x02\\\"\\x93\\x01\\n\\x0b\\x45numOptions\\x12\\x13\\n\\x0b\\x61llow_alias\\x18\\x02 \\x01(\\x08\\x12\\x19\\n\\ndeprecated\\x18\\x03 \\x01(\\x08:\\x05\\x66\\x61lse\\x12\\x43\\n\\x14uninterpreted_option\\x18\\xe7\\x07 \\x03(\\x0b\\x32$.google.protobuf.UninterpretedOption*\\t\\x08\\xe8\\x07\\x10\\x80\\x80\\x80\\x80\\x02J\\x04\\x08\\x05\\x10\\x06\\\"}\\n\\x10\\x45numValueOptions\\x12\\x19\\n\\ndeprecated\\x18\\x01 \\x01(\\x08:\\x05\\x66\\x61lse\\x12\\x43\\n\\x14uninterpreted_option\\x18\\xe7\\x07 \\x03(\\x0b\\x32$.google.protobuf.UninterpretedOption*\\t\\x08\\xe8\\x07\\x10\\x80\\x80\\x80\\x80\\x02\\\"{\\n\\x0eServiceOptions\\x12\\x19\\n\\ndeprecated\\x18! \\x01(\\x08:\\x05\\x66\\x61lse\\x12\\x43\\n\\x14uninterpreted_option\\x18\\xe7\\x07 \\x03(\\x0b\\x32$.google.protobuf.UninterpretedOption*\\t\\x08\\xe8\\x07\\x10\\x80\\x80\\x80\\x80\\x02\\\"\\xad\\x02\\n\\rMethodOptions\\x12\\x19\\n\\ndeprecated\\x18! \\x01(\\x08:\\x05\\x66\\x61lse\\x12_\\n\\x11idempotency_level\\x18\\\" \\x01(\\x0e\\x32/.google.protobuf.MethodOptions.IdempotencyLevel:\\x13IDEMPOTENCY_UNKNOWN\\x12\\x43\\n\\x14uninterpreted_option\\x18\\xe7\\x07 \\x03(\\x0b\\x32$.google.protobuf.UninterpretedOption\\\"P\\n\\x10IdempotencyLevel\\x12\\x17\\n\\x13IDEMPOTENCY_UNKNOWN\\x10\\x00\\x12\\x13\\n\\x0fNO_SIDE_EFFECTS\\x10\\x01\\x12\\x0e\\n\\nIDEMPOTENT\\x10\\x02*\\t\\x08\\xe8\\x07\\x10\\x80\\x80\\x80\\x80\\x02\\\"\\x9e\\x02\\n\\x13UninterpretedOption\\x12;\\n\\x04name\\x18\\x02 \\x03(\\x0b\\x32-.google.protobuf.UninterpretedOption.NamePart\\x12\\x18\\n\\x10identifier_value\\x18\\x03 \\x01(\\t\\x12\\x1a\\n\\x12positive_int_value\\x18\\x04 \\x01(\\x04\\x12\\x1a\\n\\x12negative_int_value\\x18\\x05 \\x01(\\x03\\x12\\x14\\n\\x0c\\x64ouble_value\\x18\\x06 \\x01(\\x01\\x12\\x14\\n\\x0cstring_value\\x18\\x07 \\x01(\\x0c\\x12\\x17\\n\\x0f\\x61ggregate_value\\x18\\x08 \\x01(\\t\\x1a\\x33\\n\\x08NamePart\\x12\\x11\\n\\tname_part\\x18\\x01 \\x02(\\t\\x12\\x14\\n\\x0cis_extension\\x18\\x02 \\x02(\\x08\\\"\\xd5\\x01\\n\\x0eSourceCodeInfo\\x12:\\n\\x08location\\x18\\x01 \\x03(\\x0b\\x32(.google.protobuf.SourceCodeInfo.Location\\x1a\\x86\\x01\\n\\x08Location\\x12\\x10\\n\\x04path\\x18\\x01 \\x03(\\x05\\x42\\x02\\x10\\x01\\x12\\x10\\n\\x04span\\x18\\x02 \\x03(\\x05\\x42\\x02\\x10\\x01\\x12\\x18\\n\\x10leading_comments\\x18\\x03 \\x01(\\t\\x12\\x19\\n\\x11trailing_comments\\x18\\x04 \\x01(\\t\\x12!\\n\\x19leading_detached_comments\\x18\\x06 \\x03(\\t\\\"\\xa7\\x01\\n\\x11GeneratedCodeInfo\\x12\\x41\\n\\nannotation\\x18\\x01 \\x03(\\x0b\\x32-.google.protobuf.GeneratedCodeInfo.Annotation\\x1aO\\n\\nAnnotation\\x12\\x10\\n\\x04path\\x18\\x01 \\x03(\\x05\\x42\\x02\\x10\\x01\\x12\\x13\\n\\x0bsource_file\\x18\\x02 \\x01(\\t\\x12\\r\\n\\x05\\x62\\x65gin\\x18\\x03 \\x01(\\x05\\x12\\x0b\\n\\x03\\x65nd\\x18\\x04 \\x01(\\x05\\x42~\\n\\x13\\x63om.google.protobufB\\x10\\x44\\x65scriptorProtosH\\x01Z-google.golang.org/protobuf/types/descriptorpb\\xf8\\x01\\x01\\xa2\\x02\\x03GPB\\xaa\\x02\\x1aGoogle.Protobuf.Reflection'\u001b[0m\u001b[0;34m\u001b[0m\u001b[0;34m\u001b[0m\u001b[0m\n\u001b[1;32m     23\u001b[0m )\n",
      "\u001b[0;31mAttributeError\u001b[0m: module 'google.protobuf.descriptor' has no attribute '_internal_create_key'"
     ]
    }
   ],
   "source": [
    "import tensorflow_transform as tft"
   ]
  },
  {
   "cell_type": "code",
   "execution_count": null,
   "metadata": {},
   "outputs": [],
   "source": []
  }
 ],
 "metadata": {
  "kernelspec": {
   "display_name": "Python 3",
   "language": "python",
   "name": "python3"
  },
  "language_info": {
   "codemirror_mode": {
    "name": "ipython",
    "version": 3
   },
   "file_extension": ".py",
   "mimetype": "text/x-python",
   "name": "python",
   "nbconvert_exporter": "python",
   "pygments_lexer": "ipython3",
   "version": "3.7.6"
  }
 },
 "nbformat": 4,
 "nbformat_minor": 4
}
