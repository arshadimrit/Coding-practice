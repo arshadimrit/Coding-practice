{
 "cells": [
  {
   "cell_type": "code",
   "execution_count": 1,
   "metadata": {},
   "outputs": [],
   "source": [
    "import pandas as pd\n",
    "import numpy as np\n",
    "import os"
   ]
  },
  {
   "cell_type": "code",
   "execution_count": 2,
   "metadata": {},
   "outputs": [],
   "source": [
    "class Classy(object):\n",
    "    def __init__(self):\n",
    "        self.items = []\n",
    "        \n",
    "    def getClassiness(self):\n",
    "        sum_classiness = 0\n",
    "        items_dict = {\"tophat\": 2, \"bowtie\": 4, \"monocle\": 5}\n",
    "        \n",
    "        for item in self.items:\n",
    "            if item in items_dict.keys():\n",
    "                sum_classiness += items_dict.get(item)\n",
    "        \n",
    "        return sum_classiness\n",
    "            \n",
    "    def addItem(self, item):\n",
    "        self.items.append(item)"
   ]
  },
  {
   "cell_type": "code",
   "execution_count": 3,
   "metadata": {},
   "outputs": [],
   "source": [
    "def show_excitement():\n",
    "    # Your code goes here!\n",
    "    string = \"I am super excited for this course!\" + ' '\n",
    "    return string*5"
   ]
  },
  {
   "cell_type": "markdown",
   "metadata": {},
   "source": [
    "## Binary search"
   ]
  },
  {
   "cell_type": "code",
   "execution_count": 3,
   "metadata": {},
   "outputs": [
    {
     "name": "stdout",
     "output_type": "stream",
     "text": [
      "-1\n",
      "4\n"
     ]
    }
   ],
   "source": [
    "def binary_search(input_array, value):\n",
    "    high = len(input_array)\n",
    "    low = 0\n",
    "    \n",
    "    while low <= high:\n",
    "        mid = round((low + high) / 2)\n",
    "        if input_array[mid] == value:\n",
    "            return mid\n",
    "        elif input_array[mid] > value:\n",
    "            high = mid -1 \n",
    "        else:\n",
    "            low = mid + 1\n",
    "    return -1   \n",
    "\n",
    "test_list = [1,3,9,11,15,19,29]\n",
    "test_val1 = 25\n",
    "test_val2 = 15\n",
    "\n",
    "print(binary_search(test_list, test_val1))\n",
    "print(binary_search(test_list, test_val2))"
   ]
  },
  {
   "cell_type": "markdown",
   "metadata": {},
   "source": [
    "## Recursive"
   ]
  },
  {
   "cell_type": "code",
   "execution_count": 20,
   "metadata": {},
   "outputs": [],
   "source": [
    "def recursive(input):\n",
    "    if input <= 0:\n",
    "        return input\n",
    "    else:\n",
    "        output = recursive(input - 1)\n",
    "        return output"
   ]
  },
  {
   "cell_type": "code",
   "execution_count": 36,
   "metadata": {},
   "outputs": [
    {
     "name": "stdout",
     "output_type": "stream",
     "text": [
      "34\n",
      "89\n",
      "0\n"
     ]
    }
   ],
   "source": [
    "def get_fib(position):\n",
    "    if position <= 1: \n",
    "        return position\n",
    "    else: \n",
    "        return get_fib(position - 1) + get_fib(position - 2)\n",
    "\n",
    "\n",
    "# Test cases\n",
    "print(get_fib(9))\n",
    "print(get_fib(11))\n",
    "print(get_fib(0))\n"
   ]
  },
  {
   "cell_type": "markdown",
   "metadata": {},
   "source": [
    "## Quicksort"
   ]
  },
  {
   "cell_type": "code",
   "execution_count": 108,
   "metadata": {},
   "outputs": [
    {
     "name": "stdout",
     "output_type": "stream",
     "text": [
      "[1, 3, 4, 6, 9, 14, 20, 21, 21, 25]\n",
      "[1]\n"
     ]
    }
   ],
   "source": [
    "def quicksort(array): \n",
    "    \n",
    "    less = []\n",
    "    pivots = []\n",
    "    more = []\n",
    "    \n",
    "    if len(array) <= 1:\n",
    "        return array\n",
    "    else:\n",
    "        pivot = array[-1]\n",
    "        \n",
    "        for i in array:\n",
    "            if i < pivot:\n",
    "                less.append(i)\n",
    "            elif i > pivot:\n",
    "                more.append(i)\n",
    "            else:\n",
    "                pivots.append(i)\n",
    "        \n",
    "        less = quicksort(less)\n",
    "        more = quicksort(more)\n",
    "        \n",
    "        return less + pivots + more   \n",
    "    \n",
    "#     for i in range(len(array)):\n",
    "#         pivot = array[-1]\n",
    "#         pivot_index = array.index(pivot)\n",
    "#         val = array[i]\n",
    "#         val_bef_pivot = array[pivot_index - 1]\n",
    "#         val_bef_pivot_index = array.index(val_bef_pivot)\n",
    "#         if pivot >= i:\n",
    "#             continue\n",
    "#         else:\n",
    "#             array[i] = val_bef_pivot\n",
    "#             array[val_bef_pivot_index] = pivot\n",
    "#             array[pivot_index] = val\n",
    "#             return quicksort(array)\n",
    "    \n",
    "#     return array        \n",
    "\n",
    "test = [21, 4, 1, 3, 9, 20, 25, 6, 21, 14]\n",
    "test_2 = [1]\n",
    "print(quicksort(test))\n",
    "print(quicksort(test_2))"
   ]
  },
  {
   "cell_type": "markdown",
   "metadata": {},
   "source": [
    "# Dictionaries"
   ]
  },
  {
   "cell_type": "code",
   "execution_count": 1,
   "metadata": {},
   "outputs": [
    {
     "name": "stdout",
     "output_type": "stream",
     "text": [
      "Atlanta\n",
      "Mountain View\n"
     ]
    }
   ],
   "source": [
    "\"\"\"Time to play with Python dictionaries!\n",
    "You're going to work on a dictionary that\n",
    "stores cities by country and continent.\n",
    "One is done for you - the city of Mountain \n",
    "View is in the USA, which is in North America.\n",
    "\n",
    "You need to add the cities listed below by\n",
    "modifying the structure.\n",
    "Then, you should print out the values specified\n",
    "by looking them up in the structure.\n",
    "\n",
    "Cities to add:\n",
    "Bangalore (India, Asia)\n",
    "Atlanta (USA, North America)\n",
    "Cairo (Egypt, Africa)\n",
    "Shanghai (China, Asia)\"\"\"\n",
    "\n",
    "locations = {'North America': {'USA': ['Mountain View', 'Atlanta']},\n",
    "             'Asia': {'India': ['Bangalore'], 'China': ['Shanghai']}, \n",
    "             'Africa': {'Egypt': ['Cairo']}}\n",
    "\n",
    "# 1. A list of all cities in the USA in\n",
    "# alphabetic order.\n",
    "for city in sorted(locations['North America']['USA']):\n",
    "    print(city)\n",
    "# 2. All cities in Asia, in alphabetic\n",
    "# order, next to the name of the country.\n",
    "# In your output, label each answer with a number\n",
    "# so it looks like this:\n",
    "# 1\n",
    "# American City\n",
    "# American City\n",
    "# 2\n",
    "# Asian City - Country\n",
    "# Asian City - Country"
   ]
  },
  {
   "cell_type": "code",
   "execution_count": 2,
   "metadata": {},
   "outputs": [
    {
     "name": "stdout",
     "output_type": "stream",
     "text": [
      "Atlanta\n",
      "Mountain View\n",
      "Bangalore - India\n",
      "Shanghai - China\n"
     ]
    }
   ],
   "source": [
    "locations = {'North America': {'USA': ['Mountain View']}}\n",
    "locations['North America']['USA'].append('Atlanta')\n",
    "locations['Asia'] = {'India': ['Bangalore']}\n",
    "locations['Asia']['China'] = ['Shanghai']\n",
    "locations['Africa'] = {'Egypt': ['Cairo']}\n",
    "\n",
    "for city in sorted(locations['North America']['USA']):\n",
    "    print(city)\n",
    "    \n",
    "asia_cities = []\n",
    "for countries, cities in locations['Asia'].items():\n",
    "    city_country = cities[0] + ' - ' + countries\n",
    "    asia_cities.append(city_country)\n",
    "\n",
    "for cities in sorted(asia_cities):\n",
    "    print(cities)"
   ]
  },
  {
   "cell_type": "markdown",
   "metadata": {},
   "source": [
    "## Hash table"
   ]
  },
  {
   "cell_type": "code",
   "execution_count": 146,
   "metadata": {},
   "outputs": [
    {
     "data": {
      "text/plain": [
       "8568"
      ]
     },
     "execution_count": 146,
     "metadata": {},
     "output_type": "execute_result"
    }
   ],
   "source": [
    "string = 'UDACITY'\n",
    "ord(string[0])*100 + ord(string[1])"
   ]
  },
  {
   "cell_type": "code",
   "execution_count": 3,
   "metadata": {},
   "outputs": [
    {
     "name": "stdout",
     "output_type": "stream",
     "text": [
      "8568\n",
      "-1\n",
      "8568\n",
      "8568\n"
     ]
    }
   ],
   "source": [
    "\"\"\"Write a HashTable class that stores strings\n",
    "in a hash table, where keys are calculated\n",
    "using the first two letters of the string.\n",
    "Hash Value = (ASCII Value of First Letter * 100) + ASCII Value of Second Letter \n",
    "ord() to get the ASCII value of a letter\n",
    "chr() to get the letter associated with an ASCII value.\n",
    "\"UDACITY\" at index 8568 as [\"UDACITY\"]\n",
    "\"\"\"\n",
    "\n",
    "class HashTable(object):\n",
    "    def __init__(self):\n",
    "        self.table = [[]]*10000\n",
    "\n",
    "    def store(self, string):\n",
    "        \"\"\"Input a string that's stored in \n",
    "        the table.\"\"\"\n",
    "        \n",
    "        key = self.calculate_hash_value(string)\n",
    "        \n",
    "        if key != -1:\n",
    "            if self.table[key] != None:\n",
    "                self.table[key].append(string)\n",
    "            else:\n",
    "                self.table[key] = string\n",
    "\n",
    "    def lookup(self, string):\n",
    "        \"\"\"Return the hash value if the\n",
    "        string is already in the table.\n",
    "        Return -1 otherwise.\"\"\"\n",
    "        key = self.calculate_hash_value(string)\n",
    "        \n",
    "        if key != -1:\n",
    "            if self.table[key] != None:\n",
    "                if string in self.table[key]:\n",
    "                    return key\n",
    "        return -1\n",
    "\n",
    "    def calculate_hash_value(self, string):\n",
    "        \"\"\"Helper function to calulate a\n",
    "        hash value from a string.\"\"\"\n",
    "        return ord(string[0])*100 + ord(string[1])\n",
    "    \n",
    "# Setup\n",
    "hash_table = HashTable()\n",
    "\n",
    "# Test calculate_hash_value\n",
    "# Should be 8568\n",
    "print(hash_table.calculate_hash_value('UDACITY'))\n",
    "\n",
    "# Test lookup edge case\n",
    "# Should be -1\n",
    "print(hash_table.lookup('UDACITY'))\n",
    "\n",
    "# Test store\n",
    "hash_table.store('UDACITY')\n",
    "# Should be 8568\n",
    "print(hash_table.lookup('UDACITY'))\n",
    "\n",
    "# Test store edge case\n",
    "hash_table.store('UDACIOUS')\n",
    "# Should be 8568\n",
    "print(hash_table.lookup('UDACIOUS'))\n"
   ]
  },
  {
   "cell_type": "markdown",
   "metadata": {},
   "source": [
    "# Trees"
   ]
  },
  {
   "cell_type": "code",
   "execution_count": 21,
   "metadata": {},
   "outputs": [],
   "source": [
    "class Node(object):\n",
    "    def __init__(self, value):\n",
    "        self.value = value\n",
    "        self.left = None\n",
    "        self.right = None\n",
    "\n",
    "class BinaryTree(object):\n",
    "    def __init__(self, root):\n",
    "        self.root = Node(root)\n",
    "\n",
    "    def search(self, find_val):\n",
    "        \"\"\"Return True if the value\n",
    "        is in the tree, return\n",
    "        False otherwise.\"\"\"\n",
    "        return self.preorder_search(tree.root, find_val)\n",
    "\n",
    "    def print_tree(self):\n",
    "        \"\"\"Print out all tree nodes\n",
    "        as they are visited in\n",
    "        a pre-order traversal.\"\"\"\n",
    "        return self.preorder_print(tree.root, \"\")[:-1]\n",
    "\n",
    "    def preorder_search(self, start, find_val):\n",
    "        \"\"\"Helper method - use this to create a \n",
    "        recursive search solution.\"\"\"\n",
    "        if start:\n",
    "            if start.value == find_val:\n",
    "                return True\n",
    "            else:\n",
    "                return self.preorder_search(start.left, find_val) or self.preorder_search(start.right, find_val)\n",
    "        return False\n",
    "\n",
    "    def preorder_print(self, start, traversal):\n",
    "        \"\"\"Helper method - use this to create a \n",
    "        recursive print solution.\"\"\"\n",
    "        if start:\n",
    "            traversal += (str(start.value) + '-')\n",
    "            traversal = self.preorder_print(start.left, traversal)\n",
    "            traversal = self.preorder_print(start.right, traversal)        \n",
    "        return traversal\n",
    "\n",
    "\n",
    "# Set up tree\n",
    "tree = BinaryTree(1)\n",
    "tree.root.left = Node(2)\n",
    "tree.root.right = Node(3)\n",
    "tree.root.left.left = Node(4)\n",
    "tree.root.left.right = Node(5)"
   ]
  },
  {
   "cell_type": "code",
   "execution_count": 22,
   "metadata": {},
   "outputs": [
    {
     "name": "stdout",
     "output_type": "stream",
     "text": [
      "True\n",
      "False\n",
      "1-2-4-5-3\n"
     ]
    }
   ],
   "source": [
    "\n",
    "# Test search\n",
    "# Should be True\n",
    "print(tree.search(4))\n",
    "# Should be False\n",
    "print(tree.search(6))\n",
    "\n",
    "# Test print_tree\n",
    "# Should be 1-2-4-5-3\n",
    "print(tree.print_tree())"
   ]
  },
  {
   "cell_type": "markdown",
   "metadata": {},
   "source": [
    "# Binary Search Tree"
   ]
  },
  {
   "cell_type": "code",
   "execution_count": 42,
   "metadata": {},
   "outputs": [],
   "source": [
    "class Node(object):\n",
    "    def __init__(self, value):\n",
    "        self.value = value\n",
    "        self.left = None\n",
    "        self.right = None\n",
    "\n",
    "class BST(object):\n",
    "    def __init__(self, root):\n",
    "        self.root = Node(root)\n",
    "\n",
    "    def insert(self, new_val):\n",
    "        return self.insert_helper(self.root, new_val)\n",
    "    \n",
    "    def insert_helper(self, current, new_val):\n",
    "        if current.value < new_val:\n",
    "            if current.right:\n",
    "                self.insert_helper(current.right, new_val)\n",
    "            else:\n",
    "                current.right = Node(new_val)\n",
    "        else:\n",
    "            if current.left:\n",
    "                self.insert_helper(current.left, new_val)\n",
    "            else:\n",
    "                current.left = Node(new_val)\n",
    "\n",
    "    def search(self, find_val):\n",
    "        return self.search_helper(self.root, find_val)\n",
    "    \n",
    "    def search_helper(self, current, find_val):\n",
    "        if current:\n",
    "            if current.value == find_val:\n",
    "                return True\n",
    "            elif current.value < find_val:\n",
    "                return self.search_helper(current.right, find_val)\n",
    "            else:\n",
    "                return self.search_helper(current.left, find_val)\n",
    "        return False\n",
    "            \n",
    "# Set up tree\n",
    "tree = BST(4)"
   ]
  },
  {
   "cell_type": "code",
   "execution_count": 43,
   "metadata": {},
   "outputs": [
    {
     "name": "stdout",
     "output_type": "stream",
     "text": [
      "True\n",
      "False\n"
     ]
    }
   ],
   "source": [
    "# Insert elements\n",
    "tree.insert(2)\n",
    "tree.insert(1)\n",
    "tree.insert(3)\n",
    "tree.insert(5)\n",
    "\n",
    "# Check search\n",
    "# Should be True\n",
    "print(tree.search(4))\n",
    "# Should be False\n",
    "print(tree.search(6))"
   ]
  },
  {
   "cell_type": "code",
   "execution_count": 97,
   "metadata": {},
   "outputs": [],
   "source": [
    "class Node(object):\n",
    "    def __init__(self, value):\n",
    "        self.value = value\n",
    "        self.edges = []\n",
    "\n",
    "class Edge(object):\n",
    "    def __init__(self, value, node_from, node_to):\n",
    "        self.value = value\n",
    "        self.node_from = node_from\n",
    "        self.node_to = node_to\n",
    "\n",
    "class Graph(object):\n",
    "    def __init__(self, nodes=[], edges=[]):\n",
    "        self.nodes = nodes\n",
    "        self.edges = edges\n",
    "\n",
    "    def insert_node(self, new_node_val):\n",
    "        new_node = Node(new_node_val)\n",
    "        self.nodes.append(new_node)\n",
    "        \n",
    "    def insert_edge(self, new_edge_val, node_from_val, node_to_val):\n",
    "        from_found = None\n",
    "        to_found = None\n",
    "        for node in self.nodes:\n",
    "            if node_from_val == node.value:\n",
    "                from_found = node\n",
    "            if node_to_val == node.value:\n",
    "                to_found = node\n",
    "        if from_found == None:\n",
    "            from_found = Node(node_from_val)\n",
    "            self.nodes.append(from_found)\n",
    "        if to_found == None:\n",
    "            to_found = Node(node_to_val)\n",
    "            self.nodes.append(to_found)\n",
    "        new_edge = Edge(new_edge_val, from_found, to_found)\n",
    "        from_found.edges.append(new_edge)\n",
    "        to_found.edges.append(new_edge)\n",
    "        self.edges.append(new_edge)\n",
    "\n",
    "    def find_max_index(self):\n",
    "        max_index = -1\n",
    "        if len(self.nodes):\n",
    "            for node in self.nodes:\n",
    "                if node.value > max_index:\n",
    "                    max_index = node.value\n",
    "        return max_index\n",
    "    \n",
    "    def get_edge_list(self):\n",
    "        \"\"\"Don't return a list of edge objects!\n",
    "        Return a list of triples that looks like this:\n",
    "        (Edge Value, From Node Value, To Node Value)\"\"\"\n",
    "        \n",
    "        edge_list = []\n",
    "        for edge_object in self.edges:\n",
    "            edge = (edge_object.value, edge_object.node_from.value, edge_object.node_to.value)\n",
    "            edge_list.append(edge)\n",
    "        return edge_list\n",
    "\n",
    "    def get_adjacency_list(self):\n",
    "        \"\"\"Don't return any Node or Edge objects!\n",
    "        You'll return a list of lists.\n",
    "        The indecies of the outer list represent\n",
    "        \"from\" nodes.\n",
    "        Each section in the list will store a list\n",
    "        of tuples that looks like this:\n",
    "        (To Node, Edge Value)\"\"\"\n",
    "        \n",
    "        max_index = self.find_max_index()\n",
    "        adjacency_list = [None] * (max_index + 1)\n",
    "        \n",
    "        for edge_object in self.edges:\n",
    "            if adjacency_list[edge_object.node_from.value]:\n",
    "                adjacency_list[edge_object.node_from.value].append((edge_object.node_to.value, edge_object.value))\n",
    "            else:\n",
    "                adjacency_list[edge_object.node_from.value] = [(edge_object.node_to.value, edge_object.value)]\n",
    "        return adjacency_list\n",
    "    \n",
    "#     def get_adjacency_matrix(self):\n",
    "#         \"\"\"Return a matrix, or 2D list.\n",
    "#         Row numbers represent from nodes,\n",
    "#         column numbers represent to nodes.\n",
    "#         Store the edge values in each spot,\n",
    "#         and a 0 if no edge exists.\"\"\"\n",
    "        \n",
    "#         max_index = self.find_max_index()\n",
    "#         adjacency_matrix = [[0] * (max_index + 1)] * (max_index + 1)\n",
    "        \n",
    "#         for edge_object in self.edges:\n",
    "#             adjacency_matrix[edge_object.node_from.value][edge_object.node_to.value] = edge_object.value\n",
    "#         return adjacency_matrix\n",
    "\n",
    "    def get_adjacency_matrix(self):\n",
    "        max_index = self.find_max_index()\n",
    "#         adjacency_matrix = [[0 for i in range(max_index + 1)] for j in range(max_index + 1)]\n",
    "        adjacency_matrix = [[0] * (max_index + 1)] * (max_index + 1)\n",
    "        for edge_object in self.edges:\n",
    "            adjacency_matrix[edge_object.node_from.value][edge_object.node_to.value] = edge_object.value\n",
    "        return adjacency_matrix\n",
    "\n",
    "graph = Graph()\n",
    "graph.insert_edge(100, 1, 2)\n",
    "graph.insert_edge(101, 1, 3)\n",
    "graph.insert_edge(102, 1, 4)\n",
    "graph.insert_edge(103, 3, 4)"
   ]
  },
  {
   "cell_type": "code",
   "execution_count": 98,
   "metadata": {},
   "outputs": [
    {
     "name": "stdout",
     "output_type": "stream",
     "text": [
      "[(100, 1, 2), (101, 1, 3), (102, 1, 4), (103, 3, 4)]\n",
      "[None, [(2, 100), (3, 101), (4, 102)], None, [(4, 103)], None]\n",
      "[[0, 0, 100, 101, 103], [0, 0, 100, 101, 103], [0, 0, 100, 101, 103], [0, 0, 100, 101, 103], [0, 0, 100, 101, 103]]\n"
     ]
    }
   ],
   "source": [
    "# Should be [(100, 1, 2), (101, 1, 3), (102, 1, 4), (103, 3, 4)]\n",
    "print(graph.get_edge_list())\n",
    "# Should be [None, [(2, 100), (3, 101), (4, 102)], None, [(4, 103)], None]\n",
    "print(graph.get_adjacency_list())\n",
    "# Should be [[0, 0, 0, 0, 0], [0, 0, 100, 101, 102], [0, 0, 0, 0, 0], [0, 0, 0, 0, 103], [0, 0, 0, 0, 0]]\n",
    "print(graph.get_adjacency_matrix())"
   ]
  },
  {
   "cell_type": "code",
   "execution_count": 103,
   "metadata": {},
   "outputs": [
    {
     "name": "stdout",
     "output_type": "stream",
     "text": [
      "Edge List\n",
      "[ (51, 'Mountain View', 'San Francisco'),\n",
      "  (51, 'San Francisco', 'Mountain View'),\n",
      "  (9950, 'Mountain View', 'Shanghai'),\n",
      "  (9950, 'Shanghai', 'Mountain View'),\n",
      "  (10375, 'Mountain View', 'Sao Paolo'),\n",
      "  (10375, 'Sao Paolo', 'Mountain View'),\n",
      "  (9900, 'San Francisco', 'Shanghai'),\n",
      "  (9900, 'Shanghai', 'San Francisco'),\n",
      "  (9130, 'San Francisco', 'Berlin'),\n",
      "  (9130, 'Berlin', 'San Francisco'),\n",
      "  (9217, 'London', 'Shanghai'),\n",
      "  (9217, 'Shanghai', 'London'),\n",
      "  (932, 'London', 'Berlin'),\n",
      "  (932, 'Berlin', 'London'),\n",
      "  (9471, 'London', 'Sao Paolo'),\n",
      "  (9471, 'Sao Paolo', 'London')]\n",
      "\n",
      "Adjacency List\n",
      "[ <map object at 0x7f6034876fd0>,\n",
      "  <map object at 0x7f6034876c90>,\n",
      "  <map object at 0x7f60348764d0>,\n",
      "  <map object at 0x7f6034876750>,\n",
      "  <map object at 0x7f6034876810>,\n",
      "  <map object at 0x7f6034876450>,\n",
      "  None]\n",
      "\n",
      "Adjacency Matrix\n",
      "[ [0, 51, 0, 9950, 0, 10375, 0],\n",
      "  [51, 0, 0, 9900, 9130, 0, 0],\n",
      "  [0, 0, 0, 9217, 932, 9471, 0],\n",
      "  [9950, 9900, 9217, 0, 0, 0, 0],\n",
      "  [0, 9130, 932, 0, 0, 0, 0],\n",
      "  [10375, 0, 9471, 0, 0, 0, 0],\n",
      "  [0, 0, 0, 0, 0, 0, 0]]\n",
      "\n",
      "Depth First Search\n",
      "['London', 'Shanghai', 'Mountain View', 'San Francisco', 'Berlin', 'Sao Paolo']\n",
      "\n",
      "Breadth First Search\n",
      "['London', 'Shanghai', 'Berlin', 'Sao Paolo', 'Mountain View', 'San Francisco']\n"
     ]
    }
   ],
   "source": [
    "class Node(object):\n",
    "    def __init__(self, value):\n",
    "        self.value = value\n",
    "        self.edges = []\n",
    "        self.visited = False\n",
    "\n",
    "class Edge(object):\n",
    "    def __init__(self, value, node_from, node_to):\n",
    "        self.value = value\n",
    "        self.node_from = node_from\n",
    "        self.node_to = node_to\n",
    "\n",
    "# You only need to change code with docs strings that have TODO.\n",
    "# Specifically: Graph.dfs_helper and Graph.bfs\n",
    "# New methods have been added to associate node numbers with names\n",
    "# Specifically: Graph.set_node_names\n",
    "# and the methods ending in \"_names\" which will print names instead\n",
    "# of node numbers\n",
    "\n",
    "class Graph(object):\n",
    "    def __init__(self, nodes=None, edges=None):\n",
    "        self.nodes = nodes or []\n",
    "        self.edges = edges or []\n",
    "        self.node_names = []\n",
    "        self._node_map = {}\n",
    "\n",
    "    def set_node_names(self, names):\n",
    "        \"\"\"The Nth name in names should correspond to node number N.\n",
    "        Node numbers are 0 based (starting at 0).\n",
    "        \"\"\"\n",
    "        self.node_names = list(names)\n",
    "\n",
    "    def insert_node(self, new_node_val):\n",
    "        \"Insert a new node with value new_node_val\"\n",
    "        new_node = Node(new_node_val)\n",
    "        self.nodes.append(new_node)\n",
    "        self._node_map[new_node_val] = new_node\n",
    "        return new_node\n",
    "\n",
    "    def insert_edge(self, new_edge_val, node_from_val, node_to_val):\n",
    "        \"Insert a new edge, creating new nodes if necessary\"\n",
    "        nodes = {node_from_val: None, node_to_val: None}\n",
    "        for node in self.nodes:\n",
    "            if node.value in nodes:\n",
    "                nodes[node.value] = node\n",
    "                if all(nodes.values()):\n",
    "                    break\n",
    "        for node_val in nodes:\n",
    "            nodes[node_val] = nodes[node_val] or self.insert_node(node_val)\n",
    "        node_from = nodes[node_from_val]\n",
    "        node_to = nodes[node_to_val]\n",
    "        new_edge = Edge(new_edge_val, node_from, node_to)\n",
    "        node_from.edges.append(new_edge)\n",
    "        node_to.edges.append(new_edge)\n",
    "        self.edges.append(new_edge)\n",
    "\n",
    "    def get_edge_list(self):\n",
    "        \"\"\"Return a list of triples that looks like this:\n",
    "        (Edge Value, From Node, To Node)\"\"\"\n",
    "        return [(e.value, e.node_from.value, e.node_to.value)\n",
    "                for e in self.edges]\n",
    "\n",
    "    def get_edge_list_names(self):\n",
    "        \"\"\"Return a list of triples that looks like this:\n",
    "        (Edge Value, From Node Name, To Node Name)\"\"\"\n",
    "        return [(edge.value,\n",
    "                 self.node_names[edge.node_from.value],\n",
    "                 self.node_names[edge.node_to.value])\n",
    "                for edge in self.edges]\n",
    "\n",
    "    def get_adjacency_list(self):\n",
    "        \"\"\"Return a list of lists.\n",
    "        The indecies of the outer list represent \"from\" nodes.\n",
    "        Each section in the list will store a list\n",
    "        of tuples that looks like this:\n",
    "        (To Node, Edge Value)\"\"\"\n",
    "        max_index = self.find_max_index()\n",
    "        adjacency_list = [[] for _ in range(max_index)]\n",
    "        for edg in self.edges:\n",
    "            from_value, to_value = edg.node_from.value, edg.node_to.value\n",
    "            adjacency_list[from_value].append((to_value, edg.value))\n",
    "        return [a or None for a in adjacency_list] # replace []'s with None\n",
    "\n",
    "    def get_adjacency_list_names(self):\n",
    "        \"\"\"Each section in the list will store a list\n",
    "        of tuples that looks like this:\n",
    "        (To Node Name, Edge Value).\n",
    "        Node names should come from the names set\n",
    "        with set_node_names.\"\"\"\n",
    "        adjacency_list = self.get_adjacency_list()\n",
    "        def convert_to_names(pair, graph=self):\n",
    "            node_number, value = pair\n",
    "            return (graph.node_names[node_number], value)\n",
    "        def map_conversion(adjacency_list_for_node):\n",
    "            if adjacency_list_for_node is None:\n",
    "                return None\n",
    "            return map(convert_to_names, adjacency_list_for_node)\n",
    "        return [map_conversion(adjacency_list_for_node)\n",
    "                for adjacency_list_for_node in adjacency_list]\n",
    "\n",
    "    def get_adjacency_matrix(self):\n",
    "        \"\"\"Return a matrix, or 2D list.\n",
    "        Row numbers represent from nodes,\n",
    "        column numbers represent to nodes.\n",
    "        Store the edge values in each spot,\n",
    "        and a 0 if no edge exists.\"\"\"\n",
    "        max_index = self.find_max_index()\n",
    "        adjacency_matrix = [[0] * (max_index) for _ in range(max_index)]\n",
    "        for edg in self.edges:\n",
    "            from_index, to_index = edg.node_from.value, edg.node_to.value\n",
    "            adjacency_matrix[from_index][to_index] = edg.value\n",
    "        return adjacency_matrix\n",
    "\n",
    "    def find_max_index(self):\n",
    "        \"\"\"Return the highest found node number\n",
    "        Or the length of the node names if set with set_node_names().\"\"\"\n",
    "        if len(self.node_names) > 0:\n",
    "            return len(self.node_names)\n",
    "        max_index = -1\n",
    "        if len(self.nodes):\n",
    "            for node in self.nodes:\n",
    "                if node.value > max_index:\n",
    "                    max_index = node.value\n",
    "        return max_index\n",
    "\n",
    "    def find_node(self, node_number):\n",
    "        \"Return the node with value node_number or None\"\n",
    "        return self._node_map.get(node_number)\n",
    "    \n",
    "    def _clear_visited(self):\n",
    "        for node in self.nodes:\n",
    "            node.visited = False\n",
    "\n",
    "    def dfs_helper(self, start_node):\n",
    "        \"\"\"TODO: Write the helper function for a recursive implementation\n",
    "        of Depth First Search iterating through a node's edges. The\n",
    "        output should be a list of numbers corresponding to the\n",
    "        values of the traversed nodes.\n",
    "        ARGUMENTS: start_node is the starting Node\n",
    "        MODIFIES: the value of the visited property of nodes in self.nodes \n",
    "        RETURN: a list of the traversed node values (integers).\n",
    "        \"\"\"\n",
    "        ret_list = [start_node.value]\n",
    "        start_node.visited = True\n",
    "        edges_out = [e for e in start_node.edges if e.node_to.value != start_node.value]\n",
    "        for edge in edges_out:\n",
    "            if not edge.node_to.visited:\n",
    "                ret_list.extend(self.dfs_helper(edge.node_to))\n",
    "        return ret_list\n",
    "\n",
    "    def dfs(self, start_node_num):\n",
    "        \"\"\"Outputs a list of numbers corresponding to the traversed nodes\n",
    "        in a Depth First Search.\n",
    "        ARGUMENTS: start_node_num is the starting node number (integer)\n",
    "        MODIFIES: the value of the visited property of nodes in self.nodes\n",
    "        RETURN: a list of the node values (integers).\"\"\"\n",
    "        self._clear_visited()\n",
    "        start_node = self.find_node(start_node_num)\n",
    "        return self.dfs_helper(start_node)\n",
    "\n",
    "    def dfs_names(self, start_node_num):\n",
    "        \"\"\"Return the results of dfs with numbers converted to names.\"\"\"\n",
    "        return [self.node_names[num] for num in self.dfs(start_node_num)]\n",
    "\n",
    "    def bfs(self, start_node_num):\n",
    "        \"\"\"TODO: Create an iterative implementation of Breadth First Search\n",
    "        iterating through a node's edges. The output should be a list of\n",
    "        numbers corresponding to the traversed nodes.\n",
    "        ARGUMENTS: start_node_num is the node number (integer)\n",
    "        MODIFIES: the value of the visited property of nodes in self.nodes\n",
    "        RETURN: a list of the node values (integers).\"\"\"\n",
    "        node = self.find_node(start_node_num)\n",
    "        self._clear_visited()\n",
    "        ret_list = []\n",
    "        \n",
    "        queue = [node]\n",
    "        node.visited = True\n",
    "        def enqueue(n, q=queue):\n",
    "            n.visited = True\n",
    "            q.append(n)\n",
    "        def unvisited_outgoing_edge(n, e):\n",
    "            return ((e.node_from.value == n.value) and (not e.node_to.visited))\n",
    "        while queue:\n",
    "            node = queue.pop(0)\n",
    "            ret_list.append(node.value)\n",
    "            for e in node.edges:\n",
    "                if unvisited_outgoing_edge(node, e):\n",
    "                    enqueue(e.node_to)\n",
    "        return ret_list\n",
    "\n",
    "    def bfs_names(self, start_node_num):\n",
    "        \"\"\"Return the results of bfs with numbers converted to names.\"\"\"\n",
    "        return [self.node_names[num] for num in self.bfs(start_node_num)]\n",
    "\n",
    "graph = Graph()\n",
    "\n",
    "# You do not need to change anything below this line.\n",
    "# You only need to implement Graph.dfs_helper and Graph.bfs\n",
    "\n",
    "graph.set_node_names(('Mountain View',   # 0\n",
    "                      'San Francisco',   # 1\n",
    "                      'London',          # 2\n",
    "                      'Shanghai',        # 3\n",
    "                      'Berlin',          # 4\n",
    "                      'Sao Paolo',       # 5\n",
    "                      'Bangalore'))      # 6 \n",
    "\n",
    "graph.insert_edge(51, 0, 1)     # MV <-> SF\n",
    "graph.insert_edge(51, 1, 0)     # SF <-> MV\n",
    "graph.insert_edge(9950, 0, 3)   # MV <-> Shanghai\n",
    "graph.insert_edge(9950, 3, 0)   # Shanghai <-> MV\n",
    "graph.insert_edge(10375, 0, 5)  # MV <-> Sao Paolo\n",
    "graph.insert_edge(10375, 5, 0)  # Sao Paolo <-> MV\n",
    "graph.insert_edge(9900, 1, 3)   # SF <-> Shanghai\n",
    "graph.insert_edge(9900, 3, 1)   # Shanghai <-> SF\n",
    "graph.insert_edge(9130, 1, 4)   # SF <-> Berlin\n",
    "graph.insert_edge(9130, 4, 1)   # Berlin <-> SF\n",
    "graph.insert_edge(9217, 2, 3)   # London <-> Shanghai\n",
    "graph.insert_edge(9217, 3, 2)   # Shanghai <-> London\n",
    "graph.insert_edge(932, 2, 4)    # London <-> Berlin\n",
    "graph.insert_edge(932, 4, 2)    # Berlin <-> London\n",
    "graph.insert_edge(9471, 2, 5)   # London <-> Sao Paolo\n",
    "graph.insert_edge(9471, 5, 2)   # Sao Paolo <-> London\n",
    "# (6) 'Bangalore' is intentionally disconnected (no edges)\n",
    "# for this problem and should produce None in the\n",
    "# Adjacency List, etc.\n",
    "\n",
    "import pprint\n",
    "pp = pprint.PrettyPrinter(indent=2)\n",
    "\n",
    "print(\"Edge List\")\n",
    "pp.pprint(graph.get_edge_list_names())\n",
    "\n",
    "print(\"\\nAdjacency List\")\n",
    "pp.pprint(graph.get_adjacency_list_names())\n",
    "\n",
    "print(\"\\nAdjacency Matrix\")\n",
    "pp.pprint(graph.get_adjacency_matrix())\n",
    "\n",
    "print(\"\\nDepth First Search\")\n",
    "pp.pprint(graph.dfs_names(2))\n",
    "\n",
    "# Should print:\n",
    "# Depth First Search\n",
    "# ['London', 'Shanghai', 'Mountain View', 'San Francisco', 'Berlin', 'Sao Paolo']\n",
    "\n",
    "print(\"\\nBreadth First Search\")\n",
    "pp.pprint(graph.bfs_names(2))\n",
    "# test error reporting\n",
    "# pp.pprint(['Sao Paolo', 'Mountain View', 'San Francisco', 'London', 'Shanghai', 'Berlin'])\n",
    "\n",
    "# Should print:\n",
    "# Breadth First Search\n",
    "# ['London', 'Shanghai', 'Berlin', 'Sao Paolo', 'Mountain View', 'San Francisco']"
   ]
  },
  {
   "cell_type": "markdown",
   "metadata": {},
   "source": [
    "# Reverse Ascending Sort"
   ]
  },
  {
   "cell_type": "code",
   "execution_count": null,
   "metadata": {},
   "outputs": [],
   "source": [
    "def reverse_ascending(items):\n",
    "    # your code here\n",
    "    sorted_list = []\n",
    "    first_small = []\n",
    "    \n",
    "    for first, second in zip(items, items[1:]):\n",
    "        first_small.append(first)\n",
    "        if second <= first:\n",
    "            sorted_list.append(items[items.index(first_small[0]): items.index(second)])\n",
    "            first_small.clear()\n",
    "   \n",
    "    if sorted_list == []: \n",
    "        return sorted(items, reverse=True)\n",
    "    \n",
    "    items_in_sorted_list = [number for sublist in sorted_list for number in sublist]\n",
    "    if len(items_in_sorted_list) < len(items):\n",
    "        sorted_list.append(items[len(items_in_sorted_list):])\n",
    "    \n",
    "    second_sort = [sorted(sublist, reverse=True) for sublist in sorted_list]\n",
    "    return [number for sublist in second_sort for number in sublist]"
   ]
  },
  {
   "cell_type": "code",
   "execution_count": 7,
   "metadata": {},
   "outputs": [],
   "source": [
    "lister = long_repeat('ddvvrwwwrggg')"
   ]
  },
  {
   "cell_type": "code",
   "execution_count": null,
   "metadata": {},
   "outputs": [],
   "source": []
  },
  {
   "cell_type": "code",
   "execution_count": 17,
   "metadata": {},
   "outputs": [],
   "source": [
    "def long_repeat(line: str) -> int:\n",
    "    \"\"\"\n",
    "        length the longest substring that consists of the same char\n",
    "    \"\"\"\n",
    "    # your code here\n",
    "    if line == '':\n",
    "        return 0\n",
    "    counts = []\n",
    "    for letter in line:\n",
    "        if (counts == []) or (counts[-1][0] != letter):\n",
    "            item_count = 1\n",
    "            counts.append([letter, item_count])\n",
    "        elif counts[-1][0] == letter:\n",
    "            counts[-1][1] += 1\n",
    "    return sorted([x[1] for x in counts])[-1]"
   ]
  },
  {
   "cell_type": "code",
   "execution_count": 18,
   "metadata": {},
   "outputs": [
    {
     "name": "stdout",
     "output_type": "stream",
     "text": [
      "\"Run\" is good. How is \"Check\"?\n"
     ]
    }
   ],
   "source": [
    "if __name__ == '__main__':\n",
    "    #These \"asserts\" using only for self-checking and not necessary for auto-testing\n",
    "    assert long_repeat('sdsffffse') == 4, \"First\"\n",
    "    assert long_repeat('ddvvrwwwrggg') == 3, \"Second\"\n",
    "    assert long_repeat('abababaab') == 2, \"Third\"\n",
    "    assert long_repeat('') == 0, \"Empty\"\n",
    "    print('\"Run\" is good. How is \"Check\"?')\n"
   ]
  },
  {
   "cell_type": "code",
   "execution_count": 103,
   "metadata": {},
   "outputs": [],
   "source": [
    "MORSE = {'a': '.-',    'b': '-...',  'c': '-.-.',\n",
    "         'd': '-..',   'e': '.',     'f': '..-.',\n",
    "         'g': '--.',   'h': '....',  'i': '..',\n",
    "         'j': '.---',  'k': '-.-',   'l': '.-..',\n",
    "         'm': '--',    'n': '-.',    'o': '---',\n",
    "         'p': '.--.',  'q': '--.-',  'r': '.-.',\n",
    "         's': '...',   't': '-',     'u': '..-',\n",
    "         'v': '...-',  'w': '.--',   'x': '-..-',\n",
    "         'y': '-.--',  'z': '--..',  '0': '-----',\n",
    "         '1': '.----', '2': '..---', '3': '...--',\n",
    "         '4': '....-', '5': '.....', '6': '-....',\n",
    "         '7': '--...', '8': '---..', '9': '----.'\n",
    "        }"
   ]
  },
  {
   "cell_type": "code",
   "execution_count": 104,
   "metadata": {},
   "outputs": [],
   "source": [
    "def morse_encoder(text):\n",
    "    #replace this for solution\n",
    "    MORSE[' '] = ' '\n",
    "    return ' '.join([MORSE[t.lower()] for t in text])"
   ]
  },
  {
   "cell_type": "code",
   "execution_count": 105,
   "metadata": {},
   "outputs": [
    {
     "name": "stdout",
     "output_type": "stream",
     "text": [
      ".. -   .-- .- ...   .-   --. --- --- -..   -.. .- -.--\n",
      ".. -   .-- .- ...   .-   --. --- --- -..   -.. .- -.--\n"
     ]
    }
   ],
   "source": [
    "print(morse_encoder(\"It was a good day\"))\n",
    "print(\".. -   .-- .- ...   .-   --. --- --- -..   -.. .- -.--\")"
   ]
  },
  {
   "cell_type": "code",
   "execution_count": 106,
   "metadata": {},
   "outputs": [
    {
     "name": "stdout",
     "output_type": "stream",
     "text": [
      "Example:\n",
      "... --- -- .   - . -..- -\n",
      "Coding complete? Click 'Check' to earn cool rewards!\n"
     ]
    }
   ],
   "source": [
    "\n",
    "\n",
    "if __name__ == '__main__':\n",
    "    print(\"Example:\")\n",
    "    print(morse_encoder('some text'))\n",
    "\n",
    "    #These \"asserts\" using only for self-checking and not necessary for auto-testing\n",
    "    assert morse_encoder(\"some text\") == \"... --- -- .   - . -..- -\"\n",
    "    assert morse_encoder(\"2018\") == \"..--- ----- .---- ---..\"\n",
    "    assert morse_encoder(\"It was a good day\") == \".. -   .-- .- ...   .-   --. --- --- -..   -.. .- -.--\"\n",
    "    print(\"Coding complete? Click 'Check' to earn cool rewards!\")"
   ]
  },
  {
   "cell_type": "code",
   "execution_count": 108,
   "metadata": {},
   "outputs": [],
   "source": [
    "text, words = \"How aresjfhdskfhskd you?\", {\"how\", \"are\", \"you\", \"hello\"}"
   ]
  },
  {
   "cell_type": "code",
   "execution_count": 110,
   "metadata": {},
   "outputs": [
    {
     "data": {
      "text/plain": [
       "0"
      ]
     },
     "execution_count": 110,
     "metadata": {},
     "output_type": "execute_result"
    }
   ],
   "source": [
    "text.lower().find('how')"
   ]
  },
  {
   "cell_type": "code",
   "execution_count": 1,
   "metadata": {},
   "outputs": [],
   "source": [
    "from datetime import date, timedelta\n",
    "\n",
    "\n",
    "def checkio(from_date, to_date):\n",
    "    \"\"\"\n",
    "        Count the days of rest\n",
    "    \"\"\"\n",
    "    dates_between = [from_date + timedelta(days=x) for x in range((to_date-from_date).days + 1)]\n",
    "    weekdays = [x for x in dates_between if x.weekday() is 5 or x.weekday() is 6]\n",
    "    return len(weekdays)\n",
    "\n",
    "#These \"asserts\" using only for self-checking and not necessary for auto-testing\n",
    "if __name__ == '__main__':\n",
    "    assert checkio(date(2013, 9, 18), date(2013, 9, 23)) == 2, \"1st example\"\n",
    "    assert checkio(date(2013, 1, 1), date(2013, 2, 1)) == 8, \"2nd example\"\n",
    "    assert checkio(date(2013, 2, 2), date(2013, 2, 3)) == 2, \"3rd example\"\n"
   ]
  },
  {
   "cell_type": "code",
   "execution_count": 23,
   "metadata": {},
   "outputs": [],
   "source": [
    "def long_repeat(line: str) -> int:\n",
    "    \"\"\"\n",
    "        length the longest substring that consists of the same char\n",
    "    \"\"\"\n",
    "    # your code here\n",
    "    counts = []\n",
    "    for letter in line:\n",
    "        if letter in counts:\n",
    "            if (counts == []) or (counts[-1][0] != letter):\n",
    "                item_count = 1\n",
    "                counts.append([letter, item_count])\n",
    "            elif counts[-1][0] == letter:\n",
    "                output[-1][1] += 1\n",
    "    return output"
   ]
  },
  {
   "cell_type": "code",
   "execution_count": 26,
   "metadata": {},
   "outputs": [
    {
     "name": "stdout",
     "output_type": "stream",
     "text": [
      "Example:\n",
      "2018-07-16\n",
      "Coding complete? Click 'Check' to earn cool rewards!\n"
     ]
    }
   ],
   "source": [
    "import datetime\n",
    "\n",
    "def vacation(date, days):\n",
    "    #replace this for solution\n",
    "    end_date = datetime.date.fromisoformat(date) + datetime.timedelta(days=days)\n",
    "    if end_date.weekday() == 5:\n",
    "        end_date = end_date + datetime.timedelta(days=2)\n",
    "    elif end_date.weekday() == 6:\n",
    "        end_date = end_date + datetime.timedelta(days=1)\n",
    "    return end_date.isoformat()\n",
    "\n",
    "if __name__ == '__main__':\n",
    "    print(\"Example:\")\n",
    "    print(vacation('2018-07-01', 14))\n",
    "\n",
    "    #These \"asserts\" using only for self-checking and not necessary for auto-testing\n",
    "    assert vacation('2018-07-01', 14) == '2018-07-16'\n",
    "    assert vacation('2018-02-19', 10) == '2018-03-01'\n",
    "    assert vacation('2000-02-28', 5) == '2000-03-06'\n",
    "    assert vacation('1999-12-20', 14) == '2000-01-03'\n",
    "    print(\"Coding complete? Click 'Check' to earn cool rewards!\")"
   ]
  },
  {
   "cell_type": "code",
   "execution_count": 1,
   "metadata": {},
   "outputs": [],
   "source": [
    "from typing import Tuple\n",
    "import itertools\n",
    "\n",
    "def permutation_index(numbers: Tuple[int])->int:\n",
    "    sorted_numbers = sorted(list(numbers))\n",
    "    list_permutations = list(itertools.permutations(sorted_numbers, len(sorted_numbers)))\n",
    "    \n",
    "    return list_permutations.index(numbers) + 1"
   ]
  },
  {
   "cell_type": "code",
   "execution_count": null,
   "metadata": {},
   "outputs": [],
   "source": [
    "\n",
    "\n",
    "\n",
    "if __name__ == '__main__':\n",
    "    assert permutation_index((2, 0, 1)) == 5\n",
    "    assert permutation_index((2, 1, 3, 0, 4, 5)) == 271\n",
    "    assert permutation_index((6, 8, 3, 4, 2, 1, 7, 5, 0)) == 279780\n",
    "    assert permutation_index((0, 4, 7, 5, 8, 2, 10, 6, 3, 1, 9, 11)) == 12843175\n",
    "    assert permutation_index((9, 0, 6, 2, 5, 7, 12, 10, 3, 8, 11, 4, 13, 1, 14)) == 787051783737\n",
    "    assert permutation_index((9, 0, 6, 17, 8, 12, 11, 1, 10, 14, 3, 15, 2, 13, 16, 7, 5, 4)) == 3208987196401056\n",
    "    assert permutation_index((15, 13, 14, 6, 10, 5, 19, 16, 11, 0, 9, 18, 2, 17, 4, 20, 12, 1, 3, 7, 8)) == 38160477453633042937\n",
    "    assert permutation_index((9, 5, 4, 12, 13, 17, 7, 0, 23, 16, 11, 8, 15, 21, 2, 3, 22, 1, 10, 19, 6, 20, 14, 18)) == 238515587608877815254677\n",
    "    assert permutation_index((16, 17, 10, 23, 4, 22, 7, 18, 2, 21, 13, 6, 9, 8, 19, 3, 25, 12, 26, 24, 14, 1, 0, 20, 15, 5, 11)) == 6707569694907742966546817183\n",
    "    print('The local tests are done. Click on \"Check\" for more real tests.')\n"
   ]
  },
  {
   "cell_type": "markdown",
   "metadata": {},
   "source": [
    "# Reversed Permutation Index"
   ]
  },
  {
   "cell_type": "code",
   "execution_count": 10,
   "metadata": {},
   "outputs": [],
   "source": [
    "from typing import Iterable\n",
    "import itertools\n",
    "\n",
    "\n",
    "def reversed_permutation_index(length: int, index: int) -> Iterable[int]:\n",
    "    numbers = [i for i in range(length)]\n",
    "    list_permutations = list(itertools.permutations(numbers, len(numbers)))\n",
    "    return list_permutations[index - 1]\n",
    "\n"
   ]
  },
  {
   "cell_type": "code",
   "execution_count": null,
   "metadata": {},
   "outputs": [],
   "source": [
    "if __name__ == '__main__':\n",
    "    assert tuple(reversed_permutation_index(3, 5)) == (2, 0, 1)\n",
    "    assert tuple(reversed_permutation_index(9, 279780)) == (6, 8, 3, 4, 2, 1, 7, 5, 0)\n",
    "    assert tuple(reversed_permutation_index(6, 271)) == (2, 1, 3, 0, 4, 5)\n",
    "    assert tuple(reversed_permutation_index(12, 12843175)) == (0, 4, 7, 5, 8, 2, 10, 6, 3, 1, 9, 11)\n",
    "    assert tuple(reversed_permutation_index(15, 787051783737)) == (9, 0, 6, 2, 5, 7, 12, 10, 3, 8, 11, 4, 13, 1, 14)\n",
    "    assert tuple(reversed_permutation_index(18, 3208987196401056)) == (9, 0, 6, 17, 8, 12, 11, 1, 10, 14, 3, 15, 2, 13, 16, 7, 5, 4)\n",
    "    assert tuple(reversed_permutation_index(21, 38160477453633042937)) == (15, 13, 14, 6, 10, 5, 19, 16, 11, 0, 9, 18, 2, 17, 4, 20, 12, 1, 3, 7, 8)\n",
    "    assert tuple(reversed_permutation_index(24, 238515587608877815254677)) == (9, 5, 4, 12, 13, 17, 7, 0, 23, 16, 11, 8, 15, 21, 2, 3, 22, 1, 10, 19, 6, 20, 14, 18)\n",
    "    assert tuple(reversed_permutation_index(27, 6707569694907742966546817183)) == (16, 17, 10, 23, 4, 22, 7, 18, 2, 21, 13, 6, 9, 8, 19, 3, 25, 12, 26, 24, 14, 1, 0, 20, 15, 5, 11)\n"
   ]
  },
  {
   "cell_type": "markdown",
   "metadata": {},
   "source": [
    "# Count brackets"
   ]
  },
  {
   "cell_type": "code",
   "execution_count": 78,
   "metadata": {},
   "outputs": [],
   "source": [
    "def remove_brackets(line: str) -> str:\n",
    "    # your code here\n",
    "    listed_line = list(line)\n",
    "\n",
    "    brackets = [\"(\", \")\", \"[\",  \"]\", \"{\", \"}\"]\n",
    "\n",
    "    bracket_counts = {}\n",
    "    for item in brackets:\n",
    "        bracket_counts[item] = line.count(item)\n",
    "\n",
    "    unevens = []\n",
    "    for start, end in zip(brackets[::2], brackets[1::2]):\n",
    "        diff = bracket_counts[start] - bracket_counts[end]\n",
    "        if diff > 0: \n",
    "            unevens.append([start, abs(diff)])\n",
    "        elif diff < 0:\n",
    "            unevens.append([end, abs(diff)])\n",
    "\n",
    "    for item in unevens:\n",
    "        bracket, value = item[0], item[1]\n",
    "        if bracket in brackets[1::2]:\n",
    "            listed_line.reverse()\n",
    "            \n",
    "        for number in range(1, value + 1):\n",
    "            listed_line.remove(bracket)\n",
    "            \n",
    "        if bracket in brackets[1::2]:\n",
    "            listed_line.reverse()\n",
    "    return ''.join(listed_line)"
   ]
  },
  {
   "cell_type": "code",
   "execution_count": 79,
   "metadata": {},
   "outputs": [
    {
     "name": "stdout",
     "output_type": "stream",
     "text": [
      "Example:\n",
      "()()\n"
     ]
    },
    {
     "ename": "AssertionError",
     "evalue": "",
     "output_type": "error",
     "traceback": [
      "\u001b[0;31m---------------------------------------------------------------------------\u001b[0m",
      "\u001b[0;31mAssertionError\u001b[0m                            Traceback (most recent call last)",
      "\u001b[0;32m<ipython-input-79-bbaea889e318>\u001b[0m in \u001b[0;36m<module>\u001b[0;34m\u001b[0m\n\u001b[1;32m     11\u001b[0m     \u001b[0;32massert\u001b[0m \u001b[0mremove_brackets\u001b[0m\u001b[0;34m(\u001b[0m\u001b[0;34m'[[[[}'\u001b[0m\u001b[0;34m)\u001b[0m \u001b[0;34m==\u001b[0m \u001b[0;34m''\u001b[0m\u001b[0;34m\u001b[0m\u001b[0;34m\u001b[0m\u001b[0m\n\u001b[1;32m     12\u001b[0m     \u001b[0;32massert\u001b[0m \u001b[0mremove_brackets\u001b[0m\u001b[0;34m(\u001b[0m\u001b[0;34m''\u001b[0m\u001b[0;34m)\u001b[0m \u001b[0;34m==\u001b[0m \u001b[0;34m''\u001b[0m\u001b[0;34m\u001b[0m\u001b[0;34m\u001b[0m\u001b[0m\n\u001b[0;32m---> 13\u001b[0;31m     \u001b[0;32massert\u001b[0m \u001b[0mremove_brackets\u001b[0m\u001b[0;34m(\u001b[0m\u001b[0;34m'[(])'\u001b[0m\u001b[0;34m)\u001b[0m \u001b[0;34m==\u001b[0m \u001b[0;34m'()'\u001b[0m\u001b[0;34m\u001b[0m\u001b[0;34m\u001b[0m\u001b[0m\n\u001b[0m\u001b[1;32m     14\u001b[0m     \u001b[0mprint\u001b[0m\u001b[0;34m(\u001b[0m\u001b[0;34m\"Coding complete? Click 'Check' to earn cool rewards!\"\u001b[0m\u001b[0;34m)\u001b[0m\u001b[0;34m\u001b[0m\u001b[0;34m\u001b[0m\u001b[0m\n",
      "\u001b[0;31mAssertionError\u001b[0m: "
     ]
    }
   ],
   "source": [
    "if __name__ == '__main__':\n",
    "    print(\"Example:\")\n",
    "    print(remove_brackets('(()()'))\n",
    "\n",
    "    # These \"asserts\" are used for self-checking and not for an auto-testing\n",
    "    assert remove_brackets('(()()') == '()()'\n",
    "#     assert remove_brackets('[][[[') == '[]'\n",
    "    assert remove_brackets('[[(}]]') == '[[]]'\n",
    "    assert remove_brackets('[[{}()]]') == '[[{}()]]'\n",
    "    assert remove_brackets('[[[[[[') == ''\n",
    "    assert remove_brackets('[[[[}') == ''\n",
    "    assert remove_brackets('') == ''\n",
    "    assert remove_brackets('[(])') == '()'\n",
    "    print(\"Coding complete? Click 'Check' to earn cool rewards!\")\n"
   ]
  },
  {
   "cell_type": "code",
   "execution_count": 212,
   "metadata": {},
   "outputs": [
    {
     "name": "stdout",
     "output_type": "stream",
     "text": [
      "Example:\n",
      "{'age': 12, 'name': 'Alex'}\n",
      "Coding complete? Click 'Check' to earn cool rewards!\n"
     ]
    }
   ],
   "source": [
    "def yaml(a):\n",
    "    # your code here\n",
    "    a = a.replace('\"', '').replace('\\\\', '\"')\n",
    "    a = a.split('\\n')\n",
    "    a = [item for item in a if item != '']\n",
    "    yaml_dict = {}\n",
    "    sorted_dict = {}\n",
    "    \n",
    "    for item in a:\n",
    "        if len(item.split(': ')) == 1:\n",
    "            key, value = item.split(':')[0], None\n",
    "        else:\n",
    "            key, value = item.split(': ')\n",
    "            if value.isdigit(): value = int(value)\n",
    "            if value == 'false': value = False\n",
    "            if value == 'true': value = True\n",
    "            if value == 'null': value = None\n",
    "            if isinstance(value, str): value = value.strip()\n",
    "        yaml_dict[key] = value\n",
    "        \n",
    "    sorted_keys = sorted(list(yaml_dict.keys()))\n",
    "    for key in sorted_keys:\n",
    "        sorted_dict[key] = yaml_dict[key]\n",
    "    return sorted_dict\n",
    "\n",
    "\n",
    "if __name__ == '__main__':\n",
    "    print(\"Example:\")\n",
    "    print(yaml('name: Alex\\nage: 12'))\n",
    "\n",
    "    # These \"asserts\" are used for self-checking and not for an auto-testing\n",
    "    assert yaml('name: Alex\\nage: 12') == {'age': 12, 'name': 'Alex'}\n",
    "    assert yaml('name: Alex Fox\\n'\n",
    "     'age: 12\\n'\n",
    "     '\\n'\n",
    "     'class: 12b') == {'age': 12,\n",
    "     'class': '12b',\n",
    "     'name': 'Alex Fox'}\n",
    "    assert yaml('name: \"Alex Fox\"\\n'\n",
    "     'age: 12\\n'\n",
    "     '\\n'\n",
    "     'class: 12b') == {'age': 12,\n",
    "     'class': '12b',\n",
    "     'name': 'Alex Fox'}\n",
    "    assert yaml('name: \"Alex \\\\\"Fox\\\\\"\"\\n'\n",
    "     'age: 12\\n'\n",
    "     '\\n'\n",
    "     'class: 12b') == {'age': 12,\n",
    "     'class': '12b',\n",
    "     'name': 'Alex \"Fox\"'}\n",
    "    assert yaml('name: \"Bob Dylan\"\\n'\n",
    "     'children: 6\\n'\n",
    "     'alive: false') == {'alive': False,\n",
    "     'children': 6,\n",
    "     'name': 'Bob Dylan'}\n",
    "    assert yaml('name: \"Bob Dylan\"\\n'\n",
    "     'children: 6\\n'\n",
    "     'coding:') == {'children': 6,\n",
    "     'coding': None,\n",
    "     'name': 'Bob Dylan'}\n",
    "    assert yaml('name: \"Bob Dylan\"\\n'\n",
    "     'children: 6\\n'\n",
    "     'coding: null') == {'children': 6,\n",
    "     'coding': None,\n",
    "     'name': 'Bob Dylan'}\n",
    "    assert yaml('name: \"Bob Dylan\"\\n'\n",
    "     'children: 6\\n'\n",
    "     'coding: \"null\" ') == {'children': 6,\n",
    "     'coding': 'null',\n",
    "     'name': 'Bob Dylan'}\n",
    "    print(\"Coding complete? Click 'Check' to earn cool rewards!\")\n"
   ]
  },
  {
   "cell_type": "markdown",
   "metadata": {},
   "source": [
    "# Sort Except Zero"
   ]
  },
  {
   "cell_type": "code",
   "execution_count": 222,
   "metadata": {},
   "outputs": [
    {
     "name": "stdout",
     "output_type": "stream",
     "text": [
      "Example:\n",
      "[1, 3, 0, 0, 4, 4, 5, 0, 7]\n",
      "Coding complete? Click 'Check' to earn cool rewards!\n"
     ]
    }
   ],
   "source": [
    "from typing import Iterable\n",
    "\n",
    "def except_zero(items: list) -> Iterable:\n",
    "    # your code here\n",
    "    zero_indices = [i for i, number in enumerate(items) if number == 0]\n",
    "    \n",
    "    for idx in range(len(zero_indices)):\n",
    "        items.remove(0)\n",
    "    \n",
    "    items = sorted(items)\n",
    "    \n",
    "    for zero_idx in zero_indices:\n",
    "        items.insert(zero_idx, 0)\n",
    "    return items\n",
    "\n",
    "if __name__ == '__main__':\n",
    "    print(\"Example:\")\n",
    "    print(list(except_zero([5, 3, 0, 0, 4, 1, 4, 0, 7])))\n",
    "\n",
    "    # These \"asserts\" are used for self-checking and not for an auto-testing\n",
    "    assert list(except_zero([5, 3, 0, 0, 4, 1, 4, 0, 7])) == [1, 3, 0, 0, 4, 4, 5, 0, 7]\n",
    "    assert list(except_zero([0, 2, 3, 1, 0, 4, 5])) == [0, 1, 2, 3, 0, 4, 5]\n",
    "    assert list(except_zero([0, 0, 0, 1, 0])) == [0, 0, 0, 1, 0]\n",
    "    assert list(except_zero([4, 5, 3, 1, 1])) == [1, 1, 3, 4, 5]\n",
    "    assert list(except_zero([0, 0])) == [0, 0]\n",
    "    print(\"Coding complete? Click 'Check' to earn cool rewards!\")\n"
   ]
  },
  {
   "cell_type": "markdown",
   "metadata": {},
   "source": [
    "# Unix Match"
   ]
  },
  {
   "cell_type": "code",
   "execution_count": 22,
   "metadata": {},
   "outputs": [],
   "source": [
    "def unix_match(filename: str, pattern: str) -> bool:\n",
    "\n",
    "    # your code here\n",
    "    if pattern == '*':  # All matches\n",
    "        pattern = filename\n",
    "    else:\n",
    "        file_name, filename_ext = filename.split('.')\n",
    "        pattern_name, pattern_ext = pattern.split('.')\n",
    "        \n",
    "        if pattern_name == '*' and pattern_ext == filename_ext: # if file_name is wild\n",
    "            pattern = filename\n",
    "        \n",
    "        if '?' in pattern_name:\n",
    "            idx_questions = [i for i, char in enumerate(pattern_name) if char == '?']\n",
    "            file_chars = [filename[idx] for idx in idx_questions]\n",
    "            for char, idx in zip(file_chars, idx_questions):\n",
    "                pattern_name = pattern_name[:idx] + char + pattern_name[idx + 1:]\n",
    "            pattern = pattern_name + '.' + pattern_ext\n",
    "        \n",
    "        if '[' in pattern_name and ']' in pattern_name:\n",
    "            start_idx, end_idx = pattern_name.index('['), pattern_name.index(']')\n",
    "            sequence = pattern_name[start_idx + 1: end_idx]\n",
    "            if file_name[start_idx] in sequence:\n",
    "                pattern_name = pattern_name[:start_idx] + file_name[start_idx] + pattern_name[end_idx + 1:]\n",
    "            pattern = pattern_name + '.' + pattern_ext   \n",
    "             \n",
    "    return filename == pattern"
   ]
  },
  {
   "cell_type": "code",
   "execution_count": 20,
   "metadata": {},
   "outputs": [],
   "source": [
    "filename, pattern = 'log1.txt', 'log[1234567890].txt'"
   ]
  },
  {
   "cell_type": "code",
   "execution_count": 21,
   "metadata": {},
   "outputs": [
    {
     "name": "stdout",
     "output_type": "stream",
     "text": [
      "log[1234567890]\n",
      "Processing sequence\n",
      "log1.txt\n"
     ]
    }
   ],
   "source": [
    "file_name, filename_ext = filename.split('.')\n",
    "pattern_name, pattern_ext = pattern.split('.')\n",
    "print(pattern_name)\n",
    "\n",
    "if pattern_name == '*' and pattern_ext == filename_ext: # if file_name is wild\n",
    "    pattern = filename\n",
    "\n",
    "if '?' in pattern_name:\n",
    "    print('Processing ?')\n",
    "    idx_questions = [i for i, char in enumerate(pattern_name) if char == '?']\n",
    "    file_chars = [filename[idx] for idx in idx_questions]\n",
    "    for char, idx in zip(file_chars, idx_questions):\n",
    "        pattern_name = pattern_name[:idx] + char + pattern_name[idx + 1:]\n",
    "    pattern = pattern_name + '.' + pattern_ext\n",
    "\n",
    "if '[' in pattern_name and ']' in pattern_name:\n",
    "    print('Processing sequence')\n",
    "    start_idx, end_idx = pattern_name.index('['), pattern_name.index(']')\n",
    "    sequence = pattern_name[start_idx + 1: end_idx]\n",
    "    if file_name[start_idx] in sequence:\n",
    "        pattern_name = pattern_name[:start_idx] + file_name[start_idx] + pattern_name[end_idx + 1:]\n",
    "    pattern = pattern_name + '.' + pattern_ext\n",
    "    print(pattern)"
   ]
  },
  {
   "cell_type": "code",
   "execution_count": 23,
   "metadata": {},
   "outputs": [
    {
     "name": "stdout",
     "output_type": "stream",
     "text": [
      "Example:\n",
      "True\n",
      "Coding complete? Click 'Check' to earn cool rewards!\n"
     ]
    }
   ],
   "source": [
    "\n",
    "if __name__ == '__main__':\n",
    "    print(\"Example:\")\n",
    "    print(unix_match('somefile.txt', '*'))\n",
    "    \n",
    "    # These \"asserts\" are used for self-checking and not for an auto-testing\n",
    "    assert unix_match('somefile.txt', '*') == True\n",
    "    assert unix_match('other.exe', '*') == True\n",
    "    assert unix_match('my.exe', '*.txt') == False\n",
    "    assert unix_match('log1.txt', 'log?.txt') == True\n",
    "    assert unix_match('log1.txt', 'log[1234567890].txt') == True\n",
    "    assert unix_match('log12.txt', 'log?.txt') == False\n",
    "    assert unix_match('log12.txt', 'log??.txt') == True\n",
    "    print(\"Coding complete? Click 'Check' to earn cool rewards!\")\n"
   ]
  },
  {
   "cell_type": "markdown",
   "metadata": {},
   "source": [
    "# Speech Module"
   ]
  },
  {
   "cell_type": "code",
   "execution_count": 97,
   "metadata": {},
   "outputs": [],
   "source": [
    "FIRST_TEN = [\"one\", \"two\", \"three\", \"four\", \"five\", \"six\", \"seven\",\n",
    "             \"eight\", \"nine\"]\n",
    "SECOND_TEN = [\"ten\", \"eleven\", \"twelve\", \"thirteen\", \"fourteen\", \"fifteen\",\n",
    "              \"sixteen\", \"seventeen\", \"eighteen\", \"nineteen\"]\n",
    "OTHER_TENS = [\"twenty\", \"thirty\", \"forty\", \"fifty\", \"sixty\", \"seventy\",\n",
    "              \"eighty\", \"ninety\"]\n",
    "HUNDRED = \"hundred\"\n",
    "\n",
    "def checkio(number):\n",
    "\n",
    "    #replace this for solution\n",
    "    str_number = str(number)\n",
    "    hundred_numbers = [num for num in range(100, 901, 100)]\n",
    "    \n",
    "    if number in hundred_numbers:\n",
    "        first_word = FIRST_TEN[int(str_number[0]) - 1]\n",
    "        return ' '.join([first_word, 'hundred'])\n",
    "    \n",
    "    def second_number_word(value):\n",
    "        str_number = str(value)\n",
    "        if value < 20:\n",
    "            combined_words = FIRST_TEN + SECOND_TEN\n",
    "            return combined_words[value - 1]\n",
    "\n",
    "        if value >= 20 and value < 100:\n",
    "            first_number, second_number = int(str_number[0]), int(str_number[1])\n",
    "            first_word = OTHER_TENS[first_number - 2]\n",
    "            second_word = FIRST_TEN[second_number - 1]\n",
    "            if second_number == 0:\n",
    "                return first_word\n",
    "            else:\n",
    "                return ' '.join([first_word, second_word])\n",
    "            \n",
    "    if number < 100:\n",
    "        return second_number_word(number)\n",
    "    \n",
    "    if number > 100:\n",
    "        first_hundred = FIRST_TEN[int(str_number[0]) - 1]\n",
    "        other_numbers = int(str_number[1:])\n",
    "        other_words = second_number_word(other_numbers)\n",
    "        return ' '.join([first_hundred, 'hundred', other_words])"
   ]
  },
  {
   "cell_type": "code",
   "execution_count": 92,
   "metadata": {},
   "outputs": [
    {
     "data": {
      "text/plain": [
       "[100, 200, 300, 400, 500, 600, 700, 800, 900]"
      ]
     },
     "execution_count": 92,
     "metadata": {},
     "output_type": "execute_result"
    }
   ],
   "source": [
    "[num for num in range(100, 901, 100)]"
   ]
  },
  {
   "cell_type": "code",
   "execution_count": 93,
   "metadata": {},
   "outputs": [
    {
     "name": "stdout",
     "output_type": "stream",
     "text": [
      "Done! Go and Check it!\n"
     ]
    }
   ],
   "source": [
    "\n",
    "if __name__ == '__main__':\n",
    "    #These \"asserts\" using only for self-checking and not necessary for auto-testing\n",
    "    assert checkio(4) == 'four', \"1st example\"\n",
    "    assert checkio(133) == 'one hundred thirty three', \"2nd example\"\n",
    "    assert checkio(12) == 'twelve', \"3rd example\"\n",
    "    assert checkio(101) == 'one hundred one', \"4th example\"\n",
    "    assert checkio(212) == 'two hundred twelve', \"5th example\"\n",
    "    assert checkio(40) == 'forty', \"6th example\"\n",
    "    assert not checkio(212).endswith(' '), \"Don't forget strip whitespaces at the end of string\"\n",
    "    print('Done! Go and Check it!')"
   ]
  },
  {
   "cell_type": "markdown",
   "metadata": {},
   "source": [
    "# The end of  other"
   ]
  },
  {
   "cell_type": "code",
   "execution_count": 105,
   "metadata": {},
   "outputs": [
    {
     "name": "stdout",
     "output_type": "stream",
     "text": [
      "Example:\n",
      "True\n",
      "Done! Time to check!\n"
     ]
    }
   ],
   "source": [
    "def checkio(words_set):\n",
    "    for word_1 in words_set:\n",
    "        for word_2 in words_set:\n",
    "            if word_1 != word_2:\n",
    "                if word_1.endswith(word_2):\n",
    "                    return True\n",
    "    return False\n",
    "\n",
    "#These \"asserts\" using only for self-checking and not necessary for auto-testing\n",
    "if __name__ == '__main__':\n",
    "    print(\"Example:\")\n",
    "    print(checkio({\"hello\", \"lo\", \"he\"}))\n",
    "\n",
    "    assert checkio({\"hello\", \"lo\", \"he\"}) == True, \"helLO\"\n",
    "    assert checkio({\"hello\", \"la\", \"hellow\", \"cow\"}) == False, \"hellow la cow\"\n",
    "    assert checkio({\"walk\", \"duckwalk\"}) == True, \"duck to walk\"\n",
    "    assert checkio({\"one\"}) == False, \"Only One\"\n",
    "    assert checkio({\"helicopter\", \"li\", \"he\"}) == False, \"Only end\"\n",
    "    print(\"Done! Time to check!\")"
   ]
  },
  {
   "cell_type": "markdown",
   "metadata": {},
   "source": [
    "# The most frequent Weekday"
   ]
  },
  {
   "cell_type": "code",
   "execution_count": 138,
   "metadata": {},
   "outputs": [],
   "source": [
    "from datetime import date, timedelta\n",
    "\n",
    "def most_frequent_days(a):\n",
    "    first_day = date(a, 1, 1)\n",
    "    last_day = date(a, 12, 31)\n",
    "    dates = [first_day + timedelta(days=x) for x in range((last_day - first_day).days + 1)]\n",
    "    weekdays = [x.strftime('%A') for x in dates]\n",
    "    day_counts = {}\n",
    "\n",
    "    for day in ['Monday', 'Tuesday', 'Wednesday', 'Thursday', 'Friday', 'Saturday', 'Sunday']:\n",
    "        day_counts[day] = weekdays.count(day)\n",
    "\n",
    "    days = []\n",
    "    for day, count in day_counts.items():\n",
    "        if count == max(list(day_counts.values())):\n",
    "            days.append(day)\n",
    "    return days"
   ]
  },
  {
   "cell_type": "code",
   "execution_count": 136,
   "metadata": {},
   "outputs": [],
   "source": [
    "a = 1084\n",
    "first_day = date(a, 1, 1)\n",
    "last_day = date(a, 12, 31)\n",
    "dates = [first_day + timedelta(days=x) for x in range((last_day - first_day).days + 1)]\n",
    "weekdays = [x.strftime('%A') for x in dates]\n",
    "day_counts = {}\n",
    "\n",
    "for day in ['Monday', 'Tuesday', 'Wednesday', 'Thursday', 'Friday', 'Saturday', 'Sunday']:\n",
    "    day_counts[day] = weekdays.count(day)\n",
    "\n",
    "days = []\n",
    "for day, count in day_counts.items():\n",
    "    if count == max(list(day_counts.values())):\n",
    "        days.append(day)"
   ]
  },
  {
   "cell_type": "code",
   "execution_count": 137,
   "metadata": {},
   "outputs": [
    {
     "data": {
      "text/plain": [
       "['Tuesday', 'Wednesday']"
      ]
     },
     "execution_count": 137,
     "metadata": {},
     "output_type": "execute_result"
    }
   ],
   "source": [
    "days"
   ]
  },
  {
   "cell_type": "code",
   "execution_count": 139,
   "metadata": {},
   "outputs": [
    {
     "name": "stdout",
     "output_type": "stream",
     "text": [
      "Example:\n",
      "['Tuesday', 'Wednesday']\n",
      "Coding complete? Click 'Check' to earn cool rewards!\n"
     ]
    }
   ],
   "source": [
    "\n",
    "if __name__ == '__main__':\n",
    "    print(\"Example:\")\n",
    "    print(most_frequent_days(1084))\n",
    "\n",
    "    # These \"asserts\" are used for self-checking and not for an auto-testing\n",
    "    assert most_frequent_days(1084) == ['Tuesday', 'Wednesday']\n",
    "    assert most_frequent_days(1167) == ['Sunday']\n",
    "    assert most_frequent_days(1216) == ['Friday', 'Saturday']\n",
    "    assert most_frequent_days(1492) == ['Friday', 'Saturday']\n",
    "    assert most_frequent_days(1770) == ['Monday']\n",
    "    assert most_frequent_days(1785) == ['Saturday']\n",
    "    assert most_frequent_days(212) == ['Wednesday', 'Thursday']\n",
    "    assert most_frequent_days(1) == ['Monday']\n",
    "    assert most_frequent_days(2135) == ['Saturday']\n",
    "    assert most_frequent_days(3043) == ['Sunday']\n",
    "    assert most_frequent_days(2001) == ['Monday']\n",
    "    assert most_frequent_days(3150) == ['Sunday']\n",
    "    assert most_frequent_days(3230) == ['Tuesday']\n",
    "    assert most_frequent_days(328) == ['Monday', 'Sunday']\n",
    "    assert most_frequent_days(2016) == ['Friday', 'Saturday']\n",
    "    print(\"Coding complete? Click 'Check' to earn cool rewards!\")\n"
   ]
  },
  {
   "cell_type": "markdown",
   "metadata": {},
   "source": [
    "# Create Intervals"
   ]
  },
  {
   "cell_type": "code",
   "execution_count": 165,
   "metadata": {},
   "outputs": [],
   "source": [
    "def create_intervals(data):\n",
    "    \"\"\"\n",
    "        Create a list of intervals out of set of ints.\n",
    "    \"\"\"\n",
    "    # your code here\n",
    "    subsets = [[]]\n",
    "    \n",
    "    for i in range(min(data), max(data) + 1):\n",
    "        if i in data:\n",
    "            subsets[-1].append(i)\n",
    "        else:\n",
    "            subsets.append([])\n",
    "    \n",
    "    intervals = [tuple([min(subset), max(subset)]) for subset in subsets if subset != []]\n",
    "    \n",
    "    return intervals"
   ]
  },
  {
   "cell_type": "code",
   "execution_count": 166,
   "metadata": {},
   "outputs": [
    {
     "name": "stdout",
     "output_type": "stream",
     "text": [
      "Almost done! The only thing left to do is to Check it!\n"
     ]
    }
   ],
   "source": [
    "\n",
    "\n",
    "if __name__ == '__main__':\n",
    "    #These \"asserts\" using only for self-checking and not necessary for auto-testing\n",
    "    assert create_intervals({1, 2, 3, 4, 5, 7, 8, 12}) == [(1, 5), (7, 8), (12, 12)], \"First\"\n",
    "    assert create_intervals({1, 2, 3, 6, 7, 8, 4, 5}) == [(1, 8)], \"Second\"\n",
    "    print('Almost done! The only thing left to do is to Check it!')"
   ]
  },
  {
   "cell_type": "markdown",
   "metadata": {},
   "source": [
    "# Cookies"
   ]
  },
  {
   "cell_type": "code",
   "execution_count": 17,
   "metadata": {},
   "outputs": [
    {
     "name": "stdout",
     "output_type": "stream",
     "text": [
      "Looks like you know everything. It is time for 'Check'!\n"
     ]
    }
   ],
   "source": [
    "def get_cookie(cookie, check):\n",
    "    return [value for value in cookie.split(';') if check in value][0].replace(f'{check}=', '').lstrip()\n",
    "\n",
    "\n",
    "if __name__ == \"__main__\":\n",
    "    #These \"asserts\" using only for self-checking and not necessary for auto-testing\n",
    "    assert get_cookie('theme=light; sessionToken=abc123', 'theme') == 'light', 'theme=light'\n",
    "    assert get_cookie('_ga=GA1.2.447610749.1465220820; _gat=1; ffo=true', 'ffo') == 'true', 'ffo=true'\n",
    "    print(\"Looks like you know everything. It is time for 'Check'!\")"
   ]
  },
  {
   "cell_type": "markdown",
   "metadata": {},
   "source": [
    "# Simplify Unix Path"
   ]
  },
  {
   "cell_type": "code",
   "execution_count": 23,
   "metadata": {},
   "outputs": [],
   "source": [
    "def simplify_path(path):\n",
    "    \"\"\"\n",
    "        simplifying a given path\n",
    "    \"\"\"\n",
    "    # your code here\n",
    "    path = path.replace('//', '/').rstrip('/')\n",
    "    return path"
   ]
  },
  {
   "cell_type": "code",
   "execution_count": null,
   "metadata": {},
   "outputs": [],
   "source": []
  },
  {
   "cell_type": "code",
   "execution_count": null,
   "metadata": {},
   "outputs": [],
   "source": []
  },
  {
   "cell_type": "code",
   "execution_count": null,
   "metadata": {},
   "outputs": [],
   "source": []
  },
  {
   "cell_type": "code",
   "execution_count": 24,
   "metadata": {},
   "outputs": [
    {
     "ename": "AssertionError",
     "evalue": "",
     "output_type": "error",
     "traceback": [
      "\u001b[0;31m---------------------------------------------------------------------------\u001b[0m",
      "\u001b[0;31mAssertionError\u001b[0m                            Traceback (most recent call last)",
      "\u001b[0;32m<ipython-input-24-c35327575254>\u001b[0m in \u001b[0;36m<module>\u001b[0;34m\u001b[0m\n\u001b[1;32m      9\u001b[0m \u001b[0;34m\u001b[0m\u001b[0m\n\u001b[1;32m     10\u001b[0m     \u001b[0;31m# double dot - go to previous folder\u001b[0m\u001b[0;34m\u001b[0m\u001b[0;34m\u001b[0m\u001b[0;34m\u001b[0m\u001b[0m\n\u001b[0;32m---> 11\u001b[0;31m     \u001b[0;32massert\u001b[0m \u001b[0msimplify_path\u001b[0m\u001b[0;34m(\u001b[0m\u001b[0;34m'dir/fol/../no'\u001b[0m\u001b[0;34m)\u001b[0m \u001b[0;34m==\u001b[0m \u001b[0;34m'dir/no'\u001b[0m\u001b[0;34m\u001b[0m\u001b[0;34m\u001b[0m\u001b[0m\n\u001b[0m\u001b[1;32m     12\u001b[0m     \u001b[0;32massert\u001b[0m \u001b[0msimplify_path\u001b[0m\u001b[0;34m(\u001b[0m\u001b[0;34m'dir/fol/../../no'\u001b[0m\u001b[0;34m)\u001b[0m \u001b[0;34m==\u001b[0m \u001b[0;34m'no'\u001b[0m\u001b[0;34m\u001b[0m\u001b[0;34m\u001b[0m\u001b[0m\n\u001b[1;32m     13\u001b[0m \u001b[0;34m\u001b[0m\u001b[0m\n",
      "\u001b[0;31mAssertionError\u001b[0m: "
     ]
    }
   ],
   "source": [
    "if __name__ == '__main__':\n",
    "    # These \"asserts\" using only for self-checking and not necessary for auto-testing\n",
    "\n",
    "    # last slash is not important\n",
    "    assert simplify_path('/a/') == '/a'\n",
    "\n",
    "    # double slash can be united in one\n",
    "    assert simplify_path('/a//b/c') == '/a/b/c'\n",
    "\n",
    "    # double dot - go to previous folder\n",
    "    assert simplify_path('dir/fol/../no') == 'dir/no'\n",
    "    assert simplify_path('dir/fol/../../no') == 'no'\n",
    "\n",
    "    # one dot means current dir\n",
    "    assert simplify_path('/a/b/./ci') == '/a/b/ci'\n",
    "    assert simplify_path('vi/..') == '.'\n",
    "    assert simplify_path('./.') == '.'\n",
    "\n",
    "    # you can't go deeper than root folder\n",
    "    assert simplify_path('/for/../..') == '/'\n",
    "    assert simplify_path('/for/../../no/..') == '/'\n",
    "\n",
    "    # not all double-dots can be simplyfied in related path\n",
    "    assert simplify_path('for/../..') == '..'\n",
    "    assert simplify_path('../foo') == '../foo'\n",
    "    \n",
    "    print('Simply enough! Let\\'s check it now!!')"
   ]
  },
  {
   "cell_type": "code",
   "execution_count": 22,
   "metadata": {},
   "outputs": [
    {
     "data": {
      "text/plain": [
       "'a/'"
      ]
     },
     "execution_count": 22,
     "metadata": {},
     "output_type": "execute_result"
    }
   ],
   "source": [
    "simplify_path('/a/')"
   ]
  },
  {
   "cell_type": "markdown",
   "metadata": {},
   "source": [
    "# Until Friday"
   ]
  },
  {
   "cell_type": "code",
   "execution_count": 53,
   "metadata": {},
   "outputs": [
    {
     "name": "stdout",
     "output_type": "stream",
     "text": [
      "Example:\n",
      "4\n",
      "Coding complete? Click 'Check' to earn cool rewards!\n"
     ]
    }
   ],
   "source": [
    "import datetime\n",
    "\n",
    "def friday(day):\n",
    "    day_of_week = datetime.date.fromisoformat('-'.join(day.split('.')[::-1])).isoweekday()\n",
    "    if day_of_week <= 5:\n",
    "        return 5 - day_of_week\n",
    "    else:\n",
    "        return 7 - day_of_week + 5\n",
    "    \n",
    "if __name__ == '__main__':\n",
    "    print(\"Example:\")\n",
    "    print(friday('23.04.2018'))\n",
    "\n",
    "    #These \"asserts\" using only for self-checking and not necessary for auto-testing\n",
    "    assert friday('23.04.2018') == 4\n",
    "    assert friday('01.01.1999') == 0\n",
    "    print(\"Coding complete? Click 'Check' to earn cool rewards!\")"
   ]
  },
  {
   "cell_type": "markdown",
   "metadata": {},
   "source": [
    "# Middle Characters"
   ]
  },
  {
   "cell_type": "code",
   "execution_count": 77,
   "metadata": {},
   "outputs": [
    {
     "data": {
      "text/plain": [
       "'es'"
      ]
     },
     "execution_count": 77,
     "metadata": {},
     "output_type": "execute_result"
    }
   ],
   "source": [
    "text = 'test'\n",
    "text[int((len(text) - 1)/2):int(len(text) / 2) + 1]"
   ]
  },
  {
   "cell_type": "code",
   "execution_count": 79,
   "metadata": {},
   "outputs": [
    {
     "name": "stdout",
     "output_type": "stream",
     "text": [
      "EVEN\n"
     ]
    }
   ],
   "source": [
    "if len(text) % 2 == 1:\n",
    "    print('ODD')\n",
    "else:\n",
    "    print('EVEN')"
   ]
  },
  {
   "cell_type": "code",
   "execution_count": 62,
   "metadata": {},
   "outputs": [
    {
     "data": {
      "text/plain": [
       "11.0"
      ]
     },
     "execution_count": 62,
     "metadata": {},
     "output_type": "execute_result"
    }
   ],
   "source": [
    "(len(text) - 1)/2"
   ]
  },
  {
   "cell_type": "code",
   "execution_count": 80,
   "metadata": {},
   "outputs": [
    {
     "name": "stdout",
     "output_type": "stream",
     "text": [
      "Example:\n",
      "m\n",
      "Coding complete? Click 'Check' to earn cool rewards!\n"
     ]
    }
   ],
   "source": [
    "def middle(text):\n",
    "    #replace this for solution\n",
    "    if len(text) % 2 == 1:\n",
    "        return text[int((len(text) - 1)/2)]\n",
    "    else:\n",
    "        return text[int((len(text) - 1)/2):int(len(text) / 2) + 1]\n",
    "\n",
    "if __name__ == '__main__':\n",
    "    print(\"Example:\")\n",
    "    print(middle('example'))\n",
    "\n",
    "    #These \"asserts\" using only for self-checking and not necessary for auto-testing\n",
    "    assert middle('example') == 'm'\n",
    "    assert middle('test') == 'es'    \n",
    "    assert middle('very-very long sentence') == 'o'\n",
    "    assert middle('I') == 'I'\n",
    "    assert middle('no') == 'no'\n",
    "    print(\"Coding complete? Click 'Check' to earn cool rewards!\")"
   ]
  },
  {
   "cell_type": "markdown",
   "metadata": {},
   "source": [
    "# Zig zag"
   ]
  },
  {
   "cell_type": "code",
   "execution_count": 136,
   "metadata": {},
   "outputs": [],
   "source": [
    "from typing import List\n",
    "\n",
    "def create_zigzag(rows: int, cols: int, start: int = 1) -> List[List[int]]:\n",
    "    # your code here\n",
    "    if cols == 0:\n",
    "        return [[]] * rows\n",
    "    numbers = [i for i in range(start, (rows * cols) + start )]\n",
    "    rows_subsets = [numbers[i:i + cols] for i in range(0, len(numbers), cols)] \n",
    "    zig_zagged = []\n",
    "    for subset in rows_subsets:\n",
    "        if rows_subsets.index(subset) % 2 == 1:\n",
    "            zig_zagged.append(subset[::-1])\n",
    "        else:\n",
    "            zig_zagged.append(subset) \n",
    "    return zig_zagged\n"
   ]
  },
  {
   "cell_type": "code",
   "execution_count": 138,
   "metadata": {},
   "outputs": [
    {
     "data": {
      "text/plain": [
       "[[1, 2], [4, 3], [5, 6], [8, 7]]"
      ]
     },
     "execution_count": 138,
     "metadata": {},
     "output_type": "execute_result"
    }
   ],
   "source": [
    "create_zigzag(4, 2)\n"
   ]
  },
  {
   "cell_type": "code",
   "execution_count": 139,
   "metadata": {},
   "outputs": [
    {
     "name": "stdout",
     "output_type": "stream",
     "text": [
      "Example:\n",
      "[[5, 6, 7], [10, 9, 8], [11, 12, 13]]\n",
      "Coding complete? Click 'Check' to earn cool rewards!\n"
     ]
    }
   ],
   "source": [
    "if __name__ == '__main__':\n",
    "    print(\"Example:\")\n",
    "    print(create_zigzag(3, 3, 5))\n",
    "    \n",
    "    # These \"asserts\" are used for self-checking and not for an auto-testing\n",
    "    assert create_zigzag(3, 5) == [\n",
    "        [1,2,3,4,5],\n",
    "        [10,9,8,7,6],\n",
    "        [11,12,13,14,15]\n",
    "    ]\n",
    "    assert create_zigzag(5, 1) == [\n",
    "        [1],\n",
    "        [2],\n",
    "        [3],\n",
    "        [4],\n",
    "        [5]\n",
    "    ]\n",
    "    assert create_zigzag(3, 3, 5) == [\n",
    "        [5, 6, 7],\n",
    "        [10, 9, 8],\n",
    "        [11, 12, 13]\n",
    "    ]\n",
    "\n",
    "    # Edge cases\n",
    "    assert create_zigzag(0, 3) == []\n",
    "    assert create_zigzag(3, 0) == [[], [], []]\n",
    "    assert create_zigzag(0, 0) == []\n",
    "\n",
    "    print(\"Coding complete? Click 'Check' to earn cool rewards!\")\n"
   ]
  },
  {
   "cell_type": "markdown",
   "metadata": {},
   "source": [
    "# Cut Sentence"
   ]
  },
  {
   "cell_type": "code",
   "execution_count": 34,
   "metadata": {},
   "outputs": [
    {
     "name": "stdout",
     "output_type": "stream",
     "text": [
      "Done! Do you like it? Go Check it!\n"
     ]
    }
   ],
   "source": [
    "import textwrap\n",
    "\n",
    "def cut_sentence(line, length):\n",
    "    '''\n",
    "    Cut a given sentence, so it becomes shorter than or equal to a given length.\n",
    "    '''\n",
    "    # your code here\n",
    "    shortened = textwrap.shorten(line, width=length, placeholder=\"\", break_long_words=False)\n",
    "    if line == shortened:\n",
    "        return shortened\n",
    "    else:\n",
    "        return shortened + '...'\n",
    "\n",
    "\n",
    "if __name__ == '__main__':\n",
    "    #These \"asserts\" using only for self-checking and not necessary for auto-testing\n",
    "    assert cut_sentence(\"Hi my name is Alex\", 4) == \"Hi...\", \"First\"\n",
    "    assert cut_sentence(\"Hi my name is Alex\", 8) == \"Hi my...\", \"Second\"\n",
    "    assert cut_sentence(\"Hi my name is Alex\", 18) == \"Hi my name is Alex\", \"Third\"\n",
    "    assert cut_sentence(\"Hi my name is Alex\", 20) == \"Hi my name is Alex\", \"Fourth\"\n",
    "    print('Done! Do you like it? Go Check it!')"
   ]
  },
  {
   "cell_type": "markdown",
   "metadata": {},
   "source": [
    "# Best Stock"
   ]
  },
  {
   "cell_type": "code",
   "execution_count": 32,
   "metadata": {},
   "outputs": [
    {
     "name": "stdout",
     "output_type": "stream",
     "text": [
      "Example:\n",
      "ATX\n",
      "Coding complete? Click 'Check' to earn cool rewards!\n"
     ]
    }
   ],
   "source": [
    "def best_stock(data: dict) -> str:\n",
    "    # your code here\n",
    "    return [stock for stock, value in data.items() if value == max(data.values())][0]\n",
    "\n",
    "if __name__ == '__main__':\n",
    "    print(\"Example:\")\n",
    "    print(best_stock({\"CAC\": 10.0, \"ATX\": 390.2, \"WIG\": 1.2}))\n",
    "\n",
    "    # These \"asserts\" are used for self-checking and not for an auto-testing\n",
    "    assert best_stock({\"CAC\": 10.0, \"ATX\": 390.2, \"WIG\": 1.2}) == \"ATX\"\n",
    "    assert best_stock({\"CAC\": 91.1, \"ATX\": 1.01, \"TASI\": 120.9}) == \"TASI\"\n",
    "    print(\"Coding complete? Click 'Check' to earn cool rewards!\")"
   ]
  },
  {
   "cell_type": "markdown",
   "metadata": {},
   "source": [
    "# Binary Count"
   ]
  },
  {
   "cell_type": "code",
   "execution_count": 39,
   "metadata": {},
   "outputs": [
    {
     "name": "stdout",
     "output_type": "stream",
     "text": [
      "Coding complete? Click 'Check' to review your tests and earn cool rewards!\n"
     ]
    }
   ],
   "source": [
    "def checkio(number: int) -> int:\n",
    "    return str(bin(number)).count('1')\n",
    "\n",
    "#These \"asserts\" using only for self-checking and not necessary for auto-testing\n",
    "if __name__ == '__main__':\n",
    "    assert checkio(4) == 1\n",
    "    assert checkio(15) == 4\n",
    "    assert checkio(1) == 1\n",
    "    assert checkio(1022) == 9\n",
    "    print(\"Coding complete? Click 'Check' to review your tests and earn cool rewards!\")\n"
   ]
  },
  {
   "cell_type": "markdown",
   "metadata": {},
   "source": [
    "# Caesar Cipher"
   ]
  },
  {
   "cell_type": "code",
   "execution_count": 80,
   "metadata": {},
   "outputs": [
    {
     "name": "stdout",
     "output_type": "stream",
     "text": [
      "Example:\n",
      "klm\n",
      "Coding complete? Click 'Check' to earn cool rewards!\n"
     ]
    }
   ],
   "source": [
    "import string\n",
    "\n",
    "def to_encrypt(text, delta):\n",
    "    #replace this for solution\n",
    "    letters = string.ascii_lowercase\n",
    "    \n",
    "    cipher = []\n",
    "    for char in text:\n",
    "        if char == ' ':\n",
    "            cipher.append(char)\n",
    "        else:\n",
    "            idx = letters.find(char)\n",
    "            new_idx = idx + delta\n",
    "            if new_idx >= 25: new_idx = new_idx - 26\n",
    "            new_char = letters[new_idx]\n",
    "            cipher.append(new_char)\n",
    "            \n",
    "    return ''.join(cipher)    \n",
    "\n",
    "if __name__ == '__main__':\n",
    "    print(\"Example:\")\n",
    "    print(to_encrypt('abc', 10))\n",
    "\n",
    "    #These \"asserts\" using only for self-checking and not necessary for auto-testing\n",
    "    assert to_encrypt(\"a b c\", 3) == \"d e f\"\n",
    "    assert to_encrypt(\"a b c\", -3) == \"x y z\"\n",
    "    assert to_encrypt(\"simple text\", 16) == \"iycfbu junj\"\n",
    "    assert to_encrypt(\"important text\", 10) == \"swzybdkxd dohd\"\n",
    "    assert to_encrypt(\"state secret\", -13) == \"fgngr frperg\"\n",
    "    print(\"Coding complete? Click 'Check' to earn cool rewards!\")"
   ]
  },
  {
   "cell_type": "markdown",
   "metadata": {},
   "source": [
    "# Caesar Decryptor"
   ]
  },
  {
   "cell_type": "code",
   "execution_count": 97,
   "metadata": {},
   "outputs": [
    {
     "name": "stdout",
     "output_type": "stream",
     "text": [
      "Example:\n",
      "klm\n",
      "Coding complete? Click 'Check' to earn cool rewards!\n"
     ]
    }
   ],
   "source": [
    "import string\n",
    "def to_decrypt(cryptotext, delta):\n",
    "    letters = string.ascii_lowercase\n",
    "    \n",
    "    decrypted = []\n",
    "    \n",
    "    for char in cryptotext:\n",
    "        if char == ' ':\n",
    "            decrypted.append(char)\n",
    "        elif char in letters:\n",
    "            idx = letters.find(char)\n",
    "            new_idx = idx + delta\n",
    "            \n",
    "            if new_idx >= 25: \n",
    "                new_idx = new_idx - 26\n",
    "            \n",
    "            new_char = letters[new_idx]\n",
    "            decrypted.append(new_char)\n",
    "        else:\n",
    "            continue\n",
    "        \n",
    "    return ''.join(decrypted)\n",
    "\n",
    "if __name__ == '__main__':\n",
    "    print(\"Example:\")\n",
    "    print(to_decrypt('abc', 10))\n",
    "\n",
    "    #These \"asserts\" using only for self-checking and not necessary for auto-testing\n",
    "    assert to_decrypt(\"!d! [e] &f*\", -3) == \"a b c\"\n",
    "    assert to_decrypt(\"x^$# y&*( (z):-)\", 3) == \"a b c\"\n",
    "    assert to_decrypt(\"iycfbu!@# junj%&\", -16) == \"simple text\"\n",
    "    assert to_decrypt(\"*$#%swzybdkxd !)(^#%dohd\", -10) == \"important text\"\n",
    "    assert to_decrypt(\"fgngr **&&frperg^__^\", 13) == \"state secret\"\n",
    "    print(\"Coding complete? Click 'Check' to earn cool rewards!\")"
   ]
  },
  {
   "cell_type": "markdown",
   "metadata": {},
   "source": [
    "# The greatest common divisor"
   ]
  },
  {
   "cell_type": "code",
   "execution_count": 131,
   "metadata": {},
   "outputs": [
    {
     "name": "stdout",
     "output_type": "stream",
     "text": [
      "Example:\n",
      "2\n",
      "Coding complete? Click 'Check' to earn cool rewards!\n"
     ]
    }
   ],
   "source": [
    "def greatest_common_divisor(*args:int) -> int:\n",
    "    # your code here\n",
    "    divisors = []\n",
    "    for number in args:\n",
    "        divisors.append([])\n",
    "        for try_divisor in range(1, number + 1):\n",
    "            if number % try_divisor == 0:\n",
    "                divisors[-1].append(try_divisor)\n",
    "    common_divisors = set.intersection(*[set(list) for list in divisors])\n",
    "    return max(common_divisors)\n",
    "\n",
    "if __name__ == '__main__':\n",
    "    print(\"Example:\")\n",
    "    print(greatest_common_divisor(6, 4))\n",
    "\n",
    "    # These \"asserts\" are used for self-checking and not for an auto-testing\n",
    "    assert greatest_common_divisor(6, 4) == 2\n",
    "    assert greatest_common_divisor(2, 4, 8) == 2\n",
    "    assert greatest_common_divisor(2, 3, 5, 7, 11) == 1\n",
    "    assert greatest_common_divisor(3, 9, 3, 9) == 3\n",
    "    print(\"Coding complete? Click 'Check' to earn cool rewards!\")"
   ]
  },
  {
   "cell_type": "markdown",
   "metadata": {},
   "source": [
    "# Most Wanted Letter"
   ]
  },
  {
   "cell_type": "code",
   "execution_count": 161,
   "metadata": {},
   "outputs": [
    {
     "name": "stdout",
     "output_type": "stream",
     "text": [
      "Start the long test\n",
      "The local tests are done.\n"
     ]
    }
   ],
   "source": [
    "import string\n",
    "\n",
    "def most_wanted(text: str) -> str:\n",
    "\n",
    "    #replace this for solution\n",
    "    text = text.lower()\n",
    "    unique_letters = [char for char in set(text) if char in string.ascii_lowercase]\n",
    "    \n",
    "    counts = []\n",
    "    for letter in unique_letters:\n",
    "        counts.append([letter])\n",
    "        counts[-1].append(text.count(letter))\n",
    "    \n",
    "    max_count = max([pair[-1] for pair in counts])   \n",
    "    max_letters = [letter for letter, count in counts if count == max_count]\n",
    "    return sorted(max_letters)\n",
    "\n",
    "if __name__ == '__main__':\n",
    "    #These \"asserts\" using only for self-checking and not necessary for auto-testing\n",
    "    assert sorted(most_wanted(\"Hello World!\")) == [\"l\"], \"Hello test\"\n",
    "    assert sorted(most_wanted(\"How do you do?\")) == [\"o\"], \"O is most wanted\"\n",
    "    assert sorted(most_wanted(\"One\")) == [\"e\", \"n\", \"o\"], \"All letter only once.\"\n",
    "    assert sorted(most_wanted(\"Oops!\")) == [\"o\"], \"Don't forget about lower case.\"\n",
    "    assert sorted(most_wanted(\"AAaooo!!!!\")) == [\"a\", \"o\"], \"Only letters.\"\n",
    "    assert sorted(most_wanted(\"abe\")) == [\"a\", \"b\", \"e\"], \"The First.\"\n",
    "    print(\"Start the long test\")\n",
    "    assert sorted(most_wanted(\"a\" * 9000 + \"b\" * 1000)) == [\"a\"], \"Long.\"\n",
    "    print(\"The local tests are done.\")"
   ]
  },
  {
   "cell_type": "markdown",
   "metadata": {},
   "source": [
    "# Flatten a list"
   ]
  },
  {
   "cell_type": "code",
   "execution_count": 171,
   "metadata": {},
   "outputs": [],
   "source": [
    "def flat_list(array):\n",
    "    array = str(array).replace('[', '').replace(']', '').replace(',', '').strip()\n",
    "    return list(map(int, array.split(' '))) if array else []"
   ]
  },
  {
   "cell_type": "code",
   "execution_count": null,
   "metadata": {},
   "outputs": [],
   "source": []
  },
  {
   "cell_type": "code",
   "execution_count": null,
   "metadata": {},
   "outputs": [],
   "source": [
    "ef flatten(S):\n",
    "    if S == []:\n",
    "        return S\n",
    "    if isinstance(S[0], list):\n",
    "        return flatten(S[0]) + flatten(S[1:])\n",
    "    return S[:1] + flatten(S[1:])"
   ]
  },
  {
   "cell_type": "code",
   "execution_count": 172,
   "metadata": {},
   "outputs": [
    {
     "name": "stdout",
     "output_type": "stream",
     "text": [
      "Done! Check it\n"
     ]
    }
   ],
   "source": [
    "\n",
    "\n",
    "if __name__ == '__main__':\n",
    "    assert flat_list([1, 2, 3]) == [1, 2, 3], \"First\"\n",
    "    assert flat_list([1, [2, 2, 2], 4]) == [1, 2, 2, 2, 4], \"Second\"\n",
    "    assert flat_list([[[2]], [4, [5, 6, [6], 6, 6, 6], 7]]) == [2, 4, 5, 6, 6, 6, 6, 6, 7], \"Third\"\n",
    "    assert flat_list([-1, [1, [-2], 1], -1]) == [-1, 1, -2, 1, -1], \"Four\"\n",
    "    print('Done! Check it')"
   ]
  },
  {
   "cell_type": "code",
   "execution_count": 17,
   "metadata": {},
   "outputs": [],
   "source": [
    "path = \"UDDDUDUUDU\"\n",
    "\n",
    "def countingValleys(path):\n",
    "    \n",
    "    num_path = [1 if step == 'U' else -1 for step in path]\n",
    "\n",
    "    previous = 0\n",
    "    initial = 0\n",
    "    valleys = 0\n",
    "    for step in num_path:\n",
    "        previous = initial\n",
    "        initial += step\n",
    "        if initial == -1 and previous == 0:\n",
    "            valleys += 1\n",
    "    return valleys"
   ]
  },
  {
   "cell_type": "code",
   "execution_count": 18,
   "metadata": {},
   "outputs": [
    {
     "data": {
      "text/plain": [
       "2"
      ]
     },
     "execution_count": 18,
     "metadata": {},
     "output_type": "execute_result"
    }
   ],
   "source": [
    "countingValleys(path)"
   ]
  },
  {
   "cell_type": "code",
   "execution_count": 22,
   "metadata": {},
   "outputs": [],
   "source": [
    "def rotLeft(a, d):\n",
    "    # Write your code here\n",
    "    for i in range(d):\n",
    "        rotate_value = a.pop(0)\n",
    "        a.append(rotate_value)\n",
    "        \n",
    "    return a"
   ]
  },
  {
   "cell_type": "code",
   "execution_count": 42,
   "metadata": {},
   "outputs": [],
   "source": [
    "def minimumBribes(q):\n",
    "    # Write your code here\n",
    "    original_order = sorted(q)\n",
    "    counter = {}\n",
    "    \n",
    "    for person in original_order:\n",
    "        if q.index(person) - original_order.index(person) >= 0:\n",
    "            continue\n",
    "        counter[person] = abs(q.index(person) - original_order.index(person))\n",
    "    number_bribes = list(counter.values())\n",
    "    \n",
    "    for bribe in number_bribes:\n",
    "        if bribe > 2:\n",
    "            return 'Too chaotic'\n",
    "            break\n",
    "            \n",
    "    return sum(number_bribes)"
   ]
  },
  {
   "cell_type": "code",
   "execution_count": 43,
   "metadata": {},
   "outputs": [
    {
     "data": {
      "text/plain": [
       "4"
      ]
     },
     "execution_count": 43,
     "metadata": {},
     "output_type": "execute_result"
    }
   ],
   "source": [
    "a = [1, 2, 5, 3, 4, 7, 8, 6]\n",
    "minimumBribes(a)"
   ]
  },
  {
   "cell_type": "code",
   "execution_count": 96,
   "metadata": {},
   "outputs": [],
   "source": [
    "def alternatingCharacters(s):\n",
    "    # Write your code here\n",
    "    counter = 0\n",
    "    s = list(s)\n",
    "    last = s.pop()\n",
    "    \n",
    "    while s:\n",
    "        print(s)\n",
    "        new = s.pop()\n",
    "        if new == last:\n",
    "            counter += 1\n",
    "        last = new\n",
    "    return counter"
   ]
  },
  {
   "cell_type": "code",
   "execution_count": 97,
   "metadata": {},
   "outputs": [
    {
     "name": "stdout",
     "output_type": "stream",
     "text": [
      "['A', 'A']\n",
      "['A']\n"
     ]
    },
    {
     "data": {
      "text/plain": [
       "2"
      ]
     },
     "execution_count": 97,
     "metadata": {},
     "output_type": "execute_result"
    }
   ],
   "source": [
    "alternatingCharacters('AAA')"
   ]
  },
  {
   "cell_type": "code",
   "execution_count": 1,
   "metadata": {},
   "outputs": [],
   "source": [
    "a = [9384,887,2778,6916,7794,8336,5387,493,6650,1422,2363,28,8691,60,7764,3927,541,3427,9173,5737,5212,5369,2568,6430,5783,1531,2863,5124,4068,3136,3930,9803,4023,3059,3070,8168,1394,8457,5012,8043,6230,7374,4422,4920,3785,8538,5199,4325,8316,4371,6414,3527,6092,8981,9957,1874,6863,9171,6997,7282,2306,926,7085,6328,337,6506,847,1730,1314,5858,6125,3896,9583,546,8815,3368,5435,365,4044,3751,1088,6809,7277,7179,5789,3585,5404,2652,2755,2400,9933,5061,9677,3369,7740,13,6227,8587,8095,7540,796,571,1435,379,7468,6602,98,2903,3318,493,6653,757,7302,281,4287,9442,3866,9690,8445,6620,8441,4730,8032,8118,8098,5772,4482,676,710,8928,4568,7857,9498,2354,4587,6966,5307,4684,6220,8625,1529,2872,5733,8830,9504,20,8271,3369,9709,6716,6341,8150,7797,724,2619,2246,2847,3452,2922,3556,2380,7489,7765,8229,9842,2351,5194,1501,7035,7765,125,4915,6988,5857,3744,6492,2228,8366,9860,1937,1433,2552,6438,9229,3276,5408,1475,6122,8859,4396,6030,1238,8236,3794,5819,4429,6144,1012,5929,9530,8777,2405,4444,5764,4614,4539,8607,6841,2905,4819,5129,689,7370,7918,9918,6997,3325,7744,9471,2184,8491,5500,9773,6726,5645,5591,7506,8140,2955,9787,7670,8083,8543,8465,198,9508,9356,8805,6349,8612,3623,7829,9300,7344,5747,5569,4341,5423,3312,3811,7606,1802,5662,3731,4879,1306,9321,8737,9445,8627,8523,3466,6709,3417,8283,3259,2925,7638,2063,5625,2601,2037,3453,1900,9380,5551,7469,72,974,7132,3882,4931,8934,5895,8661,164,7200,7982,8900,2997,2960,3774,2814,9669,7191,1096,2927,6467,5085,1341,2091,7685,3377,5543,5937,9108,7446,9757,9180,8419,6888,9413,3349,2173,1660,2010,2337,5211,6343,7588,8207,9302,7714,7373,5322,1256,4820,4600,7722,9905,5940,9812,3941,5668,1706,6229,1128,9151,5985,6659,3921,9225,2423,7270,1397,4082,5631,85,9293,1973,7673,3851,7626,5386,1223,9300,6641,6043,3899,714,2299,6191,525,2591,8210,8582,8820,9337,7733,1156,5995,8005,380,4770,5274,1777,8851,7256,1861,8143,5580,5885,1994,3206,7622,9568,2505,614,1962,2755,1327,4260,8945,8203,3203,3507,6785,2022,2843,869,9529,5190,8873,9909,9959,499,8037,8809,7754,6249,3304,3334,2134,1649,2891,9755,7568,1747,369,9530,4501,8047,3789,9798,6250,6991,3304,3034,5364,2498,254,4893,7687,9126,1153,3997,5976,9189,9158,3730,5437,2461,3415,3922,461,6305,29,8028,8051,6749,7557,8903,4795,7698,8700,1044,1040,2003,429,6404,4501,682,7648,8539,6160,5152,2536,2135,4340,1693,2216,6128,505,5630,50,965,8286,6430,5344,6336,3178,2901,5239,7972,6950,290,5368,7989,2293,5796,744,3145,2830,8391,1683,5341,3542,570,3827,4233,2262,6043,361,9118,8024,6762,82,6310,3191,5426,8997,6368,4678,4235,691,1627,4525,6058,9615,3169,8206,359,6313,7387,5101,4347,2727,4995,4917,6553,5579,3530,8947,2291,2648,6971,9052,9081,9632,8594,858,8628,1313,1887,9215,8356,3513,91,4413,9480,9611,8970,6190,2275,6356,7642,6621,5434,8988,7889,8339,4567,7771,7285,6857,418,607,2261,5850,238,7206,3060,5218,8519,4946,784,6874,8459,874,7638,4290,484,6608,479,2758,9315,4472,5730,1101,3460,3619,9439,8026,1389,3075,1234,8158,3682,3494,359,271,700,3418,1840,5570,8364,2623,8795,3174,9848,6432,7463,6683,9391,4293,5792,5058,5116,1522,6158,8575,1492,1948,2952,9232,5022,538,3741,5055,4031,4099,5326,1082,7517,3517,3003,2232,6140,1797,5405,2339,4581,9219,9022,3971,9863,4813,5380,4978,2686,1537,9905,4177,3484,9208,9760,4858,9745,3500,9912,128,3951,5237,7561,7819,5106,564,50,1245,8712,1806,9935,3292,7376,8956,3615,3590,3769,8994,4919,2806,6883,4823,6983,6718,4031,3094,1575,127,6594,1487,254,544,3075,7815,4714,8180,8378,4763,5776,7089,2920,5711,6733,295,1018,347,236,1138,5692,5154,3944,2574,6329,926,9292,6711,4019,7218,6837,6964,5056,7091,3859,8131,4905,8572,2662,9634,9686,4790,3074,2605,6852,9806,9251,7869,6504,9486,9007,2196,4640,2950,1121,968,227,6764,7678,597,3982,866,7561,9037,7956,7771,3519,9212,6343,2533,5197,2380,7322,8271,4985,4173,4428,4235,2041,7284,73,7399,5831,1064,348,6951,2031,574,3715,6060,7523,4048,6925,5083,9436,1233,9205,2955,444,1899,5487,5641,4279,9160,263,9263,9684,1042,9849,1724,8325,6273,9123,4155,7336,5822,7458,9366,2748,1172,1777,270,5219,8702,1704,4654,9934,908,3960,6729,2807,5798,8721,7085,1309,5335,2699,992,6377,8899,2716,1053,5172,8190,1560,2507,4011,9017,8225,3110,6540,1,3379,8110,5054,5082,9115,1339,5990,9427,8068,5148,5224,6788,2232,6533,2123,1282,3876,4851,180,6591,2255,5351,1132,3814,7858,1495,9182,6082,4604,5721,2434,7983,182,7488,9416,9297,8826,5405,8723,6893,552,298,33,9135,3182,8507,416,7058,9709,596,10000,1963,2298,7484,5777,155,8978,1310,2588,9933,3383,5022,4267,3564,8861,3683,9212,7686,9087,4286,931,5991,4584,7315,1477,4117,5821,1893,7526,5529,8840,7526,7491,1137,1361,9619,7644,338,929,6583,6622,4311,7956,889,4226,6816,4571,3438,854,9,7723,1784,2351,8658,9098,3828,9127,1270,2072,6652,3150,911,529,640,8399,1889,6611,2394,8578,3891,8977,5200,4553,6932,6088,8778,100,658,8567,953,7018,2642,2736,9369,1299,8185,3196,6777,5806,5267,3429,8955,2529,309,9594,7279,2198,2556,9673,775,6446,5001,2326,998,8284,8413,6128,8383,5422,4694,9335,2440,7335,8422,8160,4986,2958,1355,1762,8763,2973,1542,7717,1853,1851,3663,5483,400,6218,5155,1174,9016,6507,9852,6365,4791,8264,2492,3173,38,3538,8860,8829,872,7281,6988,5857,6591,8342,3971,5353,7666,5512,3070,9518,7362,3084,1352,4113,9301,6507,1639,4668,9365,1490,1033,4155,6105,9876,3680,6142,3413,2539,4970,637,6171,1957,2845,2761,6650,6815,4466,4315,2327,3887,184,6040,6970,1536,153,2622,4394,1791,7290,110,9632,4674,4265,5736,4549,4296,1878,4314,6834,3199,4950,9356,5156,7794,8469,8157,961,2934,8824,3287,3172,5359,5678,141,3246,2182,2762,3991,324,51,4101,9955,1076,8365,2043,5625,2660,3920,6290,5845,3470,1239,1552,4977,5384,20,3134,6344,9305,1957,5982,2476,3667,8012,8968,6913,193,1730,903,6869,8132,5003,3175,9208,9719,5217,1184,2378,5488,7473,4574,8958,5063,6126,3934,6798,2497,3419,3142,8154,1727,5475,6981,5394,3486,5949,2306,31,4030,9560,6899,2161,4563,6425,7720,4281,1642,8903,3011,3481,2727,7584,8790,4141,3709,2724,939,2558,2494,432,711,4221,5906,7691,9614,9392,3639,8271,9422,7668,7830,2672,6181,8744,9096,3900,3025,7089,9155,2387,570,8233,9970,5711,2374,31,8434,9664,2588,7280,95,9650,1500,2352,7340,7465,1743,7331,2087,7516,1350,9916,187,3882,5012,5635,4134,4388,2723,3288,6774,9644,1520,6743,5355,245,3125,140,6260,2064,7419,6354,1713,5270,8706,5405,2734,6800,2735,4820,4316,436,1088,854,670,2451,6488,4803,6838,5563,8090,3611,5206,5961,6705,6912,2558,9830,3404,8817,1893,822,1523,3606,2444,6580,5362,1529,3379,4448,2701,4046,4883,3788,4900,5552,2590,1387,354,9427,6949,4795,3037,8507,7108,6093,5418,9665,5922,8821,8481,4167,5995,6355,4124,8438,2934,9485,6318,6313,3932,9018,6710,5166,9157,1609,7070,1746,2996,7423,1172,6296,8570,560,4802,5677,6653,6572,5341,8926,1744,173,3092,4090,6528,3567,8879,5813,3051,5197,2125,3334,4214,5187,8500,3371,6795,5569,5116,6142,9343,2640,2438,4264,3199,3591,9940,6203,6514,1632,5129,8258,1805,4572,2347,4684,8139,1226,496,7541,6422,8973,7227,635,4159,5726,357,953,7646,5473,3447,3340,8112,5884,7604,7662,5826,7543,217,2340,9175,5345,597,7331,6268,9295,2014,758,520,8861,4651,3293,7833,1877,280,1991,3954,636,9296,1599,6108,2742,4938,571,4977,2541,4585,802,84,4801,9493,5610,6497,6441,2940,2764,5736,1305,9874,2607,165,4524,2252,4350,2752,2531,6340,6705,3166,1987,8303,5626,1080,9592,2548,2408,8485,7132,9562,4920,1932,9054,529,8428,5495,9820,7544,7582,1124,3769,188,7640,4644,2439,1989,7395,1321,4681,4099,4487,3019,8753,6464,4099,4696,9011,6506,3180,6143,6067,8099,4426,1473,4979,2854,6967,4798,6749,4548,2273,517,1087,9913,5160,9878,1901,2554,1198,2933,3004,2036,5952,8108,8499,50,9155,3862,2907,2335,4,5326,6785,4429,6798,1764,3634,116,6561,382,1015,5186,898,2101,5098,2409,8330,3350,1314,5880,2635,4317,7915,8586,8776,2766,4987,7931,6627,7893,6617,6630,9570,9753,7410,6367,1516,7396,2834,4429,7777,3848,9614,5027,2301,1063,3787,630,764,5101,6509,3398,9417,776,1983,4545,3541,3321,8827,6519,7566,1795,9500,7135,1547,6909,9854,3063,4304,2687,3843,8433,6535,9808,9811,8835,870,3597,5816,7985,8697,2325,1383,4466,9452,9717,5362,9344,3038,4188,5862,603,5982,5361,4089,3880,8621,3942,3294,2925,6629,7136,7709,3163,6943,3871,1997,4164,7467,7812,8501,2516,6488,6235,3333,2291,5951,8694,1634,5340,2881,7495,2294,5214,2855,6383,5445,1476,324,8739,752,6952,5874,4812,6466,9169,8682,4814,9684,2500,8978,4536,5015,5465,770,8347,4108,3073,3392,5741,8412,2624,9588,7058,7837,8794,3440,3282,6621,115,8372,7372,3419,597,8535,9884,9765,3568,4698,5801,6068,3675,336,7434,5491,7458,2133,5950,530,5524,1691,5293,8148,7630,2350,2336,6423,2141,1969,3044,2256,340,6767,2026,937,1654,8261,7053,5221,2958,9205,1288,2984,9541,8722,4827,6998,7206,7128,3879,2729,5170,9171,7228,2799,1521,9564,9222,3661,7884,8617,2268,8224,5383,4293,5512,7036,2554,2564,8609,1863,1769,9896,1199,7661,4969,2377,1010,2174,9504,4888,1255,4674,4058,8482,3824,1930,4397,3045,1943,2281,8013,4210,6856,9748,4855,2367,3135,3760,1282,1743,1974,9402,1639,3172,3414,2959,1900,4423,1485,7756,5662,9091,8781,6072,3924,2604,8001,8321,2001,9943,6953,13,505,3808,9760,5359,2526,2895,9118,159,4637,1091,9561,2627,615,2974,1938,8866,3749,3422,6621,9410,8864,5401,1833,2787,8005,9834,7459,6357,6128,4411,6369,6632,4570,6129,8342,3447,5375,7459,3606,11,4902,3166,8990,1868,2491,927,733,6239,700,3706,2001,9563,5458,3833,2349,3462,18,9808,6170,2498,570,2539,9129,5140,5019,7471,8586,393,1281,8543,6755,2534,1708,5744,4401,551,3022,1486,6789,3721,5191,5141,9635,648,5326,1984,462,1695,8143,6631,4192,5064,5521,3321,6555,539,7143,1493,931,8423,35,7686,7309,8095,9781,1709,8645,2803,9546,1785,6523,1088,6926,6158,1736,8603,4493,8549,297,8987,1531,841,4050,7052,513,6957,7590,7655,8449,4873,2429,8483,2558,6089,6577,2338,7798,5221,5140,3695,7006,8015,4783,283,524,2870,5237,5016,1418,1885,354,9300,2725,755,6351,3237,7711,293,7243,6159,5165,6024,4642,7722,2112,7570,6411,6261,2791,7903,9956,6148,5917,1090,2782,6440,3959,8018,7807,5376,9902,4512,4675,8979,5266,7378,8567,2977,7670,2162,9135,2834,4537,128,6907,3000,7698,3317,9261,6840,7571,5568,2987,3487,3009,5768,6278,6967,137,436,8694,38,4947,9720,5368,213,7097,3935,9541,1118,6096,8675,3951,632,8803,7209,3631,2852,526,9243,9691,4448,1162,2677,7935,4170,4796,564,1136,4932,7352,6181,1321,2298,5901,6689,8862,2997,6975,8402,4115,3070,3429,4417,53,8583,1626,3683,1434,8503,9278,1124,2950,6791,152,7236,961,4947,7800,8448,6230,1503,4629,7550,3800,529,590,9014,9877,7564,3767,3991,6985,7195,4760,7037,5777,6385,7072,7210,1239,2701,4685,540,9491,4836,7776,451,9782,1927,5251,2363,3429,9879,6265,3580,6759,6854,8945,6635,770,2712,6978,4106,6258,1737,1143,2035,4473,4566,5596,5711,7266,6633,6250,3108,1468,377,3559,7602,2303,5161,9964,2083,5039,6228,2015,1797,9434,959,8431,6555,3670,5408,660,9928,3496,1802,8314,7968,2719,261,30,6336,6893,2632,9444,4713,3008,9354,2314,1663,4514,8629,97,9552,4857,2111,7700,642,3070,2482,7196,3091,7890,7855,9370,7737,6009,7683,5705,8727,4296,5734,1415,1188,8365,858,2252,7725,211,4565,5739,4724,3194,5835,627,4402,7946,8326,1395,7367,807,8590,457,5048,2796,9827,2785,8804,3861,4841,3883,8156,574,1649,5696,5291,2506,7947,9367,9068,8864,5105,3791,8409,7291,769,9162,5236,9094,556,2602,6252,9145,9411,7652,8292,5589,436,3448,9449,5276,3682,3957,2201,5330,9652,3843,7835,3950,9561,6902,9165,4665,7044,7573,1956,7812,6734,3543,3257,3641,2497,5860,9137,8259,3511,7429,3847,298,876,3295,1925,4557,7251,4126,9886,3254,4320,4072,3556,3881,7325,2720,4897,4368,6645,3204,8531,9730,6747,1787,3371,5595,7646,8859,3853,7509,6287,7699,7806,3514,7345,9731,4422,948,208,659,4201,879,4730,4108,4759,2054,3180,6008,2773,6176,9211,1303,5905,2309,9441,5627,7903,7087,4486,8107,947,7124,5805,8752,638,9502,4834,1411,449,1393,2070,1001,2272,3151,5109,3382,1557,8288,9389,4329,4463,4952,1984,6719,7260,1424,2346,1515,4862,3183,5973,5808,6658,8130,912,7295,7631,5745,5058,8079,7138,7127,9079,5761,6629,4187,9142,8185,8826,4883,8866,9640,9834,849,6359,3445,8624,5056,1311,3486,4590,7284,5645,1247,5413,6556,4894,3043,2301,9951,1121,5790,3429,6551,1550,57,738,7043,8242,5915,1925,3459,5555,8110,659,8265,1555,9282,3320,9217,9119,4261,6500,4764,5507,8264,1319,400,1306,9971,6702,8778,2112,130,5329,13,187,2418,7056,4780,4684,8980,4590,238,7090,5248,4854,4996,881,4525,4212,10000,8785,712,1115,644,5327,8785,1043,6633,5108,4097,1762,7219,4226,3442,7232,764,2211,4287,1895,6895,9618,2836,3484,3059,8083,8338,8054,5316,9214,8618,5315,7999,5681,2781,8642,1007,1565,6036,7639,3024,132,5753,243,710,5546,3826,7825,7757,4464,6072,1003,4081,8907,4486,3492,6990,9175,1545,8657,8389,162,3971,2739,5842,3103,1380,6849,1019,3767,839,4043,251,2943,4285,960,8489,4462,5136,2597,8925,1207,3599,9357,114,4436,2848,3455,9963,745,2111,4703,7258,2433,7441,9452,1887,5172,6300,2905,5290,3490,6947,5540,2785,7583,2851,1273,2044,7987,3869,7320,9193,3819,6677,5658,8254,5876,5464,8216,6620,3926,9270,3878,2710,6710,9681,4596,8233,2332,7501,3523,5821,4447,5414,4957,2030,8265,6229,425,6251,6449,7745,1795,6619,773,3805,4873,6648,9268,9440,9620,3194,8710,9849,2255,1771,9529,6851,6356,1860,4351,6230,4032,5149,1643,8989,7178,9907,1569,3955,2509,4370,1699,4304,988,2471,8108,2212,5470,3727,8004,1441,3272,3065,1289,5527,1187,817,2377,7542,9028,3079,123,3060,8227,1766,8400,5405,8024,9968,9359,533,689,7409,1188,1677,6231,9295,240,8052,9373,8243,9493,2645,1307,781,4523,2494,7950,6899,6387,3329,9977,6510,6388,8203,4627,1139,9959,2650,7459,5669,3182,8147,9429,721,6175,5659,15,6415,63,5740,4657,9555,4736,2316,335,9258,1161,4636,2508,7547,7965,2484,4056,704,7038,5034,1843,3349,7684,9301,5369,7217,7447,1150,7938,3622,3160,4304,6388,3222,43,1044,2776,4778,9711,9463,387,871,4098,2894,8418,2062,1729,8825,9118,8767,3859,960,8467,7894,260,187,5110,4058,1336,3047,4031,4496,3703,418,7717,97,7814,493,4875,7524,6307,5261,8395,404,4507,3164,8818,6235,8340,7935,1353,8550,8894,9819,6443,5505,6,7905,5914,7693,7303,9945,2188,1005,362,6257,1102,4527,6749,2328,2051,3055,3940,6797,9810,8446,6312,8627,4681,1003,2913,6033,9553,8158,2204,2347,3662,8561,251,5928,6253,7554,5872,8441,8558,2585,1049,6011,7112,4149,8338,5514,3555,2278,8662,3364,7075,1325,8343,1755,2327,1255,4140,1879,5765,6343,4226,5778,4903,828,1705,1155,8381,7576,5947,3291,161,6995,9301,3624,1143,3991,5489,4697,2620,4150,4413,9694,1826,2755,1449,4152,361,5588,2383,6125,1930,2960,1903,3184,3787,3607,4338,2168,7535,6637,1810,4047,3631,1110,7670,1126,1452,3158,2174,4071,3659,6586,3765,5484,9340,1565,5987,6053,3504,8369,2177,5433,1328,431,4968,1467,4038,9305,3634,1572,2293,1795,5618,2276,9256,9639,3401,708,9148,5574,4778,9158,2160,4894,993,7851,6458,6979,3903,9961,5348,2432,1745,3027,2862,6712,4493,6899,2369,4478,4822,4661,6272,6791,3288,1880,2781,6688,2587,8280,8614,7364,7437,7125,8610,8429,4975,5067,1760,5230,5028,3459,7661,6772,6485,6874,9836,7330,125,2204,8159,4946,3216,783,8089,6504,2662,869,9543,5248,5501,8156,8963,2937,1632,7572,7718,2959,2639,9477,8188,4018,2935,2200,7141,5771,9073,3328,9452,9197,1883,7611,495,5099,8393,8583,7954,1054,5803,3848,2653,7655,8356,1615,592,9987,5539,4661,2945,4529,489,7484,8546,3423,6035,2038,5545,5108,5366,4997,656,7248,2607,1150,8698,7351,6084,3003,8404,8239,6851,1056,5893,5206,9022,2836,5192,912,7496,4489,5440,7984,8324,337,7758,4359,8727,3303,9466,4092,4651,121,7691,3609,7623,6389,959,58,9391,9362,8296,6241,6769,541,7798,2142,3376,9342,3054,7224,3830,4845,1559,2153,1534,9317,6511,260,8971,2328,4351,9973,8801,2041,3581,2775,4781,4539,2832,4172,3900,7480,6764,7020,8020,4562,5513,7747,255,4918,4970,4084,9763,6529,2588,1296,2197,5451,1555,1167,4130,2257,1139,2930,4297,4719,2056,5430,5609,4888,9601,9508,8719,2716,2879,6738,3629,8391,836,3883,3309,5806,4318,9423,8686,3258,7070,882,8708,8624,8400,2837,880,5890,2119,1528,608,4174,6957,6216,5413,2909,2075,4131,1977,1305,7220,1957,6047,8056,5840,5707,213,6509,5129,8898,9766,2198,6131,8473,7173,4530,7662,4404,419,6132,2284,7378,6657,5592,9945,2070,4853,8371,2552,6829,6027,6124,8785,2073,531,976,7780,7095,7485,9260,5992,7250,7810,8474,2075,4982,3003,9736,5738,9773,5867,8021,3502,8875,3612,3446,944,4816,8168,9848,1644,4194,2323,6781,2618,9205,4108,397,6299,1592,6009,2290,5194,3818,763,7268,5151,117,3355,888,6241,5573,5260,9742,4447,5224,9539,1743,39,7706,1590,1683,8251,264,4815,868,9468,8922,7617,5766,6866,3625,4407,2059,7442,1521,9326,2592,7989,2680,9832,4229,8252,5091,3970,2698,314,9860,792,353,3917,8733,8387,2167,8996,3201,9386,4815,8474,7002,580,5339,6978,1338,7397,4419,2858,3074,3363,846,2105,3194,1426,6708,4636,1747,9406,4950,1606,6549,1654,1874,5282,40,4040,4277,9592,9778,9092,8065,3131,6023,9756,109,7361,7152,4527,6570,6578,4241,7416,8682,7434,5193,5390,2070,6940,1147,3371,4897,7695,5024,6771,2976,1415,7162,3605,1006,6939,2696,5422,70,5070,5177,178,2430,8681,1056,9000,5258,5297,2767,3939,9082,7959,5680,7503,1250,6826,7225,6147,873,2248,2917,3848,3662,78,7452,1019,7017,6499,6441,3438,1569,1617,9967,350,297,1022,9349,1906,2670,8467,2197,1752,2778,7876,5606,4027,1054,2831,173,1926,1430,3089,5773,1444,9519,9577,2462,2887,2427,8902,6324,3995,6871,6290,697,3519,3663,6397,5425,6333,4864,7621,4436,7641,1848,6393,8019,2901,9223,4544,4826,7005,3984,6951,8448,3502,2879,909,6388,5305,6163,9063,5652,3033,5352,6348,2903,5367,2744,8327,8051,3959,2299,8838,7951,499,5230,5970,3399,805,513,4577,7809,848,7879,6256,4350,7109,7164,737,8765,9678,6152,4416,2710,7855,7115,5613,3221,6211,291,1271,169,8942,108,4472,9440,1690,441,9190,2494,7305,118,6654,8152,4348,2909,8853,1456,6424,5942,6573,6102,2093,7340,5163,9947,4455,7127,9520,7017,3770,790,7185,2711,7250,1656,8502,5291,8448,4043,7784,2104,513,789,6608,1212,3697,1812,9020,6472,7753,5592,8925,6197,2931,4088,6144,3737,7566,5663,753,1335,2804,4290,397,6405,2297,8898,1695,7097,9293,5830,9200,6157,6618,2159,7368,6666,323,6387,3138,8075,1978,2062,4272,4909,2501,6767,4997,67,8781,5750,1401,7936,39,1798,4341,2335,7047,2387,9431,2691,8217,4983,8847,1186,3493,6215,7852,3815,8953,7341,8242,931,5754,8865,2191,8255,5631,7187,4673,763,9288,6073,8698,9326,4222,9390,1661,7621,1777,7443,311,9993,2425,5510,7530,2270,8076,5381,6084,7028,2721,4325,4310,8475,3189,6500,3081,5171,39,7753,5933,9326,177,983,8652,4399,372,6664,8371,2148,458,5033,8492,9235,542,6022,1504,8617,7754,3939,1997,6827,8264,6306,1653,7804,9158,4733,9327,9196,8837,5259,8521,9013,2593,3524,9763,2965,6539,8133,1464,3349,3166,6308,2583,59,2329,438,5028,6434,4376,7024,3260,8991,3329,4912,3147,2486,5996,2473,8033,4832,4083,2906,197,6676,6429,9959,9640,9320,4444,7455,2668,3961,3762,1602,371,2442,2039,5398,8876,6414,2421,8487,1757,2102,3399,4903,939,5746,7375,5324,6930,1457,8229,7126,8132,1009,3436,4123,6680,4231,1578,9347,8191,1691,948,4914,4133,9338,311,3008,5752,9084,1494,7508,7537,1244,2410,4827,6990,6136,150,3919,7592,8378,7396,5724,5739,831,6198,2418,1414,7775,8117,5956,9466,5416,869,9950,4754,1180,2957,6857,6615,802,716,4151,8398,9477,8977,1739,5612,9127,2009,3203,3856,9404,5278,9594,6586,1476,2012,7999,5602,128,307,1419,5543,1175,1368,6648,2354,4324,3504,8968,1478,4219,9470,6227,3695,8447,7965,9306,3925,9973,8861,7780,5728,4138,3726,8665,1965,5737,3016,7567,2216,3322,8985,4110,4496,353,758,3202,1028,4261,8521,8857,4832,7991,5083,8526,2789,3047,4184,6713,9371,3044,4492,1450,3533,8217,6467,5498,305,9482,3064,8872,9155,8400,2982,2,8752,91,3203,6132,703,8076,4988,5534,6066,71,412,5206,9469,947,1918,5192,3990,2761,2993,3874,7330,9459,9371,7634,5292,8786,2858,798,3538,2191,800,2289,2281,354,4772,9335,8429,9760,1221,846,6182,7984,6051,2002,8930,4320,7193,9271,7081,6538,3144,4410,2348,8867,8395,7640,4004,7604,4789,7541,9794,5588,6182,8426,5942,953,4113,722,7064,5333,1568,3245,3316,3970,5247,2245,8290,8791,1515,1722,5328,1010,6131,7676,9876,877,1667,232,8481,6455,7772,4626,2043,305,9404,4336,1258,3516,5057,4673,8848,2976,7918,8515,6946,3164,759,1587,1954,8625,3308,7282,9634,5790,1309,5862,3018,2975,6093,7850,9429,216,2476,7823,6873,8231,2158,4482,1746,3567,9154,593,6542,7071,5459,9839,6586,6217,1425,8540,1193,1084,2173,7178,6873,9833,3039,6243,2807,5483,4092,8587,2051,2919,6410,8923,1149,4919,9756,9246,8485,8909,6190,1379,5980,1648,1217,2565,4216,8994,7456,5408,77,5980,2586,3302,5812,1976,5896,4970,3811,9987,3557,2213,9258,6318,7487,6758,1236,7242,6004,6073,6150,2193,7451,8481,3841,5019,7398,8056,4012,1205,9816,441,7185,2401,94,9348,728,5989,4318,4538,5975,7874,3102,1584,4191,588,8342,1778,7829,697,4202,331,2889,8004,8811,3081,3023,2560,1137,3386,3765,7304,178,7301,6056,271,6648,6783,6259,965,7673,8586,8838,774,169,9380,1362,4862,7510,9190,5558,1711,9520,8447,6067,4683,7879,9089,7242,5367,8826,7358,2670,9004,4658,8725,5626,1306,5508,1885,2270,9532,470,7460,305,6990,3191,1666,1852,7052,7208,7409,8763,3079,2207,4829,7761,86,269,1355,5452,5446,8712,8122,801,3370,6846,6427,1027,8705,4663,3296,8236,5132,7107,8541,2121,6650,6558,324,3701,117,7733,8815,3196,6291,3643,7308,6376,263,5014,8180,2061,78,6301,2861,3447,9498,5639,825,4555,301,472,2790,5432,7579,7682,3905,580,592,4228,4280,708,8312,3095,255,4603,3089,3915,7330,9704,5280,5509,1764,5357,8161,976,5155,4011,6615,5979,8565,6915,6451,1354,8699,381,5388,8955,960,5979,9534,5239,3038,7846,4685,9645,8800,7774,3559,6129,3829,8838,7990,5592,547,6150,2919,5701,160,9533,1680,8724,2800,8130,6430,1498,8510,1817,6804,5821,4147,6337,1059,7184,534,2096,6828,9333,6221,6738,1814,49,1928,9803,1992,2474,2304,4910,4526,2464,4443,6205,7539,3594,686,320,1443,5547,8488,8246,1367,2634,4582,8778,6170,5116,873,9349,800,7093,2439,2613,7141,4366,2415,9132,3191,1071,393,7716,3534,1187,273,7424,4780,958,4096,6222,6505,2583,819,4223,1569,1753,3000,4090,3220,3872,9790,4019,7316,2228,2984,4456,2945,1750,9939,6135,2820,6684,203,2705,7870,475,129,2650,7784,4224,5223,640,3158,2394,4863,4726,4146,4214,5167,7365,4438,4957,7735,1753,7184,718,2561,6481,2468,8851,8967,5287,5534,9169,7992,3404,5995,4472,2405,3779,5047,3979,4418,4556,6372,9280,5634,6869,3494,800,585,4283,5756,8320,6035,9292,5389,8595,5772,4208,3798,1090,9495,9331,259,3838,9086,2605,4661,1490,6383,6059,1821,801,614,8192,6432,6247,1413,6277,7047,1997,559,9154,6668,2946,8445,2057,7892,568,6264,1689,8010,2110,1020,4620,2299,6457,7224,6959,4299,3607,3017,6119,759,9983,662,3542,6229,2074,9819,9627,4071,6729,8781,738,9674,3577,9146,7566,497,5410,9254,8506,3871,6625,3125,6170,9434,348,3128,3732,306,2497,9850,1064,2479,511,958,5059,8937,776,4686,9359,7504,3466,6448,3530,7042,5594,1095,7538,7355,6700,2395,1225,9677,5519,3746,9110,2219,3226,9193,2524,5722,9042,9940,4552,5904,897,9610,1192,8024,4295,550,1879,4112,6998,1760,1154,2591,2854,5043,6297,5906,3790,3873,1934,9308,7619,7395,7878,844,6587,6754,2917,1980,6693,7468,7883,3941,3429,9075,8316,7724,5976,6546,1835,2973,8306,9340,1915,7511,735,8211,3416,4524,8436,1701,183,6054,9095,8061,6897,2033,4814,9813,4012,7858,3632,1895,8150,7060,7321,2817,1135,3296,9362,9322,2621,7667,5013,887,5178,5747,5450,4945,6622,3885,6646,3157,9938,2092,1217,3186,4125,2382,9350,4488,6591,2981,6382,1092,6392,54,3908,7527,9702,3269,6848,8674,7288,8212,9560,2465,311,5009,3761,6932,5245,6758,88,1534,8850,7656,4719,9326,6389,4068,3813,2979,3400,6547,4070,9792,2952,4329,3670,9005,7598,6869,7678,4885,5080,3590,3701,5390,4950,7461,8674,195,4219,5113,1728,9420,9121,6447,5097,5509,6866,5261,4840,6618,1807,5261,6409,1111,9590,6430,115,3539,3298,7793,4775,4729,1382,8475,119,6331,2287,5144,2877,2857,256,4605,8628,5728,7403,76,1237,620,5337,2428,7237,3495,7688,3645,4605,7277,74,4720,7167,9723,8864,1941,4452,6597,6767,922,9279,5406,6065,2156,8262,2672,3112,3242,8400,514,3317,5988,1133,5005,8415,4722,8500,6102,8366,9456,9731,4792,527,6897,866,9390,8838,5317,2338,5604,2590,1617,1009,5006,124,5623,7678,9587,5216,2429,6452,4884,8416,7584,9889,6830,8657,4740,9283,7023,4195,9013,8166,4722,5910,5383,463,4747,7052,2801,6702,9641,769,4063,4647,7244,6037,8676,6830,7604,1104,3281,2487,9519,7216,8727,2700,5873,3466,1982,9247,7661,995,3764,2382,3256,9146,2844,4354,6197,1996,1055,2190,2764,1469,6836,6359,3857,5511,3188,1460,2966,6468,3947,2484,3684,2673,1535,5908,6139,3516,5154,151,4510,8917,8884,7765,8062,8079,8470,611,75,9525,2800,9190,7345,9635,5549,1202,1497,8736,2661,4462,1556,2959,3297,1591,5632,4831,7498,8122,4698,2651,4624,5560,7919,3507,9676,2332,1585,8146,2942,8011,7670,5741,7201,1366,1727,9101,2567,9575,7836,5228,388,5743,4538,3684,7333,169,4866,4830,4642,9564,3832,9265,5123,1750,2771,1150,4082,708,9295,7023,8718,3316,9116,5918,4682,7194,5018,7248,6769,9206,8827,7156,4948,3365,7192,8633,9885,2057,3462,879,7972,3646,143,9446,5395,9266,596,5828,9973,9890,9203,8690,3206,8318,960,7887,5511,2329,1486,8631,7886,6665,5787,9186,6381,2978,7818,6265,1386,7631,7143,5710,1276,3638,5155,3023,2903,2102,8850,9227,1992,8052,4268,1549,2721,5227,5787,4584,3908,7272,3214,1793,288,5352,7330,6668,4681,5147,2933,6067,2778,6427,8128,405,64,3282,3427,9318,1736,8629,8544,79,3032,2812,1627,2105,4390,7413,6688,8297,1036,6253,6442,7676,1605,3771,4343,6285,8918,7275,8703,8047,54,6830,8451,117,6464,8230,5787,8199,6858,4330,8277,9889,7141,6255,1993,1531,19,5032,6179,7406,1285,2620,5081,9241,2743,9424,1877,1660,3050,6932,6058,3103,3761,860,9572,6576,9089,5358,4774,5946,6039,9402,2187,9532,5656,531,7414,5674,5563,3592,3080,3199,2564,8160,8791,5306,7583,667,3317,6985,7598,9374,87,7711,6585,6010,4286,5674,7719,5412,7971,3758,4813,6509,3289,469,7040,702,2494,8954,645,1925,2152,9560,85,7294,4865,4019,7960,4533,1003,1910,258,7442,9620,6843,9803,257,2516,7522,5668,6838,7631,6833,3347,919,3653,386,7972,6146,5691,4968,8071,7842,4528,4507,1487,5744,4877,9446,277,5880,7707,6886,9673,3678,3728,9475,287,2595,3348,5954,9433,978,9138,9131,8248,2790,9516,2571,5288,5206,7539,9710,9399,8418,4216,885,513,9092,6682,7141,1323,741,4027,7347,4418,4106,6822,1056,6701,169,7010,2485,7499,2499,1615,5746,5289,7482,8317,6928,9039,2207,6637,4789,6976,7204,2025,7488,2647,5058,4629,3970,5798,8655,7668,6568,9112,4489,7623,5812,1010,984,4648,8508,3483,2614,605,5123,95,8921,8402,5485,7479,5038,273,4454,8593,2297,1942,1239,7355,2922,1560,3152,7928,9228,6071,7039,68,3694,9203,7429,1029,3850,5936,4511,2816,2893,5985,2910,8165,4386,4747,5644,5775,5019,6449,4367,7316,4742,1958,1022,7663,9869,525,1942,9096,6596,8981,5516,6641,8183,2944,7669,8384,5232,8532,1199,8124,868,461,2640,5254,5207,8283,1028,225,4732,1747,3892,5825,3704,1265,3488,9924,1790,5429,5372,4737,761,887,1377,8943,182,5397,3679,1765,280,4877,6240,1148,5337,8880,2753,6895,7162,132,7120,8245,1878,7363,4070,1933,8628,3909,1857,6769,5689,7228,1505,6450,4466,9233,1744,4647,981,1774,6412,1261,6651,2651,8760,8339,1530,1512,5234,5044,7995,8705,9640,6225,2419,61,8157,7398,3969,6365,4166,6010,9944,5670,2459,761,4902,554,1760,2235,2328,4523,9847,5330,3525,8606,20,5055,6469,1605,6450,4463,6661,2441,687,9080,2502,5196,6477,6470,7912,643,8831,4208,2664,7641,4968,3918,8195,3079,6152,6874,7601,5998,2203,1126,4603,8574,2532,7423,179,8981,8237,6839,1421,8924,5918,3922,471,8747,6744,4734,5741,1926,8941,8404,9567,261,2321,4113,3339,4824,986,940,821,9540,8417,1775,8113,948,9197,8291,9928,3786,1482,7700,9061,3751,7974,9531,2497,1069,616,8237,2994,9557,2993,8912,6169,1665,3024,5859,6489,4009,3150,7309,9900,1566,5436,4365,2513,984,2655,8792,4769,488,2844,3829,4239,817,9711,6735,8237,327,1324,7582,6235,4316,6494,2403,5980,9517,8261,2468,9878,7763,6129,9777,9328,1564,4141,1841,8899,3148,632,3668,3635,3475,7496,4225,643,3559,960,5231,3885,8635,2813,119,2950,5658,8873,5281,5174,3485,4101,1403,1247,6581,7532,575,4496,8024,8767,3394,7523,9398,7061,1158,9225,909,5382,6219,4467,2693,1450,4703,1327,614,1173,628,6271,45,2261,7796,3529,6361,5551,1128,2941,3082,8054,3788,1105,6820,7181,8628,2569,594,6137,8145,7854,7870,4364,8672,6915,2165,3374,4593,9130,4546,5221,1752,942,7481,5899,822,193,1449,1949,9485,4530,2,3272,1987,3173,6804,6966,5742,7397,9454,3886,5250,3675,4601,273,589,6765,3646,5182,5894,4543,6754,3997,5484,586,9896,2658,778,1344,4606,262,2226,960,9885,564,4132,6688,7529,6225,437,3334,111,2038,7008,4711,2311,7597,7828,2308,9130,73,3203,2235,4070,5038,2820,3965,7695,9949,5308,8653,6562,7533,9612,6446,8096,95,9485,1976,6320,9921,5309,6430,1959,8669,7492,621,6265,5319,2928,1746,5392,6130,3980,5813,1168,3151,9777,8862,3099,5084,3866,9660,8969,3477,6105,3416,9924,1941,1744,6243,1862,3404,9024,3820,2072,2867,4440,4688,8186,3719,6433,9929,9849,6764,5741,7368,9914,1869,2581,9364,3304,6447,9023,2272,6275,1479,2040,6198,3420,3783,2440,1633,3538,7815,5452,5610,682,6243,297,5219,6313,3082,1499,2513,9845,3591,9880,6111,5459,8813,1826,5114,1611,849,7386,7885,8679,5777,4083,8450,5911,2874,82,9448,7041,1885,5057,4074,4479,5354,9292,792,4787,7142,3304,983,732,9536,3445,2542,8348,5271,7655,9958,2471,1392,4194,1149,3520,8276,9599,9430,7502,9680,8878,894,7917,286,4967,2395,1991,4258,3186,6777,7751,6490,7760,4834,2377,1204,3727,724,6474,7733,7033,8944,9125,1226,6445,2644,5854,2395,8426,9707,8426,3655,600,6342,3940,5566,8737,5931,6175,1922,9059,3925,4763,3170,5110,7139,4374,8836,4214,7199,6568,1246,2495,2044,8824,5291,4688,1029,7685,9465,735,6110,3119,7686,2452,7058,9603,1188,9340,5777,9461,8399,6053,4224,7920,1162,1362,2293,6349,5576,5844,2916,3173,4690,4960,8348,9980,5999,9376,4016,5463,6462,125,4933,4147,8928,1990,3749,6467,7682,5877,5928,2432,8281,151,351,5794,7864,8996,2142,9791,1191,1410,9316,5880,6369,7663,2211,8719,3391,6226,4181,9852,2702,9113,3999,7982,7454,4099,4448,1487,6328,375,3918,4608,6877,621,402,1093,9616,8895,883,806,304,6550,3037,3024,4213,1599,1742,7603,4176,2274,3806,3229,7738,7804,1210,5192,8255,5658,6678,4582,2384,6948,5541,9261,7568,2294,353,3535,7541,7587,692,7844,4137,3728,868,4701,5326,8961,8655,5853,1235,2460,9081,8972,6616,291,515,1222,2300,3545,2155,4683,492,7695,3943,4411,6341,647,7945,3881,4586,8636,8076,5074,8715,8943,9774,392,4256,8428,6244,5490,7239,5324,4461,3854,1966,1328,1427,4265,4872,3581,8948,5363,1276,9242,9773,3968,6241,4069,7848,826,2704,5923,5899,7770,1218,2024,8161,5473,6803,756,7314,4041,6079,8126,4247,4397,9453,5673,8661,4324,9254,7608,6038,6881,3202,2162,848,9442,6230,5047,267,5285,7321,2517,3054,4890,4540,7566,6714,1342,8321,4027,5382,752,8505,5980,5148,7957,1653,3808,8633,7258,7768,4670,490,969,6832,1337,410,3061,2735,7028,4698,55,9544,7751,4945,4083,1669,1658,5424,9989,2037,7157,7092,541,3137,2239,8497,1141,2399,7129,8398,166,8151,5239,1134,4982,2927,7895,4394,5661,4922,9091,2067,4465,3194,7011,4899,4862,5021,322,1202,3409,3830,8294,3949,6966,532,8797,4458,2930,2278,9207,9447,428,4445,6932,1761,7371,4826,6154,3031,6099,5245,1450,6915,4790,4812,1813,9651,9832,8486,7204,3240,2316,5497,3540,5633,2381,2337,6443,1662,4614,5649,1109,1393,94,4392,3153,3816,9218,9306,3199,1668,902,4648,4935,5691,9459,6747,1693,5643,1585,8897,5234,252,745,8774,2236,3125,1110,8678,4787,2075,4327,2247,3467,772,2990,6619,4587,8559,5924,4137,227,3178,8784,5161,8868,4595,8259,6913,237,9843,5809,5470,6446,6553,4243,8682,6030,1704,7359,7168,3778,8037,5766,3596,8808,8755,214,9747,7314,2490,3883,7540,5667,9019,9052,886,3613,7310,4150,201,3505,9958,5670,9950,2863,6265,8631,8892,4320,2342,2411,4450,378,8176,8045,5538,6930,4611,1636,4243,7100,1870,8134,9118,888,7185,6355,852,847,505,1052,4351,6814,3074,652,9676,9338,5635,4919,3657,7976,7329,8106,4705,5504,2503,242,8786,7113,1877,3028,4212,99,7514,9681,986,4698,2387,8190,1896,2891,9241,6246,6057,2314,6898,2084,8003,2532,7003,1660,6859,683,6117,1563,2539,8619,1805,1324,5731,33,703,6294,6483,8216,2326,7469,9266,1065,5658,1161,307,1250,7407,6363,9916,656,8447,7918,9539,1801,9577,6397,2483,2046,4311,5021,7016,2467,6344,9099,8852,7047,1744,5334,5262,422,2802,879,1486,4811,2040,1792,2413,5798,8155,2328,6453,6601,245,2343,8401,6174,5091,7235,4571,9401,2256,1586,1868,4951,684,719,1997,8780,6052,3611,9201,5206,4489,686,6368,2880,2477,8780,8677,6983,7459,5129,9935,7704,3823,4687,229,8913,1922,4799,8314,4177,2736,181,5479,9772,899,7476,8551,3302,7438,7751,8507,8278,4788,1227,1158,3616,6,9834,599,3817,1315,533,1520,5137,5220,8100,4050,3493,9250,2363,4021,1985,8895,9499,1756,6145,3326,6658,9446,763,4408,4305,5393,5547,5531,6550,9163,1888,2735,9761,5704,4049,6645,3575,5538,8216,1674,5939,1708,923,4653,5728,9260,3547,5227,1015,6043,8552,4025,5488,5667,4784,6144,1059,331,1674,3960,9493,9914,6694,5605,5617,7095,2249,9192,2632,6817,7217,8570,8524,4492,9574,604,3751,3120,2182,1117,5514,7085,5141,1001,2751,9925,3497,161,255,1522,4120,6099,1435,7166,1703,7052,4260,303,2595,3243,7119,9811,8164,1995,654,7737,2598,4404,7208,4779,5521,2721,1863,7013,73,966,6937,3569,1126,3543,1443,1598,9641,2877,8763,7695,6280,9374,7998,5226,8968,1468,1389,7131,3462,2042,1219,2411,6446,8426,3541,8318,7498,5404,5330,7570,2721,2267,7491,198,5809,8933,8147,1802,8161,3261,9496,4441,2634,3845,6018,1601,5313,7406,5083,5126,9448,6301,7537,2245,1078,1077,562,8575,2832,5891,6145,1904,4509,9987,2102,6670,8919,6600,8471,7079,9861,7966,7871,8846,1811,3889,447,7123,7646,1881,8600,7093,8182,2488,5689,5611,9917,6250,4186,2748,8493,6682,1004,9353,6668,9457,6022,1938,6056,4492,9016,5916,2458,3239,4762,4268,3479,1560,7742,1124,3440,2693,4569,7973,5181,257,9936,5097,2859,4121,4196,7703,802,5199,7055,3821,4655,3077,5758,7063,7568,4773,2978,6377,4363,4091,6996,7841,2002,1089,5317,1794,3782,9885,9766,8962,6493,9701,4058,5703,173,4605,3405,7326,9804,460,1146,810,9888,6903,7872,7455,8028,7202,184,8742,7644,7179,6583,9646,8268,8251,1439,2049,8135,7556,7362,979,3609,7771,6682,3781,2375,6438,1107,8530,6897,8604,9340,3136,1859,3563,591,9886,7116,7126,8627,4760,4304,1561,4405,8923,9811,5843,971,4297,3398,4684,1628,7006,2454,8309,7139,4829,4746,4597,9710,7995,3200,9049,1130,5058,8964,8072,1295,6079,5197,6274,7190,5853,7834,1594,4775,3997,3788,2098,4645,3538,6781,6272,6895,9235,4580,4033,415,5678,8629,124,24,8181,5525,7505,9590,4488,5577,885,6918,7125,7158,4108,2977,1343,2053,4104,1691,5841,6201,6336,9378,2981,2607,6272,8567,3539,6657,8981,5568,1637,5457,5591,6169,981,3095,5759,1820,5023,2995,5089,2148,6504,9196,1476,4198,7601,5579,5889,9793,8131,2224,9170,7464,1182,1793,6030,4720,4801,5011,287,2790,467,2229,8958,7799,5324,4716,9618,6698,4062,4706,5197,565,254,6673,4763,4206,8603,651,3998,3086,9226,9519,549,407,7663,6578,1479,2464,7940,8117,5253,4758,346,562,2556,2021,5278,8525,8718,5691,9583,3915,6256,6188,6939,1018,393,1893,8020,742,4978,3597,260,5526,4003,4274,8456,1833,6737,6395,9950,8341,7505,295,8903,60,2315,532,4937,7384,6222,871,1298,8829,7058,4588,6198,3802,6481,569,895,1458,4165,1154,3336,4520,5427,1791,6352,8516,4537,2653,3208,2041,2947,8462,8453,1613,5345,3389,8997,7919,611,6646,6747,4020,1234,9297,7821,4066,9865,5067,5523,4030,6220,5210,8549,7998,3352,1252,2865,7889,3905,6073,9929,3203,886,4733,4816,6231,4473,164,4149,5083,3161,7247,9102,746,6543,3274,4811,6408,8340,6686,437,911,1895,5337,5261,5247,2940,8125,9487,6844,549,5767,6399,1435,500,1214,4017,4972,7729,8165,6407,889,5411,5508,1635,8306,5134,6445,4713,3473,9482,1501,736,1377,3189,5996,2975,6128,472,2461,9324,1021,8227,2074,8807,8726,3287,2823,50,7367,7339,6456,4607,9101,8315,2593,7406,3448,5390,8470,3273,4871,6322,4008,6247,9510,6355,9221,1990,6826,8033,7665,4198,6260,9738,9356,4985,9376,8530,5034,3094,5868,7841,7700,1321,6156,293,8726,9603,2034,3548,9227,6904,9869,3234,9503,5731,5940,5075,7720,9118,3108,1736,3315,9367,1473,9023,703,7200,7552,2089,293,9772,9929,7992,1092,2436,4636,6169,2039,6669,9716,1265,3573,5937,851,9427,1667,3142,4501,5738,2259,7608,7473,1926,3326,8945,948,4029,6144,4851,6117,6436,4622,2397,779,5713,4833,5415,1882,3223,8435,7949,839,8359,3885,8041,7785,1903,1183,2286,7640,9793,6245,5112,1718,9571,408,9017,3599,2903,3868,6067,5690,4841,4815,6469,554,9647,8235,8787,9221,6669,3087,60,5028,3324,4452,9164,5226,5634,1449,2866,5427,7694,7977,3496,7264,8385,8865,7214,7639,2732,3280,3329,7572,4446,9797,4477,445,8031,9615,9665,1051,9054,6076,2430,2377,528,1594,3954,2513,9394,6819,4291,7087,1148,7787,702,5884,6651,7915,3522,5734,7546,6850,9657,8344,6646,486,8788,1028,6452,8452,8431,5505,880,7212,4233,7759,8805,8187,271,4551,5005,4562,1637,2504,8700,8691,8387,1702,2957,1909,3787,6855,5110,9795,5198,8108,280,3985,5487,3084,8788,3917,4940,6019,1129,9173,3777,6285,7359,4048,835,8715,4961,8824,7571,12,3866,5957,8065,6822,4217,8203,28,9327,7997,1577,3786,4629,1913,9272,7712,701,9541,9003,3071,7021,8175,6848,3305,1885,7247,492,6952,2207,5667,4522,8570,9532,6830,6634,2705,1047,4836,2733,6725,9184,4309,510,3812,6222,6133,7875,3274,5673,6878,6344,2693,1404,9543,5998,3289,6789,2841,6592,8995,8507,1113,3916,4390,7942,549,7094,5340,1736,6178,8416,920,487,5277,1083,3060,1410,8958,2685,7082,2187,9028,6127,3590,4923,8476,6878,1711,1316,3469,7058,6174,933,973,563,5227,7874,4008,6918,9609,186,5334,6880,7024,6962,4315,83,8371,3272,2767,1805,1810,8146,7931,5399,3068,6406,8629,4779,4073,8449,8188,246,9382,9160,7160,960,3385,1167,7877,9346,1352,3210,6225,8375,172,539,8457,4894,162,7575,3050,1971,2073,980,3722,1492,3737,2350,2622,7809,798,809,4406,6531,9969,1565,7490,3353,2732,5367,2698,4083,4928,5275,8810,1451,2165,3618,2697,8679,1193,5746,7001,9617,6726,722,1108,6814,9423,3730,975,221,4538,5380,3103,858,3297,593,563,6028,5959,3260,6462,7238,4886,5271,8689,3403,5241,1385,2081,6433,7130,9081,2401,207,6155,3508,3373,5577,7237,4347,2149,1775,6078,5252,2632,9374,2196,3194,5401,4506,2806,8215,1743,4043,9837,6783,7445,5077,4519,9525,7861,8001,4958,261,8207,1112,3769,7931,3040,7357,2277,5189,9131,8355,6792,8115,7728,5339,7660,9481,9844,6817,4047,1586,860,3883,4721,8304,5312,9239,4181,3172,7239,5490,9785,1798,6601,9905,9728,5992,7261,2005,7532,6392,6711,675,858,790,6013,8517,270,5856,1686,4316,3794,2545,4551,8514,7200,9862,4104,7732,3033,1343,3221,9169,9492,6173,9073,9219,8517,6334,7575,6048,9077,637,6723,9934,1427,2735,4802,1696,4943,6487,2364,5088,5383,6914,3601,8935,6775,4056,3018,6159,1750,6239,5328,1241,8763,752,460,7279,7085,4386,9679,6161,5023,6401,2446,6449,5487,7248,4496,6781,86,6859,1868,1821,124,1820,7107,6898,5876,124,9409,7625,2714,1088,8866,1477,1839,5677,5107,8924,6414,4785,1436,1436,7537,3882,4236,9376,7481,8732,6156,3918,1942,8024,5738,2066,6195,9196,8963,2070,9320,4723,6047,2033,5810,1264,9861,7649,6940,4968,2924,3353,6104,4359,1141,3641,8240,5376,9368,5720,4107,5523,9638,6049,9898,1727,4466,2445,923,3428,4514,6594,4503,6912,8626,312,8175,4839,4312,5114,6158,7235,4819,8613,1594,2311,8605,6185,7686,7972,8257,8145,9847,7894,545,9744,5972,5010,8540,3246,4789,3054,9839,9291,9965,4817,5955,4492,9655,266,9605,2164,7501,775,776,5446,3085,9381,1630,7123,7352,9886,5267,7198,4131,2163,3294,6455,7172,1833,9700,8312,1238,9539,7603,7555,707,9909,2046,6713,174,8002,8876,4026,5129,6003,9471,4565,5383,1101,1687,9087,7338,3305,2636,1469,5467,2281,7923,8990,466,3974,7302,8055,9864,1256,5609,570,1164,4006,7282,7689,8360,2509,1715,9840,4864,1185,4404,246,8637,6091,5684,5975,5747,4672,3795,1214,6952,8069,6555,3769,8394,3856,1824,8258,1463,3784,5179,8978,4142,8813,6667,2501,1321,8381,2340,6184,5917,3095,2782,906,9185,4817,6880,4932,9488,7026,2497,2792,1446,9051,6560,9839,9259,8383,8096,7073,2167,3275,6051,6308,2087,9069,5160,9759,3801,3851,2295,9717,6945,1428,6974,2482,6244,3853,3765,5732,7230,2613,8523,8675,1663,5082,8514,7273,9817,6609,4346,8335,6235,6748,994,4673,5816,6153,4432,9616,6355,3078,5684,3299,4505,2658,2132,748,2862,5896,2831,92,4860,7705,5118,6523,9139,3631,147,8955,6592,844,3641,9178,7591,4634,3851,3406,7138,4634,9373,3492,7711,1409,3142,8567,418,1626,5666,9631,3873,8497,6074,8733,6201,1192,1607,1691,1174,1753,6997,7765,2597,637,3295,187,5270,7145,9945,2407,8130,5669,2250,5840,3429,1744,4406,3846,3369,71,9829,3593,4919,5902,2325,7472,7093,3931,9162,4619,5684,6159,8735,4632,6795,2029,4818,8417,9173,1114,7175,3654,3135,5777,9493,6563,3872,250,6761,3592,6673,6589,7184,7943,2490,9509,5414,5935,3439,928,6905,5474,3438,5639,105,6584,7668,1275,1352,3192,8740,8527,6846,1874,655,2690,8437,4526,9292,5197,8117,5964,8137,5300,258,6978,4808,2024,2912,4599,2951,9816,72,2740,1807,6529,9323,9474,4155,7027,9017,2894,5553,5862,4768,6207,4904,3204,732,4195,4752,8848,6510,9240,499,6767,6217,5307,8790,5481,6257,8092,1648,2680,7183,3454,9208,2858,9279,3362,9884,8296,6256,1788,509,7375,7994,5412,6930,5077,9606,1681,276,2467,7272,774,9234,3488,2432,4375,5320,8688,8819,6968,1368,2353,6773,575,5210,6052,289,5093,699,2896,6880,1207,270,1225,6619,7199,2653,2576,5231,2928,5043,2502,3702,628,2341,2485,1354,7661,1173,6524,980,2540,8877,7752,9466,4086,155,6106,5531,853,9001,8762,2060,9270,6339,5030,6468,8991,3957,8050,1919,5351,551,1972,5978,2892,4456,3684,6904,1980,207,7883,871,9083,5634,6689,9521,5789,2794,1403,2993,8147,164,5052,3768,6502,6433,236,1845,390,4637,3763,5740,5188,2086,8070,4431,2893,1753,1334,4873,8311,9216,2095,3746,1201,8783,9618,3341,7929,1020,6334,6075,7535,7737,9842,389,4170,6429,2233,911,1066,2347,3002,2605,4432,1071,7035,3676,9175,4720,8548,7486,3935,6995,7583,1487,5777,7200,4828,3705,8219,7513,6131,2105,1601,5973,2493,5770,8753,1077,3032,9818,3423,6034,2422,4206,3456,5808,7882,2631,527,2781,6468,813,9775,4050,2300,5552,7601,3479,5608,5819,7343,1739,4275,8943,4063,6768,1065,2815,7844,4096,8985,1267,6481,7758,1824,9937,3566,9705,8919,444,2486,5386,1257,8612,5787,9908,515,3387,9738,6123,5557,7080,4213,9831,6022,8275,2950,3438,7441,794,3886,6425,8412,366,4183,6587,6654,4100,6292,5572,4543,5129,7309,5799,3740,9447,2058,4255,9185,1795,6729,1093,8874,941,924,1248,5567,225,1037,3007,1018,4922,9432,5781,1640,9966,2368,8293,4065,5011,217,8607,6491,3877,758,230,9676,9167,836,8860,962,3916,9953,6187,4856,7228,3786,6774,7452,4823,9781,4822,9744,5564,6954,7735,5529,5673,2380,9593,7035,2596,4551,3525,2824,1660,107,2499,827,942,7711,1788,4858,4015,4326,6065,1242,8112,2839,5045,2934,2619,9866,9029,4534,3172,6764,62,8844,5495,6006,5879,8090,6908,9403,7265,8568,5861,6116,5746,6803,178,3885,8012,4192,8210,4076,1785,2673,3266,6829,5606,2236,3047,987,6769,6218,4102,6830,1413,9596,9187,3643,4037,6095,9398,7653,1014,5258,3768,6759,2060,3945,643,6423,8136,5204,499,6272,7877,116,3101,9834,2352,6147,820,9120,8716,1273,2302,6480,868,1488,123,1256,3934,9520,8909,4947,4777,2676,1705,3189,2973,8699,9611,7460,255,6461,3732,8131,6577,6832,7964,8928,9330,5136,4399,4397,6408,6700,876,3628,8188,998,4883,2121,6869,3791,7068,7998,2819,5124,1186,5791,175,7148,3250,429,9961,3333,4911,2889,6516,9226,1816,2197,4361,2566,6593,7121,9266,3821,748,7453,4818,1982,5925,8039,2125,9344,6036,4943,820,7221,7085,994,720,6686,7774,680,19,2684,3568,6534,1909,1735,8731,2622,4301,5323,9742,3566,5495,6841,7370,6665,5174,3294,4703,7298,8990,738,8592,9809,4310,5676,802,1381,2362,4927,2061,2380,7610,1980,5265,5870,3715,3995,8491,4367,5670,4584,4284,1164,7776,1653,7828,2950,1298,8882,6599,287,9619,5191,95,280,866,7248,1661,9579,2174,3721,1958,9783,2052,7223,2005,5766,7569,495,6484,3238,1431,767,754,9206,8771,4933,8507,69,3815,5106,6707,9785,296,6802,65,7513,401,1725,7092,2575,1797,5401,8709,3848,8975,713,5966,6544,7560,2449,6133,5342,9568,3238,899,8338,8171,9406,4758,1985,4511,1465,1769,1158,4618,8185,8670,5018,9909,2113,3944,8057,7514,2653,8257,6488,9717,4222,3031,3628,3022,5516,5321,2589,8753,6220,7279,6923,5625,2036,5259,6487,3500,7028,7644,8117,5212,2665,9487,1473,4778,3430,9529,2291,2434,4137,8778,8503,8358,8161,8482,7732,3676,3803,6672,2428,22,3950,9351,1998,5986,961,8484,5837,7988,6127,306,9552,8791,9792,7376,9920,3221,3256,2210,2007,7393,7340,509,2102,5500,8990,9833,9175,2792,2857,7954,9165,6806,3656,1162,9143,4617,9645,1332,8956,2123,1637,8507,7266,1428,2234,7185,1000,5490,5747,9358,2882,3086,9866,4983,8585,5208,1168,4111,7999,4024,8416,3516,7181,2072,4677,2676,3040,674,4007,1995,2796,5643,6854,6413,3422,9087,9950,773,928,5696,131,3809,8781,6348,5144,3717,1555,6311,4179,5906,6686,2594,9421,3866,1017,449,2893,408,1122,6899,8755,270,8893,5608,6682,8666,1046,6631,9439,1974,2326,5921,5782,7458,8620,7277,1174,175,9939,1704,2432,6624,650,8204,6842,8018,8652,9734,8426,9774,6633,7180,43,1877,9139,6724,543,184,9707,6333,8509,2032,8605,643,5842,7224,7919,7015,3750,7858,5071,2533,4481,5720,736,7674,89,9388,7408,4866,9161,392,2045,5555,2268,7535,2278,9162,7719,8336,1846,6227,368,450,3221,6209,4026,1140,9575,7775,8997,997,6660,9829,3068,7395,3855,3157,6782,1262,8022,2294,8005,6419,7848,6624,3953,6478,5786,8023,4813,7631,602,5180,4433,3822,7740,8458,4961,3667,2584,309,4663,9243,6490,7731,6638,344,887,9771,7957,5260,2065,2313,1678,9912,8936,5631,6389,1073,5,1202,5056,606,2733,9488,4428,6825,7945,5740,491,6880,6049,5153,2475,8890,2883,9112,5585,121,5234,3541,5381,7298,5853,3410,3562,1140,5392,9950,2213,5397,7503,7268,6002,236,6755,6781,3412,1051,2521,3902,4282,4921,9054,6756,3810,8289,2219,9394,4761,7453,9286,6493,4750,1490,6255,4663,2629,1646,4613,4841,7042,8467,2108,9396,5054,5214,6176,8465,2616,5048,2366,6898,6320,7772,3653,129,2412,5872,5874,7172,3324,1511,17,4425,3000,6271,9088,1981,7916,52,6821,1310,8518,5281,7057,9924,6846,9584,8388,9462,4632,754,6359,951,4877,11,7432,7288,2234,9657,811,1909,7520,827,6334,6871,3449,1773,8851,7717,1824,2024,9026,6693,3656,6082,6616,501,5665,1356,6314,6648,8461,9024,3951,3337,5387,7734,6976,7620,7390,7786,9529,4909,4965,2214,8132,4765,3986,6982,2481,2161,9005,1506,5205,9012,3939,1821,9513,5956,9528,2178,2603,7988,1202,6553,1324,6588,4286,8299,4207,8028,2436,87,9288,3752,2300,7419,8517,2637,753,997,4797,6109,8855,2,5121,2793,8174,985,5100,7701,3162,7703,2040,4363,607,3363,950,1245,8013,1509,5624,448,1595,1263,4200,3895,5034,9068,6531,5786,64,7680,1894,5270,4033,7014,4415,8558,7998,9514,2610,7512,3568,4649,1874,4175,8011,9176,1771,2375,684,3746,2822,8630,5008,3373,8876,41,2440,5407,2178,8856,9438,4072,4125,3470,7437,8539,8379,1787,4405,988,9298,7972,5636,7523,8498,9998,6698,268,2372,3733,365,1545,2363,1725,1270,7590,1765,3709,2996,3943,8916,8785,4366,9393,8606,1802,4283,6984,3588,8687,7971,9237,6659,9958,6760,5156,9955,9809,1776,8678,9894,2140,223,2256,216,1492,6197,1981,1552,9193,2275,6820,4329,6640,6212,2935,4793,6846,9918,8381,5533,4241,3969,2191,4198,728,3698,505,537,5473,5534,430,3965,2108,9037,4180,3599,5233,2512,1503,777,1138,4674,5106,7777,7237,4392,8922,4082,4309,3654,9614,8549,7622,8156,2747,8350,8206,9603,5238,30,5136,2019,3994,7244,7407,4526,7194,8991,3389,5048,9768,4527,9721,1225,8655,6957,5616,3928,7391,6276,7581,3356,4825,5203,1512,3923,3552,9717,9877,5141,9746,5012,7159,92,8607,917,969,5801,9907,709,7200,6026,1587,6921,7250,6594,229,9217,521,3971,1845,8102,7327,6669,3304,5190,6943,3207,1258,3171,4699,7355,8182,8209,7446,3141,9125,4766,8941,9031,1827,6140,5057,3413,9412,8658,6,5993,4227,6879,9963,6071,4980,3641,9091,4635,8830,6033,7841,87,9203,2539,7442,3736,7099,1239,6876,6223,2357,2168,5253,4183,4660,6661,3947,4071,1671,3953,6415,5897,831,2730,1967,2162,6370,1057,6796,5200,3441,988,1638,8995,9878,9079,2730,6976,6670,5958,3198,9026,8125,4802,3208,2784,1463,3506,3207,3133,3810,5973,5381,992,8702,7347,3153,5072,4755,9948,6623,8195,935,8260,7189,812,7339,6270,4139,360,2227,7336,9385,6704,2138,8944,9487,9952,2449,9045,9436,6259,5018,4816,7250,3719,2162,6755,5142,6916,3054,1764,1462,3989,24,8650,1152,3714,4919,5291,4073,3498,8978,9809,201,1115,8752,6039,7418,7552,5084,6853,162,6453,1668,7412,171,181,518,1665,3448,3571,3428,4909,3911,9803,9910,5063,9868,1181,6705,3940,4678,2034,100,1230,9501,8851,7268,6918,2755,8703,123,2916,5155,8142,6679,1678,8323,7196,3342,8122,767,3121,9383,4677,2924,5644,6091,2791,6824,9147,3083,7853,1181,3182,9082,681,8385,2702,7598,1139,1404,4072,4054,2911,2214,733,4588,6888,7928,7929,1361,8694,1049,743,9723,324,6387,5813,3115,9562,4960,2549,7415,6140,5730,2848,3172,4114,5549,7121,5252,3305,1193,5658,6215,3406,6390,802,293,669,5082,1653,5715,2482,8748,5437,2806,1486,7601,2272,1047,2560,4820,8461,5051,549,7661,8222,1015,3209,5343,2618,6513,2887,8275,9079,6292,1016,9880,2936,8037,1313,940,3751,3795,6039,5539,6600,7524,3139,5223,8571,2051,42,3383,3453,6942,1043,8027,4308,4252,9721,6926,7116,2607,5200,6195,8898,2568,2426,8185,604,3739,5476,4354,7533,1515,6244,484,9038,5734,5706,7608,4136,2099,991,7589,5392,2033,5615,9700,2636,1687,6625,6104,4293,8176,2298,9542,743,1075,7726,7698,4813,3201,8403,2345,4715,4646,9180,105,6732,1237,7712,867,3335,5054,8455,8727,3439,421,4778,2426,2107,1402,8529,2751,5929,7178,2292,3024,8253,6369,721,3065,9570,9124,1762,636,121,941,7092,6852,2178,1156,7719,1864,6209,2525,6942,5999,9298,1719,8425,7756,9472,6953,507,5401,4131,9150,8424,2383,5519,5496,1799,1440,971,3560,8427,1092,853,5519,4295,9382,6674,8365,1245,9234,890,8187,5233,6539,6257,9,4294,5729,3313,1152,7481,7443,302,2256,6177,5820,7751,4328,3611,8722,7887,2037,6165,8739,7555,6811,8120,580,5176,5717,6166,2417,255,1398,8955,6511,7758,9600,8591,1070,752,6071,4865,1053,8326,7393,3224,2429,1720,6834,7502,9607,5222,18,4697,9129,6828,9169,9708,8355,4885,5873,771,1491,3622,6077,8001,1379,2029,6592,8801,2780,9014,3665,184,3692,7409,9759,6120,9129,2944,3621,5087,8165,9990,9783,7293,6817,5303,7001,5172,6539,9225,2294,8029,9199,4723,6030,577,6751,8973,5729,5882,4338,5745,6065,8029,3154,2175,500,2282,5118,472,7368,3282,461,3502,575,7278,5157,3927,8801,1695,9503,7446,9724,8701,8520,5753,5630,5270,1077,1358,7503,5414,7103,3567,9795,256,2093,294,8889,7210,766,2608,492,7578,2461,7418,4855,7617,1344,7,9312,846,3805,9035,5899,2324,1139,1528,7594,8567,2885,1448,332,6339,5015,126,2946,3459,6772,1834,669,3889,793,1160,1466,3254,8577,2673,7222,6272,9031,6533,3469,2835,1919,9367,5159,9409,894,9104,7975,131,551,8307,6469,1917,4784,9415,5376,1555,7600,6044,5443,8393,3555,3261,7998,8483,5933,5219,1106,4963,8104,4574,7798,22,293,9308,9431]"
   ]
  },
  {
   "cell_type": "code",
   "execution_count": 2,
   "metadata": {},
   "outputs": [
    {
     "data": {
      "text/plain": [
       "10000"
      ]
     },
     "execution_count": 2,
     "metadata": {},
     "output_type": "execute_result"
    }
   ],
   "source": [
    "len(a)"
   ]
  },
  {
   "cell_type": "code",
   "execution_count": 7,
   "metadata": {},
   "outputs": [],
   "source": [
    "class Solution:\n",
    "    def maxArea(self, heights) -> int:\n",
    "        heights = [(index, height) for index, height in enumerate(heights)]\n",
    "        return self.find_areas(heights)\n",
    "        \n",
    "     # [(0,1), (3, 2)] \n",
    "        \n",
    "    def find_areas(self, heights):\n",
    "        print(len(heights))\n",
    "        if len(heights) == 2: # [(2,4), (5, 8)]\n",
    "            width = abs(heights[1][0] - heights[0][0])\n",
    "            height = min(heights[1][1], heights[0][1])\n",
    "            return width * height # 3 * 4 = 12\n",
    "\n",
    "        # [(2,4), (3, 2), (5, 8)] \n",
    "        min_height, min_index = self.min_finder(heights) # returns (3, 2), 1\n",
    "        max_width = max(min_height[0] - heights[0][0], heights[-1][0] - min_height[0]) # max(1, 2)\n",
    "        area = max_width * min_height[1] #2 * 2 = 4\n",
    "        heights.pop(min_index)\n",
    "        return max(self.find_areas(heights), area)   # 12             \n",
    "           \n",
    "    @staticmethod\n",
    "    def min_finder(heights): \n",
    "        min_height = heights[0]\n",
    "        min_index = 0\n",
    "        for idx, height in enumerate(heights[1:]):\n",
    "            if height[1] < min_height[1]:\n",
    "                min_height = height\n",
    "                min_index = idx + 1\n",
    "        return min_height, min_index"
   ]
  },
  {
   "cell_type": "code",
   "execution_count": 13,
   "metadata": {},
   "outputs": [],
   "source": [
    "import sys\n",
    "sys.setrecursionlimit(10100)"
   ]
  },
  {
   "cell_type": "code",
   "execution_count": 14,
   "metadata": {},
   "outputs": [],
   "source": [
    "solution = Solution()"
   ]
  },
  {
   "cell_type": "code",
   "execution_count": 19,
   "metadata": {},
   "outputs": [],
   "source": [
    "def removeElement(nums, val: int) -> int:\n",
    "    for num_times in range(nums.count(val)):\n",
    "        nums.remove(val)\n",
    "    return nums"
   ]
  },
  {
   "cell_type": "code",
   "execution_count": 20,
   "metadata": {},
   "outputs": [
    {
     "data": {
      "text/plain": [
       "[2, 2]"
      ]
     },
     "execution_count": 20,
     "metadata": {},
     "output_type": "execute_result"
    }
   ],
   "source": [
    "removeElement([3,2,2,3], 3)"
   ]
  },
  {
   "cell_type": "code",
   "execution_count": 23,
   "metadata": {},
   "outputs": [
    {
     "data": {
      "text/plain": [
       "[1, 2]"
      ]
     },
     "execution_count": 23,
     "metadata": {},
     "output_type": "execute_result"
    }
   ],
   "source": [
    "list(set([1,1,2]))"
   ]
  },
  {
   "cell_type": "code",
   "execution_count": 24,
   "metadata": {},
   "outputs": [],
   "source": [
    "def jumpingonclouds(c):\n",
    "    jumps = 0\n",
    "    current_i = 0\n",
    "    \n",
    "    while current_i < len(c) -1:\n",
    "        if (len(c) - 1) - current_i == 1:\n",
    "            current_i += 1\n",
    "            jumps += 1\n",
    "        if c[current_i + 2] == 0:\n",
    "            current_i += 2\n",
    "            jumps += 1\n",
    "        else:\n",
    "            current_i += 1\n",
    "            jumps += 1\n",
    "    return jumps"
   ]
  },
  {
   "cell_type": "code",
   "execution_count": 71,
   "metadata": {},
   "outputs": [
    {
     "name": "stdout",
     "output_type": "stream",
     "text": [
      "0 0\n",
      "1 2\n",
      "2 1\n",
      "3 3\n",
      "4 4\n",
      "5 5\n"
     ]
    }
   ],
   "source": [
    "ans = []\n",
    "nums = [0, 2, 1, 3, 4, 5]\n",
    "\n",
    "for i, num in enumerate(nums):\n",
    "    print(i, num)\n",
    "    ans.append(nums[nums[i]])"
   ]
  },
  {
   "cell_type": "code",
   "execution_count": 114,
   "metadata": {},
   "outputs": [
    {
     "data": {
      "text/plain": [
       "[5, 1, 3, 4, 7]"
      ]
     },
     "execution_count": 114,
     "metadata": {},
     "output_type": "execute_result"
    }
   ],
   "source": [
    "nums = [2,5,1,3,4,7]\n",
    "nums[1:]"
   ]
  },
  {
   "cell_type": "code",
   "execution_count": 86,
   "metadata": {},
   "outputs": [],
   "source": [
    "def kidsWithCandies(candies, extraCandies):\n",
    "\n",
    "    bool_candies = []\n",
    "    max_candy = max(candies)\n",
    "\n",
    "    for kid in candies:\n",
    "        new_candies = kid + extraCandies\n",
    "\n",
    "        if new_candies >= max_candy:\n",
    "            bool_candies.append('true')\n",
    "        else:\n",
    "            bool_candies.append('false')\n",
    "\n",
    "    return bool_candies"
   ]
  },
  {
   "cell_type": "code",
   "execution_count": 87,
   "metadata": {},
   "outputs": [
    {
     "data": {
      "text/plain": [
       "['true', 'true', 'true', 'false', 'true']"
      ]
     },
     "execution_count": 87,
     "metadata": {},
     "output_type": "execute_result"
    }
   ],
   "source": [
    "kidsWithCandies([2,3,5,1,3], extraCandies=3)"
   ]
  },
  {
   "cell_type": "code",
   "execution_count": 88,
   "metadata": {},
   "outputs": [],
   "source": [
    "assert kidsWithCandies([2,3,5,1,3], extraCandies=3) == ['true','true','true','false','true']"
   ]
  },
  {
   "cell_type": "code",
   "execution_count": 89,
   "metadata": {},
   "outputs": [],
   "source": [
    "len_list = 5"
   ]
  },
  {
   "cell_type": "code",
   "execution_count": 93,
   "metadata": {},
   "outputs": [
    {
     "data": {
      "text/plain": [
       "[1, 2, 3, 4, 5]"
      ]
     },
     "execution_count": 93,
     "metadata": {},
     "output_type": "execute_result"
    }
   ],
   "source": [
    "[1*x for x in range(1, len_list + 1)]"
   ]
  },
  {
   "cell_type": "code",
   "execution_count": 111,
   "metadata": {},
   "outputs": [],
   "source": [
    "def factorial_func(item, length):\n",
    "    len_list = len(item)\n",
    "    factorial_num, factorial_denom, factorial_len = 1, 1, 1\n",
    "\n",
    "    for i in range(1, len_list + 1):\n",
    "        factorial_num = factorial_num * i\n",
    "\n",
    "    for i in range(1, len_list + 1 - length):\n",
    "        factorial_denom =  factorial_denom * i\n",
    "        print(i, factorial_denom)\n",
    "\n",
    "    for i in range(1, length + 1):\n",
    "        factorial_len = factorial_len * i\n",
    "    \n",
    "    print(factorial_num, factorial_denom, factorial_len)\n",
    "\n",
    "    return factorial_num / (factorial_denom * factorial_len)\n",
    "\n",
    "def numIdenticalPairs(nums):\n",
    "    count = 0\n",
    "\n",
    "    unique_nums = set(nums)\n",
    "\n",
    "    for num in unique_nums:\n",
    "        indices = [i for i, number in enumerate(nums) if number == num]\n",
    "        if len(indices) == 1:\n",
    "            continue\n",
    "        count += factorial_func(indices, 2)\n",
    "\n",
    "    return int(count)"
   ]
  },
  {
   "cell_type": "code",
   "execution_count": 116,
   "metadata": {},
   "outputs": [],
   "source": [
    "class Solution:\n",
    "    def countSmaller(self, nums):\n",
    "        \n",
    "        counts= []\n",
    "        \n",
    "        for i, num in enumerate(nums):\n",
    "            if i == len(nums) -1:\n",
    "                counts.append(0)\n",
    "                continue\n",
    "            \n",
    "            count= 0\n",
    "            for nums_2 in nums[i + 1:]:\n",
    "                if nums_2 < num:\n",
    "                    count += 1\n",
    "            counts.append(count)\n",
    "        \n",
    "        return counts"
   ]
  },
  {
   "cell_type": "code",
   "execution_count": 133,
   "metadata": {},
   "outputs": [],
   "source": [
    "s = \"codeleet\"\n",
    "indices = [4,5,6,7,0,2,1,3]\n",
    "\n",
    "class Solution:\n",
    "    def restoreString(s, indices):\n",
    "        restored = []\n",
    "        \n",
    "        s_dict = {}\n",
    "        \n",
    "        for i, item in zip(indices, s):\n",
    "            s_dict[i] = item\n",
    "        \n",
    "        for key in sorted(s_dict):\n",
    "            restored.append(s_dict[key])\n",
    "            \n",
    "        return ''.join(restored)  "
   ]
  },
  {
   "cell_type": "code",
   "execution_count": 134,
   "metadata": {},
   "outputs": [],
   "source": [
    "first = 1"
   ]
  },
  {
   "cell_type": "code",
   "execution_count": 139,
   "metadata": {},
   "outputs": [
    {
     "data": {
      "text/plain": [
       "5"
      ]
     },
     "execution_count": 139,
     "metadata": {},
     "output_type": "execute_result"
    }
   ],
   "source": [
    "first ^ 4"
   ]
  },
  {
   "cell_type": "code",
   "execution_count": 18,
   "metadata": {},
   "outputs": [
    {
     "data": {
      "text/plain": [
       "['framp.csv',\n",
       " 'gnyned.csv',\n",
       " 'gwoomed.csv',\n",
       " 'hoilled.csv',\n",
       " 'plent.csv',\n",
       " 'throwsh.csv',\n",
       " 'twerche.csv',\n",
       " 'veeme.csv']"
      ]
     },
     "execution_count": 18,
     "metadata": {},
     "output_type": "execute_result"
    }
   ],
   "source": [
    "files = [file for file in os.listdir(path)]\n",
    "files"
   ]
  },
  {
   "cell_type": "code",
   "execution_count": 2,
   "metadata": {
    "scrolled": true
   },
   "outputs": [
    {
     "data": {
      "text/plain": [
       "[[            date        vol\n",
       "  0     2005-09-23  306208914\n",
       "  171   2006-05-31   28831088\n",
       "  341   2007-02-01   18388511\n",
       "  659   2008-05-14   24150048\n",
       "  843   2009-02-06   35246018\n",
       "  1170  2010-05-26   54335576\n",
       "  1490  2011-08-31   35866126\n",
       "  1788  2012-11-06   59381774\n",
       "  2018  2013-10-10   38320297\n",
       "  2139  2014-04-09   21251451\n",
       "  2550  2015-11-30   17545094\n",
       "  2692  2016-06-28   17390752\n",
       "  2854  2017-02-16   17621885\n",
       "  3253  2018-09-21   28281682\n",
       "  3324  2019-01-09    9451453,             date   close\n",
       "  4     2005-09-29  2.8489\n",
       "  157   2006-05-11  2.8489\n",
       "  523   2007-10-23  4.5976\n",
       "  572   2008-01-08  4.1227\n",
       "  963   2009-07-30  3.6434\n",
       "  1289  2010-11-12  3.2556\n",
       "  1452  2011-07-07  3.8671\n",
       "  1453  2011-07-08  3.8671\n",
       "  1823  2012-12-28  4.4573\n",
       "  1973  2013-08-07  5.7230\n",
       "  2253  2014-09-23  4.7138\n",
       "  2514  2015-10-08  6.4497\n",
       "  2724  2016-08-11  5.4336\n",
       "  2985  2017-08-28  6.8750\n",
       "  2987  2017-08-30  6.8750\n",
       "  3306  2018-12-07  7.0000\n",
       "  3334  2019-01-23  7.5100], [           date       vol\n",
       "  0    2017-07-27  26463407\n",
       "  337  2018-11-30  13974809\n",
       "  359  2019-01-08    782333,            date   close\n",
       "  35   2017-09-15  35.007\n",
       "  111  2018-01-08  33.081\n",
       "  355  2019-01-02  21.580], [            date      vol\n",
       "  0     2009-06-25  4169894\n",
       "  179   2010-03-09  1577806\n",
       "  439   2011-03-18   510597\n",
       "  858   2012-11-16   501326\n",
       "  1002  2013-06-21   301582\n",
       "  1379  2014-12-23   359617\n",
       "  1558  2015-09-14   688905\n",
       "  1689  2016-03-23   368830\n",
       "  2094  2017-11-02   263079\n",
       "  2322  2018-10-02   142918\n",
       "  2396  2019-01-23    35019,             date    close\n",
       "  77    2009-10-12   62.856\n",
       "  342   2010-10-28   92.381\n",
       "  374   2010-12-15   92.381\n",
       "  438   2011-03-17  104.800\n",
       "  882   2012-12-20  119.170\n",
       "  1108  2013-11-21  123.820\n",
       "  1109  2013-11-22  123.820\n",
       "  1169  2014-02-24  114.060\n",
       "  1388  2015-01-13   94.100\n",
       "  1850  2016-11-14   71.424\n",
       "  1939  2017-03-21   82.567\n",
       "  2138  2018-01-09   70.700\n",
       "  2393  2019-01-18   56.500], [            date       vol\n",
       "  0     1998-11-18  11251873\n",
       "  43    1999-01-21   6076014\n",
       "  493   2000-11-08  20275328\n",
       "  725   2001-10-11   8838297\n",
       "  872   2002-05-17  11420120\n",
       "  1194  2003-08-29  14271971\n",
       "  1349  2004-04-13  13512836\n",
       "  1778  2005-12-21  19321890\n",
       "  1991  2006-10-25  20104484\n",
       "  2048  2007-01-18  48282672\n",
       "  2488  2008-10-21  24485887\n",
       "  2616  2009-04-29  25906163\n",
       "  2899  2010-06-14  32060819\n",
       "  3154  2011-06-15  30848637\n",
       "  3492  2012-10-17  49111144\n",
       "  3570  2013-02-12  46010028\n",
       "  3985  2014-10-14  23583305\n",
       "  4280  2015-12-17  24893525\n",
       "  4319  2016-02-17  11408138\n",
       "  4569  2017-02-14  41522468\n",
       "  4970  2018-09-21  13507224\n",
       "  5051  2019-01-23   3794962,             date    close\n",
       "  25    1998-12-23   8.2768\n",
       "  26    1998-12-28   8.2768\n",
       "  163   1999-07-15  13.7030\n",
       "  320   2000-02-29  18.7090\n",
       "  531   2001-01-04  13.1900\n",
       "  784   2002-01-09   8.3506\n",
       "  1192  2003-08-27   7.8339\n",
       "  1196  2003-09-02   7.8339\n",
       "  1533  2004-12-31   9.2572\n",
       "  1713  2005-09-19  12.2970\n",
       "  1714  2005-09-20  12.2970\n",
       "  1723  2005-10-03  12.2970\n",
       "  2028  2006-12-18  12.2050\n",
       "  2272  2007-12-07  13.0750\n",
       "  2434  2008-08-05  13.6030\n",
       "  2548  2009-01-21  11.7170\n",
       "  2980  2010-10-05  12.5810\n",
       "  3270  2011-11-30  13.5550\n",
       "  3448  2012-08-16  13.8180\n",
       "  3544  2013-01-07  10.3280\n",
       "  3968  2014-09-19  10.7110\n",
       "  4136  2015-05-27   9.4586\n",
       "  4137  2015-05-28   9.4586\n",
       "  4347  2016-03-30   6.5482\n",
       "  4706  2017-09-01   6.1000\n",
       "  4802  2018-01-22   6.3600\n",
       "  5047  2019-01-17   5.5000], [            date     vol\n",
       "  111   2004-10-29  681289\n",
       "  337   2005-10-07  268690\n",
       "  416   2006-01-31  285801\n",
       "  751   2007-06-18  229924\n",
       "  1054  2008-09-04  164968\n",
       "  1224  2009-05-13  257104\n",
       "  1422  2010-02-22  165316\n",
       "  1859  2011-11-30  189252\n",
       "  2071  2012-10-15   87597\n",
       "  2265  2013-07-31   86191\n",
       "  2538  2014-09-05  124624\n",
       "  2855  2015-12-10   82283\n",
       "  2908  2016-03-01  411227\n",
       "  3262  2017-07-28   64303\n",
       "  3476  2018-06-08   38814\n",
       "  3626  2019-01-16   22818,             date    close\n",
       "  115   2004-11-05   38.149\n",
       "  179   2005-02-04   40.177\n",
       "  631   2006-12-18   43.350\n",
       "  771   2007-07-16  147.160\n",
       "  931   2008-03-07  123.250\n",
       "  1383  2009-12-28   82.781\n",
       "  1389  2010-01-06   82.094\n",
       "  1738  2011-06-02   91.435\n",
       "  1743  2011-06-09   91.435\n",
       "  1744  2011-06-10   91.435\n",
       "  1952  2012-04-17  106.080\n",
       "  2350  2013-12-02  208.820\n",
       "  2616  2014-12-30  222.250\n",
       "  2701  2015-05-06  257.400\n",
       "  3019  2016-08-09  299.700\n",
       "  3221  2017-05-31  328.530\n",
       "  3373  2018-01-09  312.380\n",
       "  3631  2019-01-23  217.000], [            date       vol\n",
       "  0     1997-07-10   7190075\n",
       "  144   1998-02-09   3968369\n",
       "  496   1999-07-07   6231927\n",
       "  627   2000-01-14   5259179\n",
       "  1064  2001-10-11   7681942\n",
       "  1124  2002-01-10   4323656\n",
       "  1531  2003-08-27   6453973\n",
       "  1833  2004-11-05  12269671\n",
       "  1907  2005-02-18   9256851\n",
       "  2145  2006-01-31  13121030\n",
       "  2621  2007-12-21   4762132\n",
       "  2818  2008-10-08   9739822\n",
       "  2877  2009-01-07   7718665\n",
       "  3221  2010-05-19   4731855\n",
       "  3602  2011-11-21   7672480\n",
       "  3638  2012-01-12   5346985\n",
       "  3996  2013-06-21   4851686\n",
       "  4195  2014-04-09   4868791\n",
       "  4383  2015-01-14   3939615\n",
       "  4843  2016-11-10   4233466\n",
       "  4885  2017-01-12   3183435\n",
       "  5309  2018-09-21   3796857\n",
       "  5380  2019-01-09    804877,             date     close\n",
       "  73    1997-10-22    8.4273\n",
       "  144   1998-02-09    5.4130\n",
       "  199   1998-04-30    5.4130\n",
       "  498   1999-07-09    9.8670\n",
       "  657   2000-02-25   11.4410\n",
       "  887   2001-01-29    8.7326\n",
       "  888   2001-01-30    8.7326\n",
       "  1132  2002-01-22    5.9593\n",
       "  1566  2003-10-15    9.1826\n",
       "  1815  2004-10-11   13.3590\n",
       "  2122  2005-12-29   23.4350\n",
       "  2213  2006-05-11   49.1240\n",
       "  2573  2007-10-15   66.2150\n",
       "  2664  2008-02-27   51.8610\n",
       "  3109  2009-12-04   66.2720\n",
       "  3379  2010-12-31  106.8400\n",
       "  3508  2011-07-07  127.6300\n",
       "  3514  2011-07-15  127.6300\n",
       "  3875  2012-12-19  161.5100\n",
       "  3881  2013-01-03  160.6700\n",
       "  3882  2013-01-04  160.6700\n",
       "  4290  2014-08-27  129.7100\n",
       "  4465  2015-05-13  123.1300\n",
       "  4862  2016-12-08   97.0870\n",
       "  4913  2017-02-21  134.3100\n",
       "  5136  2018-01-15  115.0000\n",
       "  5387  2019-01-18   92.4800], [            date      vol\n",
       "  1     1997-07-01  3240026\n",
       "  337   1998-11-03  1047549\n",
       "  510   1999-07-15  3829036\n",
       "  637   2000-01-18  1351917\n",
       "  889   2001-01-23   103433\n",
       "  1154  2002-02-13    90521\n",
       "  1390  2003-01-27    54890\n",
       "  1652  2004-02-11   314531\n",
       "  2013  2005-07-15  3087428\n",
       "  2330  2006-10-17  2107085\n",
       "  2387  2007-01-10  1777609\n",
       "  2857  2008-11-25  2620568\n",
       "  3097  2009-11-09  5736950\n",
       "  3134  2010-01-05  1684660\n",
       "  3451  2011-04-05  1520443\n",
       "  3750  2012-06-15   436408\n",
       "  4002  2013-06-21   970199\n",
       "  4188  2014-03-21   589648\n",
       "  4512  2015-07-10   430244\n",
       "  4653  2016-02-02   187133\n",
       "  5061  2017-09-15   582322\n",
       "  5315  2018-09-21   569514\n",
       "  5387  2019-01-10   107028,             date   close\n",
       "  81    1997-10-22  22.278\n",
       "  261   1998-07-20  32.673\n",
       "  264   1998-07-23  32.673\n",
       "  509   1999-07-14  30.127\n",
       "  644   2000-01-27  31.785\n",
       "  1123  2001-12-31  27.157\n",
       "  1217  2002-05-17  32.037\n",
       "  1348  2002-11-22  32.037\n",
       "  1349  2002-11-25  32.037\n",
       "  1376  2003-01-07  31.740\n",
       "  1667  2004-03-03  30.127\n",
       "  1668  2004-03-04  30.127\n",
       "  1677  2004-03-17  30.127\n",
       "  2126  2005-12-27  34.029\n",
       "  2380  2006-12-29  46.075\n",
       "  2481  2007-05-28  72.991\n",
       "  2630  2008-01-02  54.885\n",
       "  3127  2009-12-22  44.524\n",
       "  3374  2010-12-15  60.278\n",
       "  3455  2011-04-11  63.969\n",
       "  3457  2011-04-13  63.969\n",
       "  3458  2011-04-14  63.969\n",
       "  3459  2011-04-15  63.969\n",
       "  3875  2012-12-11  69.092\n",
       "  3876  2012-12-12  69.092\n",
       "  4087  2013-10-21  93.089\n",
       "  4088  2013-10-22  93.089\n",
       "  4325  2014-10-07  97.740\n",
       "  4463  2015-04-30  87.593\n",
       "  4693  2016-03-31  75.097\n",
       "  5133  2017-12-29  77.526\n",
       "  5155  2018-02-01  80.953\n",
       "  5395  2019-01-22  70.900], [            date     vol\n",
       "  0     2011-05-10  973320\n",
       "  224   2012-03-27  332852\n",
       "  510   2013-05-24  442705\n",
       "  664   2014-01-09  185840\n",
       "  1114  2015-10-23  245446\n",
       "  1164  2016-01-11  188318\n",
       "  1581  2017-09-06  386808\n",
       "  1790  2018-07-10  484683\n",
       "  1914  2019-01-10   67706,             date    close\n",
       "  142   2011-11-30   41.937\n",
       "  234   2012-04-12   49.180\n",
       "  634   2013-11-20   87.304\n",
       "  892   2014-12-03  113.410\n",
       "  1137  2015-11-26  184.060\n",
       "  1338  2016-09-16  245.480\n",
       "  1556  2017-08-01  340.560\n",
       "  1661  2018-01-03  259.330\n",
       "  1919  2019-01-17  182.200]]"
      ]
     },
     "execution_count": 2,
     "metadata": {},
     "output_type": "execute_result"
    }
   ],
   "source": [
    "path = '/mnt/c/Users/imrit/Downloads/csv_files/'\n",
    "\n",
    "final_list = []\n",
    "for file in os.listdir(path):\n",
    "    df = pd.read_csv(f'{path}{file}')\n",
    "    df['year'] = pd.DatetimeIndex(df['date']).year\n",
    "    \n",
    "    idx_vol = df.groupby(['year'])['vol'].transform(max) == df['vol']\n",
    "    idx_close = df.groupby(['year'])['close'].transform(max) == df['close']\n",
    "\n",
    "    max_vol = df[idx_vol][['date', 'vol']]\n",
    "    max_close = df[idx_close][['date', 'close']]\n",
    "\n",
    "    final_list.append([max_vol, max_close])\n",
    "final_list"
   ]
  },
  {
   "cell_type": "code",
   "execution_count": 27,
   "metadata": {
    "scrolled": true
   },
   "outputs": [
    {
     "ename": "AttributeError",
     "evalue": "'Series' object has no attribute 'year'",
     "output_type": "error",
     "traceback": [
      "\u001b[0;31m---------------------------------------------------------------------------\u001b[0m",
      "\u001b[0;31mAttributeError\u001b[0m                            Traceback (most recent call last)",
      "\u001b[0;32m<ipython-input-27-68e6529e9f77>\u001b[0m in \u001b[0;36m<module>\u001b[0;34m\u001b[0m\n\u001b[1;32m      1\u001b[0m \u001b[0mdf\u001b[0m \u001b[0;34m=\u001b[0m \u001b[0mpd\u001b[0m\u001b[0;34m.\u001b[0m\u001b[0mread_csv\u001b[0m\u001b[0;34m(\u001b[0m\u001b[0;34m'/mnt/c/Users/imrit/Downloads/csv_files/throwsh.csv'\u001b[0m\u001b[0;34m)\u001b[0m\u001b[0;34m\u001b[0m\u001b[0;34m\u001b[0m\u001b[0m\n\u001b[1;32m      2\u001b[0m \u001b[0mdf\u001b[0m\u001b[0;34m[\u001b[0m\u001b[0;34m'date'\u001b[0m\u001b[0;34m]\u001b[0m \u001b[0;34m=\u001b[0m \u001b[0mpd\u001b[0m\u001b[0;34m.\u001b[0m\u001b[0mDatetimeIndex\u001b[0m\u001b[0;34m(\u001b[0m\u001b[0mdf\u001b[0m\u001b[0;34m[\u001b[0m\u001b[0;34m'date'\u001b[0m\u001b[0;34m]\u001b[0m\u001b[0;34m)\u001b[0m\u001b[0;34m\u001b[0m\u001b[0;34m\u001b[0m\u001b[0m\n\u001b[0;32m----> 3\u001b[0;31m \u001b[0mdf\u001b[0m\u001b[0;34m[\u001b[0m\u001b[0;34m'year'\u001b[0m\u001b[0;34m]\u001b[0m \u001b[0;34m=\u001b[0m \u001b[0mdf\u001b[0m\u001b[0;34m[\u001b[0m\u001b[0;34m'date'\u001b[0m\u001b[0;34m]\u001b[0m\u001b[0;34m.\u001b[0m\u001b[0myear\u001b[0m\u001b[0;34m\u001b[0m\u001b[0;34m\u001b[0m\u001b[0m\n\u001b[0m\u001b[1;32m      4\u001b[0m \u001b[0;34m\u001b[0m\u001b[0m\n\u001b[1;32m      5\u001b[0m \u001b[0midx_vol\u001b[0m \u001b[0;34m=\u001b[0m \u001b[0mdf\u001b[0m\u001b[0;34m.\u001b[0m\u001b[0mgroupby\u001b[0m\u001b[0;34m(\u001b[0m\u001b[0;34m[\u001b[0m\u001b[0;34m'year'\u001b[0m\u001b[0;34m]\u001b[0m\u001b[0;34m)\u001b[0m\u001b[0;34m[\u001b[0m\u001b[0;34m'vol'\u001b[0m\u001b[0;34m]\u001b[0m\u001b[0;34m.\u001b[0m\u001b[0mtransform\u001b[0m\u001b[0;34m(\u001b[0m\u001b[0mmax\u001b[0m\u001b[0;34m)\u001b[0m \u001b[0;34m==\u001b[0m \u001b[0mdf\u001b[0m\u001b[0;34m[\u001b[0m\u001b[0;34m'vol'\u001b[0m\u001b[0;34m]\u001b[0m\u001b[0;34m\u001b[0m\u001b[0;34m\u001b[0m\u001b[0m\n",
      "\u001b[0;32m~/miniconda3/lib/python3.7/site-packages/pandas/core/generic.py\u001b[0m in \u001b[0;36m__getattr__\u001b[0;34m(self, name)\u001b[0m\n\u001b[1;32m   5463\u001b[0m             \u001b[0;32mif\u001b[0m \u001b[0mself\u001b[0m\u001b[0;34m.\u001b[0m\u001b[0m_info_axis\u001b[0m\u001b[0;34m.\u001b[0m\u001b[0m_can_hold_identifiers_and_holds_name\u001b[0m\u001b[0;34m(\u001b[0m\u001b[0mname\u001b[0m\u001b[0;34m)\u001b[0m\u001b[0;34m:\u001b[0m\u001b[0;34m\u001b[0m\u001b[0;34m\u001b[0m\u001b[0m\n\u001b[1;32m   5464\u001b[0m                 \u001b[0;32mreturn\u001b[0m \u001b[0mself\u001b[0m\u001b[0;34m[\u001b[0m\u001b[0mname\u001b[0m\u001b[0;34m]\u001b[0m\u001b[0;34m\u001b[0m\u001b[0;34m\u001b[0m\u001b[0m\n\u001b[0;32m-> 5465\u001b[0;31m             \u001b[0;32mreturn\u001b[0m \u001b[0mobject\u001b[0m\u001b[0;34m.\u001b[0m\u001b[0m__getattribute__\u001b[0m\u001b[0;34m(\u001b[0m\u001b[0mself\u001b[0m\u001b[0;34m,\u001b[0m \u001b[0mname\u001b[0m\u001b[0;34m)\u001b[0m\u001b[0;34m\u001b[0m\u001b[0;34m\u001b[0m\u001b[0m\n\u001b[0m\u001b[1;32m   5466\u001b[0m \u001b[0;34m\u001b[0m\u001b[0m\n\u001b[1;32m   5467\u001b[0m     \u001b[0;32mdef\u001b[0m \u001b[0m__setattr__\u001b[0m\u001b[0;34m(\u001b[0m\u001b[0mself\u001b[0m\u001b[0;34m,\u001b[0m \u001b[0mname\u001b[0m\u001b[0;34m:\u001b[0m \u001b[0mstr\u001b[0m\u001b[0;34m,\u001b[0m \u001b[0mvalue\u001b[0m\u001b[0;34m)\u001b[0m \u001b[0;34m->\u001b[0m \u001b[0;32mNone\u001b[0m\u001b[0;34m:\u001b[0m\u001b[0;34m\u001b[0m\u001b[0;34m\u001b[0m\u001b[0m\n",
      "\u001b[0;31mAttributeError\u001b[0m: 'Series' object has no attribute 'year'"
     ]
    }
   ],
   "source": [
    "df = pd.read_csv('/mnt/c/Users/imrit/Downloads/csv_files/throwsh.csv')\n",
    "df['date'] = pd.DatetimeIndex(df['date'])\n",
    "df['year'] = df['date'].year\n",
    "\n",
    "idx_vol = df.groupby(['year'])['vol'].transform(max) == df['vol']\n",
    "idx_close = df.groupby(['year'])['close'].transform(max) == df['close']\n",
    "\n",
    "max_vol = df[idx_vol][['date', 'vol']].reset_index(drop=True)\n",
    "max_close = df[idx_close][['date', 'close']]\n",
    "\n",
    "display(max_vol, max_close)"
   ]
  },
  {
   "cell_type": "code",
   "execution_count": 31,
   "metadata": {},
   "outputs": [
    {
     "data": {
      "text/plain": [
       "0      1997-07-10\n",
       "1      1997-07-11\n",
       "2      1997-07-14\n",
       "3      1997-07-15\n",
       "4      1997-07-16\n",
       "          ...    \n",
       "5386   2019-01-17\n",
       "5387   2019-01-18\n",
       "5388   2019-01-21\n",
       "5389   2019-01-22\n",
       "5390   2019-01-23\n",
       "Name: date, Length: 5391, dtype: datetime64[ns]"
      ]
     },
     "execution_count": 31,
     "metadata": {},
     "output_type": "execute_result"
    }
   ],
   "source": [
    "df['date']."
   ]
  },
  {
   "cell_type": "code",
   "execution_count": 5,
   "metadata": {},
   "outputs": [],
   "source": [
    "import itertools"
   ]
  },
  {
   "cell_type": "code",
   "execution_count": 9,
   "metadata": {},
   "outputs": [
    {
     "data": {
      "text/plain": [
       "['photo.jpg, Warsaw, 2013-09-05 14:08:15\\njohn.png, London, 2015-06-20 15:13:22\\nmyFriends.png, Warsaw, 2013-09-05 14:07:13\\nEiffel.jpg, Paris, 2015-07-23 08:03:02\\npisatower.jpg, Paris, 2015-07-22 23:59:59\\nBOB.jpg, London, 2015-08-05 00:02:03\\nnotredame.png, Paris, 2015-09-01 12:00:00\\nme.jpg, Warsaw, 2013-09-06 15:40:22\\na.png, Warsaw, 2016-02-13 13:33:50\\nb.jpg, Warsaw, 2016-01-02 15:12:22\\nc.jpg, Warsaw, 2016-01-02 14:34:30\\nd.jpg, Warsaw, 2016-01-02 15:15:01\\ne.png, Warsaw, 2016-01-02 09:49:09\\nf.png, Warsaw, 2016-01-02 10:55:32\\ng.jpg, Warsaw, 2016-02-29 22:13:11']"
      ]
     },
     "execution_count": 9,
     "metadata": {},
     "output_type": "execute_result"
    }
   ],
   "source": [
    "test_case = ['photo.jpg, Warsaw, 2013-09-05 14:08:15\\njohn.png, London, 2015-06-20 15:13:22\\nmyFriends.png, Warsaw, 2013-09-05 14:07:13\\nEiffel.jpg, Paris, 2015-07-23 08:03:02\\npisatower.jpg, Paris, 2015-07-22 23:59:59\\nBOB.jpg, London, 2015-08-05 00:02:03\\nnotredame.png, Paris, 2015-09-01 12:00:00\\nme.jpg, Warsaw, 2013-09-06 15:40:22\\na.png, Warsaw, 2016-02-13 13:33:50\\nb.jpg, Warsaw, 2016-01-02 15:12:22\\nc.jpg, Warsaw, 2016-01-02 14:34:30\\nd.jpg, Warsaw, 2016-01-02 15:15:01\\ne.png, Warsaw, 2016-01-02 09:49:09\\nf.png, Warsaw, 2016-01-02 10:55:32\\ng.jpg, Warsaw, 2016-02-29 22:13:11']\n",
    "test_case"
   ]
  },
  {
   "cell_type": "code",
   "execution_count": 17,
   "metadata": {},
   "outputs": [
    {
     "name": "stdout",
     "output_type": "stream",
     "text": [
      "560\n"
     ]
    }
   ],
   "source": [
    "str_test_case = test_case[0]\n",
    "print(len(str_test_case))"
   ]
  },
  {
   "cell_type": "code",
   "execution_count": 18,
   "metadata": {},
   "outputs": [
    {
     "data": {
      "text/plain": [
       "['001_john.png, London, 2015-06-20 15:13:22',\n",
       " '005_BOB.jpg, London, 2015-08-05 00:02:03',\n",
       " '004_pisatower.jpg, Paris, 2015-07-22 23:59:59',\n",
       " '003_Eiffel.jpg, Paris, 2015-07-23 08:03:02',\n",
       " '006_notredame.png, Paris, 2015-09-01 12:00:00',\n",
       " '002_myFriends.png, Warsaw, 2013-09-05 14:07:13',\n",
       " '000_photo.jpg, Warsaw, 2013-09-05 14:08:15',\n",
       " '007_me.jpg, Warsaw, 2013-09-06 15:40:22',\n",
       " '012_e.png, Warsaw, 2016-01-02 09:49:09',\n",
       " '013_f.png, Warsaw, 2016-01-02 10:55:32',\n",
       " '010_c.jpg, Warsaw, 2016-01-02 14:34:30',\n",
       " '009_b.jpg, Warsaw, 2016-01-02 15:12:22',\n",
       " '011_d.jpg, Warsaw, 2016-01-02 15:15:01',\n",
       " '008_a.png, Warsaw, 2016-02-13 13:33:50',\n",
       " '014_g.jpg, Warsaw, 2016-02-29 22:13:11']"
      ]
     },
     "execution_count": 18,
     "metadata": {},
     "output_type": "execute_result"
    }
   ],
   "source": [
    "S = ['photo.jpg, Warsaw, 2013-09-05 14:08:15', 'john.png, London, 2015-06-20 15:13:22', 'myFriends.png, Warsaw, 2013-09-05 14:07:13', 'Eiffel.jpg, Paris, 2015-07-23 08:03:02', 'pisatower.jpg, Paris, 2015-07-22 23:59:59', 'BOB.jpg, London, 2015-08-05 00:02:03', 'notredame.png, Paris, 2015-09-01 12:00:00', 'me.jpg, Warsaw, 2013-09-06 15:40:22', 'a.png, Warsaw, 2016-02-13 13:33:50', 'b.jpg, Warsaw, 2016-01-02 15:12:22', 'c.jpg, Warsaw, 2016-01-02 14:34:30', 'd.jpg, Warsaw, 2016-01-02 15:15:01', 'e.png, Warsaw, 2016-01-02 09:49:09', 'f.png, Warsaw, 2016-01-02 10:55:32', 'g.jpg, Warsaw, 2016-02-29 22:13:11']\n",
    "S_order = [f'{i:03d}_{photo}' for i, photo in enumerate(S)]\n",
    "s = sorted(S_order, key = lambda x: (x.split(',')[1].strip(), \n",
    "                               x.split(',')[-1].strip()))\n",
    "s"
   ]
  },
  {
   "cell_type": "code",
   "execution_count": 7,
   "metadata": {},
   "outputs": [
    {
     "data": {
      "text/plain": [
       "[['001_john.png, London, 2015-06-20 15:13:22',\n",
       "  '005_BOB.jpg, London, 2015-08-05 00:02:03'],\n",
       " ['004_pisatower.jpg, Paris, 2015-07-22 23:59:59',\n",
       "  '003_Eiffel.jpg, Paris, 2015-07-23 08:03:02',\n",
       "  '006_notredame.png, Paris, 2015-09-01 12:00:00'],\n",
       " ['002_myFriends.png, Warsaw, 2013-09-05 14:07:13',\n",
       "  '000_photo.jpg, Warsaw, 2013-09-05 14:08:15',\n",
       "  '007_me.jpg, Warsaw, 2013-09-06 15:40:22',\n",
       "  '012_e.png, Warsaw, 2016-01-02 09:49:09',\n",
       "  '013_f.png, Warsaw, 2016-01-02 10:55:32',\n",
       "  '010_c.jpg, Warsaw, 2016-01-02 14:34:30',\n",
       "  '009_b.jpg, Warsaw, 2016-01-02 15:12:22',\n",
       "  '011_d.jpg, Warsaw, 2016-01-02 15:15:01',\n",
       "  '008_a.png, Warsaw, 2016-02-13 13:33:50',\n",
       "  '014_g.jpg, Warsaw, 2016-02-29 22:13:11']]"
      ]
     },
     "execution_count": 7,
     "metadata": {},
     "output_type": "execute_result"
    }
   ],
   "source": [
    "groups = [list(g) for k, g in itertools.groupby(s, \n",
    "    lambda x: (x.split(',')[1].strip()))]\n",
    "groups"
   ]
  },
  {
   "cell_type": "code",
   "execution_count": 103,
   "metadata": {},
   "outputs": [
    {
     "name": "stdout",
     "output_type": "stream",
     "text": [
      "[['001_john.png, London, 2015-06-20 15:13:22', '005_BOB.jpg, London, 2015-08-05 00:02:03'], ['004_pisatower.jpg, Paris, 2015-07-22 23:59:59', '003_Eiffel.jpg, Paris, 2015-07-23 08:03:02', '006_notredame.png, Paris, 2015-09-01 12:00:00'], ['002_myFriends.png, Warsaw, 2013-09-05 14:07:13', '000_photo.jpg, Warsaw, 2013-09-05 14:08:15', '007_me.jpg, Warsaw, 2013-09-06 15:40:22', '012_e.png, Warsaw, 2016-01-02 09:49:09', '013_f.png, Warsaw, 2016-01-02 10:55:32', '010_c.jpg, Warsaw, 2016-01-02 14:34:30', '009_b.jpg, Warsaw, 2016-01-02 15:12:22', '011_d.jpg, Warsaw, 2016-01-02 15:15:01', '008_a.png, Warsaw, 2016-02-13 13:33:50', '014_g.jpg, Warsaw, 2016-02-29 22:13:11']]\n"
     ]
    }
   ],
   "source": [
    "groups = []\n",
    "for k, g in itertools.groupby(s, lambda x: (x.split(',')[1].strip())):\n",
    "    groups.append(list(g))    # Store group iterator as a list             \n",
    "print(groups)                    "
   ]
  },
  {
   "cell_type": "code",
   "execution_count": 19,
   "metadata": {},
   "outputs": [
    {
     "data": {
      "text/plain": [
       "['Warsaw02.jpg',\n",
       " 'London1.png',\n",
       " 'Warsaw01.png',\n",
       " 'Paris2.jpg',\n",
       " 'Paris1.jpg',\n",
       " 'London2.jpg',\n",
       " 'Paris3.png',\n",
       " 'Warsaw03.jpg',\n",
       " 'Warsaw09.png',\n",
       " 'Warsaw07.jpg',\n",
       " 'Warsaw06.jpg',\n",
       " 'Warsaw08.jpg',\n",
       " 'Warsaw04.png',\n",
       " 'Warsaw05.png',\n",
       " 'Warsaw10.jpg']"
      ]
     },
     "execution_count": 19,
     "metadata": {},
     "output_type": "execute_result"
    }
   ],
   "source": [
    "renamed_photos = []\n",
    "for group in groups:\n",
    "    for i, photo in enumerate(group, 1):\n",
    "        photo_format = photo.split('.')[1].split(',')[0]\n",
    "        location = photo.split(',')[1].strip()\n",
    "        photo_order = photo.split('_')[0]\n",
    "        if len(group) < 10:\n",
    "            photo_name = f\"{location}{i}.{photo_format}_{photo_order}\"\n",
    "        else:\n",
    "            photo_name = f\"{location}{i:02d}.{photo_format}_{photo_order}\"\n",
    "        renamed_photos.append(photo_name)\n",
    "\n",
    "renamed_photos.sort(key= lambda x: x.split('_')[1])\n",
    "renamed_photos = [x.split('_')[0] for x in renamed_photos]\n",
    "renamed_photos"
   ]
  },
  {
   "cell_type": "code",
   "execution_count": 32,
   "metadata": {},
   "outputs": [
    {
     "data": {
      "text/plain": [
       "'Warsaw02.jpg\\nLondon1.png\\nWarsaw01.png\\nParis2.jpg\\nParis1.jpg\\nLondon2.jpg\\nParis3.png\\nWarsaw03.jpg\\nWarsaw09.png\\nWarsaw07.jpg\\nWarsaw06.jpg\\nWarsaw08.jpg\\nWarsaw04.png\\nWarsaw05.png\\nWarsaw10.jpg'"
      ]
     },
     "execution_count": 32,
     "metadata": {},
     "output_type": "execute_result"
    }
   ],
   "source": [
    "'\\n'.join(renamed_photos)"
   ]
  },
  {
   "cell_type": "code",
   "execution_count": 46,
   "metadata": {},
   "outputs": [
    {
     "ename": "NameError",
     "evalue": "name 'nan' is not defined",
     "output_type": "error",
     "traceback": [
      "\u001b[0;31m---------------------------------------------------------------------------\u001b[0m",
      "\u001b[0;31mNameError\u001b[0m                                 Traceback (most recent call last)",
      "\u001b[0;32m<ipython-input-46-adf6932741f4>\u001b[0m in \u001b[0;36m<module>\u001b[0;34m\u001b[0m\n\u001b[0;32m----> 1\u001b[0;31m \u001b[0mx\u001b[0m \u001b[0;34m=\u001b[0m \u001b[0mnp\u001b[0m\u001b[0;34m.\u001b[0m\u001b[0marray\u001b[0m\u001b[0;34m(\u001b[0m\u001b[0;34m[\u001b[0m\u001b[0;34m[\u001b[0m\u001b[0;36m1\u001b[0m\u001b[0;34m,\u001b[0m \u001b[0;36m2\u001b[0m\u001b[0;34m,\u001b[0m \u001b[0;36m3\u001b[0m\u001b[0;34m]\u001b[0m\u001b[0;34m,\u001b[0m \u001b[0;34m[\u001b[0m\u001b[0;36m4\u001b[0m\u001b[0;34m,\u001b[0m \u001b[0;36m5\u001b[0m\u001b[0;34m,\u001b[0m \u001b[0;36m6\u001b[0m\u001b[0;34m,\u001b[0m \u001b[0mnan\u001b[0m\u001b[0;34m]\u001b[0m\u001b[0;34m]\u001b[0m\u001b[0;34m,\u001b[0m \u001b[0mnp\u001b[0m\u001b[0;34m.\u001b[0m\u001b[0mint32\u001b[0m\u001b[0;34m)\u001b[0m\u001b[0;34m\u001b[0m\u001b[0;34m\u001b[0m\u001b[0m\n\u001b[0m",
      "\u001b[0;31mNameError\u001b[0m: name 'nan' is not defined"
     ]
    }
   ],
   "source": [
    "x = np.array([[1, 2, 3], [4, 5, 6]], np.int32)"
   ]
  },
  {
   "cell_type": "code",
   "execution_count": 35,
   "metadata": {},
   "outputs": [
    {
     "data": {
      "text/plain": [
       "2"
      ]
     },
     "execution_count": 35,
     "metadata": {},
     "output_type": "execute_result"
    }
   ],
   "source": [
    "x.shape[0]"
   ]
  },
  {
   "cell_type": "code",
   "execution_count": 41,
   "metadata": {},
   "outputs": [
    {
     "data": {
      "text/plain": [
       "array([ 4, 10, 18], dtype=int32)"
      ]
     },
     "execution_count": 41,
     "metadata": {},
     "output_type": "execute_result"
    }
   ],
   "source": [
    "x[0] * x[1]"
   ]
  },
  {
   "cell_type": "code",
   "execution_count": null,
   "metadata": {},
   "outputs": [],
   "source": []
  }
 ],
 "metadata": {
  "kernelspec": {
   "display_name": "Python 3",
   "language": "python",
   "name": "python3"
  },
  "language_info": {
   "codemirror_mode": {
    "name": "ipython",
    "version": 3
   },
   "file_extension": ".py",
   "mimetype": "text/x-python",
   "name": "python",
   "nbconvert_exporter": "python",
   "pygments_lexer": "ipython3",
   "version": "3.7.6"
  }
 },
 "nbformat": 4,
 "nbformat_minor": 4
}
