{
 "cells": [
  {
   "cell_type": "code",
   "execution_count": 1,
   "metadata": {},
   "outputs": [],
   "source": [
    "import mysql.connector\n",
    "\n",
    "import pandas as pd\n",
    "import numpy as np\n",
    "import matplotlib.pyplot as graph\n",
    "import seaborn as sns"
   ]
  },
  {
   "cell_type": "markdown",
   "metadata": {},
   "source": [
    "# Link MySQL and Python\n",
    "We want to connect MySQL and Python to read the database in Python directly. Using mysql connector seems appropriate here. Let's write a class that will load the database"
   ]
  },
  {
   "cell_type": "code",
   "execution_count": 2,
   "metadata": {},
   "outputs": [],
   "source": [
    "class MysqlIO:\n",
    "    def __init__(self, database='test'):\n",
    "            connection = mysql.connector.connect(host='127.0.0.1', \n",
    "                                                 port='3306',\n",
    "                                                 database=database,\n",
    "                                                 user='root',\n",
    "                                                 password='ForSQL!1',\n",
    "                                                 use_pure=True\n",
    "                                                 )\n",
    "            db_info = connection.get_server_info()\n",
    "            self.connection = connection\n",
    "            print(f\"Retrieval of database {database} Successful\")\n",
    "            \n",
    "    def execute(self, query, header=False):\n",
    "        \"\"\"Execute SQL commands and return retrieved queries.\"\"\"\n",
    "        cursor = self.connection.cursor(buffered=True)\n",
    "        cursor.execute(query)\n",
    "        try:\n",
    "            record = cursor.fetchall()\n",
    "            if header:\n",
    "                header = [i[0] for i in cursor.description]\n",
    "                return {'header': header, 'record': record}\n",
    "            else:    \n",
    "                return record\n",
    "        except:\n",
    "            pass\n",
    "        \n",
    "    def to_df(self, query):\n",
    "        \"\"\"Return the retrieved SQL queries into pandas dataframe\"\"\"\n",
    "        res = self.execute(query, header=True)\n",
    "        df = pd.DataFrame(res['record'])\n",
    "        df.columns = res['header']\n",
    "        return df"
   ]
  },
  {
   "cell_type": "code",
   "execution_count": 3,
   "metadata": {},
   "outputs": [
    {
     "name": "stdout",
     "output_type": "stream",
     "text": [
      "Retrieval of database bank_1999 Successful\n"
     ]
    }
   ],
   "source": [
    "db = MysqlIO('bank_1999')"
   ]
  },
  {
   "cell_type": "markdown",
   "metadata": {},
   "source": [
    "# Data Exploration\n",
    "\n",
    "With so many tables, it can be overwhelming to know what to look for. But let's look at them one by one and see what comes up as interesting"
   ]
  },
  {
   "cell_type": "markdown",
   "metadata": {},
   "source": [
    "### Loan and Account Table\n",
    "Since the loan and account tables are directly related, we can look at these first"
   ]
  },
  {
   "cell_type": "code",
   "execution_count": 5,
   "metadata": {},
   "outputs": [
    {
     "data": {
      "text/html": [
       "<div>\n",
       "<style scoped>\n",
       "    .dataframe tbody tr th:only-of-type {\n",
       "        vertical-align: middle;\n",
       "    }\n",
       "\n",
       "    .dataframe tbody tr th {\n",
       "        vertical-align: top;\n",
       "    }\n",
       "\n",
       "    .dataframe thead th {\n",
       "        text-align: right;\n",
       "    }\n",
       "</style>\n",
       "<table border=\"1\" class=\"dataframe\">\n",
       "  <thead>\n",
       "    <tr style=\"text-align: right;\">\n",
       "      <th></th>\n",
       "      <th>loan_date</th>\n",
       "      <th>account_date</th>\n",
       "      <th>loan_id</th>\n",
       "      <th>account_id</th>\n",
       "      <th>amount</th>\n",
       "      <th>duration</th>\n",
       "      <th>payments</th>\n",
       "      <th>status</th>\n",
       "      <th>district_id</th>\n",
       "      <th>frequency</th>\n",
       "    </tr>\n",
       "  </thead>\n",
       "  <tbody>\n",
       "    <tr>\n",
       "      <th>0</th>\n",
       "      <td>1993-11-22</td>\n",
       "      <td>1993-01-13</td>\n",
       "      <td>6077</td>\n",
       "      <td>5270</td>\n",
       "      <td>79608</td>\n",
       "      <td>24</td>\n",
       "      <td>3317.00</td>\n",
       "      <td>A</td>\n",
       "      <td>44</td>\n",
       "      <td>POPLATEK MESICNE</td>\n",
       "    </tr>\n",
       "    <tr>\n",
       "      <th>1</th>\n",
       "      <td>1993-09-15</td>\n",
       "      <td>1993-01-14</td>\n",
       "      <td>7284</td>\n",
       "      <td>11265</td>\n",
       "      <td>52788</td>\n",
       "      <td>12</td>\n",
       "      <td>4399.00</td>\n",
       "      <td>A</td>\n",
       "      <td>15</td>\n",
       "      <td>POPLATEK MESICNE</td>\n",
       "    </tr>\n",
       "    <tr>\n",
       "      <th>2</th>\n",
       "      <td>1993-11-10</td>\n",
       "      <td>1993-01-17</td>\n",
       "      <td>7121</td>\n",
       "      <td>10364</td>\n",
       "      <td>21924</td>\n",
       "      <td>36</td>\n",
       "      <td>609.00</td>\n",
       "      <td>A</td>\n",
       "      <td>55</td>\n",
       "      <td>POPLATEK MESICNE</td>\n",
       "    </tr>\n",
       "    <tr>\n",
       "      <th>3</th>\n",
       "      <td>1994-09-28</td>\n",
       "      <td>1993-01-19</td>\n",
       "      <td>5754</td>\n",
       "      <td>3834</td>\n",
       "      <td>23052</td>\n",
       "      <td>12</td>\n",
       "      <td>1921.00</td>\n",
       "      <td>A</td>\n",
       "      <td>54</td>\n",
       "      <td>POPLATEK MESICNE</td>\n",
       "    </tr>\n",
       "    <tr>\n",
       "      <th>4</th>\n",
       "      <td>1994-09-19</td>\n",
       "      <td>1993-01-24</td>\n",
       "      <td>6895</td>\n",
       "      <td>9307</td>\n",
       "      <td>41904</td>\n",
       "      <td>12</td>\n",
       "      <td>3492.00</td>\n",
       "      <td>A</td>\n",
       "      <td>68</td>\n",
       "      <td>POPLATEK MESICNE</td>\n",
       "    </tr>\n",
       "  </tbody>\n",
       "</table>\n",
       "</div>"
      ],
      "text/plain": [
       "    loan_date account_date  loan_id  account_id  amount  duration payments  \\\n",
       "0  1993-11-22   1993-01-13     6077        5270   79608        24  3317.00   \n",
       "1  1993-09-15   1993-01-14     7284       11265   52788        12  4399.00   \n",
       "2  1993-11-10   1993-01-17     7121       10364   21924        36   609.00   \n",
       "3  1994-09-28   1993-01-19     5754        3834   23052        12  1921.00   \n",
       "4  1994-09-19   1993-01-24     6895        9307   41904        12  3492.00   \n",
       "\n",
       "  status  district_id         frequency  \n",
       "0      A           44  POPLATEK MESICNE  \n",
       "1      A           15  POPLATEK MESICNE  \n",
       "2      A           55  POPLATEK MESICNE  \n",
       "3      A           54  POPLATEK MESICNE  \n",
       "4      A           68  POPLATEK MESICNE  "
      ]
     },
     "metadata": {},
     "output_type": "display_data"
    }
   ],
   "source": [
    "query = \"\"\"\n",
    "    select \n",
    "    loan_t.date as loan_date, account_t.date as account_date, \n",
    "    loan_id, account_id, amount, duration, payments, status, district_id, frequency\n",
    "    from loan_t \n",
    "    join account_t \n",
    "    using(account_id);\n",
    "    \"\"\"\n",
    "loan_account_df = db.to_df(query)\n",
    "display(loan_account_df.head())"
   ]
  },
  {
   "cell_type": "markdown",
   "metadata": {},
   "source": [
    "In the column 'status', A and C are still in good standing, and B and D have likley defaulted. Let's make a new column to show this.\n",
    "\n",
    "I also want to change the frequency column, to values that are easier to understand. \n",
    "\n",
    "And lastly, It would be good to know the time between the date the account was created and date the loan was created."
   ]
  },
  {
   "cell_type": "code",
   "execution_count": 27,
   "metadata": {},
   "outputs": [
    {
     "data": {
      "text/html": [
       "<div>\n",
       "<style scoped>\n",
       "    .dataframe tbody tr th:only-of-type {\n",
       "        vertical-align: middle;\n",
       "    }\n",
       "\n",
       "    .dataframe tbody tr th {\n",
       "        vertical-align: top;\n",
       "    }\n",
       "\n",
       "    .dataframe thead th {\n",
       "        text-align: right;\n",
       "    }\n",
       "</style>\n",
       "<table border=\"1\" class=\"dataframe\">\n",
       "  <thead>\n",
       "    <tr style=\"text-align: right;\">\n",
       "      <th></th>\n",
       "      <th>loan_date</th>\n",
       "      <th>account_date</th>\n",
       "      <th>loan_id</th>\n",
       "      <th>account_id</th>\n",
       "      <th>amount</th>\n",
       "      <th>duration</th>\n",
       "      <th>payments</th>\n",
       "      <th>status</th>\n",
       "      <th>district_id</th>\n",
       "      <th>frequency</th>\n",
       "      <th>defaulted</th>\n",
       "      <th>time_elapsed</th>\n",
       "    </tr>\n",
       "  </thead>\n",
       "  <tbody>\n",
       "    <tr>\n",
       "      <th>203</th>\n",
       "      <td>1995-07-25</td>\n",
       "      <td>1994-11-15</td>\n",
       "      <td>6153</td>\n",
       "      <td>5632</td>\n",
       "      <td>285600</td>\n",
       "      <td>60</td>\n",
       "      <td>4760.00</td>\n",
       "      <td>C</td>\n",
       "      <td>5</td>\n",
       "      <td>weekly</td>\n",
       "      <td>no</td>\n",
       "      <td>252</td>\n",
       "    </tr>\n",
       "    <tr>\n",
       "      <th>371</th>\n",
       "      <td>1997-11-28</td>\n",
       "      <td>1996-03-15</td>\n",
       "      <td>5103</td>\n",
       "      <td>666</td>\n",
       "      <td>12540</td>\n",
       "      <td>12</td>\n",
       "      <td>1045.00</td>\n",
       "      <td>A</td>\n",
       "      <td>27</td>\n",
       "      <td>monthly</td>\n",
       "      <td>no</td>\n",
       "      <td>623</td>\n",
       "    </tr>\n",
       "    <tr>\n",
       "      <th>452</th>\n",
       "      <td>1998-05-24</td>\n",
       "      <td>1996-07-19</td>\n",
       "      <td>5699</td>\n",
       "      <td>3562</td>\n",
       "      <td>174960</td>\n",
       "      <td>24</td>\n",
       "      <td>7290.00</td>\n",
       "      <td>C</td>\n",
       "      <td>50</td>\n",
       "      <td>monthly</td>\n",
       "      <td>no</td>\n",
       "      <td>674</td>\n",
       "    </tr>\n",
       "    <tr>\n",
       "      <th>461</th>\n",
       "      <td>1997-08-31</td>\n",
       "      <td>1996-07-27</td>\n",
       "      <td>6612</td>\n",
       "      <td>7907</td>\n",
       "      <td>97392</td>\n",
       "      <td>12</td>\n",
       "      <td>8116.00</td>\n",
       "      <td>A</td>\n",
       "      <td>70</td>\n",
       "      <td>monthly</td>\n",
       "      <td>no</td>\n",
       "      <td>400</td>\n",
       "    </tr>\n",
       "    <tr>\n",
       "      <th>379</th>\n",
       "      <td>1998-01-20</td>\n",
       "      <td>1996-03-27</td>\n",
       "      <td>5569</td>\n",
       "      <td>2936</td>\n",
       "      <td>504000</td>\n",
       "      <td>60</td>\n",
       "      <td>8400.00</td>\n",
       "      <td>C</td>\n",
       "      <td>3</td>\n",
       "      <td>monthly</td>\n",
       "      <td>no</td>\n",
       "      <td>664</td>\n",
       "    </tr>\n",
       "    <tr>\n",
       "      <th>68</th>\n",
       "      <td>1994-08-03</td>\n",
       "      <td>1993-06-16</td>\n",
       "      <td>6836</td>\n",
       "      <td>9093</td>\n",
       "      <td>189300</td>\n",
       "      <td>60</td>\n",
       "      <td>3155.00</td>\n",
       "      <td>C</td>\n",
       "      <td>47</td>\n",
       "      <td>monthly</td>\n",
       "      <td>no</td>\n",
       "      <td>413</td>\n",
       "    </tr>\n",
       "    <tr>\n",
       "      <th>236</th>\n",
       "      <td>1995-09-22</td>\n",
       "      <td>1995-03-04</td>\n",
       "      <td>7008</td>\n",
       "      <td>9897</td>\n",
       "      <td>36168</td>\n",
       "      <td>12</td>\n",
       "      <td>3014.00</td>\n",
       "      <td>A</td>\n",
       "      <td>1</td>\n",
       "      <td>monthly</td>\n",
       "      <td>no</td>\n",
       "      <td>202</td>\n",
       "    </tr>\n",
       "    <tr>\n",
       "      <th>314</th>\n",
       "      <td>1997-04-26</td>\n",
       "      <td>1995-11-10</td>\n",
       "      <td>7253</td>\n",
       "      <td>11079</td>\n",
       "      <td>98304</td>\n",
       "      <td>12</td>\n",
       "      <td>8192.00</td>\n",
       "      <td>A</td>\n",
       "      <td>16</td>\n",
       "      <td>monthly</td>\n",
       "      <td>no</td>\n",
       "      <td>533</td>\n",
       "    </tr>\n",
       "    <tr>\n",
       "      <th>112</th>\n",
       "      <td>1995-01-14</td>\n",
       "      <td>1993-09-15</td>\n",
       "      <td>6358</td>\n",
       "      <td>6715</td>\n",
       "      <td>137880</td>\n",
       "      <td>60</td>\n",
       "      <td>2298.00</td>\n",
       "      <td>D</td>\n",
       "      <td>48</td>\n",
       "      <td>weekly</td>\n",
       "      <td>yes</td>\n",
       "      <td>486</td>\n",
       "    </tr>\n",
       "    <tr>\n",
       "      <th>17</th>\n",
       "      <td>1994-01-05</td>\n",
       "      <td>1993-02-26</td>\n",
       "      <td>4959</td>\n",
       "      <td>2</td>\n",
       "      <td>80952</td>\n",
       "      <td>24</td>\n",
       "      <td>3373.00</td>\n",
       "      <td>A</td>\n",
       "      <td>1</td>\n",
       "      <td>monthly</td>\n",
       "      <td>no</td>\n",
       "      <td>313</td>\n",
       "    </tr>\n",
       "  </tbody>\n",
       "</table>\n",
       "</div>"
      ],
      "text/plain": [
       "     loan_date account_date  loan_id  account_id  amount  duration payments  \\\n",
       "203 1995-07-25   1994-11-15     6153        5632  285600        60  4760.00   \n",
       "371 1997-11-28   1996-03-15     5103         666   12540        12  1045.00   \n",
       "452 1998-05-24   1996-07-19     5699        3562  174960        24  7290.00   \n",
       "461 1997-08-31   1996-07-27     6612        7907   97392        12  8116.00   \n",
       "379 1998-01-20   1996-03-27     5569        2936  504000        60  8400.00   \n",
       "68  1994-08-03   1993-06-16     6836        9093  189300        60  3155.00   \n",
       "236 1995-09-22   1995-03-04     7008        9897   36168        12  3014.00   \n",
       "314 1997-04-26   1995-11-10     7253       11079   98304        12  8192.00   \n",
       "112 1995-01-14   1993-09-15     6358        6715  137880        60  2298.00   \n",
       "17  1994-01-05   1993-02-26     4959           2   80952        24  3373.00   \n",
       "\n",
       "    status  district_id frequency defaulted  time_elapsed  \n",
       "203      C            5    weekly        no           252  \n",
       "371      A           27   monthly        no           623  \n",
       "452      C           50   monthly        no           674  \n",
       "461      A           70   monthly        no           400  \n",
       "379      C            3   monthly        no           664  \n",
       "68       C           47   monthly        no           413  \n",
       "236      A            1   monthly        no           202  \n",
       "314      A           16   monthly        no           533  \n",
       "112      D           48    weekly       yes           486  \n",
       "17       A            1   monthly        no           313  "
      ]
     },
     "metadata": {},
     "output_type": "display_data"
    }
   ],
   "source": [
    "loan_account_df['defaulted'] = np.where(loan_account_df['status'].isin(['A', 'C']), 'no', 'yes')\n",
    "\n",
    "# Replace Frequency Values\n",
    "loan_account_df.replace({'POPLATEK MESICNE': 'monthly', 'POPLATEK TYDNE': 'weekly', 'POPLATEK PO OBRATU': 'instant'}, \n",
    "                        inplace=True)\n",
    "\n",
    "\n",
    "# Date conversion\n",
    "for col in ['loan_date', 'account_date']:\n",
    "    loan_account_df[col] = pd.to_datetime(loan_account_df[col]) \n",
    "\n",
    "loan_account_df['time_elapsed'] = (loan_account_df['loan_date'] - loan_account_df['account_date']).dt.days\n",
    "\n",
    "display(loan_account_df.sample(10))"
   ]
  },
  {
   "cell_type": "code",
   "execution_count": 29,
   "metadata": {
    "scrolled": false
   },
   "outputs": [
    {
     "name": "stdout",
     "output_type": "stream",
     "text": [
      "no     606\n",
      "yes     76\n",
      "Name: defaulted, dtype: int64\n",
      "amount\n"
     ]
    },
    {
     "data": {
      "text/plain": [
       "<Figure size 504x360 with 0 Axes>"
      ]
     },
     "metadata": {},
     "output_type": "display_data"
    },
    {
     "data": {
      "image/png": "[encoded data removed]",
      "text/plain": [
       "<Figure size 415.875x360 with 1 Axes>"
      ]
     },
     "metadata": {
      "needs_background": "light"
     },
     "output_type": "display_data"
    },
    {
     "name": "stdout",
     "output_type": "stream",
     "text": [
      "duration\n"
     ]
    },
    {
     "data": {
      "text/plain": [
       "<Figure size 504x360 with 0 Axes>"
      ]
     },
     "metadata": {},
     "output_type": "display_data"
    },
    {
     "data": {
      "image/png": "[encoded data removed]",
      "text/plain": [
       "<Figure size 415.875x360 with 1 Axes>"
      ]
     },
     "metadata": {
      "needs_background": "light"
     },
     "output_type": "display_data"
    },
    {
     "name": "stdout",
     "output_type": "stream",
     "text": [
      "payments\n"
     ]
    },
    {
     "data": {
      "text/plain": [
       "<Figure size 504x360 with 0 Axes>"
      ]
     },
     "metadata": {},
     "output_type": "display_data"
    },
    {
     "data": {
      "image/png": "[encoded data removed]",
      "text/plain": [
       "<Figure size 415.875x360 with 1 Axes>"
      ]
     },
     "metadata": {
      "needs_background": "light"
     },
     "output_type": "display_data"
    },
    {
     "name": "stdout",
     "output_type": "stream",
     "text": [
      "frequency\n"
     ]
    },
    {
     "data": {
      "text/plain": [
       "<Figure size 504x360 with 0 Axes>"
      ]
     },
     "metadata": {},
     "output_type": "display_data"
    },
    {
     "data": {
      "image/png": "[encoded data removed]",
      "text/plain": [
       "<Figure size 415.875x360 with 1 Axes>"
      ]
     },
     "metadata": {
      "needs_background": "light"
     },
     "output_type": "display_data"
    },
    {
     "name": "stdout",
     "output_type": "stream",
     "text": [
      "district_id\n"
     ]
    },
    {
     "data": {
      "text/plain": [
       "<Figure size 504x360 with 0 Axes>"
      ]
     },
     "metadata": {},
     "output_type": "display_data"
    },
    {
     "data": {
      "image/png": "[encoded data removed]",
      "text/plain": [
       "<Figure size 415.875x360 with 1 Axes>"
      ]
     },
     "metadata": {
      "needs_background": "light"
     },
     "output_type": "display_data"
    },
    {
     "name": "stdout",
     "output_type": "stream",
     "text": [
      "time_elapsed\n"
     ]
    },
    {
     "data": {
      "text/plain": [
       "<Figure size 504x360 with 0 Axes>"
      ]
     },
     "metadata": {},
     "output_type": "display_data"
    },
    {
     "data": {
      "image/png": "[encoded data removed]",
      "text/plain": [
       "<Figure size 415.875x360 with 1 Axes>"
      ]
     },
     "metadata": {
      "needs_background": "light"
     },
     "output_type": "display_data"
    },
    {
     "name": "stdout",
     "output_type": "stream",
     "text": [
      "account_date\n"
     ]
    },
    {
     "data": {
      "text/plain": [
       "<Figure size 504x360 with 0 Axes>"
      ]
     },
     "metadata": {},
     "output_type": "display_data"
    },
    {
     "data": {
      "image/png": "[encoded data removed]",
      "text/plain": [
       "<Figure size 415.875x360 with 1 Axes>"
      ]
     },
     "metadata": {
      "needs_background": "light"
     },
     "output_type": "display_data"
    },
    {
     "name": "stdout",
     "output_type": "stream",
     "text": [
      "loan_date\n"
     ]
    },
    {
     "data": {
      "text/plain": [
       "<Figure size 504x360 with 0 Axes>"
      ]
     },
     "metadata": {},
     "output_type": "display_data"
    },
    {
     "data": {
      "image/png": "[encoded data removed]",
      "text/plain": [
       "<Figure size 415.875x360 with 1 Axes>"
      ]
     },
     "metadata": {
      "needs_background": "light"
     },
     "output_type": "display_data"
    }
   ],
   "source": [
    "print(loan_account_df['defaulted'].value_counts())\n",
    "\n",
    "for x in ['amount', 'duration', 'payments', 'frequency', 'district_id', 'time_elapsed', 'account_date', 'loan_date']:\n",
    "    print(x)\n",
    "    graph.figure(figsize=(7,5))\n",
    "    sns.displot(data=loan_account_df, x =x, hue='defaulted')\n",
    "    graph.show()"
   ]
  },
  {
   "cell_type": "markdown",
   "metadata": {},
   "source": [
    "## INTERESTING COLUMNS HERE"
   ]
  },
  {
   "cell_type": "markdown",
   "metadata": {},
   "source": [
    "### Loan, account, order\n",
    "Since the loan and account tables are directly related, we can look at these first"
   ]
  }
 ],
 "metadata": {
  "kernelspec": {
   "display_name": "Python 3",
   "language": "python",
   "name": "python3"
  },
  "language_info": {
   "codemirror_mode": {
    "name": "ipython",
    "version": 3
   },
   "file_extension": ".py",
   "mimetype": "text/x-python",
   "name": "python",
   "nbconvert_exporter": "python",
   "pygments_lexer": "ipython3",
   "version": "3.7.6"
  }
 },
 "nbformat": 4,
 "nbformat_minor": 4
}
