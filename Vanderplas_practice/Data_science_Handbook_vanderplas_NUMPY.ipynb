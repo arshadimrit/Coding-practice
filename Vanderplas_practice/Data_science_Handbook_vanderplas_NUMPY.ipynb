{
 "cells": [
  {
   "cell_type": "code",
   "execution_count": 1,
   "metadata": {},
   "outputs": [],
   "source": [
    "import numpy as np\n",
    "import pandas as pd\n",
    "import matplotlib.pyplot as graph\n",
    "import seaborn as sns\n",
    "\n",
    "%load_ext line_profiler\n",
    "%load_ext memory_profiler"
   ]
  },
  {
   "cell_type": "code",
   "execution_count": 2,
   "metadata": {},
   "outputs": [],
   "source": [
    "# Instead of nested for loops\n",
    "\n",
    "for i in range(1000):\n",
    "    for j in range(1000):\n",
    "        total = i+j"
   ]
  },
  {
   "cell_type": "code",
   "execution_count": 3,
   "metadata": {},
   "outputs": [],
   "source": [
    "def sum_of_lists(N):\n",
    "    total = 0\n",
    "    for i in range(5):\n",
    "        L = [j ^ (j >> i) for j in range(N)]\n",
    "        total += sum(L)\n",
    "    return total"
   ]
  },
  {
   "cell_type": "code",
   "execution_count": 4,
   "metadata": {},
   "outputs": [
    {
     "name": "stdout",
     "output_type": "stream",
     "text": [
      "peak memory: 112.75 MiB, increment: 0.18 MiB\n"
     ]
    }
   ],
   "source": [
    "%memit sum_of_lists(10)"
   ]
  },
  {
   "cell_type": "markdown",
   "metadata": {},
   "source": [
    "# Introduction to Numpy"
   ]
  },
  {
   "cell_type": "markdown",
   "metadata": {},
   "source": [
    "### Lists"
   ]
  },
  {
   "cell_type": "code",
   "execution_count": 6,
   "metadata": {},
   "outputs": [
    {
     "name": "stdout",
     "output_type": "stream",
     "text": [
      "[0, 1, 2, 3, 4, 5, 6, 7, 8, 9]\n",
      "<class 'list'>\n",
      "One item in L is of type <class 'int'>\n"
     ]
    }
   ],
   "source": [
    "L = list(range(10))\n",
    "print(L)\n",
    "print(type(L))\n",
    "print(f'One item in L is of type {type(L[8])}')"
   ]
  },
  {
   "cell_type": "code",
   "execution_count": 7,
   "metadata": {},
   "outputs": [
    {
     "name": "stdout",
     "output_type": "stream",
     "text": [
      "['0', '1', '2', '3', '4', '5', '6', '7', '8', '9']\n",
      "<class 'str'>\n"
     ]
    }
   ],
   "source": [
    "# List of strings\n",
    "\n",
    "c = [str(c) for c in L]\n",
    "print(c)\n",
    "print(type(c[1]))"
   ]
  },
  {
   "cell_type": "code",
   "execution_count": 8,
   "metadata": {},
   "outputs": [
    {
     "name": "stdout",
     "output_type": "stream",
     "text": [
      "[<class 'int'>, <class 'float'>, <class 'str'>, <class 'bool'>]\n"
     ]
    }
   ],
   "source": [
    "# List can be heterogenous\n",
    "\n",
    "L = [1, 1.5, 'one', True]\n",
    "print([type(c) for c in L])"
   ]
  },
  {
   "cell_type": "code",
   "execution_count": 9,
   "metadata": {},
   "outputs": [
    {
     "name": "stdout",
     "output_type": "stream",
     "text": [
      "[0, 1, 2, 3, 4, 5, 6, 7, 8, 9] array('i', [0, 1, 2, 3, 4, 5, 6, 7, 8, 9])\n"
     ]
    }
   ],
   "source": [
    "# Python fixed type arrays\n",
    "import array\n",
    "\n",
    "L = list(range(10))\n",
    "a_L = array.array('i', L)\n",
    "print(L, a_L)"
   ]
  },
  {
   "cell_type": "code",
   "execution_count": 10,
   "metadata": {},
   "outputs": [
    {
     "name": "stdout",
     "output_type": "stream",
     "text": [
      "[0 1 2 3 4 5 6 7 8 9]\n",
      "[1.5 2.  3.  4.  5. ]\n",
      "[0. 1. 2. 3. 4. 5. 6. 7. 8. 9.]\n"
     ]
    }
   ],
   "source": [
    "# Python fixed type arrays\n",
    "\n",
    "int_array = np.array(range(10))\n",
    "float_array = np.array([1.5, 2, 3, 4, 5])\n",
    "cast_float_array = np.array(range(10), dtype=float)\n",
    "\n",
    "print(int_array)\n",
    "print(float_array)\n",
    "print(cast_float_array)"
   ]
  },
  {
   "cell_type": "code",
   "execution_count": 11,
   "metadata": {},
   "outputs": [
    {
     "name": "stdout",
     "output_type": "stream",
     "text": [
      "[[1 2 3]\n",
      " [2 3 4]\n",
      " [3 4 5]\n",
      " [4 5 6]]\n"
     ]
    }
   ],
   "source": [
    "# nested numpy lists -> multi dimensional\n",
    "\n",
    "print(np.array([range(i, i+3) for i in [1, 2, 3, 4]]))"
   ]
  },
  {
   "cell_type": "markdown",
   "metadata": {},
   "source": [
    "#### Create Arrays from Scratch"
   ]
  },
  {
   "cell_type": "code",
   "execution_count": 12,
   "metadata": {},
   "outputs": [
    {
     "name": "stdout",
     "output_type": "stream",
     "text": [
      "[0 0 0 0 0 0 0 0 0 0]\n",
      "[[1. 1. 1. 1. 1.]\n",
      " [1. 1. 1. 1. 1.]]\n",
      "[[5 5 5 5 5]\n",
      " [5 5 5 5 5]\n",
      " [5 5 5 5 5]]\n",
      "[ 0  2  4  6  8 10 12 14 16 18 20]\n",
      "[0.   0.25 0.5  0.75 1.  ]\n",
      "[[0.33114472 0.60854915 0.84323891]\n",
      " [0.1789972  0.10915979 0.24864669]\n",
      " [0.43467617 0.70122308 0.60887088]]\n",
      "[[-0.64566893  0.67805158  0.36495456]\n",
      " [ 0.64975784  1.67448538 -0.94365557]\n",
      " [-0.06268491  0.76371715 -0.38847591]]\n",
      "[[3 7 7]\n",
      " [1 0 7]\n",
      " [0 6 8]]\n",
      "[0.25 0.5  0.75 1.  ]\n"
     ]
    }
   ],
   "source": [
    "# create array of zeros\n",
    "print(np.zeros(10, dtype=int))\n",
    "\n",
    "# create array of ones, with dimensions 2 * 5\n",
    "print(np.ones((2, 5), dtype=float))\n",
    "\n",
    "# create array of 5, with dimensions 3*5\n",
    "print(np.full((3, 5), 5))\n",
    "\n",
    "# Create an array filled with a linear sequence\n",
    "# Starting at 0, ending at 20, stepping by 2\n",
    "print(np.arange(0, 21, 2))\n",
    "\n",
    "# Create an array of five values evenly spaced between 0 and 1\n",
    "print(np.linspace(0, 1, 5))\n",
    "\n",
    "# Create a 3x3 array of uniformly distributed\n",
    "# random values between 0 and 1\n",
    "print(np.random.random((3, 3)))\n",
    "\n",
    "# Create a 3x3 array of normally distributed random values\n",
    "# with mean 0 and standard deviation 1\n",
    "print(np.random.normal(0, 1, (3, 3)))\n",
    "\n",
    "# Create a 3x3 array of random integers in the interval [0, 10)\n",
    "print(np.random.randint(0, 10, (3,3)))\n",
    "\n",
    "# Create a 3x3 identity matrix\n",
    "np.eye(3)\n",
    "\n",
    "# Create an uninitialized array of three integers\n",
    "# The values will be whatever happens to already exist at that memory location\n",
    "print(np.empty(4))"
   ]
  },
  {
   "cell_type": "markdown",
   "metadata": {},
   "source": [
    "## Basics of Numpy Arrays"
   ]
  },
  {
   "cell_type": "code",
   "execution_count": 27,
   "metadata": {},
   "outputs": [
    {
     "name": "stdout",
     "output_type": "stream",
     "text": [
      "[5 0 3 3 7 9]\n",
      "[[3 5 2]\n",
      " [4 7 6]]\n",
      "x3 ndim: 4\n",
      "x3 shape: (2, 3, 4, 5)\n",
      "x3 size: 120\n",
      "x3 dtype: int64\n",
      "x3 itemsize: 8 bytes\n",
      "x3 nbytes: 960 bytes\n"
     ]
    }
   ],
   "source": [
    "np.random.seed(0)\n",
    "\n",
    "x1 = np.random.randint(10, size=6)\n",
    "x2 = np.random.randint(10, size=(2, 3))\n",
    "x3 = np.random.randint(10, size=(2, 3, 4, 5))\n",
    "\n",
    "print(x1)\n",
    "print(x2)\n",
    "\n",
    "print(f\"x3 ndim: {x3.ndim}\")\n",
    "print(f\"x3 shape: {x3.shape}\")\n",
    "print(f\"x3 size: {x3.size}\")\n",
    "print(f'x3 dtype: {x3.dtype}')\n",
    "print(f'x3 itemsize: {x3.itemsize} bytes')\n",
    "print(f'x3 nbytes: {x3.nbytes} bytes')"
   ]
  },
  {
   "cell_type": "markdown",
   "metadata": {},
   "source": [
    "### Slicing\n",
    "\n",
    "#### x[start:stop:step]"
   ]
  },
  {
   "cell_type": "code",
   "execution_count": 14,
   "metadata": {},
   "outputs": [
    {
     "name": "stdout",
     "output_type": "stream",
     "text": [
      "[[1 9 8]\n",
      " [9 3 8]]\n",
      "8\n",
      "[[1 0 8]\n",
      " [9 3 8]]\n"
     ]
    }
   ],
   "source": [
    "x2 = np.random.randint(10, size=(2, 3))\n",
    "print(x2)\n",
    "\n",
    "# get 2nd row, 3rd column item\n",
    "print(x2[1, 2])\n",
    "\n",
    "# change 1st row, 2nd col to 0\n",
    "x2[0, 1] = 0\n",
    "print(x2)"
   ]
  },
  {
   "cell_type": "code",
   "execution_count": 15,
   "metadata": {},
   "outputs": [
    {
     "ename": "NameError",
     "evalue": "name 'x3' is not defined",
     "output_type": "error",
     "traceback": [
      "\u001b[0;31m---------------------------------------------------------------------------\u001b[0m",
      "\u001b[0;31mNameError\u001b[0m                                 Traceback (most recent call last)",
      "\u001b[0;32m<ipython-input-15-b567c99b8162>\u001b[0m in \u001b[0;36m<module>\u001b[0;34m\u001b[0m\n\u001b[0;32m----> 1\u001b[0;31m \u001b[0mprint\u001b[0m\u001b[0;34m(\u001b[0m\u001b[0mx3\u001b[0m\u001b[0;34m)\u001b[0m\u001b[0;34m\u001b[0m\u001b[0;34m\u001b[0m\u001b[0m\n\u001b[0m\u001b[1;32m      2\u001b[0m \u001b[0mprint\u001b[0m\u001b[0;34m(\u001b[0m\u001b[0mx3\u001b[0m\u001b[0;34m[\u001b[0m\u001b[0;34m:\u001b[0m\u001b[0;36m2\u001b[0m\u001b[0;34m,\u001b[0m \u001b[0;34m:\u001b[0m\u001b[0;36m2\u001b[0m\u001b[0;34m,\u001b[0m \u001b[0;34m:\u001b[0m\u001b[0;36m2\u001b[0m\u001b[0;34m]\u001b[0m\u001b[0;34m)\u001b[0m\u001b[0;34m\u001b[0m\u001b[0;34m\u001b[0m\u001b[0m\n",
      "\u001b[0;31mNameError\u001b[0m: name 'x3' is not defined"
     ]
    }
   ],
   "source": [
    "print(x3)\n",
    "print(x3[:2, :2, :2])"
   ]
  },
  {
   "cell_type": "code",
   "execution_count": 16,
   "metadata": {},
   "outputs": [
    {
     "name": "stdout",
     "output_type": "stream",
     "text": [
      "[[1 0 8]\n",
      " [9 3 8]]\n",
      "[1 0 8]\n",
      "[1 9]\n"
     ]
    }
   ],
   "source": [
    "print(x2)\n",
    "#first row\n",
    "print(x2[0, :])\n",
    "\n",
    "#first column\n",
    "print(x2[:, 0])"
   ]
  },
  {
   "cell_type": "markdown",
   "metadata": {},
   "source": [
    "#### Copy array and change that, instead of subarray since this will change the original directly"
   ]
  },
  {
   "cell_type": "code",
   "execution_count": 17,
   "metadata": {},
   "outputs": [
    {
     "name": "stdout",
     "output_type": "stream",
     "text": [
      "[[1 0]\n",
      " [9 3]]\n",
      "[[1 0]\n",
      " [9 3]]\n",
      "[[1 0 8]\n",
      " [9 3 8]]\n"
     ]
    }
   ],
   "source": [
    "# No copy Views\n",
    "\n",
    "x2_2 = x2[:2, :2] # make a subarray of 2\n",
    "print(x2_2)\n",
    "\n",
    "# x2_2[0, 0] = 4\n",
    "# print(x2) # The original is changed\n",
    "\n",
    "# We can simply copy to avoid this change thing\n",
    "\n",
    "x2_2 = x2[:2, :2].copy()\n",
    "print(x2_2)\n",
    "\n",
    "x2_2[0, 0] = 4\n",
    "print(x2)"
   ]
  },
  {
   "cell_type": "markdown",
   "metadata": {},
   "source": [
    "### Reshaping"
   ]
  },
  {
   "cell_type": "code",
   "execution_count": 18,
   "metadata": {},
   "outputs": [
    {
     "name": "stdout",
     "output_type": "stream",
     "text": [
      "[[0 1 2]\n",
      " [3 4 5]\n",
      " [6 7 8]]\n",
      "[1 2 3] (3,)\n",
      "[1 2 3] (3,)\n"
     ]
    }
   ],
   "source": [
    "# Reshaping arrays\n",
    "\n",
    "x_shaped = np.arange(9).reshape((3,3))\n",
    "print(x_shaped)\n",
    "\n",
    "x = np.array([1, 2, 3])\n",
    "print(x, x.shape)\n",
    "\n",
    "# row vector via reshape\n",
    "x.reshape((3, 1))\n",
    "print(x, x.shape)"
   ]
  },
  {
   "cell_type": "code",
   "execution_count": 19,
   "metadata": {},
   "outputs": [
    {
     "data": {
      "text/plain": [
       "(3,)"
      ]
     },
     "execution_count": 19,
     "metadata": {},
     "output_type": "execute_result"
    }
   ],
   "source": [
    "x = np.array([1, 2, 3])\n",
    "x.shape"
   ]
  },
  {
   "cell_type": "code",
   "execution_count": 20,
   "metadata": {},
   "outputs": [
    {
     "data": {
      "text/plain": [
       "array([[1],\n",
       "       [2],\n",
       "       [3]])"
      ]
     },
     "execution_count": 20,
     "metadata": {},
     "output_type": "execute_result"
    }
   ],
   "source": [
    "x.reshape((3, 1))"
   ]
  },
  {
   "cell_type": "markdown",
   "metadata": {},
   "source": [
    "### Concatenate arrays"
   ]
  },
  {
   "cell_type": "code",
   "execution_count": 21,
   "metadata": {},
   "outputs": [
    {
     "name": "stdout",
     "output_type": "stream",
     "text": [
      "[1 2 3] [3 2 1] [1 5 6 7]\n",
      "[1 2 3 3 2 1 1 5 6 7]\n",
      "[[1 2 3]\n",
      " [4 5 6]] (2, 3)\n",
      "[[1 2 3]\n",
      " [4 5 6]\n",
      " [1 2 3]\n",
      " [4 5 6]] (4, 3)\n",
      "[[1 2 3 1 2 3]\n",
      " [4 5 6 4 5 6]] (2, 6)\n",
      "[[1 2 3]\n",
      " [9 8 7]\n",
      " [6 5 4]] (3, 3)\n",
      "[[ 9  8  7 99]\n",
      " [ 6  5  4 99]] (2, 4)\n"
     ]
    }
   ],
   "source": [
    "# Concatenate arrays\n",
    "\n",
    "x = np.array([1, 2, 3])\n",
    "y = np.array([3, 2, 1])\n",
    "z = np.array([1, 5, 6, 7,])\n",
    "print(x, y ,z)\n",
    "print(np.concatenate([x, y, z]))\n",
    "\n",
    "grid = np.array([[1, 2, 3],\n",
    "                 [4, 5, 6]])\n",
    "print(grid, grid.shape)\n",
    "print(np.concatenate([grid, grid]), np.concatenate([grid, grid]).shape)\n",
    "print(np.concatenate([grid, grid], axis=1), np.concatenate([grid, grid], axis=1).shape)\n",
    "\n",
    "# vstack and hstack\n",
    "x = np.array([1, 2, 3])\n",
    "grid = np.array([[9, 8, 7],\n",
    "                 [6, 5, 4]])\n",
    "\n",
    "# vertically stack the arrays\n",
    "print(np.vstack([x, grid]), np.vstack([x, grid]).shape)\n",
    "\n",
    "# horizontallystack the arrays\n",
    "y = np.array([[99],\n",
    "              [99]])\n",
    "print(np.hstack([grid, y]), np.hstack([grid, y]).shape)"
   ]
  },
  {
   "cell_type": "code",
   "execution_count": 22,
   "metadata": {},
   "outputs": [
    {
     "name": "stdout",
     "output_type": "stream",
     "text": [
      "[1 2 3] [99 99] [3 2] [1]\n",
      "Vertical split:  [[0 1 2 3]\n",
      " [4 5 6 7]] [[ 8  9 10 11]\n",
      " [12 13 14 15]]\n",
      "Horizontal split:  [[ 0  1]\n",
      " [ 4  5]\n",
      " [ 8  9]\n",
      " [12 13]] [[ 2  3]\n",
      " [ 6  7]\n",
      " [10 11]\n",
      " [14 15]]\n"
     ]
    }
   ],
   "source": [
    "# Aarray ssplittin\n",
    "\n",
    "x = [1, 2, 3, 99, 99, 3, 2, 1]\n",
    "x1, x2, x3, x4 = np.split(x, [3, 5, 7])\n",
    "print(x1, x2, x3, x4)\n",
    "\n",
    "grid = np.arange(16).reshape((4, 4))\n",
    "upper, lower = np.vsplit(grid, [2])\n",
    "print('Vertical split: ', upper, lower)\n",
    "\n",
    "left, right = np.hsplit(grid, [2])\n",
    "print('Horizontal split: ', left, right)\n"
   ]
  },
  {
   "cell_type": "markdown",
   "metadata": {},
   "source": [
    "### Numpy Ufuncs"
   ]
  },
  {
   "cell_type": "code",
   "execution_count": 117,
   "metadata": {},
   "outputs": [
    {
     "name": "stdout",
     "output_type": "stream",
     "text": [
      "x is [0 1 2 3 4 5]\n",
      "x // 2 = [0 0 1 1 2 2]\n",
      "x % 2  =  [0 1 0 1 0 1]\n",
      "[-16.   -23.04 -31.36 -40.96 -51.84 -64.  ]\n",
      "add 2 is [2 3 4 5 6 7]\n",
      "+ 2 is [2 3 4 5 6 7]\n",
      "absolute of x is [0 1 2 3 4 5]\n",
      "theta      =  [0.         1.57079633 3.14159265]\n",
      "sin(theta) =  [0. 1. 0.]\n",
      "cos(theta) =  [ 1.000000e+00  6.123234e-17 -1.000000e+00]\n",
      "tan(theta) =  [ 0.00000000e+00  1.63312394e+16 -1.22464680e-16]\n",
      "---------------------------LOGS------------------------------\n",
      "log x is [      -inf 0.         0.69314718 1.09861229 1.38629436]\n",
      " 3 power x is [ 1  3  9 27 81]\n",
      "exp(x) - 1 = [0.         0.0010005  0.01005017 0.10517092]\n",
      "log(1 + x) = [0.         0.0009995  0.00995033 0.09531018]\n",
      "----------------------------SPECIALS------------------------\n",
      "gamma(x)     = [1.0000e+00 2.4000e+01 3.6288e+05]\n",
      "ln|gamma(x)| = [ 0.          3.17805383 12.80182748]\n",
      "beta(x, 2)   = [0.5        0.03333333 0.00909091]\n"
     ]
    },
    {
     "name": "stderr",
     "output_type": "stream",
     "text": [
      "/home/arshad/miniconda3/lib/python3.7/site-packages/ipykernel_launcher.py:27: RuntimeWarning: divide by zero encountered in log\n"
     ]
    }
   ],
   "source": [
    "### Numpy UFuncs\n",
    "\n",
    "x = np.arange(6)\n",
    "print(f'x is {x}')\n",
    "print(\"x // 2 =\", x // 2)  # floor division\n",
    "print(\"x % 2  = \", x % 2) # modulus\n",
    "\n",
    "print(-(0.8*x + 4) ** 2) # can be in any order\n",
    "print(f'add 2 is {np.add(2, x)}')\n",
    "print(f'+ 2 is {2 + x}')\n",
    "\n",
    "print(f'absolute of x is {np.abs(-x)}')\n",
    "\n",
    "# trig functions\n",
    "\n",
    "theta = np.linspace(0, np.pi, 3)\n",
    "\n",
    "print(\"theta      = \", theta)\n",
    "print(\"sin(theta) = \", np.around(np.sin(theta), decimals=2))\n",
    "print(\"cos(theta) = \", np.cos(theta))\n",
    "print(\"tan(theta) = \", np.tan(theta))\n",
    "\n",
    "# Exp and logs\n",
    "print(\"---------------------------LOGS------------------------------\")\n",
    "x = np.arange(5)\n",
    "\n",
    "print(f'log x is {np.log(x)}')\n",
    "print(f' 3 power x is {np.power(3, x)}')\n",
    "\n",
    "x = [0, 0.001, 0.01, 0.1]\n",
    "print(\"exp(x) - 1 =\", np.expm1(x)) # Give more precise output\n",
    "print(\"log(1 + x) =\", np.log1p(x))\n",
    "\n",
    "# Scipy special\n",
    "from scipy import special\n",
    "print('----------------------------SPECIALS------------------------')\n",
    "x = [1, 5, 10]\n",
    "print(\"gamma(x)     =\", special.gamma(x))\n",
    "print(\"ln|gamma(x)| =\", special.gammaln(x))\n",
    "print(\"beta(x, 2)   =\", special.beta(x, 2))"
   ]
  },
  {
   "cell_type": "markdown",
   "metadata": {},
   "source": [
    "### Specify outputs"
   ]
  },
  {
   "cell_type": "code",
   "execution_count": 24,
   "metadata": {},
   "outputs": [
    {
     "name": "stdout",
     "output_type": "stream",
     "text": [
      "----------------------------SPECify OUTPUT------------------------\n",
      "[ 0. 10. 20. 30. 40.]\n",
      "[ 1.  0.  2.  0.  4.  0.  8.  0. 16.  0.]\n"
     ]
    }
   ],
   "source": [
    "# Specify outputs\n",
    "print('----------------------------SPECify OUTPUT------------------------')\n",
    "x = np.arange(5)\n",
    "y = np.empty(5)\n",
    "np.multiply(x, 10, out=y)\n",
    "print(y)\n",
    "\n",
    "y = np.zeros(10)\n",
    "np.power(2, x, out=y[::2])\n",
    "print(y)"
   ]
  },
  {
   "cell_type": "markdown",
   "metadata": {},
   "source": [
    "### Aggregates\n",
    "\n",
    "Reduce (constantly apply a function until 1 answer) or accumulate (save all cumulative steps)"
   ]
  },
  {
   "cell_type": "code",
   "execution_count": 26,
   "metadata": {},
   "outputs": [
    {
     "name": "stdout",
     "output_type": "stream",
     "text": [
      "reduce x multiply is 120\n",
      "accumulate x multiply is [  1   2   6  24 120]\n"
     ]
    }
   ],
   "source": [
    "x = np.arange(1, 6)\n",
    "print(f'reduce x multiply is {np.multiply.reduce(x)}')\n",
    "\n",
    "x = np.arange(1, 6)\n",
    "print(f'accumulate x multiply is {np.multiply.accumulate(x)}')"
   ]
  },
  {
   "cell_type": "markdown",
   "metadata": {},
   "source": [
    "### Outer (I do not understand this)"
   ]
  },
  {
   "cell_type": "code",
   "execution_count": 27,
   "metadata": {},
   "outputs": [
    {
     "data": {
      "text/plain": [
       "array([[ 1,  2,  3,  4,  5],\n",
       "       [ 2,  4,  6,  8, 10],\n",
       "       [ 3,  6,  9, 12, 15],\n",
       "       [ 4,  8, 12, 16, 20],\n",
       "       [ 5, 10, 15, 20, 25]])"
      ]
     },
     "execution_count": 27,
     "metadata": {},
     "output_type": "execute_result"
    }
   ],
   "source": [
    "x = np.arange(1, 6)\n",
    "np.multiply.outer(x, x)"
   ]
  },
  {
   "cell_type": "markdown",
   "metadata": {},
   "source": [
    "## Aggregations: Min, max, and stuff"
   ]
  },
  {
   "cell_type": "code",
   "execution_count": 28,
   "metadata": {},
   "outputs": [
    {
     "name": "stdout",
     "output_type": "stream",
     "text": [
      "53.52104007807241\n"
     ]
    }
   ],
   "source": [
    "L = np.random.random(100)\n",
    "print(np.sum(L))"
   ]
  },
  {
   "cell_type": "markdown",
   "metadata": {},
   "source": [
    "### Multi dimensional aggregates"
   ]
  },
  {
   "cell_type": "code",
   "execution_count": 29,
   "metadata": {},
   "outputs": [
    {
     "name": "stdout",
     "output_type": "stream",
     "text": [
      "[[0.91213615 0.34415119 0.0925098  0.36471567]\n",
      " [0.35877138 0.84124098 0.90499368 0.86209355]\n",
      " [0.54925    0.7166621  0.65089007 0.35414668]]\n"
     ]
    }
   ],
   "source": [
    "M = np.random.random((3, 4))\n",
    "print(M)"
   ]
  },
  {
   "cell_type": "code",
   "execution_count": 32,
   "metadata": {},
   "outputs": [
    {
     "name": "stdout",
     "output_type": "stream",
     "text": [
      "SUm is 6.95156123639825\n",
      "SUm along rows is [1.7135128  2.96709959 2.27094885]\n",
      "SUm along columns is [1.82015753 1.90205426 1.64839355 1.5809559 ]\n"
     ]
    }
   ],
   "source": [
    "print(f'SUm is {M.sum()}')\n",
    "print(f'SUm along rows is {M.sum(axis=1)}')\n",
    "print(f'SUm along columns is {M.sum(axis=0)}')"
   ]
  },
  {
   "cell_type": "markdown",
   "metadata": {},
   "source": [
    "### find index of lowest value"
   ]
  },
  {
   "cell_type": "code",
   "execution_count": 34,
   "metadata": {},
   "outputs": [
    {
     "name": "stdout",
     "output_type": "stream",
     "text": [
      "Using argmin on [1 2 3 4 5] gives index 0\n"
     ]
    }
   ],
   "source": [
    "print(f'Using argmin on {x} gives index {np.argmin(x)}')"
   ]
  },
  {
   "cell_type": "markdown",
   "metadata": {},
   "source": [
    "## Broadcasting\n",
    "Broadcasting is simply a set of rules for applying binary ufuncs (e.g., addition, subtraction, multiplication, etc.) on arrays of different sizes."
   ]
  },
  {
   "cell_type": "code",
   "execution_count": 37,
   "metadata": {},
   "outputs": [
    {
     "name": "stdout",
     "output_type": "stream",
     "text": [
      "[0 1 2]\n",
      "[[1. 1. 1.]\n",
      " [1. 1. 1.]\n",
      " [1. 1. 1.]]\n",
      "[[1. 2. 3.]\n",
      " [1. 2. 3.]\n",
      " [1. 2. 3.]]\n"
     ]
    }
   ],
   "source": [
    "a = np.arange(3)\n",
    "M = np.ones((3,3))\n",
    "print(a)\n",
    "print(M)\n",
    "print(a+M)"
   ]
  },
  {
   "cell_type": "code",
   "execution_count": 39,
   "metadata": {},
   "outputs": [
    {
     "name": "stdout",
     "output_type": "stream",
     "text": [
      "[0 1 2]\n",
      "[[0]\n",
      " [1]\n",
      " [2]]\n",
      "[[0 1 2]\n",
      " [1 2 3]\n",
      " [2 3 4]]\n"
     ]
    }
   ],
   "source": [
    "a = np.arange(3)\n",
    "b = np.arange(3).reshape(3, 1)\n",
    "\n",
    "print(a)\n",
    "print(b)\n",
    "print(a+b)"
   ]
  },
  {
   "cell_type": "markdown",
   "metadata": {},
   "source": [
    "### Centering an Array"
   ]
  },
  {
   "cell_type": "code",
   "execution_count": 45,
   "metadata": {},
   "outputs": [
    {
     "name": "stdout",
     "output_type": "stream",
     "text": [
      "[[0.13565189 0.04580803 0.60484788]\n",
      " [0.10773567 0.03535866 0.32921621]\n",
      " [0.73899123 0.80816388 0.60012741]\n",
      " [0.66776563 0.34676264 0.1526194 ]\n",
      " [0.64621762 0.65807256 0.55944322]\n",
      " [0.69638692 0.14528293 0.32463683]\n",
      " [0.66800012 0.91775211 0.53821254]\n",
      " [0.84053799 0.03495237 0.74993255]\n",
      " [0.09077541 0.58247552 0.76964404]\n",
      " [0.79261991 0.24150182 0.7117076 ]]\n",
      "[0.53846824 0.38161305 0.53403877]\n",
      "[[-0.40281635 -0.33580502  0.07080911]\n",
      " [-0.43073257 -0.3462544  -0.20482256]\n",
      " [ 0.20052299  0.42655083  0.06608864]\n",
      " [ 0.12929739 -0.03485041 -0.38141936]\n",
      " [ 0.10774938  0.27645951  0.02540446]\n",
      " [ 0.15791868 -0.23633012 -0.20940194]\n",
      " [ 0.12953188  0.53613906  0.00417377]\n",
      " [ 0.30206975 -0.34666068  0.21589378]\n",
      " [-0.44769283  0.20086246  0.23560527]\n",
      " [ 0.25415167 -0.14011123  0.17766883]]\n",
      "X_centered mean should be nearly 0, and it is [-1.11022302e-17  0.00000000e+00  8.88178420e-17]\n"
     ]
    }
   ],
   "source": [
    "x = np.random.random((10, 3))\n",
    "print(x)\n",
    "\n",
    "x_mean = x.mean(0)\n",
    "print(x_mean)\n",
    "x_centered = x - x_mean\n",
    "print(x_centered)\n",
    "print(f'X_centered mean should be nearly 0, and it is {x_centered.mean(axis=0)}')"
   ]
  },
  {
   "cell_type": "markdown",
   "metadata": {},
   "source": [
    "# Comparisons, Masks and Boolean Logics"
   ]
  },
  {
   "cell_type": "code",
   "execution_count": 46,
   "metadata": {},
   "outputs": [
    {
     "name": "stdout",
     "output_type": "stream",
     "text": [
      "[[5 0 3 3]\n",
      " [7 9 3 5]\n",
      " [2 4 7 6]]\n"
     ]
    }
   ],
   "source": [
    "rng = np.random.RandomState(0)\n",
    "x = rng.randint(10, size=(3, 4))\n",
    "print(x)"
   ]
  },
  {
   "cell_type": "code",
   "execution_count": 50,
   "metadata": {},
   "outputs": [
    {
     "name": "stdout",
     "output_type": "stream",
     "text": [
      "[[ True  True  True  True]\n",
      " [False False  True  True]\n",
      " [ True  True False False]]\n",
      "8\n",
      "[4 2 2]\n"
     ]
    }
   ],
   "source": [
    "print(x < 6)\n",
    "print(np.count_nonzero(x<6))\n",
    "print(np.sum(x < 6, axis=1))"
   ]
  },
  {
   "cell_type": "code",
   "execution_count": 57,
   "metadata": {},
   "outputs": [
    {
     "name": "stdout",
     "output_type": "stream",
     "text": [
      "True\n",
      "False\n",
      "True\n",
      "False\n"
     ]
    }
   ],
   "source": [
    "print(np.any(x>6))\n",
    "print(np.any(x<0))\n",
    "print(np.all(x<10))\n",
    "print(np.all(x<9))"
   ]
  },
  {
   "cell_type": "code",
   "execution_count": 58,
   "metadata": {},
   "outputs": [
    {
     "name": "stdout",
     "output_type": "stream",
     "text": [
      "[0 3 3 3 2 4]\n"
     ]
    }
   ],
   "source": [
    "print(x[x<5])"
   ]
  },
  {
   "cell_type": "code",
   "execution_count": 84,
   "metadata": {},
   "outputs": [
    {
     "name": "stdout",
     "output_type": "stream",
     "text": [
      "Median precip on rainy days in 2014 (inches):  1.170043150689403 \n",
      "Median precip on summer days in 2014 (inches): 0.7411600922583893 \n",
      "Maximum precip on summer days in 2014 (inches): 7.124215700123608\n",
      "Median precip on non-summer rainy days (inches): 1.1406429665909794\n"
     ]
    }
   ],
   "source": [
    "inches = np.random.exponential(size=365)\n",
    "\n",
    "# construct a mask of all rainy days\n",
    "rainy = (inches > 0.5)\n",
    "\n",
    "# construct a mask of all summer days (June 21st is the 172nd day)\n",
    "days = np.arange(365)\n",
    "summer = (days > 172) & (days < 262)\n",
    "\n",
    "print(f\"Median precip on rainy days in 2014 (inches):  {np.median(inches[rainy])} \")\n",
    "print(f\"Median precip on summer days in 2014 (inches): {np.median(inches[summer])} \")\n",
    "print(f\"Maximum precip on summer days in 2014 (inches): {np.max(inches[summer])}\")\n",
    "print(f\"Median precip on non-summer rainy days (inches): {np.median(inches[rainy & ~summer])}\")"
   ]
  },
  {
   "cell_type": "markdown",
   "metadata": {},
   "source": [
    "### Booleans\n",
    "In python, nonzeros are True"
   ]
  },
  {
   "cell_type": "code",
   "execution_count": 87,
   "metadata": {},
   "outputs": [
    {
     "name": "stdout",
     "output_type": "stream",
     "text": [
      "True\n",
      "False\n"
     ]
    }
   ],
   "source": [
    "print(bool(42 and -1))\n",
    "print(bool(442 and 0))"
   ]
  },
  {
   "cell_type": "markdown",
   "metadata": {},
   "source": [
    "# Fancy Indexing"
   ]
  },
  {
   "cell_type": "code",
   "execution_count": 88,
   "metadata": {},
   "outputs": [
    {
     "name": "stdout",
     "output_type": "stream",
     "text": [
      "[51 92 14 71 60 20 82 86 74 74]\n"
     ]
    }
   ],
   "source": [
    "rand = np.random.RandomState(42)\n",
    "\n",
    "x = rand.randint(100, size=10)\n",
    "print(x)"
   ]
  },
  {
   "cell_type": "code",
   "execution_count": 98,
   "metadata": {},
   "outputs": [
    {
     "name": "stdout",
     "output_type": "stream",
     "text": [
      "[20 74 74]\n",
      "[[14 20]\n",
      " [60 74]]\n"
     ]
    }
   ],
   "source": [
    "# indexing\n",
    "ind = [5, 8, 9]\n",
    "print(x[ind])\n",
    "\n",
    "# indexing, with reshaping\n",
    "ind = np.array([[2, 5], [4, 8]])\n",
    "print(x[ind])"
   ]
  },
  {
   "cell_type": "code",
   "execution_count": 101,
   "metadata": {},
   "outputs": [
    {
     "name": "stdout",
     "output_type": "stream",
     "text": [
      "[[ 0  1  2  3]\n",
      " [ 4  5  6  7]\n",
      " [ 8  9 10 11]]\n",
      "[ 2  5 11]\n"
     ]
    }
   ],
   "source": [
    "# indexing in multiple dimensions\n",
    "\n",
    "x = np.arange(12).reshape((3, 4))\n",
    "print(x)\n",
    "\n",
    "row = np.array([0, 1, 2])\n",
    "col = np.array([2, 1, 3])\n",
    "print(x[row, col]) # so here it chose indexes ([0, 2], [1, 1], [2, 3])"
   ]
  },
  {
   "cell_type": "code",
   "execution_count": 103,
   "metadata": {},
   "outputs": [
    {
     "name": "stdout",
     "output_type": "stream",
     "text": [
      "[[ 0  1  2  3]\n",
      " [ 4  5  6  7]\n",
      " [ 8  9 10 11]]\n",
      "[10  8  9]\n",
      "[[ 6  4  5]\n",
      " [10  8  9]]\n"
     ]
    }
   ],
   "source": [
    "# Combinining indexing\n",
    "\n",
    "print(x)\n",
    "print(x[2, [2, 0, 1]])\n",
    "print(x[1:, [2, 0, 1]])"
   ]
  },
  {
   "cell_type": "code",
   "execution_count": 114,
   "metadata": {
    "scrolled": false
   },
   "outputs": [
    {
     "data": {
      "text/plain": [
       "(100, 2)"
      ]
     },
     "execution_count": 114,
     "metadata": {},
     "output_type": "execute_result"
    }
   ],
   "source": [
    "# select subsets\n",
    "\n",
    "mean = [0, 0]\n",
    "cov = [[1, 2],\n",
    "       [2, 5]]\n",
    "X = rand.multivariate_normal(mean, cov, 100)\n",
    "X.shape"
   ]
  },
  {
   "cell_type": "code",
   "execution_count": 117,
   "metadata": {},
   "outputs": [
    {
     "data": {
      "text/plain": [
       "array([ 2.77836708, -1.88304335, -1.47921549, -2.14076287, -0.42056828,\n",
       "        1.63413723,  1.50620513,  1.93231826, -3.47121167, -1.16849624,\n",
       "       -2.55201172, -2.89824929, -0.34078472, -0.75009124, -0.24820629,\n",
       "        3.6829472 , -6.05035194,  4.48644143, -1.70399713, -0.91645192,\n",
       "       -4.22266549,  1.93169889,  0.81999939, -1.10036226,  3.94798283,\n",
       "        4.27998609, -3.41312212,  2.43588887,  0.37236333,  2.08286296,\n",
       "       -0.13615714,  3.3432017 ,  0.22277882, -2.66405045,  3.83485127,\n",
       "       -4.29187991, -0.07922742, -0.08765613,  0.29266425,  2.39199866,\n",
       "        3.96696076,  0.24469594, -0.39107849,  3.1985439 , -1.50301145,\n",
       "       -0.59593197, -3.46837274,  0.68342421,  2.23341054,  2.67648279,\n",
       "       -0.05801722, -2.43363766,  0.20767239,  0.82787555, -0.50840429,\n",
       "       -4.19450858,  0.79681194, -0.0227535 ,  3.43854673, -0.31261669,\n",
       "        0.85129451,  1.62273537,  0.0920822 ,  0.09195095, -0.40358473,\n",
       "        3.09622109, -1.54197317, -0.91991757, -6.10051646, -2.71645336,\n",
       "       -0.68847306, -2.63267199,  0.46075501, -5.17368824, -4.40338516,\n",
       "       -1.94874571,  0.79597199, -2.63898323,  1.88637981,  1.33043941,\n",
       "       -1.03533217, -1.03399463, -1.36741392, -1.23242466,  1.74444666,\n",
       "        1.8256924 ,  3.39973923,  0.33918625, -0.25954522,  0.02913317,\n",
       "        0.99851014, -3.2448523 ,  0.41279797,  0.24743776,  2.10503462,\n",
       "       -2.04684401,  0.45662599,  0.72133129,  3.41564471, -0.17230543])"
      ]
     },
     "execution_count": 117,
     "metadata": {},
     "output_type": "execute_result"
    }
   ],
   "source": [
    "X[:, 0] #select oth column\n",
    "X[:, 1] #select 1st column"
   ]
  },
  {
   "cell_type": "code",
   "execution_count": 118,
   "metadata": {},
   "outputs": [
    {
     "name": "stdout",
     "output_type": "stream",
     "text": [
      "[ 0 -2 -2  3 -2  5  6  7 -2  9]\n"
     ]
    }
   ],
   "source": [
    "# modify values with fancy indexing\n",
    "\n",
    "x = np.arange(10)\n",
    "i = np.array([2, 1, 8, 4])\n",
    "x[i] = -2\n",
    "print(x)"
   ]
  },
  {
   "cell_type": "markdown",
   "metadata": {},
   "source": [
    "## Sorting"
   ]
  },
  {
   "cell_type": "code",
   "execution_count": 125,
   "metadata": {},
   "outputs": [
    {
     "name": "stdout",
     "output_type": "stream",
     "text": [
      "[47.97771098 32.66109375 20.2782741  49.52200925  9.87026792  5.38041294\n",
      " 35.68671948 23.39320809 35.71284939 27.64965751]\n",
      "[ 5.38041294  9.87026792 20.2782741  23.39320809 27.64965751 32.66109375\n",
      " 35.68671948 35.71284939 47.97771098 49.52200925]\n",
      "[5 4 2 7 9 1 6 8 0 3]\n",
      "[ 5.38041294  9.87026792 20.2782741  23.39320809 27.64965751 32.66109375\n",
      " 35.68671948 35.71284939 47.97771098 49.52200925]\n"
     ]
    }
   ],
   "source": [
    "x = np.random.uniform(0, 50, 10)\n",
    "print(x)\n",
    "\n",
    "print(np.sort(x))\n",
    "print(np.argsort(x))\n",
    "print(x[np.argsort(x)])"
   ]
  },
  {
   "cell_type": "code",
   "execution_count": 137,
   "metadata": {},
   "outputs": [
    {
     "name": "stdout",
     "output_type": "stream",
     "text": [
      "[[6 3 7 4 6 9]\n",
      " [2 6 7 4 3 7]\n",
      " [7 2 5 4 1 7]\n",
      " [5 1 4 0 9 5]]\n",
      "[[2 1 4 0 1 5]\n",
      " [5 2 5 4 3 7]\n",
      " [6 3 7 4 6 7]\n",
      " [7 6 7 4 9 9]]\n",
      "[[3 4 6 6 7 9]\n",
      " [2 3 4 6 7 7]\n",
      " [1 2 4 5 7 7]\n",
      " [0 1 4 5 5 9]]\n"
     ]
    }
   ],
   "source": [
    "# Sort along rows and columns\n",
    "\n",
    "rand = np.random.RandomState(42)\n",
    "X = rand.randint(0, 10, (4, 6))\n",
    "print(X)\n",
    "\n",
    "print(np.sort(X, axis=0)) # sort along columns\n",
    "print(np.sort(X, axis=1)) # sort along rows"
   ]
  },
  {
   "cell_type": "code",
   "execution_count": 138,
   "metadata": {},
   "outputs": [
    {
     "name": "stdout",
     "output_type": "stream",
     "text": [
      "[7 2 3 1 6 5 4]\n",
      "[2 1 3 4 6 5 7]\n",
      "[[3 4 6 6 7 9]\n",
      " [2 3 4 6 7 7]\n",
      " [2 1 4 5 7 7]\n",
      " [0 4 1 5 9 5]]\n"
     ]
    }
   ],
   "source": [
    "# Partition sort\n",
    "\n",
    "x = np.array([7, 2, 3, 1, 6, 5, 4])\n",
    "print(x)\n",
    "print(np.partition(x, 3))\n",
    "\n",
    "print(np.partition(X, 3, axis=1))"
   ]
  },
  {
   "cell_type": "code",
   "execution_count": 142,
   "metadata": {},
   "outputs": [
    {
     "name": "stdout",
     "output_type": "stream",
     "text": [
      "[[0 2 1 8 9 3 6 4 7 5]\n",
      " [1 9 3 2 0 6 8 4 7 5]\n",
      " [2 6 9 1 8 0 4 3 7 5]\n",
      " [3 9 1 2 0 6 4 8 7 5]\n",
      " [4 6 7 5 2 8 9 0 1 3]\n",
      " [5 7 4 6 2 8 9 3 1 0]\n",
      " [6 4 2 8 7 9 5 1 0 3]\n",
      " [7 5 4 6 2 8 9 3 1 0]\n",
      " [8 2 6 0 4 9 1 5 7 3]\n",
      " [9 1 3 2 6 0 4 8 7 5]]\n",
      "[[2 0 1 8 9 5 6 7 3 4]\n",
      " [1 9 3 2 0 5 6 7 8 4]\n",
      " [2 6 9 1 8 0 5 7 3 4]\n",
      " [3 9 1 2 0 5 6 7 8 4]\n",
      " [7 6 4 5 8 2 9 1 3 0]\n",
      " [7 5 4 6 8 2 9 1 3 0]\n",
      " [4 6 2 8 7 9 5 1 3 0]\n",
      " [7 5 4 6 8 2 9 1 3 0]\n",
      " [2 8 6 0 4 5 1 7 3 9]\n",
      " [3 1 9 2 6 0 5 7 8 4]]\n"
     ]
    }
   ],
   "source": [
    "# Example K-Nearest neighbours\n",
    "\n",
    "X = rand.rand(10, 2)\n",
    "dist_sq = np.sum((X[:, np.newaxis, :] - X[np.newaxis, :, :]) ** 2, axis=-1)\n",
    "nearest = np.argsort(dist_sq, axis=1)\n",
    "print(nearest)\n",
    "\n",
    "K = 2\n",
    "nearest_partition = np.argpartition(dist_sq, K + 1, axis=1)\n",
    "print(nearest_partition)"
   ]
  },
  {
   "cell_type": "markdown",
   "metadata": {},
   "source": [
    "### Structured Arrays"
   ]
  },
  {
   "cell_type": "code",
   "execution_count": 144,
   "metadata": {},
   "outputs": [
    {
     "name": "stdout",
     "output_type": "stream",
     "text": [
      "[('name', '<U10'), ('age', '<i4'), ('weight', '<f8')]\n",
      "[('Stefan', 29, 55. ) ('Stephen', 50, 85.5) ('Steven', 45, 68. )\n",
      " ('Steve', 17, 61.5)]\n"
     ]
    }
   ],
   "source": [
    "name = ['Stefan', 'Stephen', 'Steven', 'Steve']\n",
    "age = [29, 50, 45, 17]\n",
    "weight = [55.0, 85.5, 68.0, 61.5]\n",
    "\n",
    "data = np.zeros(4, dtype={'names':('name', 'age', 'weight'),\n",
    "                          'formats':('U10', 'i4', 'f8')})\n",
    "print(data.dtype)\n",
    "\n",
    "data['name'] = name\n",
    "data['age'] = age\n",
    "data['weight'] = weight\n",
    "print(data)"
   ]
  },
  {
   "cell_type": "code",
   "execution_count": 150,
   "metadata": {},
   "outputs": [
    {
     "data": {
      "text/plain": [
       "dtype([('name', 'S10'), ('age', '<i8'), ('weight', '<f4')])"
      ]
     },
     "execution_count": 150,
     "metadata": {},
     "output_type": "execute_result"
    }
   ],
   "source": [
    "# different ways of initializing data\n",
    "\n",
    "np.dtype({'names':('name', 'age', 'weight'),\n",
    "          'formats':((np.str_, 10), int, np.float32)})\n",
    "\n",
    "np.dtype([('name', 'S10'), ('age', int), ('weight', np.float32)])\n"
   ]
  },
  {
   "cell_type": "code",
   "execution_count": 151,
   "metadata": {},
   "outputs": [
    {
     "name": "stdout",
     "output_type": "stream",
     "text": [
      "[29 50 45 17]\n",
      "['Stefan' 'Stephen' 'Steven' 'Steve']\n"
     ]
    }
   ],
   "source": [
    "# View data as record\n",
    "\n",
    "data_rec = data.view(np.recarray)\n",
    "print(data_rec.age)\n",
    "print(data_rec.name)"
   ]
  }
 ],
 "metadata": {
  "kernelspec": {
   "display_name": "Python 3",
   "language": "python",
   "name": "python3"
  },
  "language_info": {
   "codemirror_mode": {
    "name": "ipython",
    "version": 3
   },
   "file_extension": ".py",
   "mimetype": "text/x-python",
   "name": "python",
   "nbconvert_exporter": "python",
   "pygments_lexer": "ipython3",
   "version": "3.7.6"
  }
 },
 "nbformat": 4,
 "nbformat_minor": 4
}
