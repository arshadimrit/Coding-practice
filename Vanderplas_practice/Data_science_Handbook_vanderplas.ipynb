{
 "cells": [
  {
   "cell_type": "code",
   "execution_count": 1,
   "metadata": {},
   "outputs": [],
   "source": [
    "import numpy as np\n",
    "import pandas as pd\n",
    "import matplotlib.pyplot as graph\n",
    "import seaborn as sns\n",
    "\n",
    "%load_ext line_profiler\n",
    "%load_ext memory_profiler"
   ]
  },
  {
   "cell_type": "code",
   "execution_count": 2,
   "metadata": {},
   "outputs": [],
   "source": [
    "# Instead of nested for loops\n",
    "\n",
    "for i in range(1000):\n",
    "    for j in range(1000):\n",
    "        total = i+j"
   ]
  },
  {
   "cell_type": "code",
   "execution_count": 3,
   "metadata": {},
   "outputs": [],
   "source": [
    "def sum_of_lists(N):\n",
    "    total = 0\n",
    "    for i in range(5):\n",
    "        L = [j ^ (j >> i) for j in range(N)]\n",
    "        total += sum(L)\n",
    "    return total"
   ]
  },
  {
   "cell_type": "code",
   "execution_count": 4,
   "metadata": {},
   "outputs": [
    {
     "name": "stdout",
     "output_type": "stream",
     "text": [
      "peak memory: 112.91 MiB, increment: 0.18 MiB\n"
     ]
    }
   ],
   "source": [
    "%memit sum_of_lists(10)"
   ]
  },
  {
   "cell_type": "markdown",
   "metadata": {},
   "source": [
    "# Introduction to Numpy"
   ]
  },
  {
   "cell_type": "code",
   "execution_count": 5,
   "metadata": {},
   "outputs": [
    {
     "name": "stdout",
     "output_type": "stream",
     "text": [
      "[0, 1, 2, 3, 4, 5, 6, 7, 8, 9]\n",
      "<class 'list'>\n",
      "One item in L is of type <class 'int'>\n"
     ]
    }
   ],
   "source": [
    "L = list(range(10))\n",
    "print(L)\n",
    "print(type(L))\n",
    "print(f'One item in L is of type {type(L[8])}')"
   ]
  },
  {
   "cell_type": "code",
   "execution_count": 6,
   "metadata": {},
   "outputs": [
    {
     "name": "stdout",
     "output_type": "stream",
     "text": [
      "['0', '1', '2', '3', '4', '5', '6', '7', '8', '9']\n",
      "<class 'str'>\n"
     ]
    }
   ],
   "source": [
    "# List of strings\n",
    "\n",
    "c = [str(c) for c in L]\n",
    "print(c)\n",
    "print(type(c[1]))"
   ]
  },
  {
   "cell_type": "code",
   "execution_count": 7,
   "metadata": {},
   "outputs": [
    {
     "name": "stdout",
     "output_type": "stream",
     "text": [
      "[<class 'int'>, <class 'float'>, <class 'str'>, <class 'bool'>]\n"
     ]
    }
   ],
   "source": [
    "# List can be heterogenous\n",
    "\n",
    "L = [1, 1.5, 'one', True]\n",
    "print([type(c) for c in L])"
   ]
  },
  {
   "cell_type": "code",
   "execution_count": 8,
   "metadata": {},
   "outputs": [
    {
     "name": "stdout",
     "output_type": "stream",
     "text": [
      "[0, 1, 2, 3, 4, 5, 6, 7, 8, 9] array('i', [0, 1, 2, 3, 4, 5, 6, 7, 8, 9])\n"
     ]
    }
   ],
   "source": [
    "# Python fixed type arrays\n",
    "import array\n",
    "\n",
    "L = list(range(10))\n",
    "a_L = array.array('i', L)\n",
    "print(L, a_L)"
   ]
  },
  {
   "cell_type": "code",
   "execution_count": 9,
   "metadata": {},
   "outputs": [
    {
     "name": "stdout",
     "output_type": "stream",
     "text": [
      "[0 1 2 3 4 5 6 7 8 9]\n",
      "[1.5 2.  3.  4.  5. ]\n",
      "[0. 1. 2. 3. 4. 5. 6. 7. 8. 9.]\n"
     ]
    }
   ],
   "source": [
    "# Python fixed type arrays\n",
    "\n",
    "int_array = np.array(range(10))\n",
    "float_array = np.array([1.5, 2, 3, 4, 5])\n",
    "cast_float_array = np.array(range(10), dtype=float)\n",
    "\n",
    "print(int_array)\n",
    "print(float_array)\n",
    "print(cast_float_array)"
   ]
  },
  {
   "cell_type": "code",
   "execution_count": 10,
   "metadata": {},
   "outputs": [
    {
     "name": "stdout",
     "output_type": "stream",
     "text": [
      "[[1 2 3]\n",
      " [2 3 4]\n",
      " [3 4 5]\n",
      " [4 5 6]]\n"
     ]
    }
   ],
   "source": [
    "# nested numpy lists -> multi dimensional\n",
    "\n",
    "print(np.array([range(i, i+3) for i in [1, 2, 3, 4]]))"
   ]
  },
  {
   "cell_type": "markdown",
   "metadata": {},
   "source": [
    "#### Create Arrays from Scratch"
   ]
  },
  {
   "cell_type": "code",
   "execution_count": 11,
   "metadata": {},
   "outputs": [
    {
     "name": "stdout",
     "output_type": "stream",
     "text": [
      "[0 0 0 0 0 0 0 0 0 0]\n",
      "[[1. 1. 1. 1. 1.]\n",
      " [1. 1. 1. 1. 1.]]\n",
      "[[5 5 5 5 5]\n",
      " [5 5 5 5 5]\n",
      " [5 5 5 5 5]]\n",
      "[ 0  2  4  6  8 10 12 14 16 18 20]\n",
      "[0.   0.25 0.5  0.75 1.  ]\n",
      "[[0.52335333 0.92637292 0.13923124]\n",
      " [0.76208622 0.23492542 0.15402796]\n",
      " [0.28271583 0.51113969 0.76243607]]\n",
      "[[-1.08501563 -0.32657954  0.77594246]\n",
      " [ 0.47827705  0.72122597 -0.39357841]\n",
      " [-1.41458088 -1.16261476  0.30099302]]\n",
      "[[0 5 3]\n",
      " [7 1 0]\n",
      " [5 6 5]]\n",
      "[0.25 0.5  0.75 1.  ]\n"
     ]
    }
   ],
   "source": [
    "# create array of zeros\n",
    "print(np.zeros(10, dtype=int))\n",
    "\n",
    "# create array of ones, with dimensions 2 * 5\n",
    "print(np.ones((2, 5), dtype=float))\n",
    "\n",
    "# create array of 5, with dimensions 3*5\n",
    "print(np.full((3, 5), 5))\n",
    "\n",
    "# Create an array filled with a linear sequence\n",
    "# Starting at 0, ending at 20, stepping by 2\n",
    "print(np.arange(0, 21, 2))\n",
    "\n",
    "# Create an array of five values evenly spaced between 0 and 1\n",
    "print(np.linspace(0, 1, 5))\n",
    "\n",
    "# Create a 3x3 array of uniformly distributed\n",
    "# random values between 0 and 1\n",
    "print(np.random.random((3, 3)))\n",
    "\n",
    "# Create a 3x3 array of normally distributed random values\n",
    "# with mean 0 and standard deviation 1\n",
    "print(np.random.normal(0, 1, (3, 3)))\n",
    "\n",
    "# Create a 3x3 array of random integers in the interval [0, 10)\n",
    "print(np.random.randint(0, 10, (3,3)))\n",
    "\n",
    "# Create a 3x3 identity matrix\n",
    "np.eye(3)\n",
    "\n",
    "# Create an uninitialized array of three integers\n",
    "# The values will be whatever happens to already exist at that memory location\n",
    "print(np.empty(4))"
   ]
  },
  {
   "cell_type": "markdown",
   "metadata": {},
   "source": [
    "## Basics of Numpy Arrays"
   ]
  },
  {
   "cell_type": "code",
   "execution_count": 27,
   "metadata": {},
   "outputs": [
    {
     "name": "stdout",
     "output_type": "stream",
     "text": [
      "[5 0 3 3 7 9]\n",
      "[[3 5 2]\n",
      " [4 7 6]]\n",
      "x3 ndim: 4\n",
      "x3 shape: (2, 3, 4, 5)\n",
      "x3 size: 120\n",
      "x3 dtype: int64\n",
      "x3 itemsize: 8 bytes\n",
      "x3 nbytes: 960 bytes\n"
     ]
    }
   ],
   "source": [
    "np.random.seed(0)\n",
    "\n",
    "x1 = np.random.randint(10, size=6)\n",
    "x2 = np.random.randint(10, size=(2, 3))\n",
    "x3 = np.random.randint(10, size=(2, 3, 4, 5))\n",
    "\n",
    "print(x1)\n",
    "print(x2)\n",
    "\n",
    "print(f\"x3 ndim: {x3.ndim}\")\n",
    "print(f\"x3 shape: {x3.shape}\")\n",
    "print(f\"x3 size: {x3.size}\")\n",
    "print(f'x3 dtype: {x3.dtype}')\n",
    "print(f'x3 itemsize: {x3.itemsize} bytes')\n",
    "print(f'x3 nbytes: {x3.nbytes} bytes')"
   ]
  },
  {
   "cell_type": "code",
   "execution_count": 57,
   "metadata": {},
   "outputs": [
    {
     "name": "stdout",
     "output_type": "stream",
     "text": [
      "[[3 2 0]\n",
      " [8 8 3]]\n",
      "3\n",
      "[[3 0 0]\n",
      " [8 8 3]]\n"
     ]
    }
   ],
   "source": [
    "x2 = np.random.randint(10, size=(2, 3))\n",
    "print(x2)\n",
    "\n",
    "# get 2nd row, 3rd column item\n",
    "print(x2[1, 2])\n",
    "\n",
    "# change 1st row, 2nd col to 0\n",
    "x2[0, 1] = 0\n",
    "print(x2)"
   ]
  },
  {
   "cell_type": "code",
   "execution_count": 47,
   "metadata": {},
   "outputs": [
    {
     "name": "stdout",
     "output_type": "stream",
     "text": [
      "[[[[8 8 1 6 7]\n",
      "   [7 8 1 5 9]\n",
      "   [8 9 4 3 0]\n",
      "   [3 5 0 2 3]]\n",
      "\n",
      "  [[8 1 3 3 3]\n",
      "   [7 0 1 9 9]\n",
      "   [0 4 7 3 2]\n",
      "   [7 2 0 0 4]]\n",
      "\n",
      "  [[5 5 6 8 4]\n",
      "   [1 4 9 8 1]\n",
      "   [1 7 9 9 3]\n",
      "   [6 7 2 0 3]]]\n",
      "\n",
      "\n",
      " [[[5 9 4 4 6]\n",
      "   [4 4 3 4 4]\n",
      "   [8 4 3 7 5]\n",
      "   [5 0 1 5 9]]\n",
      "\n",
      "  [[3 0 5 0 1]\n",
      "   [2 4 2 0 3]\n",
      "   [2 0 7 5 9]\n",
      "   [0 2 7 2 9]]\n",
      "\n",
      "  [[2 3 3 2 3]\n",
      "   [4 1 2 9 1]\n",
      "   [4 6 8 2 3]\n",
      "   [0 0 6 0 6]]]]\n",
      "[[[[8 8 1 6 7]\n",
      "   [7 8 1 5 9]]\n",
      "\n",
      "  [[8 1 3 3 3]\n",
      "   [7 0 1 9 9]]]\n",
      "\n",
      "\n",
      " [[[5 9 4 4 6]\n",
      "   [4 4 3 4 4]]\n",
      "\n",
      "  [[3 0 5 0 1]\n",
      "   [2 4 2 0 3]]]]\n"
     ]
    }
   ],
   "source": [
    "# Slicing\n",
    "# x[start:stop:step]\n",
    "\n",
    "print(x3)\n",
    "print(x3[:2, :2, :2])"
   ]
  },
  {
   "cell_type": "code",
   "execution_count": 53,
   "metadata": {},
   "outputs": [
    {
     "name": "stdout",
     "output_type": "stream",
     "text": [
      "[[3 0 8]\n",
      " [8 8 2]]\n",
      "[3 0 8]\n",
      "[3 8]\n"
     ]
    }
   ],
   "source": [
    "print(x2)\n",
    "#first row\n",
    "print(x2[0, :])\n",
    "\n",
    "#first column\n",
    "print(x2[:, 0])"
   ]
  },
  {
   "cell_type": "code",
   "execution_count": 60,
   "metadata": {},
   "outputs": [
    {
     "name": "stdout",
     "output_type": "stream",
     "text": [
      "[[3 0]\n",
      " [8 8]]\n",
      "[[3 0]\n",
      " [8 8]]\n",
      "[[3 0 0]\n",
      " [8 8 3]]\n"
     ]
    }
   ],
   "source": [
    "# No copy Views\n",
    "\n",
    "x2_2 = x2[:2, :2] # make a subarray of 2\n",
    "print(x2_2)\n",
    "\n",
    "# x2_2[0, 0] = 4\n",
    "# print(x2) # The original is changed\n",
    "\n",
    "# We can simply copy to avoid this change thing\n",
    "\n",
    "x2_2 = x2[:2, :2].copy()\n",
    "print(x2_2)\n",
    "\n",
    "x2_2[0, 0] = 4\n",
    "print(x2)"
   ]
  },
  {
   "cell_type": "code",
   "execution_count": 67,
   "metadata": {},
   "outputs": [
    {
     "name": "stdout",
     "output_type": "stream",
     "text": [
      "[[0 1 2]\n",
      " [3 4 5]\n",
      " [6 7 8]]\n",
      "[1 2 3] (3,)\n",
      "[1 2 3] (3,)\n"
     ]
    }
   ],
   "source": [
    "# Reshaping arrays\n",
    "\n",
    "x_shaped = np.arange(9).reshape((3,3))\n",
    "print(x_shaped)\n",
    "\n",
    "x = np.array([1, 2, 3])\n",
    "print(x, x.shape)\n",
    "\n",
    "# row vector via reshape\n",
    "x.reshape((3, 1))\n",
    "print(x, x.shape)"
   ]
  },
  {
   "cell_type": "code",
   "execution_count": 72,
   "metadata": {},
   "outputs": [
    {
     "data": {
      "text/plain": [
       "(3,)"
      ]
     },
     "execution_count": 72,
     "metadata": {},
     "output_type": "execute_result"
    }
   ],
   "source": [
    "x = np.array([1, 2, 3])\n",
    "x.shape"
   ]
  },
  {
   "cell_type": "code",
   "execution_count": 73,
   "metadata": {},
   "outputs": [
    {
     "data": {
      "text/plain": [
       "array([[1],\n",
       "       [2],\n",
       "       [3]])"
      ]
     },
     "execution_count": 73,
     "metadata": {},
     "output_type": "execute_result"
    }
   ],
   "source": [
    "x.reshape((3, 1))"
   ]
  },
  {
   "cell_type": "code",
   "execution_count": 89,
   "metadata": {},
   "outputs": [
    {
     "name": "stdout",
     "output_type": "stream",
     "text": [
      "[1 2 3] [3 2 1] [1 5 6 7]\n",
      "[1 2 3 3 2 1 1 5 6 7]\n",
      "[[1 2 3]\n",
      " [4 5 6]] (2, 3)\n",
      "[[1 2 3]\n",
      " [4 5 6]\n",
      " [1 2 3]\n",
      " [4 5 6]] (4, 3)\n",
      "[[1 2 3 1 2 3]\n",
      " [4 5 6 4 5 6]] (2, 6)\n",
      "[[1 2 3]\n",
      " [9 8 7]\n",
      " [6 5 4]] (3, 3)\n",
      "[[ 9  8  7 99]\n",
      " [ 6  5  4 99]] (2, 4)\n"
     ]
    }
   ],
   "source": [
    "# Concatenate arrays\n",
    "\n",
    "x = np.array([1, 2, 3])\n",
    "y = np.array([3, 2, 1])\n",
    "z = np.array([1, 5, 6, 7,])\n",
    "print(x, y ,z)\n",
    "print(np.concatenate([x, y, z]))\n",
    "\n",
    "grid = np.array([[1, 2, 3],\n",
    "                 [4, 5, 6]])\n",
    "print(grid, grid.shape)\n",
    "print(np.concatenate([grid, grid]), np.concatenate([grid, grid]).shape)\n",
    "print(np.concatenate([grid, grid], axis=1), np.concatenate([grid, grid], axis=1).shape)\n",
    "\n",
    "# vstack and hstack\n",
    "x = np.array([1, 2, 3])\n",
    "grid = np.array([[9, 8, 7],\n",
    "                 [6, 5, 4]])\n",
    "\n",
    "# vertically stack the arrays\n",
    "print(np.vstack([x, grid]), np.vstack([x, grid]).shape)\n",
    "\n",
    "# horizontallystack the arrays\n",
    "y = np.array([[99],\n",
    "              [99]])\n",
    "print(np.hstack([grid, y]), np.hstack([grid, y]).shape)"
   ]
  },
  {
   "cell_type": "code",
   "execution_count": 93,
   "metadata": {},
   "outputs": [
    {
     "name": "stdout",
     "output_type": "stream",
     "text": [
      "[1 2 3] [99 99] [3 2] [1]\n",
      "Vertical split:  [[0 1 2 3]\n",
      " [4 5 6 7]] [[ 8  9 10 11]\n",
      " [12 13 14 15]]\n",
      "Horizontal split:  [[ 0  1]\n",
      " [ 4  5]\n",
      " [ 8  9]\n",
      " [12 13]] [[ 2  3]\n",
      " [ 6  7]\n",
      " [10 11]\n",
      " [14 15]]\n"
     ]
    }
   ],
   "source": [
    "# Aarray ssplittin\n",
    "\n",
    "x = [1, 2, 3, 99, 99, 3, 2, 1]\n",
    "x1, x2, x3, x4 = np.split(x, [3, 5, 7])\n",
    "print(x1, x2, x3, x4)\n",
    "\n",
    "grid = np.arange(16).reshape((4, 4))\n",
    "upper, lower = np.vsplit(grid, [2])\n",
    "print('Vertical split: ', upper, lower)\n",
    "\n",
    "left, right = np.hsplit(grid, [2])\n",
    "print('Horizontal split: ', left, right)\n"
   ]
  },
  {
   "cell_type": "code",
   "execution_count": 117,
   "metadata": {},
   "outputs": [
    {
     "name": "stdout",
     "output_type": "stream",
     "text": [
      "x is [0 1 2 3 4 5]\n",
      "x // 2 = [0 0 1 1 2 2]\n",
      "x % 2  =  [0 1 0 1 0 1]\n",
      "[-16.   -23.04 -31.36 -40.96 -51.84 -64.  ]\n",
      "add 2 is [2 3 4 5 6 7]\n",
      "+ 2 is [2 3 4 5 6 7]\n",
      "absolute of x is [0 1 2 3 4 5]\n",
      "theta      =  [0.         1.57079633 3.14159265]\n",
      "sin(theta) =  [0. 1. 0.]\n",
      "cos(theta) =  [ 1.000000e+00  6.123234e-17 -1.000000e+00]\n",
      "tan(theta) =  [ 0.00000000e+00  1.63312394e+16 -1.22464680e-16]\n",
      "---------------------------LOGS------------------------------\n",
      "log x is [      -inf 0.         0.69314718 1.09861229 1.38629436]\n",
      " 3 power x is [ 1  3  9 27 81]\n",
      "exp(x) - 1 = [0.         0.0010005  0.01005017 0.10517092]\n",
      "log(1 + x) = [0.         0.0009995  0.00995033 0.09531018]\n",
      "----------------------------SPECIALS------------------------\n",
      "gamma(x)     = [1.0000e+00 2.4000e+01 3.6288e+05]\n",
      "ln|gamma(x)| = [ 0.          3.17805383 12.80182748]\n",
      "beta(x, 2)   = [0.5        0.03333333 0.00909091]\n"
     ]
    },
    {
     "name": "stderr",
     "output_type": "stream",
     "text": [
      "/home/arshad/miniconda3/lib/python3.7/site-packages/ipykernel_launcher.py:27: RuntimeWarning: divide by zero encountered in log\n"
     ]
    }
   ],
   "source": [
    "### Numpy UFuncs\n",
    "\n",
    "x = np.arange(6)\n",
    "print(f'x is {x}')\n",
    "print(\"x // 2 =\", x // 2)  # floor division\n",
    "print(\"x % 2  = \", x % 2) # modulus\n",
    "\n",
    "print(-(0.8*x + 4) ** 2) # can be in any order\n",
    "print(f'add 2 is {np.add(2, x)}')\n",
    "print(f'+ 2 is {2 + x}')\n",
    "\n",
    "print(f'absolute of x is {np.abs(-x)}')\n",
    "\n",
    "# trig functions\n",
    "\n",
    "theta = np.linspace(0, np.pi, 3)\n",
    "\n",
    "print(\"theta      = \", theta)\n",
    "print(\"sin(theta) = \", np.around(np.sin(theta), decimals=2))\n",
    "print(\"cos(theta) = \", np.cos(theta))\n",
    "print(\"tan(theta) = \", np.tan(theta))\n",
    "\n",
    "# Exp and logs\n",
    "print(\"---------------------------LOGS------------------------------\")\n",
    "x = np.arange(5)\n",
    "\n",
    "print(f'log x is {np.log(x)}')\n",
    "print(f' 3 power x is {np.power(3, x)}')\n",
    "\n",
    "x = [0, 0.001, 0.01, 0.1]\n",
    "print(\"exp(x) - 1 =\", np.expm1(x)) # Give more precise output\n",
    "print(\"log(1 + x) =\", np.log1p(x))\n",
    "\n",
    "# Scipy special\n",
    "from scipy import special\n",
    "print('----------------------------SPECIALS------------------------')\n",
    "x = [1, 5, 10]\n",
    "print(\"gamma(x)     =\", special.gamma(x))\n",
    "print(\"ln|gamma(x)| =\", special.gammaln(x))\n",
    "print(\"beta(x, 2)   =\", special.beta(x, 2))\n",
    "\n",
    "# Specify outputs\n",
    "print('----------------------------SPECify OUTPUT------------------------')\n",
    "x = np.arange(5)\n",
    "y = np.empty(5)\n",
    "np.multiply(x, 10, out=y)\n",
    "print(y)"
   ]
  },
  {
   "cell_type": "code",
   "execution_count": null,
   "metadata": {},
   "outputs": [],
   "source": []
  }
 ],
 "metadata": {
  "kernelspec": {
   "display_name": "Python 3",
   "language": "python",
   "name": "python3"
  },
  "language_info": {
   "codemirror_mode": {
    "name": "ipython",
    "version": 3
   },
   "file_extension": ".py",
   "mimetype": "text/x-python",
   "name": "python",
   "nbconvert_exporter": "python",
   "pygments_lexer": "ipython3",
   "version": "3.7.6"
  }
 },
 "nbformat": 4,
 "nbformat_minor": 4
}
